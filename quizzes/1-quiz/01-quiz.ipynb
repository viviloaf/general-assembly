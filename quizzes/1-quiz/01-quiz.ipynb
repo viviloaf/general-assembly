{
 "cells": [
  {
   "cell_type": "markdown",
   "metadata": {},
   "source": [
    "<img src=\"http://imgur.com/1ZcRyrc.png\" style=\"float: left; margin: 20px; height: 55px\" />\n",
    "\n",
    "# Quiz 1\n",
    "\n",
    "This notebook contains 5 coding challenges. You are to clone this repository and fill in the quiz with your answers, taking special care to follow the directions _exactly_. In many questions, we ask that you name variables in a specific way. Make sure to do this, as we use it for grading.\n",
    "\n",
    "To **submit** your quiz, drop your completed notebook in the file uploader in the provided Google Form.\n",
    "\n",
    "### Quiz Information:\n",
    "- This is an \"open book\" quiz - you may use any resources! This includes Jupyter notebooks, Google, StackOverflow, and your notes. **ANY RESOURCE YOU USE MUST BE CITED** (comment your code with links, which lesson you got the inspiration from, etc.) and failure to cite resources you use will be considered plagiarism. \n",
    "- You may NOT work with anyone else on this quiz (your classmates, your instructor, etc.).\n",
    "- You will have 45 minutes to take this quiz."
   ]
  },
  {
   "cell_type": "markdown",
   "metadata": {},
   "source": [
    "# Your Info:\n",
    "**Please fill out the following questions:**\n",
    "\n",
    "### 1. What is your name?"
   ]
  },
  {
   "cell_type": "markdown",
   "metadata": {},
   "source": [
    "name = 'Vivian'"
   ]
  },
  {
   "cell_type": "markdown",
   "metadata": {},
   "source": [
    "### 2. What is your email? \n",
    "**Please make sure this is the same email you will use in the Google form to submit your work.**"
   ]
  },
  {
   "cell_type": "markdown",
   "metadata": {},
   "source": [
    "email = 'ngux.vinh@gmail.com'"
   ]
  },
  {
   "cell_type": "markdown",
   "metadata": {},
   "source": [
    "## Problem 1: List Comprehension\n",
    "\n",
    "Given the following list of people:\n",
    "```python\n",
    "people = [\n",
    "    {'name': 'Xlegic', 'age': 37, 'role': 'student'},\n",
    "    {'name': 'John', 'age': 45, 'role': 'student'},\n",
    "    {'name': 'Jasmine', 'age': 20, 'role': 'student'},\n",
    "    {'name': 'Eva', 'age': 33, 'role': 'instructor'},\n",
    "]\n",
    "```\n",
    "Use list comprehension to return the names of *students* who are younger than 37. Bind your solution to `ans1` below."
   ]
  },
  {
   "cell_type": "markdown",
   "metadata": {},
   "source": [
    "**4pts total**  \n",
    "*Partial credit will be given if substantial progress to the right answer is made.*"
   ]
  },
  {
   "cell_type": "code",
   "execution_count": 1,
   "metadata": {},
   "outputs": [],
   "source": [
    "people = [\n",
    "    {'name': 'Xlegic', 'age': 37, 'role': 'student'},\n",
    "    {'name': 'John', 'age': 45, 'role': 'student'},\n",
    "    {'name': 'Jasmine', 'age': 20, 'role': 'student'},\n",
    "    {'name': 'Eva', 'age': 33, 'role': 'instructor'},\n",
    "]"
   ]
  },
  {
   "cell_type": "code",
   "execution_count": 8,
   "metadata": {},
   "outputs": [
    {
     "data": {
      "text/plain": [
       "['Jasmine', 'Eva']"
      ]
     },
     "execution_count": 8,
     "metadata": {},
     "output_type": "execute_result"
    }
   ],
   "source": [
    "# your answer here:\n",
    "\n",
    "ans1 = [i.get('name') for i in people if i.get('age') < 37]\n",
    "ans1"
   ]
  },
  {
   "cell_type": "markdown",
   "metadata": {},
   "source": [
    "## Problem 2: Customer Demographics\n",
    "We provide aans1ta structure consisting of a list of dictionaries. Each dictionary corresponds to a customer and contains some demographic information about them. While we provide you _one_ example of a list of customers, this company receives many such lists per day. Write a function that takes an object like this and **returns the average age of all the customers**. Call this function `average_age()`.\n",
    "\n",
    "Notes:\n",
    "* You may assume every customer will have an age listed (ie, no missing values)\n",
    "* There is no built-in average or mean function in Python. You may _not_ import any additional libraries."
   ]
  },
  {
   "cell_type": "markdown",
   "metadata": {},
   "source": [
    "**4pts total**  \n",
    "*Partial credit will be given if substantial progress to the right answer is made.*"
   ]
  },
  {
   "cell_type": "code",
   "execution_count": 9,
   "metadata": {},
   "outputs": [],
   "source": [
    "customers = [\n",
    "    {\"name\": \"Grace Hopper\", \"age\": 47, \"rank\": \"Rear Admiral\"},\n",
    "    {\"name\": \"Linus Torvalds\", \"age\": 50, \"nationality\": \"Finland\"},\n",
    "    {\"name\": \"Alan Turing\", \"age\": 35, \"nationality\": \"United Kingdom\"},\n",
    "    {\"name\": \"Tim Book\", \"age\": 29, \"organization\": \"General Assembly\"},\n",
    "    {\"name\": \"Katherine Johnson\", \"age\": 101, \"organization\": \"NASA\"},\n",
    "    {\"name\": \"Guido van Rossum\", \"age\": 64, \"rank\": \"BDFL\"},\n",
    "    {\"name\": \"Hadley Wickham\", \"age\": 40, \"nationality\": \"New Zealand\"}\n",
    "]"
   ]
  },
  {
   "cell_type": "code",
   "execution_count": 19,
   "metadata": {},
   "outputs": [],
   "source": [
    "# Your answer here: edit this function\n",
    "# replace pass in the below function with your solution\n",
    "\n",
    "def average_age(input_dict):\n",
    "    return sum([i.get('age') for i in input_dict]) / len(input_dict)"
   ]
  },
  {
   "cell_type": "code",
   "execution_count": 20,
   "metadata": {},
   "outputs": [
    {
     "data": {
      "text/plain": [
       "52.285714285714285"
      ]
     },
     "execution_count": 20,
     "metadata": {},
     "output_type": "execute_result"
    }
   ],
   "source": [
    "average_age(customers)"
   ]
  },
  {
   "cell_type": "markdown",
   "metadata": {},
   "source": [
    "## Problem 3: Probability\n",
    "\n",
    "Assume you are flipping an unfair, two-sided coin. Write a function called `one_heads` that takes in the probability of **heads** for this unfair coin as input and **returns the probability that you will get all 5 _tails_ in 5 flips.** To check your answer, we will tell you that if $P(H) = 0.4$, the result of this function should be about 7.8%. Your answer can be returned as a decimal (0.078) or as a percentage (7.8). Points will not be deducted for differences in rounding, as long as the rounding is correct."
   ]
  },
  {
   "cell_type": "markdown",
   "metadata": {},
   "source": [
    "### 4pts total\n",
    "*Partial credit will be given if substantial progress to the right answer is made*"
   ]
  },
  {
   "cell_type": "code",
   "execution_count": 32,
   "metadata": {},
   "outputs": [],
   "source": [
    "# Your answer here: edit this function\n",
    "# replace pass in the below function with your solution\n",
    "\n",
    "def one_heads(p_heads):\n",
    "    return round((1 - p_heads) ** 5, 3)"
   ]
  },
  {
   "cell_type": "code",
   "execution_count": 33,
   "metadata": {},
   "outputs": [
    {
     "data": {
      "text/plain": [
       "0.078"
      ]
     },
     "execution_count": 33,
     "metadata": {},
     "output_type": "execute_result"
    }
   ],
   "source": [
    "one_heads(.4)"
   ]
  },
  {
   "cell_type": "markdown",
   "metadata": {},
   "source": [
    "## Problem 4: Debugging\n",
    "\n",
    "The function `tax_amount` finds the sales tax percentage based on the state the customer lives in. This value is used in the next function, `total`, which should return the total price the customer will have to pay (including tax). There are **_three_** errors in the cell below. Two are syntax errors, the other is a semantic error. Find them. Fix them.\n",
    "\n",
    "If all of the errors in the cell are fixed, `total(tax, 39.99)` will return `41.15`."
   ]
  },
  {
   "cell_type": "markdown",
   "metadata": {},
   "source": [
    "**4pts total**  \n",
    "*Partial credit will be given if substantial progress to the right answer is made.*"
   ]
  },
  {
   "cell_type": "code",
   "execution_count": 51,
   "metadata": {},
   "outputs": [
    {
     "name": "stdout",
     "output_type": "stream",
     "text": [
      "0.029\n"
     ]
    },
    {
     "data": {
      "text/plain": [
       "41.15"
      ]
     },
     "execution_count": 51,
     "metadata": {},
     "output_type": "execute_result"
    }
   ],
   "source": [
    "# edit this cell to fix the three errors\n",
    "\n",
    "def tax_amount(state_abbrev):\n",
    "    taxes = {'CA': .065,\n",
    "             'CO': .029,\n",
    "             'NY': .04}\n",
    "    print(taxes[state_abbrev])\n",
    "    return taxes.get(state_abbrev) # Created Return Statement\n",
    "\n",
    "tax = tax_amount('CO')\n",
    "#print(tax)\n",
    "\n",
    "def total(tax_pct, price_before_taxes): # Added :\n",
    "    #print(tax_pct, price_before_taxes)\n",
    "    tax_amt = tax_pct * price_before_taxes\n",
    "    #print(tax_pct, price_before_taxes, tax_amt)\n",
    "    return round(price_before_taxes + tax_amt, 2) # Changed to addition\n",
    "\n",
    "total(tax, 39.99)"
   ]
  },
  {
   "cell_type": "markdown",
   "metadata": {},
   "source": [
    "## Problem 5: Fun with Grids\n",
    "You are tasked with creating a square grid of values in which each value only appears once in each column and once in each row (think like a Sudoku).\n",
    "\n",
    "Write a function called `grid` that inputs a list and outputs a square grid of values of that list in which each value only appears once in each column and once in each row. Specifically, one in which each row is the one above it shifted by one item. **Your answer should be in the form of a list of lists, where each sub-list is a row of the square**. For example:\n",
    "\n",
    "`grid([1, 2, 3, 4]) -> [[1, 2, 3, 4], [4, 1, 2, 3], [3, 4, 1, 2], [2, 3, 4, 1]]`\n",
    "\n",
    "which corresponds to:\n",
    "\n",
    "```\n",
    "1234\n",
    "4123\n",
    "3412\n",
    "2341\n",
    "```"
   ]
  },
  {
   "cell_type": "markdown",
   "metadata": {},
   "source": [
    "**4pts total**  \n",
    "*Partial credit will be given if substantial progress to the right answer is made.*"
   ]
  },
  {
   "cell_type": "code",
   "execution_count": 302,
   "metadata": {},
   "outputs": [],
   "source": [
    "# Your answer here: edit this function\n",
    "# replace pass in the below function with your solution\n",
    "\n",
    "# https://stackoverflow.com/questions/2150108/efficient-way-to-rotate-a-list-in-python\n",
    "\n",
    "def grid(input_list):\n",
    "    #return [[i for i in input_list] for i in input_list]\n",
    "    #final_list = []\n",
    "    #new_list = input_list\n",
    "    #for i in range(len(input_list)):\n",
    "    #    new_list.append(new_list.pop(0))\n",
    "    #    new_list \n",
    "    #return new_list\n",
    "    \n",
    "    #final_list = []\n",
    "    #for i in range(len(input_list)):\n",
    "    #    input_list.append(input_list.pop(0))\n",
    "    #    input_list = input_list\n",
    "    #    print(input_list)\n",
    "    #return input_list, input_list    \n",
    "    input_list = [input_list[i-1] for i, j in enumerate(input_list)]\n",
    "    input_list_1 = [input_list[i-1] for i, j in enumerate(input_list)]\n",
    "    input_list_2 = [input_list_1[i-1] for i, j in enumerate(input_list)]\n",
    "    input_list_3 = [input_list_2[i-1] for i, j in enumerate(input_list)]\n",
    "    result = [input_list_3, input_list, input_list_1, input_list_2]\n",
    "    return result"
   ]
  },
  {
   "cell_type": "code",
   "execution_count": 303,
   "metadata": {},
   "outputs": [
    {
     "data": {
      "text/plain": [
       "[[1, 2, 3, 4], [4, 1, 2, 3], [3, 4, 1, 2], [2, 3, 4, 1]]"
      ]
     },
     "execution_count": 303,
     "metadata": {},
     "output_type": "execute_result"
    }
   ],
   "source": [
    "grid([1, 2, 3, 4])"
   ]
  },
  {
   "cell_type": "code",
   "execution_count": 228,
   "metadata": {},
   "outputs": [],
   "source": [
    "# https://stackoverflow.com/a/36520053\n",
    "\n",
    "#def move(arr, n):\n",
    "#    return [arr[(idx-n) % len(arr)] for idx,_ in enumerate(arr)]"
   ]
  },
  {
   "cell_type": "code",
   "execution_count": 319,
   "metadata": {},
   "outputs": [
    {
     "data": {
      "text/plain": [
       "[[[1], [2], [3], [4]],\n",
       " [[2], [3], [4], [5]],\n",
       " [[3], [4], [5], [6]],\n",
       " [[4], [5], [6], [7]]]"
      ]
     },
     "execution_count": 319,
     "metadata": {},
     "output_type": "execute_result"
    }
   ],
   "source": [
    "# This is an attempt at an implementation with list comphrenension\n",
    "def grid(input_list):\n",
    "    return [[j+i for j in input_list] for i, j in enumerate(input_list)]\n",
    "\n",
    "grid([1, 2, 3, 4])"
   ]
  },
  {
   "cell_type": "code",
   "execution_count": null,
   "metadata": {},
   "outputs": [],
   "source": []
  },
  {
   "cell_type": "code",
   "execution_count": null,
   "metadata": {},
   "outputs": [],
   "source": []
  }
 ],
 "metadata": {
  "kernelspec": {
   "display_name": "Python 3",
   "language": "python",
   "name": "python3"
  },
  "language_info": {
   "codemirror_mode": {
    "name": "ipython",
    "version": 3
   },
   "file_extension": ".py",
   "mimetype": "text/x-python",
   "name": "python",
   "nbconvert_exporter": "python",
   "pygments_lexer": "ipython3",
   "version": "3.8.3"
  }
 },
 "nbformat": 4,
 "nbformat_minor": 4
}
