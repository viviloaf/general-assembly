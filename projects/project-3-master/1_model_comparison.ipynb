{
 "cells": [
  {
   "cell_type": "code",
   "execution_count": 70,
   "metadata": {},
   "outputs": [],
   "source": [
    "import numpy as np\n",
    "import pandas as pd\n",
    "import spacy as sp\n",
    "import missingno as msno\n",
    "from pathlib import Path\n",
    "\n",
    "# Text Processing for SkLearn\n",
    "from sklearn.feature_extraction.text import CountVectorizer, TfidfVectorizer, TfidfTransformer\n",
    "from sklearn.model_selection import train_test_split\n",
    "\n",
    "# Bayes for two classifiers\n",
    "from sklearn.naive_bayes import BernoulliNB, MultinomialNB\n",
    "\n",
    "# other classifiers\n",
    "from sklearn.linear_model import LogisticRegression\n",
    "from sklearn.neighbors import KNeighborsClassifier\n",
    "from sklearn.tree import DecisionTreeClassifier\n",
    "from sklearn.ensemble import BaggingClassifier, ExtraTreesClassifier, RandomForestClassifier, VotingClassifier\n",
    "from sklearn.svm import SVC, LinearSVC\n",
    "from sklearn.dummy import DummyClassifier\n",
    "\n",
    "# some metrics\n",
    "from sklearn.metrics import balanced_accuracy_score, f1_score, roc_auc_score\n",
    "\n",
    "# visuals\n",
    "import matplotlib.pyplot as plt\n",
    "import seaborn as sns"
   ]
  },
  {
   "cell_type": "code",
   "execution_count": 71,
   "metadata": {},
   "outputs": [],
   "source": [
    "# Load one of the CSV files to see what we are working with"
   ]
  },
  {
   "cell_type": "code",
   "execution_count": 72,
   "metadata": {},
   "outputs": [
    {
     "name": "stdout",
     "output_type": "stream",
     "text": [
      "/home/blue/general-assembly/dsir-824/submissions/projects/project-3-master\n"
     ]
    }
   ],
   "source": [
    "!pwd"
   ]
  },
  {
   "cell_type": "code",
   "execution_count": 73,
   "metadata": {},
   "outputs": [],
   "source": [
    "data_raw = pd.read_csv('./data/reddit/nosleep/comments_epoch_1270678255-1291267532.csv')"
   ]
  },
  {
   "cell_type": "code",
   "execution_count": 74,
   "metadata": {},
   "outputs": [],
   "source": [
    "df = data_raw.copy()"
   ]
  },
  {
   "cell_type": "code",
   "execution_count": 75,
   "metadata": {},
   "outputs": [
    {
     "data": {
      "text/html": [
       "<div>\n",
       "<style scoped>\n",
       "    .dataframe tbody tr th:only-of-type {\n",
       "        vertical-align: middle;\n",
       "    }\n",
       "\n",
       "    .dataframe tbody tr th {\n",
       "        vertical-align: top;\n",
       "    }\n",
       "\n",
       "    .dataframe thead th {\n",
       "        text-align: right;\n",
       "    }\n",
       "</style>\n",
       "<table border=\"1\" class=\"dataframe\">\n",
       "  <thead>\n",
       "    <tr style=\"text-align: right;\">\n",
       "      <th></th>\n",
       "      <th>index</th>\n",
       "      <th>title</th>\n",
       "      <th>created_utc</th>\n",
       "      <th>selftext</th>\n",
       "      <th>subreddit</th>\n",
       "      <th>author</th>\n",
       "      <th>permalink</th>\n",
       "    </tr>\n",
       "  </thead>\n",
       "  <tbody>\n",
       "    <tr>\n",
       "      <th>0</th>\n",
       "      <td>0</td>\n",
       "      <td>In case you haven't read it in a while, or nev...</td>\n",
       "      <td>1291263661</td>\n",
       "      <td>NaN</td>\n",
       "      <td>nosleep</td>\n",
       "      <td>sjwillis</td>\n",
       "      <td>/r/nosleep/comments/eevho/in_case_you_havent_r...</td>\n",
       "    </tr>\n",
       "    <tr>\n",
       "      <th>1</th>\n",
       "      <td>1</td>\n",
       "      <td>An Old One coming in to nest from the sea, dis...</td>\n",
       "      <td>1291247888</td>\n",
       "      <td>NaN</td>\n",
       "      <td>nosleep</td>\n",
       "      <td>syuk</td>\n",
       "      <td>/r/nosleep/comments/eest4/an_old_one_coming_in...</td>\n",
       "    </tr>\n",
       "    <tr>\n",
       "      <th>2</th>\n",
       "      <td>2</td>\n",
       "      <td>Sick Cat</td>\n",
       "      <td>1291246366</td>\n",
       "      <td>This is something that happened to my family a...</td>\n",
       "      <td>nosleep</td>\n",
       "      <td>sherlocktheholmes</td>\n",
       "      <td>/r/nosleep/comments/eesd2/sick_cat/</td>\n",
       "    </tr>\n",
       "    <tr>\n",
       "      <th>3</th>\n",
       "      <td>3</td>\n",
       "      <td>Enjoy. (crosspost from /r/gaming)</td>\n",
       "      <td>1291235876</td>\n",
       "      <td>[deleted]</td>\n",
       "      <td>nosleep</td>\n",
       "      <td>[deleted]</td>\n",
       "      <td>/r/nosleep/comments/eep3l/enjoy_crosspost_from...</td>\n",
       "    </tr>\n",
       "    <tr>\n",
       "      <th>4</th>\n",
       "      <td>4</td>\n",
       "      <td>Since I won't be sleeping tonight I figures th...</td>\n",
       "      <td>1291207974</td>\n",
       "      <td>This happened when I was 15-16. I was a buddin...</td>\n",
       "      <td>nosleep</td>\n",
       "      <td>ShockerOnShockStreet</td>\n",
       "      <td>/r/nosleep/comments/eeh0n/since_i_wont_be_slee...</td>\n",
       "    </tr>\n",
       "  </tbody>\n",
       "</table>\n",
       "</div>"
      ],
      "text/plain": [
       "   index                                              title  created_utc  \\\n",
       "0      0  In case you haven't read it in a while, or nev...   1291263661   \n",
       "1      1  An Old One coming in to nest from the sea, dis...   1291247888   \n",
       "2      2                                           Sick Cat   1291246366   \n",
       "3      3                  Enjoy. (crosspost from /r/gaming)   1291235876   \n",
       "4      4  Since I won't be sleeping tonight I figures th...   1291207974   \n",
       "\n",
       "                                            selftext subreddit  \\\n",
       "0                                                NaN   nosleep   \n",
       "1                                                NaN   nosleep   \n",
       "2  This is something that happened to my family a...   nosleep   \n",
       "3                                          [deleted]   nosleep   \n",
       "4  This happened when I was 15-16. I was a buddin...   nosleep   \n",
       "\n",
       "                 author                                          permalink  \n",
       "0              sjwillis  /r/nosleep/comments/eevho/in_case_you_havent_r...  \n",
       "1                  syuk  /r/nosleep/comments/eest4/an_old_one_coming_in...  \n",
       "2     sherlocktheholmes                /r/nosleep/comments/eesd2/sick_cat/  \n",
       "3             [deleted]  /r/nosleep/comments/eep3l/enjoy_crosspost_from...  \n",
       "4  ShockerOnShockStreet  /r/nosleep/comments/eeh0n/since_i_wont_be_slee...  "
      ]
     },
     "execution_count": 75,
     "metadata": {},
     "output_type": "execute_result"
    }
   ],
   "source": [
    "df.head()"
   ]
  },
  {
   "cell_type": "code",
   "execution_count": 76,
   "metadata": {},
   "outputs": [],
   "source": [
    "# Dynamically define the working directory to locate the data file"
   ]
  },
  {
   "cell_type": "code",
   "execution_count": 77,
   "metadata": {},
   "outputs": [],
   "source": [
    "my_pwd = !pwd"
   ]
  },
  {
   "cell_type": "code",
   "execution_count": 78,
   "metadata": {},
   "outputs": [
    {
     "data": {
      "text/plain": [
       "'/home/blue/general-assembly/dsir-824/submissions/projects/project-3-master'"
      ]
     },
     "execution_count": 78,
     "metadata": {},
     "output_type": "execute_result"
    }
   ],
   "source": [
    "my_pwd[0]"
   ]
  },
  {
   "cell_type": "code",
   "execution_count": 79,
   "metadata": {},
   "outputs": [],
   "source": [
    "def text_loader(subreddit):\n",
    "    '''\n",
    "    Input a subreddit as a string\n",
    "    Return a dataframe which is a collection of csv files\n",
    "    '''\n",
    "    # get list of all files\n",
    "    list_files = Path(my_pwd[0]+f'/data/reddit/{subreddit}').glob('**/c*')\n",
    "    loaded_df_list = [pd.read_csv(f'./data/reddit/{subreddit}/{i.name}', encoding='utf-8', engine='c') for i in list_files]\n",
    "    df = pd.concat(loaded_df_list)\n",
    "    return df[['selftext', 'subreddit']]"
   ]
  },
  {
   "cell_type": "code",
   "execution_count": 80,
   "metadata": {},
   "outputs": [],
   "source": [
    "df_nosleep = text_loader('nosleep')"
   ]
  },
  {
   "cell_type": "code",
   "execution_count": 81,
   "metadata": {},
   "outputs": [
    {
     "data": {
      "text/plain": [
       "<AxesSubplot:>"
      ]
     },
     "execution_count": 81,
     "metadata": {},
     "output_type": "execute_result"
    },
    {
     "data": {
      "image/png": "[encoded data removed]",
      "text/plain": [
       "<Figure size 1800x720 with 2 Axes>"
      ]
     },
     "metadata": {
      "needs_background": "light"
     },
     "output_type": "display_data"
    }
   ],
   "source": [
    "msno.matrix(df_nosleep)"
   ]
  },
  {
   "cell_type": "code",
   "execution_count": 82,
   "metadata": {},
   "outputs": [],
   "source": [
    "# Get rid of null values, we don't care about them"
   ]
  },
  {
   "cell_type": "code",
   "execution_count": 83,
   "metadata": {},
   "outputs": [],
   "source": [
    "df_nosleep = df_nosleep.dropna()"
   ]
  },
  {
   "cell_type": "code",
   "execution_count": 84,
   "metadata": {},
   "outputs": [],
   "source": [
    "# Get rid of these weird values where there is no self text and the story has been removed. These are useless"
   ]
  },
  {
   "cell_type": "code",
   "execution_count": 85,
   "metadata": {},
   "outputs": [
    {
     "data": {
      "text/plain": [
       "226055"
      ]
     },
     "execution_count": 85,
     "metadata": {},
     "output_type": "execute_result"
    }
   ],
   "source": [
    "(df_nosleep['selftext'] != '[removed]').sum()"
   ]
  },
  {
   "cell_type": "code",
   "execution_count": 86,
   "metadata": {},
   "outputs": [
    {
     "data": {
      "text/plain": [
       "11675"
      ]
     },
     "execution_count": 86,
     "metadata": {},
     "output_type": "execute_result"
    }
   ],
   "source": [
    "(df_nosleep['selftext'] == '[deleted]').sum()"
   ]
  },
  {
   "cell_type": "code",
   "execution_count": 87,
   "metadata": {},
   "outputs": [],
   "source": [
    "df_nosleep = df_nosleep[df_nosleep['selftext'] != '[removed]']"
   ]
  },
  {
   "cell_type": "code",
   "execution_count": 88,
   "metadata": {},
   "outputs": [],
   "source": [
    "df_nosleep = df_nosleep[df_nosleep['selftext'] != '[deleted]']"
   ]
  },
  {
   "cell_type": "code",
   "execution_count": 89,
   "metadata": {},
   "outputs": [
    {
     "data": {
      "text/plain": [
       "<AxesSubplot:>"
      ]
     },
     "execution_count": 89,
     "metadata": {},
     "output_type": "execute_result"
    },
    {
     "data": {
      "image/png": "[encoded data removed]",
      "text/plain": [
       "<Figure size 1800x720 with 2 Axes>"
      ]
     },
     "metadata": {
      "needs_background": "light"
     },
     "output_type": "display_data"
    }
   ],
   "source": [
    "msno.matrix(df_nosleep)"
   ]
  },
  {
   "cell_type": "code",
   "execution_count": 21,
   "metadata": {},
   "outputs": [],
   "source": [
    "df_nosleep = df_nosleep.reset_index(drop=True)"
   ]
  },
  {
   "cell_type": "code",
   "execution_count": 22,
   "metadata": {},
   "outputs": [
    {
     "data": {
      "text/plain": [
       "\"Have you ever had a memory that you remember so vividly, as if it happened the day before? You swear by every inch of your being that it happened. You remember just enough of the memory to trace it back to its origin, but then you realize....... it was a dream. You put your whole existence on the line, you were so positive, but in the end it was fake. This raises the question, what is real, and what is just a dream? Most of the memories you have are subconscious, and most of the time you don't think about them too hard, they're just there. In the back of your mind. What if you think really hard about every memory you have, would they all be fake? Which ones are real? Your first day of school, your pet's name, your first kiss, or even your family. What if all these things are fake. Not real, just a figment off your or somebody else's imagination. Now here's another question. Would you want to take that chance? Would you want the knowledge that your whole existence was fake, or that you yourself are fake? Or would you rather live in denial about it all? Which would make you happier? Maybe we're asleep right now. Or maybe we're in someone else's dream. Would you take the gamble knowing that your whole existence is on the line? Well, that's a choice you'll have to make.\""
      ]
     },
     "execution_count": 22,
     "metadata": {},
     "output_type": "execute_result"
    }
   ],
   "source": [
    "df_nosleep.loc[0, 'selftext']"
   ]
  },
  {
   "cell_type": "code",
   "execution_count": 23,
   "metadata": {},
   "outputs": [
    {
     "data": {
      "text/plain": [
       "'It all started a few days ago. We had just moved into a new place. The place was rather small and in the middle of knowwhere. It was also really cheap for some reason. It was a cute little place and we decided to get it. I never really thought anything of the place as bad. We had finally finished unpacking all of our stuff when we heard a bang. I decided to see what it was. I walked into the kitchen and saw that only a vase had fallen over and broken. I sighed and thought nothing of it as I cleaned it up. That\\'s when  decided to go to bed. By now it was already 10 at night. I fixed my bed and crawled in to get some sleep. I made a huge mistake.\\n\\nI was having a horrible dream. The dream was about this woman. She had long black hair and this beautiful dress. I never saw her face. She was standing in front of a yard. From the looks of it, the time was around midnight. I watched her silently as she walked into a house. The house was sort of Deja vu. I followed her inside and she walked into the kitchen. She then turned and there was a man standing there. She had a knife in his hand. The woman gasped and screamed. The man grabbed her and stabbed her. He kept stabbing her over and over again. She finally stopped screaming and stood up. He then turned to me. He opened his mouth and made the most horrible blood rattling scream ever. That\\'s when I woke up in a cold sweat. I then could of sworn i saw a shadow in my room. I rested my head to sleep again but I heard a noise.\\n\\nNow being me, I had to see what it was. I got up and walked into the kitchen. I was confused to see everything the way it should be. Then I heard something that made shivers run down my spine. I heard a whisper. I couldn\\'t make out what it said but it said something. It sounded sort of like it said, \"Help me.\" I got so scared by it. I spun around as fast as I could but tgere was no one there. I just decided to go back to bed.\\n\\nWhen I woke up that morning, I almost shit myself. There was the man from my dream hunched over my bed. I blinked and he was gone. I knew that there was sonething wrong so I left to go to a friend\\'s place. I did not fell safe at all in that house any more. I knew that I had to go back though. I spent the whole day with my friend before returning back home. That night, I had the same dream but, it was different.\\n\\nThis time, I was the girl. The same thing happened, I turned and went inside. I was soon at the part where the guy was in the kitchen. I fealt myself scream and he grabbed me. He took the knife and stabbed me. It fealt like the whole thing was so real. He stabbed me over and over until I fell. I was laying there when I saw me. I was standing there in horror. The man looked at the other me and screamed again. This time, I didn\\'t wake up. The man grabbed the other me and stabbed her. She screamed and fell to the floor. As the dream self lay there dieing, the man laughed.\\n\\nI finally woke up. When I looked around, I fealt pain in my stomache. I looked down and saw a huge cut. It was not deep enough for stitches thank god. I cleaned it up and covered it in a wrap. I stayed sitting down until I caught my breath.\\n\\nI am now writing this to you my fellow redditors. I have no clue why these dreams are happening. Maybe you can help me figure out what is going on. As I finish writing this, I swear, I can feel a presence behind me, watching me.'"
      ]
     },
     "execution_count": 23,
     "metadata": {},
     "output_type": "execute_result"
    }
   ],
   "source": [
    "df_nosleep.loc[1, 'selftext']"
   ]
  },
  {
   "cell_type": "code",
   "execution_count": 90,
   "metadata": {},
   "outputs": [],
   "source": [
    "df_legaladvice = text_loader('legaladvice')"
   ]
  },
  {
   "cell_type": "code",
   "execution_count": 91,
   "metadata": {},
   "outputs": [
    {
     "data": {
      "text/html": [
       "<div>\n",
       "<style scoped>\n",
       "    .dataframe tbody tr th:only-of-type {\n",
       "        vertical-align: middle;\n",
       "    }\n",
       "\n",
       "    .dataframe tbody tr th {\n",
       "        vertical-align: top;\n",
       "    }\n",
       "\n",
       "    .dataframe thead th {\n",
       "        text-align: right;\n",
       "    }\n",
       "</style>\n",
       "<table border=\"1\" class=\"dataframe\">\n",
       "  <thead>\n",
       "    <tr style=\"text-align: right;\">\n",
       "      <th></th>\n",
       "      <th>selftext</th>\n",
       "      <th>subreddit</th>\n",
       "    </tr>\n",
       "  </thead>\n",
       "  <tbody>\n",
       "    <tr>\n",
       "      <th>0</th>\n",
       "      <td>I’ll try to keep this as brief as possible. My...</td>\n",
       "      <td>legaladvice</td>\n",
       "    </tr>\n",
       "    <tr>\n",
       "      <th>1</th>\n",
       "      <td>Wisconsin. My apartment lease is coming to an ...</td>\n",
       "      <td>legaladvice</td>\n",
       "    </tr>\n",
       "    <tr>\n",
       "      <th>2</th>\n",
       "      <td>I am in Montgomery County, PA. We purchased a ...</td>\n",
       "      <td>legaladvice</td>\n",
       "    </tr>\n",
       "    <tr>\n",
       "      <th>3</th>\n",
       "      <td>First of all excuse my spelling/grammar I’m wr...</td>\n",
       "      <td>legaladvice</td>\n",
       "    </tr>\n",
       "    <tr>\n",
       "      <th>4</th>\n",
       "      <td>Do I have recourse to sue the company I paid t...</td>\n",
       "      <td>legaladvice</td>\n",
       "    </tr>\n",
       "  </tbody>\n",
       "</table>\n",
       "</div>"
      ],
      "text/plain": [
       "                                            selftext    subreddit\n",
       "0  I’ll try to keep this as brief as possible. My...  legaladvice\n",
       "1  Wisconsin. My apartment lease is coming to an ...  legaladvice\n",
       "2  I am in Montgomery County, PA. We purchased a ...  legaladvice\n",
       "3  First of all excuse my spelling/grammar I’m wr...  legaladvice\n",
       "4  Do I have recourse to sue the company I paid t...  legaladvice"
      ]
     },
     "execution_count": 91,
     "metadata": {},
     "output_type": "execute_result"
    }
   ],
   "source": [
    "df_legaladvice.head()"
   ]
  },
  {
   "cell_type": "code",
   "execution_count": 92,
   "metadata": {},
   "outputs": [
    {
     "data": {
      "text/plain": [
       "<AxesSubplot:>"
      ]
     },
     "execution_count": 92,
     "metadata": {},
     "output_type": "execute_result"
    },
    {
     "data": {
      "image/png": "[encoded data removed]",
      "text/plain": [
       "<Figure size 1800x720 with 2 Axes>"
      ]
     },
     "metadata": {
      "needs_background": "light"
     },
     "output_type": "display_data"
    }
   ],
   "source": [
    "msno.matrix(df_legaladvice)"
   ]
  },
  {
   "cell_type": "code",
   "execution_count": 93,
   "metadata": {},
   "outputs": [],
   "source": [
    "# Same thing here, get rid of nulls and the weird ['removed']"
   ]
  },
  {
   "cell_type": "code",
   "execution_count": 94,
   "metadata": {},
   "outputs": [],
   "source": [
    "df_legaladvice = df_legaladvice.dropna().reset_index(drop=True)"
   ]
  },
  {
   "cell_type": "code",
   "execution_count": 95,
   "metadata": {},
   "outputs": [
    {
     "data": {
      "text/plain": [
       "4383"
      ]
     },
     "execution_count": 95,
     "metadata": {},
     "output_type": "execute_result"
    }
   ],
   "source": [
    "(df_legaladvice['selftext'] == '[removed]').sum()"
   ]
  },
  {
   "cell_type": "code",
   "execution_count": 96,
   "metadata": {},
   "outputs": [
    {
     "data": {
      "text/plain": [
       "3060"
      ]
     },
     "execution_count": 96,
     "metadata": {},
     "output_type": "execute_result"
    }
   ],
   "source": [
    "(df_legaladvice['selftext'] == '[deleted]').sum()"
   ]
  },
  {
   "cell_type": "code",
   "execution_count": 97,
   "metadata": {},
   "outputs": [],
   "source": [
    "# not too many for this subreddit"
   ]
  },
  {
   "cell_type": "code",
   "execution_count": 98,
   "metadata": {},
   "outputs": [],
   "source": [
    "df_legaladvice = df_legaladvice[df_legaladvice['selftext'] != '[removed]']"
   ]
  },
  {
   "cell_type": "code",
   "execution_count": 99,
   "metadata": {},
   "outputs": [],
   "source": [
    "df_legaladvice = df_legaladvice[df_legaladvice['selftext'] != '[deleted]']"
   ]
  },
  {
   "cell_type": "code",
   "execution_count": 100,
   "metadata": {},
   "outputs": [
    {
     "data": {
      "text/plain": [
       "<AxesSubplot:>"
      ]
     },
     "execution_count": 100,
     "metadata": {},
     "output_type": "execute_result"
    },
    {
     "data": {
      "image/png": "[encoded data removed]",
      "text/plain": [
       "<Figure size 1800x720 with 2 Axes>"
      ]
     },
     "metadata": {
      "needs_background": "light"
     },
     "output_type": "display_data"
    }
   ],
   "source": [
    "msno.matrix(df_legaladvice)"
   ]
  },
  {
   "cell_type": "code",
   "execution_count": 35,
   "metadata": {},
   "outputs": [
    {
     "data": {
      "text/plain": [
       "'I’ll try to keep this as brief as possible. My husband is in a local union. Last week, his company discussed lay offs and asked if everyone would be ok with 32 hour paychecks for a few weeks to keep from having to do a large lay off. They all agreed that half of the employees would take Monday off and half would take Friday. My husband was off Monday. Today, they figured out that there was a miscommunication from up above and the compromise was supposed to be no overtime for a bit, NOT shorter workweeks. So the people who were supposed to be off Friday no longer have to be. The issue is, they said that they can’t go back and pay my husband for his hours lost, and he can’t get any OT. So essentially he’s being punished for doing what he was asked to do. No one else is getting less pay for this. His yard manager and union reps have basically said “oh well sorry about your luck”. They said they can’t legally pay them for hours not worked. My question is, is there some legal aspect to this that i don’t know about? If we have to eat the money, then that’s fine. It is what it is. I just feel like it’s unfair.'"
      ]
     },
     "execution_count": 35,
     "metadata": {},
     "output_type": "execute_result"
    }
   ],
   "source": [
    "df_legaladvice.loc[0, 'selftext']"
   ]
  },
  {
   "cell_type": "code",
   "execution_count": 36,
   "metadata": {},
   "outputs": [
    {
     "data": {
      "text/plain": [
       "\"Wisconsin. My apartment lease is coming to an end and I am planing on moving. My walk through inspection checklist used to be saved under my profile on the apartments resident portal online. I had a documents section under my profile that had my signed lease copy and inspection checklist copy. The apartment company was bought about 6 months ago and they renovated their website to another domain. Knowing that my lease was coming to an end, I went to the documents section under my profile on their new website to print the copies but they weren't there. I emailed the apartment office asking for both copies and they replied very bluntly with only the copy of the signed lease. They did not mention why they did not send the checklist copy. I had noted some flaws in the apartment upon move in, including stains on the bedroom carpet and a dent in the closet wall. I am worried they lost my inspection copy and will try to charge me for the damage they had listed. Can they legally lose the copy of my inspection checklist and not provide it? I emailed them a second time asking for the copy of the inspection checklist, but I want to know what they are legally obligated to.\""
      ]
     },
     "execution_count": 36,
     "metadata": {},
     "output_type": "execute_result"
    }
   ],
   "source": [
    "df_legaladvice.loc[1, 'selftext']"
   ]
  },
  {
   "cell_type": "code",
   "execution_count": 37,
   "metadata": {},
   "outputs": [],
   "source": [
    "# I chose these two subreddits because in my experience of using them, I found that the comments and posts tend to be lengthy in size\n",
    "# They are mostly text with few images, few memes, and few references\n",
    "# This is a biased representation of the kinds of subreddits, but for an NLP classification problem\n",
    "# Take what you can get! "
   ]
  },
  {
   "cell_type": "code",
   "execution_count": 38,
   "metadata": {},
   "outputs": [],
   "source": [
    "# Okay, all our data is together, let's smash it all together into a massive master"
   ]
  },
  {
   "cell_type": "code",
   "execution_count": 39,
   "metadata": {},
   "outputs": [],
   "source": [
    "# For preformance issues, I'm going to make two sets of df_all\n",
    "# df_all_big\n",
    "# df_all_simple"
   ]
  },
  {
   "cell_type": "code",
   "execution_count": 40,
   "metadata": {},
   "outputs": [],
   "source": [
    "df_all = pd.concat([df_legaladvice, df_nosleep])"
   ]
  },
  {
   "cell_type": "code",
   "execution_count": 41,
   "metadata": {},
   "outputs": [],
   "source": [
    "df_all = df_all.reset_index(drop=True)"
   ]
  },
  {
   "cell_type": "code",
   "execution_count": 42,
   "metadata": {},
   "outputs": [
    {
     "data": {
      "text/plain": [
       "nosleep        214380\n",
       "legaladvice     99121\n",
       "Name: subreddit, dtype: int64"
      ]
     },
     "execution_count": 42,
     "metadata": {},
     "output_type": "execute_result"
    }
   ],
   "source": [
    "df_all['subreddit'].value_counts()"
   ]
  },
  {
   "cell_type": "code",
   "execution_count": 43,
   "metadata": {},
   "outputs": [],
   "source": [
    "# We're going to have a master df_all, which has an unbalanced classification dataset\n",
    "# the small one is going to have 5,000 samples from each subreddit randomly chosen\n",
    "# This is to give our models the best possible preformance in learning which text came from where"
   ]
  },
  {
   "cell_type": "code",
   "execution_count": 44,
   "metadata": {},
   "outputs": [],
   "source": [
    "df_all_simple = pd.concat([df_legaladvice.sample(5_000), df_nosleep.sample(5_000)])"
   ]
  },
  {
   "cell_type": "code",
   "execution_count": 45,
   "metadata": {},
   "outputs": [
    {
     "data": {
      "text/plain": [
       "nosleep        5000\n",
       "legaladvice    5000\n",
       "Name: subreddit, dtype: int64"
      ]
     },
     "execution_count": 45,
     "metadata": {},
     "output_type": "execute_result"
    }
   ],
   "source": [
    "df_all_simple['subreddit'].value_counts()"
   ]
  },
  {
   "cell_type": "code",
   "execution_count": 112,
   "metadata": {},
   "outputs": [
    {
     "data": {
      "text/html": [
       "<div>\n",
       "<style scoped>\n",
       "    .dataframe tbody tr th:only-of-type {\n",
       "        vertical-align: middle;\n",
       "    }\n",
       "\n",
       "    .dataframe tbody tr th {\n",
       "        vertical-align: top;\n",
       "    }\n",
       "\n",
       "    .dataframe thead th {\n",
       "        text-align: right;\n",
       "    }\n",
       "</style>\n",
       "<table border=\"1\" class=\"dataframe\">\n",
       "  <thead>\n",
       "    <tr style=\"text-align: right;\">\n",
       "      <th></th>\n",
       "      <th>count</th>\n",
       "    </tr>\n",
       "  </thead>\n",
       "  <tbody>\n",
       "    <tr>\n",
       "      <th>r/nosleep</th>\n",
       "      <td>214380</td>\n",
       "    </tr>\n",
       "    <tr>\n",
       "      <th>r/legaladvice</th>\n",
       "      <td>99121</td>\n",
       "    </tr>\n",
       "  </tbody>\n",
       "</table>\n",
       "</div>"
      ],
      "text/plain": [
       "                count\n",
       "r/nosleep      214380\n",
       "r/legaladvice   99121"
      ]
     },
     "execution_count": 112,
     "metadata": {},
     "output_type": "execute_result"
    }
   ],
   "source": [
    "pd.DataFrame([df_nosleep.shape[0], df_legaladvice.shape[0]], index=['r/nosleep', 'r/legaladvice'], columns=['count'])"
   ]
  },
  {
   "cell_type": "code",
   "execution_count": null,
   "metadata": {},
   "outputs": [],
   "source": [
    "# some EDA to see our data"
   ]
  },
  {
   "cell_type": "code",
   "execution_count": 119,
   "metadata": {},
   "outputs": [
    {
     "data": {
      "text/plain": [
       "(array([0, 1]), [Text(0, 0, 'r/nosleep'), Text(1, 0, 'r/legaladvice')])"
      ]
     },
     "execution_count": 119,
     "metadata": {},
     "output_type": "execute_result"
    },
    {
     "data": {
      "image/png": "[encoded data removed]",
      "text/plain": [
       "<Figure size 720x576 with 1 Axes>"
      ]
     },
     "metadata": {
      "needs_background": "light"
     },
     "output_type": "display_data"
    }
   ],
   "source": [
    "plt.figure(figsize=(10,8))\n",
    "plt.title('Total Scraped Comments', fontsize=30)\n",
    "sns.barplot(\n",
    "    data=pd.DataFrame([df_nosleep.shape[0], df_legaladvice.shape[0]], \n",
    "                      index=['r/nosleep', 'r/legaladvice'], \n",
    "                      columns=['count']).T)\n",
    "plt.xticks(fontsize=15)"
   ]
  },
  {
   "cell_type": "code",
   "execution_count": 129,
   "metadata": {},
   "outputs": [],
   "source": [
    "word_counts = [len(i.split()) for i in df_nosleep['selftext']]"
   ]
  },
  {
   "cell_type": "code",
   "execution_count": 130,
   "metadata": {},
   "outputs": [
    {
     "data": {
      "text/plain": [
       "1349.5828202257674"
      ]
     },
     "execution_count": 130,
     "metadata": {},
     "output_type": "execute_result"
    }
   ],
   "source": [
    "np.mean(word_counts)"
   ]
  },
  {
   "cell_type": "code",
   "execution_count": 131,
   "metadata": {},
   "outputs": [],
   "source": [
    "word_counts_2 = [len(i.split()) for i in df_legaladvice['selftext']]"
   ]
  },
  {
   "cell_type": "code",
   "execution_count": 132,
   "metadata": {},
   "outputs": [
    {
     "data": {
      "text/plain": [
       "210.78405181545787"
      ]
     },
     "execution_count": 132,
     "metadata": {},
     "output_type": "execute_result"
    }
   ],
   "source": [
    "np.mean(word_counts_2)"
   ]
  },
  {
   "cell_type": "code",
   "execution_count": 134,
   "metadata": {},
   "outputs": [
    {
     "data": {
      "text/plain": [
       "(array([0, 1]), [Text(0, 0, 'r/nosleep'), Text(1, 0, 'r/legaladvice')])"
      ]
     },
     "execution_count": 134,
     "metadata": {},
     "output_type": "execute_result"
    },
    {
     "data": {
      "image/png": "[encoded data removed]",
      "text/plain": [
       "<Figure size 720x576 with 1 Axes>"
      ]
     },
     "metadata": {
      "needs_background": "light"
     },
     "output_type": "display_data"
    }
   ],
   "source": [
    "plt.figure(figsize=(10,8))\n",
    "plt.title('Average Word Count Per Comment', fontsize=30)\n",
    "sns.barplot(\n",
    "    data=pd.DataFrame([np.mean(word_counts), np.mean(word_counts_2)], \n",
    "                      index=['r/nosleep', 'r/legaladvice'], \n",
    "                      columns=['count']).T)\n",
    "plt.xticks(fontsize=15)"
   ]
  },
  {
   "cell_type": "code",
   "execution_count": 46,
   "metadata": {},
   "outputs": [],
   "source": [
    "df_all_simple.to_csv('results/10_000_samples.csv')"
   ]
  },
  {
   "cell_type": "code",
   "execution_count": 47,
   "metadata": {},
   "outputs": [],
   "source": [
    "# This looks great!"
   ]
  },
  {
   "cell_type": "code",
   "execution_count": 48,
   "metadata": {},
   "outputs": [],
   "source": [
    "# Just for kicks, let's take an average word count per dataset"
   ]
  },
  {
   "cell_type": "code",
   "execution_count": null,
   "metadata": {},
   "outputs": [],
   "source": []
  },
  {
   "cell_type": "code",
   "execution_count": 49,
   "metadata": {},
   "outputs": [],
   "source": [
    "# Let's do some EDA to see what we are working with "
   ]
  },
  {
   "cell_type": "code",
   "execution_count": 50,
   "metadata": {},
   "outputs": [],
   "source": [
    "# I don't care for the stop words, so let's get rid of them"
   ]
  },
  {
   "cell_type": "code",
   "execution_count": 35,
   "metadata": {},
   "outputs": [],
   "source": [
    "cv = CountVectorizer(stop_words='english', lowercase=True, max_df=0.5, decode_error='ignore',)"
   ]
  },
  {
   "cell_type": "code",
   "execution_count": 36,
   "metadata": {},
   "outputs": [],
   "source": [
    "matrix = cv.fit_transform(df_all_simple['selftext'])\n",
    "freqs = zip(cv.get_feature_names(), matrix.sum(axis=0).tolist()[0])  "
   ]
  },
  {
   "cell_type": "code",
   "execution_count": 37,
   "metadata": {},
   "outputs": [],
   "source": [
    "# Let's view our created vocabulary\n",
    "df_words = pd.DataFrame(freqs, columns=['word','count'])"
   ]
  },
  {
   "cell_type": "code",
   "execution_count": null,
   "metadata": {},
   "outputs": [],
   "source": [
    "df_words.sort_values(by='count', ascending=False).head(15).T"
   ]
  },
  {
   "cell_type": "code",
   "execution_count": 54,
   "metadata": {},
   "outputs": [
    {
     "data": {
      "text/html": [
       "<div>\n",
       "<style scoped>\n",
       "    .dataframe tbody tr th:only-of-type {\n",
       "        vertical-align: middle;\n",
       "    }\n",
       "\n",
       "    .dataframe tbody tr th {\n",
       "        vertical-align: top;\n",
       "    }\n",
       "\n",
       "    .dataframe thead th {\n",
       "        text-align: right;\n",
       "    }\n",
       "</style>\n",
       "<table border=\"1\" class=\"dataframe\">\n",
       "  <thead>\n",
       "    <tr style=\"text-align: right;\">\n",
       "      <th></th>\n",
       "      <th>29646</th>\n",
       "      <th>29642</th>\n",
       "      <th>29636</th>\n",
       "      <th>29628</th>\n",
       "      <th>29627</th>\n",
       "      <th>29626</th>\n",
       "      <th>29623</th>\n",
       "      <th>29622</th>\n",
       "      <th>29621</th>\n",
       "      <th>29620</th>\n",
       "      <th>29618</th>\n",
       "      <th>29614</th>\n",
       "      <th>29612</th>\n",
       "      <th>29611</th>\n",
       "      <th>63793</th>\n",
       "    </tr>\n",
       "  </thead>\n",
       "  <tbody>\n",
       "    <tr>\n",
       "      <th>word</th>\n",
       "      <td>identitiy</td>\n",
       "      <td>identifies</td>\n",
       "      <td>idems</td>\n",
       "      <td>idealism</td>\n",
       "      <td>idealises</td>\n",
       "      <td>idealised</td>\n",
       "      <td>ide</td>\n",
       "      <td>idc</td>\n",
       "      <td>idbbgk</td>\n",
       "      <td>idarticle</td>\n",
       "      <td>ida5b4</td>\n",
       "      <td>icus</td>\n",
       "      <td>icsbp4</td>\n",
       "      <td>icouldntrun</td>\n",
       "      <td>𝓽𝓸𝓭𝓪𝔂</td>\n",
       "    </tr>\n",
       "    <tr>\n",
       "      <th>count</th>\n",
       "      <td>1</td>\n",
       "      <td>1</td>\n",
       "      <td>1</td>\n",
       "      <td>1</td>\n",
       "      <td>1</td>\n",
       "      <td>1</td>\n",
       "      <td>1</td>\n",
       "      <td>1</td>\n",
       "      <td>1</td>\n",
       "      <td>1</td>\n",
       "      <td>1</td>\n",
       "      <td>1</td>\n",
       "      <td>1</td>\n",
       "      <td>1</td>\n",
       "      <td>1</td>\n",
       "    </tr>\n",
       "  </tbody>\n",
       "</table>\n",
       "</div>"
      ],
      "text/plain": [
       "           29646       29642  29636     29628      29627      29626 29623  \\\n",
       "word   identitiy  identifies  idems  idealism  idealises  idealised   ide   \n",
       "count          1           1      1         1          1          1     1   \n",
       "\n",
       "      29622   29621      29620   29618 29614   29612        29611  63793  \n",
       "word    idc  idbbgk  idarticle  ida5b4  icus  icsbp4  icouldntrun  𝓽𝓸𝓭𝓪𝔂  \n",
       "count     1       1          1       1     1       1            1      1  "
      ]
     },
     "execution_count": 54,
     "metadata": {},
     "output_type": "execute_result"
    }
   ],
   "source": [
    "df_words.sort_values(by='count', ascending=False).iloc[-15:].T"
   ]
  },
  {
   "cell_type": "code",
   "execution_count": 55,
   "metadata": {},
   "outputs": [],
   "source": [
    "# This is some good EDA, but, I care more about the unique words. Let's use Tifdif \n",
    "# In this case I am interested in tifdif because it transformed a matrix, that we found from countvectorizer\n",
    "# and instead of using those raw frequenicies of occurences (see those large word counts)\n",
    "# then scale down their relative impacts, to reduce the impact they have in the learned vocaulary (corpus)\n",
    "# Less frequent words will have a greater importance in their meaning towards classifying where it could have come from"
   ]
  },
  {
   "cell_type": "code",
   "execution_count": 56,
   "metadata": {},
   "outputs": [],
   "source": [
    "tf_transformer_fwp = TfidfTransformer(use_idf=False)"
   ]
  },
  {
   "cell_type": "code",
   "execution_count": 57,
   "metadata": {},
   "outputs": [],
   "source": [
    "X = tf_transformer_fwp.fit_transform(matrix)"
   ]
  },
  {
   "cell_type": "code",
   "execution_count": 58,
   "metadata": {},
   "outputs": [
    {
     "data": {
      "text/plain": [
       "(10000, 63794)"
      ]
     },
     "execution_count": 58,
     "metadata": {},
     "output_type": "execute_result"
    }
   ],
   "source": [
    "X.shape"
   ]
  },
  {
   "cell_type": "code",
   "execution_count": 59,
   "metadata": {},
   "outputs": [],
   "source": [
    "y = df_all_simple['subreddit']"
   ]
  },
  {
   "cell_type": "code",
   "execution_count": 60,
   "metadata": {},
   "outputs": [],
   "source": [
    "# Let's make a Naive Bayesian model that can try to predict if a string of text came from a horror subreddit\n",
    "# or from a legal advice subreddit\n",
    "\n",
    "# https://www.reddit.com/r/nosleep/\n",
    "# Nosleep is a place for authors to share their original horror stories.\n",
    "\n",
    "# https://www.reddit.com/r/legaladvice\n",
    "# A place to ask simple legal questions, and to have legal concepts explained.\n",
    "\n",
    "# So we're comaring horror fiction and horror reality!"
   ]
  },
  {
   "cell_type": "code",
   "execution_count": 61,
   "metadata": {},
   "outputs": [
    {
     "data": {
      "text/plain": [
       "200.0"
      ]
     },
     "execution_count": 61,
     "metadata": {},
     "output_type": "execute_result"
    }
   ],
   "source": [
    "X.shape[0] * 0.02"
   ]
  },
  {
   "cell_type": "code",
   "execution_count": 62,
   "metadata": {},
   "outputs": [
    {
     "data": {
      "text/plain": [
       "9800.0"
      ]
     },
     "execution_count": 62,
     "metadata": {},
     "output_type": "execute_result"
    }
   ],
   "source": [
    "X.shape[0] * 0.98"
   ]
  },
  {
   "cell_type": "code",
   "execution_count": 63,
   "metadata": {},
   "outputs": [],
   "source": [
    "# This looks amazing, we are using 5 % to train and testing on 95 % !!!!\n",
    "\n",
    "# This is due to my experience in doing the project that as few as 5,000 samples was able to train"
   ]
  },
  {
   "cell_type": "code",
   "execution_count": 64,
   "metadata": {},
   "outputs": [],
   "source": [
    "X_train, X_test, y_train, y_test = train_test_split(X,y, train_size=0.1, stratify=y)"
   ]
  },
  {
   "cell_type": "code",
   "execution_count": 65,
   "metadata": {},
   "outputs": [],
   "source": [
    "# Let's grab a baseline model"
   ]
  },
  {
   "cell_type": "code",
   "execution_count": 66,
   "metadata": {},
   "outputs": [
    {
     "data": {
      "text/plain": [
       "nosleep        0.683826\n",
       "legaladvice    0.316174\n",
       "Name: subreddit, dtype: float64"
      ]
     },
     "execution_count": 66,
     "metadata": {},
     "output_type": "execute_result"
    }
   ],
   "source": [
    "df_all['subreddit'].value_counts(normalize=True)"
   ]
  },
  {
   "cell_type": "code",
   "execution_count": 67,
   "metadata": {},
   "outputs": [],
   "source": [
    "# Let's grab our bayesian models and others"
   ]
  },
  {
   "cell_type": "code",
   "execution_count": 68,
   "metadata": {},
   "outputs": [],
   "source": [
    "bayesian_models = [BernoulliNB(), MultinomialNB()]"
   ]
  },
  {
   "cell_type": "code",
   "execution_count": 69,
   "metadata": {},
   "outputs": [],
   "source": [
    "other_models = [LogisticRegression(max_iter=100_000), \n",
    "                KNeighborsClassifier(n_jobs=7), \n",
    "                DecisionTreeClassifier(), \n",
    "                BaggingClassifier(), \n",
    "                ExtraTreesClassifier(), \n",
    "                RandomForestClassifier(),\n",
    "                SVC(),\n",
    "                DummyClassifier(strategy='most_frequent')]"
   ]
  },
  {
   "cell_type": "code",
   "execution_count": 70,
   "metadata": {},
   "outputs": [],
   "source": [
    "def evaluate_model(model_list, X_train, X_test, y_train, y_test):\n",
    "    '''\n",
    "    This is a list of list comprehensions to find all the metrics and evaluate the classification\n",
    "    \n",
    "    fitted list: output a list of the fitted models\n",
    "    accuracy scores: baseline metric; what was classified corectly and what wasn't\n",
    "    bal accuracy: used to consider when the dataset needs to be stratified for unbalanced datasets\n",
    "    f1_train, balance of considering precision and recall: I thought it good to have to interpert\n",
    "    '''\n",
    "    fitted_list = [i.fit(X_train, y_train) for i in model_list]\n",
    "    train_scores = [i.score(X_train, y_train) for i in fitted_list]\n",
    "    bal_train_acc = [balanced_accuracy_score(y_train, i.predict(X_train)) for i in fitted_list]\n",
    "    f1_train_scores = [f1_score(y_train, i.predict(X_train), pos_label='nosleep') for i in fitted_list]\n",
    "    \n",
    "    test_scores = [i.score(X_test, y_test) for i in fitted_list]\n",
    "    bal_test_acc = [balanced_accuracy_score(y_test, i.predict(X_test)) for i in fitted_list]\n",
    "    f1_test_scores = [f1_score(y_test, i.predict(X_test), pos_label='nosleep') for i in fitted_list]\n",
    "    return [train_scores, bal_train_acc, f1_train_scores,\n",
    "            test_scores, bal_test_acc, f1_test_scores,], fitted_list"
   ]
  },
  {
   "cell_type": "code",
   "execution_count": 71,
   "metadata": {},
   "outputs": [],
   "source": [
    "scores, models = evaluate_model(bayesian_models, X_train, X_test, y_train, y_test)"
   ]
  },
  {
   "cell_type": "code",
   "execution_count": 72,
   "metadata": {},
   "outputs": [],
   "source": [
    "df_scores = pd.DataFrame(scores, index=['Train Score', 'Bal Train Score', 'f1 Train Score', \n",
    "                                        'Test Score', 'Bal Test Score', 'f1 Test score'], \n",
    "                         columns=['BernoilliNB', 'MultinominalB']).T"
   ]
  },
  {
   "cell_type": "code",
   "execution_count": 73,
   "metadata": {},
   "outputs": [
    {
     "data": {
      "text/html": [
       "<div>\n",
       "<style scoped>\n",
       "    .dataframe tbody tr th:only-of-type {\n",
       "        vertical-align: middle;\n",
       "    }\n",
       "\n",
       "    .dataframe tbody tr th {\n",
       "        vertical-align: top;\n",
       "    }\n",
       "\n",
       "    .dataframe thead th {\n",
       "        text-align: right;\n",
       "    }\n",
       "</style>\n",
       "<table border=\"1\" class=\"dataframe\">\n",
       "  <thead>\n",
       "    <tr style=\"text-align: right;\">\n",
       "      <th></th>\n",
       "      <th>Train Score</th>\n",
       "      <th>Bal Train Score</th>\n",
       "      <th>f1 Train Score</th>\n",
       "      <th>Test Score</th>\n",
       "      <th>Bal Test Score</th>\n",
       "      <th>f1 Test score</th>\n",
       "    </tr>\n",
       "  </thead>\n",
       "  <tbody>\n",
       "    <tr>\n",
       "      <th>BernoilliNB</th>\n",
       "      <td>0.917</td>\n",
       "      <td>0.917</td>\n",
       "      <td>0.910076</td>\n",
       "      <td>0.908778</td>\n",
       "      <td>0.908778</td>\n",
       "      <td>0.900352</td>\n",
       "    </tr>\n",
       "    <tr>\n",
       "      <th>MultinominalB</th>\n",
       "      <td>0.867</td>\n",
       "      <td>0.867</td>\n",
       "      <td>0.882197</td>\n",
       "      <td>0.808111</td>\n",
       "      <td>0.808111</td>\n",
       "      <td>0.838372</td>\n",
       "    </tr>\n",
       "  </tbody>\n",
       "</table>\n",
       "</div>"
      ],
      "text/plain": [
       "               Train Score  Bal Train Score  f1 Train Score  Test Score  \\\n",
       "BernoilliNB          0.917            0.917        0.910076    0.908778   \n",
       "MultinominalB        0.867            0.867        0.882197    0.808111   \n",
       "\n",
       "               Bal Test Score  f1 Test score  \n",
       "BernoilliNB          0.908778       0.900352  \n",
       "MultinominalB        0.808111       0.838372  "
      ]
     },
     "execution_count": 73,
     "metadata": {},
     "output_type": "execute_result"
    }
   ],
   "source": [
    "df_scores"
   ]
  },
  {
   "cell_type": "code",
   "execution_count": 74,
   "metadata": {},
   "outputs": [],
   "source": [
    "# quick glance, I found it odd how a bernouilli did worse than a multinominal NB, despite this being a boolean type probem\n",
    "\n",
    "# updated glance, Bernoulli does better, much better balanced test score when we consider a small training set and a massive testing set"
   ]
  },
  {
   "cell_type": "code",
   "execution_count": 75,
   "metadata": {},
   "outputs": [],
   "source": [
    "scores_other, models_other = evaluate_model(other_models, X_train, X_test, y_train, y_test)"
   ]
  },
  {
   "cell_type": "code",
   "execution_count": 76,
   "metadata": {},
   "outputs": [],
   "source": [
    "df_scores_other = pd.DataFrame(scores_other, index=['Train Score', 'Bal Train Score', 'f1 Train Score', \n",
    "                                        'Test Score', 'Bal Test Score', 'f1 Test score'], \n",
    "                         columns=['Logistic','KNN', 'Tree', 'Bagging Tree', 'Extra Tree', 'Random Forest', 'SVC', 'Baseline']).T"
   ]
  },
  {
   "cell_type": "code",
   "execution_count": 77,
   "metadata": {},
   "outputs": [
    {
     "data": {
      "text/html": [
       "<div>\n",
       "<style scoped>\n",
       "    .dataframe tbody tr th:only-of-type {\n",
       "        vertical-align: middle;\n",
       "    }\n",
       "\n",
       "    .dataframe tbody tr th {\n",
       "        vertical-align: top;\n",
       "    }\n",
       "\n",
       "    .dataframe thead th {\n",
       "        text-align: right;\n",
       "    }\n",
       "</style>\n",
       "<table border=\"1\" class=\"dataframe\">\n",
       "  <thead>\n",
       "    <tr style=\"text-align: right;\">\n",
       "      <th></th>\n",
       "      <th>Train Score</th>\n",
       "      <th>Bal Train Score</th>\n",
       "      <th>f1 Train Score</th>\n",
       "      <th>Test Score</th>\n",
       "      <th>Bal Test Score</th>\n",
       "      <th>f1 Test score</th>\n",
       "    </tr>\n",
       "  </thead>\n",
       "  <tbody>\n",
       "    <tr>\n",
       "      <th>Logistic</th>\n",
       "      <td>0.982</td>\n",
       "      <td>0.982</td>\n",
       "      <td>0.981781</td>\n",
       "      <td>0.959667</td>\n",
       "      <td>0.959667</td>\n",
       "      <td>0.958755</td>\n",
       "    </tr>\n",
       "    <tr>\n",
       "      <th>KNN</th>\n",
       "      <td>0.900</td>\n",
       "      <td>0.900</td>\n",
       "      <td>0.908759</td>\n",
       "      <td>0.836556</td>\n",
       "      <td>0.836556</td>\n",
       "      <td>0.858299</td>\n",
       "    </tr>\n",
       "    <tr>\n",
       "      <th>Tree</th>\n",
       "      <td>1.000</td>\n",
       "      <td>1.000</td>\n",
       "      <td>1.000000</td>\n",
       "      <td>0.874111</td>\n",
       "      <td>0.874111</td>\n",
       "      <td>0.878759</td>\n",
       "    </tr>\n",
       "    <tr>\n",
       "      <th>Bagging Tree</th>\n",
       "      <td>0.994</td>\n",
       "      <td>0.994</td>\n",
       "      <td>0.994000</td>\n",
       "      <td>0.920333</td>\n",
       "      <td>0.920333</td>\n",
       "      <td>0.922023</td>\n",
       "    </tr>\n",
       "    <tr>\n",
       "      <th>Extra Tree</th>\n",
       "      <td>1.000</td>\n",
       "      <td>1.000</td>\n",
       "      <td>1.000000</td>\n",
       "      <td>0.963000</td>\n",
       "      <td>0.963000</td>\n",
       "      <td>0.963176</td>\n",
       "    </tr>\n",
       "    <tr>\n",
       "      <th>Random Forest</th>\n",
       "      <td>1.000</td>\n",
       "      <td>1.000</td>\n",
       "      <td>1.000000</td>\n",
       "      <td>0.954889</td>\n",
       "      <td>0.954889</td>\n",
       "      <td>0.954454</td>\n",
       "    </tr>\n",
       "    <tr>\n",
       "      <th>SVC</th>\n",
       "      <td>0.998</td>\n",
       "      <td>0.998</td>\n",
       "      <td>0.997996</td>\n",
       "      <td>0.962667</td>\n",
       "      <td>0.962667</td>\n",
       "      <td>0.961722</td>\n",
       "    </tr>\n",
       "    <tr>\n",
       "      <th>Baseline</th>\n",
       "      <td>0.500</td>\n",
       "      <td>0.500</td>\n",
       "      <td>0.000000</td>\n",
       "      <td>0.500000</td>\n",
       "      <td>0.500000</td>\n",
       "      <td>0.000000</td>\n",
       "    </tr>\n",
       "  </tbody>\n",
       "</table>\n",
       "</div>"
      ],
      "text/plain": [
       "               Train Score  Bal Train Score  f1 Train Score  Test Score  \\\n",
       "Logistic             0.982            0.982        0.981781    0.959667   \n",
       "KNN                  0.900            0.900        0.908759    0.836556   \n",
       "Tree                 1.000            1.000        1.000000    0.874111   \n",
       "Bagging Tree         0.994            0.994        0.994000    0.920333   \n",
       "Extra Tree           1.000            1.000        1.000000    0.963000   \n",
       "Random Forest        1.000            1.000        1.000000    0.954889   \n",
       "SVC                  0.998            0.998        0.997996    0.962667   \n",
       "Baseline             0.500            0.500        0.000000    0.500000   \n",
       "\n",
       "               Bal Test Score  f1 Test score  \n",
       "Logistic             0.959667       0.958755  \n",
       "KNN                  0.836556       0.858299  \n",
       "Tree                 0.874111       0.878759  \n",
       "Bagging Tree         0.920333       0.922023  \n",
       "Extra Tree           0.963000       0.963176  \n",
       "Random Forest        0.954889       0.954454  \n",
       "SVC                  0.962667       0.961722  \n",
       "Baseline             0.500000       0.000000  "
      ]
     },
     "execution_count": 77,
     "metadata": {},
     "output_type": "execute_result"
    }
   ],
   "source": [
    "df_scores_other"
   ]
  },
  {
   "cell_type": "code",
   "execution_count": 78,
   "metadata": {},
   "outputs": [
    {
     "data": {
      "text/html": [
       "<div>\n",
       "<style scoped>\n",
       "    .dataframe tbody tr th:only-of-type {\n",
       "        vertical-align: middle;\n",
       "    }\n",
       "\n",
       "    .dataframe tbody tr th {\n",
       "        vertical-align: top;\n",
       "    }\n",
       "\n",
       "    .dataframe thead th {\n",
       "        text-align: right;\n",
       "    }\n",
       "</style>\n",
       "<table border=\"1\" class=\"dataframe\">\n",
       "  <thead>\n",
       "    <tr style=\"text-align: right;\">\n",
       "      <th></th>\n",
       "      <th>Train Score</th>\n",
       "      <th>Bal Train Score</th>\n",
       "      <th>f1 Train Score</th>\n",
       "      <th>Test Score</th>\n",
       "      <th>Bal Test Score</th>\n",
       "      <th>f1 Test score</th>\n",
       "    </tr>\n",
       "  </thead>\n",
       "  <tbody>\n",
       "    <tr>\n",
       "      <th>Extra Tree</th>\n",
       "      <td>1.000</td>\n",
       "      <td>1.000</td>\n",
       "      <td>1.000000</td>\n",
       "      <td>0.963000</td>\n",
       "      <td>0.963000</td>\n",
       "      <td>0.963176</td>\n",
       "    </tr>\n",
       "    <tr>\n",
       "      <th>SVC</th>\n",
       "      <td>0.998</td>\n",
       "      <td>0.998</td>\n",
       "      <td>0.997996</td>\n",
       "      <td>0.962667</td>\n",
       "      <td>0.962667</td>\n",
       "      <td>0.961722</td>\n",
       "    </tr>\n",
       "    <tr>\n",
       "      <th>Logistic</th>\n",
       "      <td>0.982</td>\n",
       "      <td>0.982</td>\n",
       "      <td>0.981781</td>\n",
       "      <td>0.959667</td>\n",
       "      <td>0.959667</td>\n",
       "      <td>0.958755</td>\n",
       "    </tr>\n",
       "    <tr>\n",
       "      <th>Random Forest</th>\n",
       "      <td>1.000</td>\n",
       "      <td>1.000</td>\n",
       "      <td>1.000000</td>\n",
       "      <td>0.954889</td>\n",
       "      <td>0.954889</td>\n",
       "      <td>0.954454</td>\n",
       "    </tr>\n",
       "    <tr>\n",
       "      <th>Bagging Tree</th>\n",
       "      <td>0.994</td>\n",
       "      <td>0.994</td>\n",
       "      <td>0.994000</td>\n",
       "      <td>0.920333</td>\n",
       "      <td>0.920333</td>\n",
       "      <td>0.922023</td>\n",
       "    </tr>\n",
       "    <tr>\n",
       "      <th>BernoilliNB</th>\n",
       "      <td>0.917</td>\n",
       "      <td>0.917</td>\n",
       "      <td>0.910076</td>\n",
       "      <td>0.908778</td>\n",
       "      <td>0.908778</td>\n",
       "      <td>0.900352</td>\n",
       "    </tr>\n",
       "    <tr>\n",
       "      <th>Tree</th>\n",
       "      <td>1.000</td>\n",
       "      <td>1.000</td>\n",
       "      <td>1.000000</td>\n",
       "      <td>0.874111</td>\n",
       "      <td>0.874111</td>\n",
       "      <td>0.878759</td>\n",
       "    </tr>\n",
       "    <tr>\n",
       "      <th>KNN</th>\n",
       "      <td>0.900</td>\n",
       "      <td>0.900</td>\n",
       "      <td>0.908759</td>\n",
       "      <td>0.836556</td>\n",
       "      <td>0.836556</td>\n",
       "      <td>0.858299</td>\n",
       "    </tr>\n",
       "    <tr>\n",
       "      <th>MultinominalB</th>\n",
       "      <td>0.867</td>\n",
       "      <td>0.867</td>\n",
       "      <td>0.882197</td>\n",
       "      <td>0.808111</td>\n",
       "      <td>0.808111</td>\n",
       "      <td>0.838372</td>\n",
       "    </tr>\n",
       "    <tr>\n",
       "      <th>Baseline</th>\n",
       "      <td>0.500</td>\n",
       "      <td>0.500</td>\n",
       "      <td>0.000000</td>\n",
       "      <td>0.500000</td>\n",
       "      <td>0.500000</td>\n",
       "      <td>0.000000</td>\n",
       "    </tr>\n",
       "  </tbody>\n",
       "</table>\n",
       "</div>"
      ],
      "text/plain": [
       "               Train Score  Bal Train Score  f1 Train Score  Test Score  \\\n",
       "Extra Tree           1.000            1.000        1.000000    0.963000   \n",
       "SVC                  0.998            0.998        0.997996    0.962667   \n",
       "Logistic             0.982            0.982        0.981781    0.959667   \n",
       "Random Forest        1.000            1.000        1.000000    0.954889   \n",
       "Bagging Tree         0.994            0.994        0.994000    0.920333   \n",
       "BernoilliNB          0.917            0.917        0.910076    0.908778   \n",
       "Tree                 1.000            1.000        1.000000    0.874111   \n",
       "KNN                  0.900            0.900        0.908759    0.836556   \n",
       "MultinominalB        0.867            0.867        0.882197    0.808111   \n",
       "Baseline             0.500            0.500        0.000000    0.500000   \n",
       "\n",
       "               Bal Test Score  f1 Test score  \n",
       "Extra Tree           0.963000       0.963176  \n",
       "SVC                  0.962667       0.961722  \n",
       "Logistic             0.959667       0.958755  \n",
       "Random Forest        0.954889       0.954454  \n",
       "Bagging Tree         0.920333       0.922023  \n",
       "BernoilliNB          0.908778       0.900352  \n",
       "Tree                 0.874111       0.878759  \n",
       "KNN                  0.836556       0.858299  \n",
       "MultinominalB        0.808111       0.838372  \n",
       "Baseline             0.500000       0.000000  "
      ]
     },
     "execution_count": 78,
     "metadata": {},
     "output_type": "execute_result"
    }
   ],
   "source": [
    "df_scores_all = pd.concat([df_scores, df_scores_other])\n",
    "df_scores_all.sort_values(by='Test Score', ascending=False)"
   ]
  },
  {
   "cell_type": "code",
   "execution_count": 79,
   "metadata": {},
   "outputs": [],
   "source": [
    "df_scores_all.to_csv('results/scores_all.csv')"
   ]
  },
  {
   "cell_type": "code",
   "execution_count": 80,
   "metadata": {},
   "outputs": [],
   "source": [
    "# sorting it by test accuracy, we can quickly see the best preforming one and visually compare its metrics:\n",
    "\n",
    "# Amazing, SVC scores close to 96 % with a train of 98 %"
   ]
  },
  {
   "cell_type": "code",
   "execution_count": 81,
   "metadata": {},
   "outputs": [],
   "source": [
    "# Just because I am curious, I wonder how it can preform on the entire dataset, where it has seen some of them, but\n",
    "# has not seen close to 95 % of the text data. We need to countvectorize and tifdif it before inputting but that's okay"
   ]
  },
  {
   "cell_type": "code",
   "execution_count": 82,
   "metadata": {},
   "outputs": [],
   "source": [
    "# This Portion is Optional, and the results say the exact same thing"
   ]
  },
  {
   "cell_type": "markdown",
   "metadata": {},
   "source": [
    "![results](assets/df_all_results.png)"
   ]
  },
  {
   "cell_type": "code",
   "execution_count": 83,
   "metadata": {},
   "outputs": [],
   "source": [
    "'''\n",
    "cv_all = CountVectorizer(stop_words='english', lowercase=True, max_df=0.5, decode_error='ignore',)\n",
    "matrix_all = cv_all.fit_transform(df_all['selftext'])\n",
    "freqs_all = zip(cv_all.get_feature_names(), matrix_all.sum(axis=0).tolist()[0])\n",
    "''';"
   ]
  },
  {
   "cell_type": "code",
   "execution_count": 84,
   "metadata": {},
   "outputs": [],
   "source": [
    "#X_all = tf_transformer_fwp.fit_transform(matrix_all)"
   ]
  },
  {
   "cell_type": "code",
   "execution_count": 85,
   "metadata": {},
   "outputs": [],
   "source": [
    "#X_all.shape"
   ]
  },
  {
   "cell_type": "code",
   "execution_count": 86,
   "metadata": {},
   "outputs": [],
   "source": [
    "#y_all = df_all['subreddit']"
   ]
  },
  {
   "cell_type": "code",
   "execution_count": 87,
   "metadata": {},
   "outputs": [],
   "source": [
    "#y_all.shape"
   ]
  },
  {
   "cell_type": "code",
   "execution_count": 88,
   "metadata": {},
   "outputs": [],
   "source": [
    "#X_all.shape[0] * 0.015"
   ]
  },
  {
   "cell_type": "code",
   "execution_count": 89,
   "metadata": {},
   "outputs": [],
   "source": [
    "#X_train_all, X_test_all, y_train_all, y_test_all = train_test_split(X_all, y_all, stratify=y_all, train_size=0.015)"
   ]
  },
  {
   "cell_type": "code",
   "execution_count": 90,
   "metadata": {},
   "outputs": [],
   "source": [
    "#X_train_all.shape"
   ]
  },
  {
   "cell_type": "code",
   "execution_count": 91,
   "metadata": {},
   "outputs": [],
   "source": [
    "#X_test_all.shape"
   ]
  },
  {
   "cell_type": "code",
   "execution_count": 92,
   "metadata": {},
   "outputs": [],
   "source": [
    "# THIS WILL TAKE 30 ISH MINUTES TO RUN BE WARNED"
   ]
  },
  {
   "cell_type": "code",
   "execution_count": 93,
   "metadata": {},
   "outputs": [],
   "source": [
    "#scores, models = evaluate_model([BernoulliNB(),SVC()], X_train_all, X_test_all, y_train_all, y_test_all)"
   ]
  },
  {
   "cell_type": "code",
   "execution_count": 94,
   "metadata": {},
   "outputs": [],
   "source": [
    "'''\n",
    "df_scores_all_data = pd.DataFrame(scores, index=['Train Score', 'Bal Train Score', 'f1 Train Score', \n",
    "                                        'Test Score', 'Bal Test Score', 'f1 Test score'], \n",
    "                         columns=['Bernoulli-all','SVC-all']).T\n",
    "''';"
   ]
  },
  {
   "cell_type": "code",
   "execution_count": 95,
   "metadata": {},
   "outputs": [],
   "source": [
    "#df_scores_all_data"
   ]
  },
  {
   "cell_type": "code",
   "execution_count": 96,
   "metadata": {},
   "outputs": [],
   "source": [
    "# Let's explore the effect of lemmatizing with these two well preforming models\n",
    "# We need to beat..... 96 % accuracy in our Test and balanced test scorer"
   ]
  },
  {
   "cell_type": "code",
   "execution_count": 18,
   "metadata": {},
   "outputs": [],
   "source": [
    "# I get an out of memory error (16GB RAM), so from this point I reimport the functions and reload the samples saved above from disk"
   ]
  },
  {
   "cell_type": "code",
   "execution_count": 1,
   "metadata": {},
   "outputs": [],
   "source": [
    "import numpy as np\n",
    "import pandas as pd\n",
    "import spacy as sp\n",
    "import missingno as msno\n",
    "from pathlib import Path\n",
    "\n",
    "# Text Processing for SkLearn\n",
    "from sklearn.feature_extraction.text import CountVectorizer, TfidfVectorizer, TfidfTransformer\n",
    "from sklearn.model_selection import train_test_split\n",
    "\n",
    "# Bayes for two classifiers\n",
    "from sklearn.naive_bayes import BernoulliNB, MultinomialNB\n",
    "\n",
    "# other classifiers\n",
    "from sklearn.linear_model import LogisticRegression\n",
    "from sklearn.neighbors import KNeighborsClassifier\n",
    "from sklearn.tree import DecisionTreeClassifier\n",
    "from sklearn.ensemble import BaggingClassifier, ExtraTreesClassifier, RandomForestClassifier, VotingClassifier\n",
    "from sklearn.svm import SVC, LinearSVC\n",
    "from sklearn.dummy import DummyClassifier\n",
    "\n",
    "# some metrics\n",
    "from sklearn.metrics import balanced_accuracy_score, f1_score, roc_auc_score\n",
    "\n",
    "# visuals\n",
    "import matplotlib.pyplot as plt\n",
    "import seaborn as sns"
   ]
  },
  {
   "cell_type": "code",
   "execution_count": 2,
   "metadata": {},
   "outputs": [],
   "source": [
    "from nltk.tokenize import sent_tokenize, word_tokenize\n",
    "from nltk.tokenize import RegexpTokenizer\n",
    "from nltk.stem import WordNetLemmatizer\n",
    "from nltk.corpus import stopwords\n",
    "lemmatizer = WordNetLemmatizer()"
   ]
  },
  {
   "cell_type": "code",
   "execution_count": 3,
   "metadata": {},
   "outputs": [],
   "source": [
    "bayesian_models = [BernoulliNB(), MultinomialNB()]"
   ]
  },
  {
   "cell_type": "code",
   "execution_count": 4,
   "metadata": {},
   "outputs": [],
   "source": [
    "other_models = [LogisticRegression(max_iter=100_000), \n",
    "                KNeighborsClassifier(n_jobs=7), \n",
    "                DecisionTreeClassifier(), \n",
    "                BaggingClassifier(), \n",
    "                ExtraTreesClassifier(), \n",
    "                RandomForestClassifier(),\n",
    "                SVC(),\n",
    "                DummyClassifier(strategy='most_frequent')]"
   ]
  },
  {
   "cell_type": "code",
   "execution_count": 5,
   "metadata": {},
   "outputs": [],
   "source": [
    "def evaluate_model(model_list, X_train, X_test, y_train, y_test):\n",
    "    '''\n",
    "    This is a list of list comprehensions to find all the metrics and evaluate the classification\n",
    "    \n",
    "    fitted list: output a list of the fitted models\n",
    "    accuracy scores: baseline metric; what was classified corectly and what wasn't\n",
    "    bal accuracy: used to consider when the dataset needs to be stratified for unbalanced datasets\n",
    "    f1_train, balance of considering precision and recall: I thought it good to have to interpert\n",
    "    '''\n",
    "    fitted_list = [i.fit(X_train, y_train) for i in model_list]\n",
    "    train_scores = [i.score(X_train, y_train) for i in fitted_list]\n",
    "    bal_train_acc = [balanced_accuracy_score(y_train, i.predict(X_train)) for i in fitted_list]\n",
    "    f1_train_scores = [f1_score(y_train, i.predict(X_train), pos_label='nosleep') for i in fitted_list]\n",
    "    \n",
    "    test_scores = [i.score(X_test, y_test) for i in fitted_list]\n",
    "    bal_test_acc = [balanced_accuracy_score(y_test, i.predict(X_test)) for i in fitted_list]\n",
    "    f1_test_scores = [f1_score(y_test, i.predict(X_test), pos_label='nosleep') for i in fitted_list]\n",
    "    return [train_scores, bal_train_acc, f1_train_scores,\n",
    "            test_scores, bal_test_acc, f1_test_scores,], fitted_list"
   ]
  },
  {
   "cell_type": "code",
   "execution_count": 6,
   "metadata": {},
   "outputs": [],
   "source": [
    "df_all_simple = pd.read_csv('results/10_000_samples.csv', index_col=0)"
   ]
  },
  {
   "cell_type": "code",
   "execution_count": 7,
   "metadata": {},
   "outputs": [
    {
     "data": {
      "text/html": [
       "<div>\n",
       "<style scoped>\n",
       "    .dataframe tbody tr th:only-of-type {\n",
       "        vertical-align: middle;\n",
       "    }\n",
       "\n",
       "    .dataframe tbody tr th {\n",
       "        vertical-align: top;\n",
       "    }\n",
       "\n",
       "    .dataframe thead th {\n",
       "        text-align: right;\n",
       "    }\n",
       "</style>\n",
       "<table border=\"1\" class=\"dataframe\">\n",
       "  <thead>\n",
       "    <tr style=\"text-align: right;\">\n",
       "      <th></th>\n",
       "      <th>selftext</th>\n",
       "      <th>subreddit</th>\n",
       "    </tr>\n",
       "  </thead>\n",
       "  <tbody>\n",
       "    <tr>\n",
       "      <th>85280</th>\n",
       "      <td>A classmate and I have been working on a tech ...</td>\n",
       "      <td>legaladvice</td>\n",
       "    </tr>\n",
       "    <tr>\n",
       "      <th>91583</th>\n",
       "      <td>What are they thinking, is this even legal? Pe...</td>\n",
       "      <td>legaladvice</td>\n",
       "    </tr>\n",
       "    <tr>\n",
       "      <th>62558</th>\n",
       "      <td>So I just got scammed and sextorated on Line a...</td>\n",
       "      <td>legaladvice</td>\n",
       "    </tr>\n",
       "    <tr>\n",
       "      <th>24233</th>\n",
       "      <td>We have recently moved out of the place we ren...</td>\n",
       "      <td>legaladvice</td>\n",
       "    </tr>\n",
       "    <tr>\n",
       "      <th>37260</th>\n",
       "      <td>This guy has been knocking on my door every fe...</td>\n",
       "      <td>legaladvice</td>\n",
       "    </tr>\n",
       "  </tbody>\n",
       "</table>\n",
       "</div>"
      ],
      "text/plain": [
       "                                                selftext    subreddit\n",
       "85280  A classmate and I have been working on a tech ...  legaladvice\n",
       "91583  What are they thinking, is this even legal? Pe...  legaladvice\n",
       "62558  So I just got scammed and sextorated on Line a...  legaladvice\n",
       "24233  We have recently moved out of the place we ren...  legaladvice\n",
       "37260  This guy has been knocking on my door every fe...  legaladvice"
      ]
     },
     "execution_count": 7,
     "metadata": {},
     "output_type": "execute_result"
    }
   ],
   "source": [
    "df_all_simple.head()"
   ]
  },
  {
   "cell_type": "code",
   "execution_count": 8,
   "metadata": {},
   "outputs": [
    {
     "data": {
      "text/plain": [
       "nosleep        5000\n",
       "legaladvice    5000\n",
       "Name: subreddit, dtype: int64"
      ]
     },
     "execution_count": 8,
     "metadata": {},
     "output_type": "execute_result"
    }
   ],
   "source": [
    "df_all_simple['subreddit'].value_counts()"
   ]
  },
  {
   "cell_type": "code",
   "execution_count": 9,
   "metadata": {},
   "outputs": [],
   "source": [
    "# Before lemmatizing, we'll need to tokenize our text so it can be processed"
   ]
  },
  {
   "cell_type": "code",
   "execution_count": 10,
   "metadata": {},
   "outputs": [
    {
     "data": {
      "text/plain": [
       "'A classmate and I have been working on a tech company for the past 10 months. I came up with the idea and have taken on all business roles for the company. He is a systems engineer. He’s built out most of the actual software. Problem is that we’re pretty good friends and have mutually agreed that a fifty fifty split would be fair in the past. Now, we’ve both agreed that equity should not be split fifty fifty because of potential future disagreements in the future there needs to be a clear decision maker. I brought it up, and he agrees. What’s the best route for determining current equity stakes, especially if we think we will bring on two more people before raising our first round?'"
      ]
     },
     "execution_count": 10,
     "metadata": {},
     "output_type": "execute_result"
    }
   ],
   "source": [
    "# Use this one for testing\n",
    "df_all_simple.iloc[0]['selftext']"
   ]
  },
  {
   "cell_type": "code",
   "execution_count": 11,
   "metadata": {},
   "outputs": [
    {
     "data": {
      "text/plain": [
       "['a classmate and i have been working on a tech company for the past 10 months.',\n",
       " 'i came up with the idea and have taken on all business roles for the company.',\n",
       " 'he is a systems engineer.',\n",
       " 'he’s built out most of the actual software.',\n",
       " 'problem is that we’re pretty good friends and have mutually agreed that a fifty fifty split would be fair in the past.',\n",
       " 'now, we’ve both agreed that equity should not be split fifty fifty because of potential future disagreements in the future there needs to be a clear decision maker.',\n",
       " 'i brought it up, and he agrees.',\n",
       " 'what’s the best route for determining current equity stakes, especially if we think we will bring on two more people before raising our first round?']"
      ]
     },
     "execution_count": 11,
     "metadata": {},
     "output_type": "execute_result"
    }
   ],
   "source": [
    "# Lowercase the sentence\n",
    "sent_tokenize(df_all_simple.iloc[0]['selftext'].lower())"
   ]
  },
  {
   "cell_type": "code",
   "execution_count": 12,
   "metadata": {},
   "outputs": [],
   "source": [
    "token_sentence = [sent_tokenize(i.lower()) for i in df_all_simple['selftext']]"
   ]
  },
  {
   "cell_type": "code",
   "execution_count": 13,
   "metadata": {},
   "outputs": [
    {
     "data": {
      "text/plain": [
       "['a classmate and i have been working on a tech company for the past 10 months.',\n",
       " 'i came up with the idea and have taken on all business roles for the company.',\n",
       " 'he is a systems engineer.',\n",
       " 'he’s built out most of the actual software.',\n",
       " 'problem is that we’re pretty good friends and have mutually agreed that a fifty fifty split would be fair in the past.',\n",
       " 'now, we’ve both agreed that equity should not be split fifty fifty because of potential future disagreements in the future there needs to be a clear decision maker.',\n",
       " 'i brought it up, and he agrees.',\n",
       " 'what’s the best route for determining current equity stakes, especially if we think we will bring on two more people before raising our first round?']"
      ]
     },
     "execution_count": 13,
     "metadata": {},
     "output_type": "execute_result"
    }
   ],
   "source": [
    "token_sentence[0]"
   ]
  },
  {
   "cell_type": "code",
   "execution_count": 14,
   "metadata": {},
   "outputs": [],
   "source": [
    "# alright cool, let's split up each word into a list\n",
    "tokenizer = RegexpTokenizer(r'\\w+')"
   ]
  },
  {
   "cell_type": "code",
   "execution_count": 15,
   "metadata": {},
   "outputs": [
    {
     "data": {
      "text/plain": [
       "['a', 'classmate', 'and', 'i', 'have', 'been', 'working', 'on', 'a', 'tech']"
      ]
     },
     "execution_count": 15,
     "metadata": {},
     "output_type": "execute_result"
    }
   ],
   "source": [
    "tokenizer.tokenize(df_all_simple.iloc[0]['selftext'].lower())[:10]"
   ]
  },
  {
   "cell_type": "code",
   "execution_count": 16,
   "metadata": {},
   "outputs": [],
   "source": [
    "token_text = [tokenizer.tokenize(i.lower()) for i in df_all_simple['selftext']]"
   ]
  },
  {
   "cell_type": "code",
   "execution_count": 17,
   "metadata": {},
   "outputs": [
    {
     "data": {
      "text/plain": [
       "['what',\n",
       " 'are',\n",
       " 'they',\n",
       " 'thinking',\n",
       " 'is',\n",
       " 'this',\n",
       " 'even',\n",
       " 'legal',\n",
       " 'people',\n",
       " 'could',\n",
       " 'lose',\n",
       " 'their',\n",
       " 'jobs',\n",
       " 'because',\n",
       " 'of',\n",
       " 'this']"
      ]
     },
     "execution_count": 17,
     "metadata": {},
     "output_type": "execute_result"
    }
   ],
   "source": [
    "token_text[1]"
   ]
  },
  {
   "cell_type": "code",
   "execution_count": 18,
   "metadata": {},
   "outputs": [
    {
     "data": {
      "text/plain": [
       "'a'"
      ]
     },
     "execution_count": 18,
     "metadata": {},
     "output_type": "execute_result"
    }
   ],
   "source": [
    "lemmatizer.lemmatize(token_text[0][0])"
   ]
  },
  {
   "cell_type": "code",
   "execution_count": 19,
   "metadata": {},
   "outputs": [],
   "source": [
    "# Now we can lemmatize the text!\n",
    "# my usual approach of a list of lists makes things complicated sometimes"
   ]
  },
  {
   "cell_type": "code",
   "execution_count": 20,
   "metadata": {},
   "outputs": [],
   "source": [
    "lemma_text = [[lemmatizer.lemmatize(j) for j in i] for i in token_text]"
   ]
  },
  {
   "cell_type": "code",
   "execution_count": 21,
   "metadata": {},
   "outputs": [
    {
     "data": {
      "text/plain": [
       "['a',\n",
       " 'classmate',\n",
       " 'and',\n",
       " 'i',\n",
       " 'have',\n",
       " 'been',\n",
       " 'working',\n",
       " 'on',\n",
       " 'a',\n",
       " 'tech',\n",
       " 'company',\n",
       " 'for',\n",
       " 'the',\n",
       " 'past',\n",
       " '10',\n",
       " 'month',\n",
       " 'i',\n",
       " 'came',\n",
       " 'up',\n",
       " 'with',\n",
       " 'the',\n",
       " 'idea',\n",
       " 'and',\n",
       " 'have',\n",
       " 'taken',\n",
       " 'on',\n",
       " 'all',\n",
       " 'business',\n",
       " 'role',\n",
       " 'for',\n",
       " 'the',\n",
       " 'company',\n",
       " 'he',\n",
       " 'is',\n",
       " 'a',\n",
       " 'system',\n",
       " 'engineer',\n",
       " 'he',\n",
       " 's',\n",
       " 'built',\n",
       " 'out',\n",
       " 'most',\n",
       " 'of',\n",
       " 'the',\n",
       " 'actual',\n",
       " 'software',\n",
       " 'problem',\n",
       " 'is',\n",
       " 'that',\n",
       " 'we',\n",
       " 're',\n",
       " 'pretty',\n",
       " 'good',\n",
       " 'friend',\n",
       " 'and',\n",
       " 'have',\n",
       " 'mutually',\n",
       " 'agreed',\n",
       " 'that',\n",
       " 'a',\n",
       " 'fifty',\n",
       " 'fifty',\n",
       " 'split',\n",
       " 'would',\n",
       " 'be',\n",
       " 'fair',\n",
       " 'in',\n",
       " 'the',\n",
       " 'past',\n",
       " 'now',\n",
       " 'we',\n",
       " 've',\n",
       " 'both',\n",
       " 'agreed',\n",
       " 'that',\n",
       " 'equity',\n",
       " 'should',\n",
       " 'not',\n",
       " 'be',\n",
       " 'split',\n",
       " 'fifty',\n",
       " 'fifty',\n",
       " 'because',\n",
       " 'of',\n",
       " 'potential',\n",
       " 'future',\n",
       " 'disagreement',\n",
       " 'in',\n",
       " 'the',\n",
       " 'future',\n",
       " 'there',\n",
       " 'need',\n",
       " 'to',\n",
       " 'be',\n",
       " 'a',\n",
       " 'clear',\n",
       " 'decision',\n",
       " 'maker',\n",
       " 'i',\n",
       " 'brought',\n",
       " 'it',\n",
       " 'up',\n",
       " 'and',\n",
       " 'he',\n",
       " 'agrees',\n",
       " 'what',\n",
       " 's',\n",
       " 'the',\n",
       " 'best',\n",
       " 'route',\n",
       " 'for',\n",
       " 'determining',\n",
       " 'current',\n",
       " 'equity',\n",
       " 'stake',\n",
       " 'especially',\n",
       " 'if',\n",
       " 'we',\n",
       " 'think',\n",
       " 'we',\n",
       " 'will',\n",
       " 'bring',\n",
       " 'on',\n",
       " 'two',\n",
       " 'more',\n",
       " 'people',\n",
       " 'before',\n",
       " 'raising',\n",
       " 'our',\n",
       " 'first',\n",
       " 'round']"
      ]
     },
     "execution_count": 21,
     "metadata": {},
     "output_type": "execute_result"
    }
   ],
   "source": [
    "lemma_text[0]"
   ]
  },
  {
   "cell_type": "code",
   "execution_count": 22,
   "metadata": {},
   "outputs": [],
   "source": [
    "# Let's see one\n",
    "processed_lemma_text = [' '.join(lemma_text[i]) for i in range(len(lemma_text))]"
   ]
  },
  {
   "cell_type": "code",
   "execution_count": 23,
   "metadata": {},
   "outputs": [
    {
     "data": {
      "text/plain": [
       "'a classmate and i have been working on a tech company for the past 10 month i came up with the idea and have taken on all business role for the company he is a system engineer he s built out most of the actual software problem is that we re pretty good friend and have mutually agreed that a fifty fifty split would be fair in the past now we ve both agreed that equity should not be split fifty fifty because of potential future disagreement in the future there need to be a clear decision maker i brought it up and he agrees what s the best route for determining current equity stake especially if we think we will bring on two more people before raising our first round'"
      ]
     },
     "execution_count": 23,
     "metadata": {},
     "output_type": "execute_result"
    }
   ],
   "source": [
    "processed_lemma_text[0]"
   ]
  },
  {
   "cell_type": "code",
   "execution_count": 24,
   "metadata": {},
   "outputs": [],
   "source": [
    "# Comparing it to the orignal"
   ]
  },
  {
   "cell_type": "code",
   "execution_count": 25,
   "metadata": {},
   "outputs": [
    {
     "data": {
      "text/plain": [
       "'A classmate and I have been working on a tech company for the past 10 months. I came up with the idea and have taken on all business roles for the company. He is a systems engineer. He’s built out most of the actual software. Problem is that we’re pretty good friends and have mutually agreed that a fifty fifty split would be fair in the past. Now, we’ve both agreed that equity should not be split fifty fifty because of potential future disagreements in the future there needs to be a clear decision maker. I brought it up, and he agrees. What’s the best route for determining current equity stakes, especially if we think we will bring on two more people before raising our first round?'"
      ]
     },
     "execution_count": 25,
     "metadata": {},
     "output_type": "execute_result"
    }
   ],
   "source": [
    "df_all_simple.iloc[0]['selftext']"
   ]
  },
  {
   "cell_type": "code",
   "execution_count": 173,
   "metadata": {},
   "outputs": [
    {
     "data": {
      "text/plain": [
       "' \\n\\nI\\'m the type of person who likes going on long walks. I\\'m not the kind of person who will go out when it\\'s dark and nobody is around. At least not usually. But for the month of October and September, I like to go out at midnight to look at the decorations. Not many people are out during that time, so it adds to the creepy factor. If I\\'m being honest, they were kind of a mixed bag. Some just got cheaply made inflatables from Walmart. And others completely decked out there houses for the holiday. Usually, most of the decorated houses I saw fell in between the two.\\n\\nI had gotten to the end of my neighborhood when I noticed something unusual. The house at the end was covered in Halloween decorations. You\\'re probably wondering why that\\'s unusual. Well, it\\'s because that house had been abandoned for years. It had been that way ever since I moved to the neighborhood. It was a nice-looking house. So, I found it odd that nobody wanted to live in it. I would have. But I didn\\'t know about it until after I moved in. Which bummed out at the time. Because it was much cheaper than what I\\'d end up paying in rent. Unfortunately, I had signed a lease. Which meant I wasn\\'t able to move to it. Even though I wanted to. However looking back, I see that I was actually fortunate not to have lived there.\\n\\nI did some research and found out that a family had went missing there. It was a family of four. Dad, daughter, mom, and Son. At first, I thought that maybe they had moved. And didn\\'t want anybody to know about it. But I read that the neighbors who talked with them only days before they disappeared. And they said that they seemed fine. So for them to just up and leave was strange. That all happened two years before I moved to the neighborhood. And during those two years, I hadn\\'t noticed anyone going anywhere near the house. In fact, they seemed nervous passing by it. I passed it on my walks. And while I did get weird feelings passing by, I never felt nervous.\\n\\nI thought about going up to it and trying to peek inside. But I was pretty sure that\\'d be trespassing. But now,  I was looking at it covered in Halloween decorations. I was out last night. And had passed it this morning. During those times, I hadn\\'t seen anyone setting anything up. Plus, who the Hell would do it anyway? Everyone was afraid of the place.\\n\\nLike I said, the place didn\\'t creep me out before. However, it started to then. Lifelike, was how I\\'d describe them. There were skeletons hanging from the yard\\'s tree. For a moment I thought they were real. And while they did look very convincing, upon further inspection, I realized they were fake. The house itself was covered in cobwebs, lights, and spiders. And there was a sign on the front door. But it was too far away to read. Some of the cobwebs were covered in what I thought was fake blood at the time. In my opinion, it looked a little corny. But I could tell, whoever had decorated it, had put a lot of effort into it. Which I respected. However, one decoration in particular really creeped me out.\\n\\nThat was the lawn decorations. Many mangled looking zombies stood with their backs turned. And hunched over. As if they were about to tear into someone. Curious, I went over to look. And who they were trying to get at, shocked me. In the center were decorations that looked like the family that had gone missing. Their faces conveyed absolute terror. Even though they had gone missing over two years ago, I still found this to be in bad taste. \\n\\nI was about to leave when I noticed what the sign on the door said. It read,\" Haunted house, enter if you dare.\"\\n\\n\" Really? Is that the best they could come up with?\" I thought.\\n\\nStill, I figured I could at least humor them. I tried the doorknob. And found that it was unlocked. Since the sign was up, I figured that they must have finished decorating. And that it was okay to go inside. I pushed the door open to find that the inside of the house was decorated similar to the outside. The main difference was where how the decorations were placed. Some stood on both sides of me. And others hung from the ceiling. All of them seemed to glare at me with the most hateful expressions I had ever seen. I was genuinely impressed.\\n\\n\" So, is this supposed to be one of those maze deals? And where are the people at? Shouldn\\'t there be actors here or something?\" I wondered as I walked through it.\\n\\nA few minutes in, I noticed something that was off. The inside of the house seemed to be larger than the outside. I hadn\\'t rounded many corners. So I wasn\\'t going in circles if that\\'s what you are thinking. However, it was like the house was getting bigger the longer I spent in it. Soon I began to think that I\\'d spent a little too much time here. And seeing that it was late. And that I had to work in the morning, I turned around to head home. I thought that it\\'d be a simple matter of heading back the way I came to find the front door,\\n\\nHowever, no matter how far I walked, I couldn\\'t get to the front door.\\n\\n\" What in the hell?\" I thought.\\n\\nI stopped to rest and consider my options. I could try to keep heading back. Which didn\\'t seem to be working. Or, I could try to find the back door. It was when I was deciding between these two options, that I realized something, the decorations were no longer where they had been before. While I was sitting, they looked as if they had moved closer. For a moment, I grew afraid. Until a thought passed my mind.\\n\\n\" Of course, these \"decorations\" must be the actors!\"\\n\\nMy fear subsided as I approached. I began telling what I thought were actors, how they got me. And how spooked I was. I also asked them how to get out. And how they managed to pull off making the house seem bigger on the inside. But, instead of a response, they continued to glare at me with those same hateful expressions. I began to grow annoyed. And repeated that I needed to know how to get out. They just kept looking at me. I figured that they must be taking their roles too seriously. I wondered if I should try shaking one to get them to break character. However, something told me that wouldn\\'t be a smart idea.\\n\\nI decided that I should try to solve the house as quickly as possible. If that didn\\'t work, I\\'d just try a window. Which I would have sooner. But I didn\\'t see any.\\n\\nTen minutes of walking took me to the kitchen. Where at last, I saw some windows. Unfortunately, they wouldn\\'t open. \\n\\n\" Great..\" I thought.\\n\\nI considered breaking it. Then thought that\\'d be overreacting. After all, I wasn\\'t really in danger at that point. But I was hungry. I checked the fridge on the off chance that there\\'d be some food for the actors. The only food I found was a bag of candy. Which I know wasn\\'t healthy. But I was hungry. While I ate some of it, I considered what I should do next. I had passed some doors before. However, I didn\\'t think they\\'d lead to any exits. I was considering the idea then, though. I pocketed as much of the candy I could. Then headed out of the kitchen, where I was met with a shock.\\n\\nThe \" actors\" were waiting outside.\\n\\nI rolled my eyes, \" Oh yeah, real mature.\"\\n\\nI tried walking past them. But one grabbed me. Irritated, I asked if they were finally willing to drop the act. And show me the way out. They just kept glaring at me. And the one who was holding me\\'s grip tightened. Thing is, the grip felt solid. Like stone. My wrist started to ache the harder he or I should say it, squeezed.\\n\\n\" Let me go!\" I shouted, trying to pull free. But it wouldn\\'t budge.\\n\\nI started panicking, trying to find a way to get free. I felt my wrist start to crack. And the pain was nearly unbearable. It went on like this for several seconds. Until my eyes fell on a switch hanging from the ceiling.\\n\\n\" The attic door? When in the fuck did I go upstairs?\" I wondered.\\n\\nI quickly pushed the thought out of my mind. And grabbed the switch. I\\'m tall. So reaching it wasn\\'t a problem. I pulled it hard, almost breaking it. I ducked as the door came down. It slammed the \" actor\" in the head, causing him to release me. I ran past the others before they could grab me. My first thought was to find some stairs. But  I was unsuccessful. On top of that, those things were chasing me.\\n\\n\" How the fuck do I get out of here?!\" I thought.\\n\\nEvery room I searched had more of those things in them. Soon, they were coming out of the rooms, chasing after me. Shortly after I was surrounded. And thought my fate was sealed. That is until I heard a voice tell them to stop. I looked to see the family, the one that went missing standing past them.\\n\\n\" What is going on?!\" I demanded.\\n\\n\" How did you get in here?\" The mom asked, in response.\\n\\nI was irritated that my question wasn\\'t being answered. But I explained to them how I came into my current predicament.\\n\\n\" We see. How unfortunate,\" The dad said.\\n\\n\" How? You guys have been missing for over two years! This is great! Everyone will be relieved to see you guys are safe!\"\\n\\n\" We wish that were the case. We really do...But we can never leave here. I\\'m sure you saw the decorations that looked like us, correct?\"\\n\\n\" Yeah..\"\\n\\n\" Well, they were us at one time.\"\\n\\n\" What..happened?\"\\n\\n\" We\\'ll tell you. Did you know that we used to have the best-decorated house for Halloween?\"\\n\\nI shook my head,\" Nothing ever mentioned that.\"\\n\\n\" Well, it\\'s true. For ten years we were number one. \"\\n\\n\" Oh yeah. The Halloween decoration competition.\"\\n\\nHe nodded.\" Yes. We were on top until four years ago. New people came arrived in the neighborhood. And their decorations outshined ours. We tried keeping up. But we just couldn\\'t. We ended up in dead last for two years in a row. We decided that we couldn\\'t let it happen again. No matter again.\"\\n\\n\" I\\'m starting to think you guys overreacted. I mean, it\\'s cool to be number one at something like this. But it\\'s not that big of a deal.\"\\n\\n\" To us it was...It\\'s something our family took pride in.\"\\n\\n\" So, what\\'s with the decorations? Why did they attack me?\"\\n\\n\" They are cursed. We found them at an old antique shop.\"\\n\\n\" And nobody told you they were cursed?\"\\n\\n\" Not a word. We did find it odd that they gave us such a good deal on them. But, we were so eager for some good decorations to show everyone up that we didn\\'t think much of it.\"\\n\\n\" What happened after you got them?\"\\n\\n\" Nothing at first. However, a few days after we got them, we noticed strange things happening. They\\'d never be where we left them. We found this odd. But didn\\'t think much of it. We just figured that one of us had been moving them. And not telling the others. Or forgetting to. Then one night, our kids claimed they saw them move. I didn\\'t believe them at first. That is until My wife and I saw them move with our own eyes. We attempted to escape. But couldn\\'t because of how the house changed. Whatever curse had been  brought with the decorations, had seeped into our home. And it would not let us escape. I wish I believed my kids. We might have been able to escape.\"\\n\\n\" What did they do you all?\"\\n\\nThe mom spoke again,\" They killed us, ripped us apart. Now, we are part of the decorations.\"\\n\\n\" Really? Because you look fine to me.\"\\n\\nThey lifted their shirts some to reveal gaping wounds on their stomachs. The mom motioned for the kids to turn around and I saw that the back of their heads had been smashed in. My blood ran cold when I saw this.\\n\\n\" Now we can\\'t ever leave..\" The mom said.\\n\\n\" Look, I\\'m really sorry about all that. But can you tell me how to get out?\"\\n\\nShe shook her head. \" You can\\'t leave either. We need you.\"\\n\\n\" Fuck no! Let me out!\"\\n\\n\" You see, the reason we stopped them from killing you, is so we could. After our deaths, we saw things beyond the grave. And found out that we just needed someone to take our place. Everyone just avoided our house. Until you came along. Thank you for that. So now, we just have to kill you ourselves. Otherwise, we\\'ll all be stuck here. And we wouldn\\'t want that,\" She smiled.\\n\\nI bolted. I heard them giving orders to the decorations to capture me. Before long, I heard them running behind me. I had no idea what to do. So I just dashed into the closest room, hoping it\\'d be free of those things. I found myself back in the kitchen. And heard that they were close by.\\n\\n\" Don\\'t resist. It won\\'t hurt as much...\" I heard the mom call. \\n\\nI scrambled to find something I could use to break the window. But I couldn\\'t find anything. That is until I searched the cabinets. I found a wrench that must\\'ve been left behind. I wasted no time in smashing the window with it. Just as they came in. The family was at the front.\\n\\n\" No! Don\\'t go!\" The dad yelled.\\n\\n\" We can\\'t stay here!\" The mom said. \" Grab him!\"\\n\\nI leaped out of the window just as they tried to grab at me. I landed hard on the lawn. Thankfully, it was on the first floor. So, other than some cuts, I didn\\'t sustain any injuries. I shakily got to my feet. And heard someone yelling at me.\\n\\n\" What the hell are you doing?!\" A man yelled at me.\\n\\n\" Huh?\" I asked confused.\\n\\n\" That haunted house wasn\\'t ready yet! Why did you go in?!\"\\n\\n\" I saw a sign saying that I should enter...Who are you?\"\\n\\nHe explained that he was a haunted house enthusiast and loved making his home. Apparently he had it decorated earlier today. Impressive he was able to get it done in such a short time period. I\\'m guessing that he had a lot of help.\\n\\n\" Wait. Since you were in there, how would you rate it?\"\\n\\n\" Ten out of ten,\" I replied. Then went home without another word.\\n\\n[After my lease is up, I\\'m going to move as far away as possible from that house.](https://discord.gg/XhHyMW)\\n\\n[As I post this, I want to give you all a word of advice. If you see people avoiding a place, it may be for a damn good reason.](https://www.reddit.com/user/RoseBlack2222)'"
      ]
     },
     "execution_count": 173,
     "metadata": {},
     "output_type": "execute_result"
    }
   ],
   "source": [
    "df_all_simple.iloc[-1]['selftext']"
   ]
  },
  {
   "cell_type": "code",
   "execution_count": 26,
   "metadata": {},
   "outputs": [],
   "source": [
    "# In the case of lemmatizing, we are taking each word and reducing them down to their base form in an attempt to extract the overall\n",
    "# meaning of the word, so that a set of 3 words ex: (creep, creepy, creeper), would have the same impact in helping us classify\n",
    "# their origin"
   ]
  },
  {
   "cell_type": "code",
   "execution_count": 27,
   "metadata": {},
   "outputs": [],
   "source": [
    "# After lemmatizing, let's plug this back into the count vectorizer and see what comes out so we can have a couple of models to compare"
   ]
  },
  {
   "cell_type": "code",
   "execution_count": 28,
   "metadata": {},
   "outputs": [],
   "source": [
    "cv_lemma = CountVectorizer(stop_words='english', lowercase=True, max_df=0.5, decode_error='ignore',)\n",
    "matrix_lemma = cv_lemma.fit_transform(processed_lemma_text)\n",
    "freqs_lemma = zip(cv_lemma.get_feature_names(), matrix_lemma.sum(axis=0).tolist()[0])  "
   ]
  },
  {
   "cell_type": "code",
   "execution_count": 29,
   "metadata": {},
   "outputs": [],
   "source": [
    "df_words_lemma = pd.DataFrame(freqs_lemma, columns=['word','count'])"
   ]
  },
  {
   "cell_type": "code",
   "execution_count": 30,
   "metadata": {},
   "outputs": [],
   "source": [
    "# I wonder if we were able to make a smaller corpus"
   ]
  },
  {
   "cell_type": "code",
   "execution_count": 38,
   "metadata": {},
   "outputs": [
    {
     "data": {
      "text/plain": [
       "(63794, 2)"
      ]
     },
     "execution_count": 38,
     "metadata": {},
     "output_type": "execute_result"
    }
   ],
   "source": [
    "df_words.shape"
   ]
  },
  {
   "cell_type": "code",
   "execution_count": 39,
   "metadata": {},
   "outputs": [
    {
     "data": {
      "text/plain": [
       "(56718, 2)"
      ]
     },
     "execution_count": 39,
     "metadata": {},
     "output_type": "execute_result"
    }
   ],
   "source": [
    "df_words_lemma.shape"
   ]
  },
  {
   "cell_type": "code",
   "execution_count": 40,
   "metadata": {},
   "outputs": [],
   "source": [
    "# Wow look at that, let's see if we were able to remove the junk and come out with the essence of horror fiction and real horror"
   ]
  },
  {
   "cell_type": "code",
   "execution_count": 57,
   "metadata": {},
   "outputs": [],
   "source": [
    "# Let's run another bayesian model and see if it does any better\n",
    "# reminder: this is what we are starting with, not too shabby\n",
    "df_scores = pd.read_csv('results/scores_all.csv', index_col=0).sort_values(by='Test Score', ascending=False)"
   ]
  },
  {
   "cell_type": "code",
   "execution_count": 58,
   "metadata": {},
   "outputs": [
    {
     "data": {
      "text/html": [
       "<div>\n",
       "<style scoped>\n",
       "    .dataframe tbody tr th:only-of-type {\n",
       "        vertical-align: middle;\n",
       "    }\n",
       "\n",
       "    .dataframe tbody tr th {\n",
       "        vertical-align: top;\n",
       "    }\n",
       "\n",
       "    .dataframe thead th {\n",
       "        text-align: right;\n",
       "    }\n",
       "</style>\n",
       "<table border=\"1\" class=\"dataframe\">\n",
       "  <thead>\n",
       "    <tr style=\"text-align: right;\">\n",
       "      <th></th>\n",
       "      <th>Train Score</th>\n",
       "      <th>Bal Train Score</th>\n",
       "      <th>f1 Train Score</th>\n",
       "      <th>Test Score</th>\n",
       "      <th>Bal Test Score</th>\n",
       "      <th>f1 Test score</th>\n",
       "    </tr>\n",
       "  </thead>\n",
       "  <tbody>\n",
       "    <tr>\n",
       "      <th>Extra Tree</th>\n",
       "      <td>1.000</td>\n",
       "      <td>1.000</td>\n",
       "      <td>1.000000</td>\n",
       "      <td>0.963000</td>\n",
       "      <td>0.963000</td>\n",
       "      <td>0.963176</td>\n",
       "    </tr>\n",
       "    <tr>\n",
       "      <th>SVC</th>\n",
       "      <td>0.998</td>\n",
       "      <td>0.998</td>\n",
       "      <td>0.997996</td>\n",
       "      <td>0.962667</td>\n",
       "      <td>0.962667</td>\n",
       "      <td>0.961722</td>\n",
       "    </tr>\n",
       "    <tr>\n",
       "      <th>Logistic</th>\n",
       "      <td>0.982</td>\n",
       "      <td>0.982</td>\n",
       "      <td>0.981781</td>\n",
       "      <td>0.959667</td>\n",
       "      <td>0.959667</td>\n",
       "      <td>0.958755</td>\n",
       "    </tr>\n",
       "    <tr>\n",
       "      <th>Random Forest</th>\n",
       "      <td>1.000</td>\n",
       "      <td>1.000</td>\n",
       "      <td>1.000000</td>\n",
       "      <td>0.954889</td>\n",
       "      <td>0.954889</td>\n",
       "      <td>0.954454</td>\n",
       "    </tr>\n",
       "    <tr>\n",
       "      <th>Bagging Tree</th>\n",
       "      <td>0.994</td>\n",
       "      <td>0.994</td>\n",
       "      <td>0.994000</td>\n",
       "      <td>0.920333</td>\n",
       "      <td>0.920333</td>\n",
       "      <td>0.922023</td>\n",
       "    </tr>\n",
       "    <tr>\n",
       "      <th>BernoilliNB</th>\n",
       "      <td>0.917</td>\n",
       "      <td>0.917</td>\n",
       "      <td>0.910076</td>\n",
       "      <td>0.908778</td>\n",
       "      <td>0.908778</td>\n",
       "      <td>0.900352</td>\n",
       "    </tr>\n",
       "    <tr>\n",
       "      <th>Tree</th>\n",
       "      <td>1.000</td>\n",
       "      <td>1.000</td>\n",
       "      <td>1.000000</td>\n",
       "      <td>0.874111</td>\n",
       "      <td>0.874111</td>\n",
       "      <td>0.878759</td>\n",
       "    </tr>\n",
       "    <tr>\n",
       "      <th>KNN</th>\n",
       "      <td>0.900</td>\n",
       "      <td>0.900</td>\n",
       "      <td>0.908759</td>\n",
       "      <td>0.836556</td>\n",
       "      <td>0.836556</td>\n",
       "      <td>0.858299</td>\n",
       "    </tr>\n",
       "    <tr>\n",
       "      <th>MultinominalB</th>\n",
       "      <td>0.867</td>\n",
       "      <td>0.867</td>\n",
       "      <td>0.882197</td>\n",
       "      <td>0.808111</td>\n",
       "      <td>0.808111</td>\n",
       "      <td>0.838372</td>\n",
       "    </tr>\n",
       "    <tr>\n",
       "      <th>Baseline</th>\n",
       "      <td>0.500</td>\n",
       "      <td>0.500</td>\n",
       "      <td>0.000000</td>\n",
       "      <td>0.500000</td>\n",
       "      <td>0.500000</td>\n",
       "      <td>0.000000</td>\n",
       "    </tr>\n",
       "  </tbody>\n",
       "</table>\n",
       "</div>"
      ],
      "text/plain": [
       "               Train Score  Bal Train Score  f1 Train Score  Test Score  \\\n",
       "Extra Tree           1.000            1.000        1.000000    0.963000   \n",
       "SVC                  0.998            0.998        0.997996    0.962667   \n",
       "Logistic             0.982            0.982        0.981781    0.959667   \n",
       "Random Forest        1.000            1.000        1.000000    0.954889   \n",
       "Bagging Tree         0.994            0.994        0.994000    0.920333   \n",
       "BernoilliNB          0.917            0.917        0.910076    0.908778   \n",
       "Tree                 1.000            1.000        1.000000    0.874111   \n",
       "KNN                  0.900            0.900        0.908759    0.836556   \n",
       "MultinominalB        0.867            0.867        0.882197    0.808111   \n",
       "Baseline             0.500            0.500        0.000000    0.500000   \n",
       "\n",
       "               Bal Test Score  f1 Test score  \n",
       "Extra Tree           0.963000       0.963176  \n",
       "SVC                  0.962667       0.961722  \n",
       "Logistic             0.959667       0.958755  \n",
       "Random Forest        0.954889       0.954454  \n",
       "Bagging Tree         0.920333       0.922023  \n",
       "BernoilliNB          0.908778       0.900352  \n",
       "Tree                 0.874111       0.878759  \n",
       "KNN                  0.836556       0.858299  \n",
       "MultinominalB        0.808111       0.838372  \n",
       "Baseline             0.500000       0.000000  "
      ]
     },
     "execution_count": 58,
     "metadata": {},
     "output_type": "execute_result"
    }
   ],
   "source": [
    "df_scores"
   ]
  },
  {
   "cell_type": "code",
   "execution_count": 44,
   "metadata": {},
   "outputs": [],
   "source": [
    "X_train_lemma, X_test_lemma, y_train_lemma, y_test_lemma = train_test_split(\n",
    "    matrix_lemma, df_all_simple['subreddit'], stratify=df_all_simple['subreddit'], train_size=0.1)"
   ]
  },
  {
   "cell_type": "code",
   "execution_count": 45,
   "metadata": {},
   "outputs": [],
   "source": [
    "scores_lemma, models_lemma = evaluate_model(bayesian_models, X_train_lemma, X_test_lemma, y_train_lemma, y_test_lemma)"
   ]
  },
  {
   "cell_type": "code",
   "execution_count": 46,
   "metadata": {},
   "outputs": [],
   "source": [
    "df_scores_lemma= pd.DataFrame(scores_lemma, index=['Train Score', 'Bal Train Score', 'f1 Train Score', \n",
    "                                        'Test Score', 'Bal Test Score', 'f1 Test score'], \n",
    "                         columns=['BernoilliNB-lemma', 'MultinominalB-lemma']).T"
   ]
  },
  {
   "cell_type": "code",
   "execution_count": 47,
   "metadata": {},
   "outputs": [
    {
     "data": {
      "text/html": [
       "<div>\n",
       "<style scoped>\n",
       "    .dataframe tbody tr th:only-of-type {\n",
       "        vertical-align: middle;\n",
       "    }\n",
       "\n",
       "    .dataframe tbody tr th {\n",
       "        vertical-align: top;\n",
       "    }\n",
       "\n",
       "    .dataframe thead th {\n",
       "        text-align: right;\n",
       "    }\n",
       "</style>\n",
       "<table border=\"1\" class=\"dataframe\">\n",
       "  <thead>\n",
       "    <tr style=\"text-align: right;\">\n",
       "      <th></th>\n",
       "      <th>Train Score</th>\n",
       "      <th>Bal Train Score</th>\n",
       "      <th>f1 Train Score</th>\n",
       "      <th>Test Score</th>\n",
       "      <th>Bal Test Score</th>\n",
       "      <th>f1 Test score</th>\n",
       "    </tr>\n",
       "  </thead>\n",
       "  <tbody>\n",
       "    <tr>\n",
       "      <th>BernoilliNB-lemma</th>\n",
       "      <td>0.910</td>\n",
       "      <td>0.910</td>\n",
       "      <td>0.901747</td>\n",
       "      <td>0.915667</td>\n",
       "      <td>0.915667</td>\n",
       "      <td>0.908631</td>\n",
       "    </tr>\n",
       "    <tr>\n",
       "      <th>MultinominalB-lemma</th>\n",
       "      <td>0.954</td>\n",
       "      <td>0.954</td>\n",
       "      <td>0.955598</td>\n",
       "      <td>0.896667</td>\n",
       "      <td>0.896667</td>\n",
       "      <td>0.905565</td>\n",
       "    </tr>\n",
       "  </tbody>\n",
       "</table>\n",
       "</div>"
      ],
      "text/plain": [
       "                     Train Score  Bal Train Score  f1 Train Score  Test Score  \\\n",
       "BernoilliNB-lemma          0.910            0.910        0.901747    0.915667   \n",
       "MultinominalB-lemma        0.954            0.954        0.955598    0.896667   \n",
       "\n",
       "                     Bal Test Score  f1 Test score  \n",
       "BernoilliNB-lemma          0.915667       0.908631  \n",
       "MultinominalB-lemma        0.896667       0.905565  "
      ]
     },
     "execution_count": 47,
     "metadata": {},
     "output_type": "execute_result"
    }
   ],
   "source": [
    "df_scores_lemma"
   ]
  },
  {
   "cell_type": "code",
   "execution_count": 48,
   "metadata": {},
   "outputs": [],
   "source": [
    "# It already looks better ! Using 10 % of data to train and 90 % to evaluate\n",
    "# We're looking at an increase of 1 % accuracy - and all we did was improve our preprocessing pipeline"
   ]
  },
  {
   "cell_type": "code",
   "execution_count": 50,
   "metadata": {},
   "outputs": [],
   "source": [
    "# For other models, I am only considering the top 2 preforming from the loaded results"
   ]
  },
  {
   "cell_type": "code",
   "execution_count": 49,
   "metadata": {},
   "outputs": [],
   "source": [
    "scores_lemma_other, models_lemma_other = evaluate_model([ExtraTreesClassifier(), SVC()], X_train_lemma, X_test_lemma, y_train_lemma, y_test_lemma)"
   ]
  },
  {
   "cell_type": "code",
   "execution_count": 53,
   "metadata": {},
   "outputs": [],
   "source": [
    "df_scores_other_lemma = pd.DataFrame(scores_lemma_other, index=['Train Score', 'Bal Train Score', 'f1 Train Score', \n",
    "                                        'Test Score', 'Bal Test Score', 'f1 Test score'], \n",
    "                         columns=['Extra Tree - lemma','SVC-lemma']).T"
   ]
  },
  {
   "cell_type": "code",
   "execution_count": 54,
   "metadata": {},
   "outputs": [
    {
     "data": {
      "text/html": [
       "<div>\n",
       "<style scoped>\n",
       "    .dataframe tbody tr th:only-of-type {\n",
       "        vertical-align: middle;\n",
       "    }\n",
       "\n",
       "    .dataframe tbody tr th {\n",
       "        vertical-align: top;\n",
       "    }\n",
       "\n",
       "    .dataframe thead th {\n",
       "        text-align: right;\n",
       "    }\n",
       "</style>\n",
       "<table border=\"1\" class=\"dataframe\">\n",
       "  <thead>\n",
       "    <tr style=\"text-align: right;\">\n",
       "      <th></th>\n",
       "      <th>Train Score</th>\n",
       "      <th>Bal Train Score</th>\n",
       "      <th>f1 Train Score</th>\n",
       "      <th>Test Score</th>\n",
       "      <th>Bal Test Score</th>\n",
       "      <th>f1 Test score</th>\n",
       "    </tr>\n",
       "  </thead>\n",
       "  <tbody>\n",
       "    <tr>\n",
       "      <th>Extra Tree - lemma</th>\n",
       "      <td>1.000</td>\n",
       "      <td>1.000</td>\n",
       "      <td>1.000000</td>\n",
       "      <td>0.962778</td>\n",
       "      <td>0.962778</td>\n",
       "      <td>0.96233</td>\n",
       "    </tr>\n",
       "    <tr>\n",
       "      <th>SVC-lemma</th>\n",
       "      <td>0.968</td>\n",
       "      <td>0.968</td>\n",
       "      <td>0.966942</td>\n",
       "      <td>0.954222</td>\n",
       "      <td>0.954222</td>\n",
       "      <td>0.95299</td>\n",
       "    </tr>\n",
       "  </tbody>\n",
       "</table>\n",
       "</div>"
      ],
      "text/plain": [
       "                    Train Score  Bal Train Score  f1 Train Score  Test Score  \\\n",
       "Extra Tree - lemma        1.000            1.000        1.000000    0.962778   \n",
       "SVC-lemma                 0.968            0.968        0.966942    0.954222   \n",
       "\n",
       "                    Bal Test Score  f1 Test score  \n",
       "Extra Tree - lemma        0.962778        0.96233  \n",
       "SVC-lemma                 0.954222        0.95299  "
      ]
     },
     "execution_count": 54,
     "metadata": {},
     "output_type": "execute_result"
    }
   ],
   "source": [
    "df_scores_other_lemma"
   ]
  },
  {
   "cell_type": "code",
   "execution_count": 55,
   "metadata": {},
   "outputs": [
    {
     "data": {
      "text/html": [
       "<div>\n",
       "<style scoped>\n",
       "    .dataframe tbody tr th:only-of-type {\n",
       "        vertical-align: middle;\n",
       "    }\n",
       "\n",
       "    .dataframe tbody tr th {\n",
       "        vertical-align: top;\n",
       "    }\n",
       "\n",
       "    .dataframe thead th {\n",
       "        text-align: right;\n",
       "    }\n",
       "</style>\n",
       "<table border=\"1\" class=\"dataframe\">\n",
       "  <thead>\n",
       "    <tr style=\"text-align: right;\">\n",
       "      <th></th>\n",
       "      <th>Train Score</th>\n",
       "      <th>Bal Train Score</th>\n",
       "      <th>f1 Train Score</th>\n",
       "      <th>Test Score</th>\n",
       "      <th>Bal Test Score</th>\n",
       "      <th>f1 Test score</th>\n",
       "    </tr>\n",
       "  </thead>\n",
       "  <tbody>\n",
       "    <tr>\n",
       "      <th>Extra Tree - lemma</th>\n",
       "      <td>1.000</td>\n",
       "      <td>1.000</td>\n",
       "      <td>1.000000</td>\n",
       "      <td>0.962778</td>\n",
       "      <td>0.962778</td>\n",
       "      <td>0.962330</td>\n",
       "    </tr>\n",
       "    <tr>\n",
       "      <th>SVC-lemma</th>\n",
       "      <td>0.968</td>\n",
       "      <td>0.968</td>\n",
       "      <td>0.966942</td>\n",
       "      <td>0.954222</td>\n",
       "      <td>0.954222</td>\n",
       "      <td>0.952990</td>\n",
       "    </tr>\n",
       "    <tr>\n",
       "      <th>BernoilliNB-lemma</th>\n",
       "      <td>0.910</td>\n",
       "      <td>0.910</td>\n",
       "      <td>0.901747</td>\n",
       "      <td>0.915667</td>\n",
       "      <td>0.915667</td>\n",
       "      <td>0.908631</td>\n",
       "    </tr>\n",
       "    <tr>\n",
       "      <th>MultinominalB-lemma</th>\n",
       "      <td>0.954</td>\n",
       "      <td>0.954</td>\n",
       "      <td>0.955598</td>\n",
       "      <td>0.896667</td>\n",
       "      <td>0.896667</td>\n",
       "      <td>0.905565</td>\n",
       "    </tr>\n",
       "  </tbody>\n",
       "</table>\n",
       "</div>"
      ],
      "text/plain": [
       "                     Train Score  Bal Train Score  f1 Train Score  Test Score  \\\n",
       "Extra Tree - lemma         1.000            1.000        1.000000    0.962778   \n",
       "SVC-lemma                  0.968            0.968        0.966942    0.954222   \n",
       "BernoilliNB-lemma          0.910            0.910        0.901747    0.915667   \n",
       "MultinominalB-lemma        0.954            0.954        0.955598    0.896667   \n",
       "\n",
       "                     Bal Test Score  f1 Test score  \n",
       "Extra Tree - lemma         0.962778       0.962330  \n",
       "SVC-lemma                  0.954222       0.952990  \n",
       "BernoilliNB-lemma          0.915667       0.908631  \n",
       "MultinominalB-lemma        0.896667       0.905565  "
      ]
     },
     "execution_count": 55,
     "metadata": {},
     "output_type": "execute_result"
    }
   ],
   "source": [
    "df_scores_all_lemma = pd.concat([df_scores_lemma, df_scores_other_lemma])\n",
    "df_scores_all_lemma.sort_values(by='Test Score', ascending=False)"
   ]
  },
  {
   "cell_type": "code",
   "execution_count": 61,
   "metadata": {},
   "outputs": [],
   "source": [
    "df_scores_all_lemma.to_csv('results/scores_lemma.csv')"
   ]
  },
  {
   "cell_type": "code",
   "execution_count": 62,
   "metadata": {},
   "outputs": [],
   "source": [
    "scores_lemma_logistic, models_lemma_logistic = evaluate_model([LogisticRegression()], X_train_lemma, X_test_lemma, y_train_lemma, y_test_lemma)"
   ]
  },
  {
   "cell_type": "code",
   "execution_count": 63,
   "metadata": {},
   "outputs": [],
   "source": [
    "df_scores_other_logistic = pd.DataFrame(scores_lemma_logistic, index=['Train Score', 'Bal Train Score', 'f1 Train Score', \n",
    "                                        'Test Score', 'Bal Test Score', 'f1 Test score'], \n",
    "                         columns=['Logistic-lemma']).T"
   ]
  },
  {
   "cell_type": "code",
   "execution_count": 64,
   "metadata": {},
   "outputs": [
    {
     "data": {
      "text/html": [
       "<div>\n",
       "<style scoped>\n",
       "    .dataframe tbody tr th:only-of-type {\n",
       "        vertical-align: middle;\n",
       "    }\n",
       "\n",
       "    .dataframe tbody tr th {\n",
       "        vertical-align: top;\n",
       "    }\n",
       "\n",
       "    .dataframe thead th {\n",
       "        text-align: right;\n",
       "    }\n",
       "</style>\n",
       "<table border=\"1\" class=\"dataframe\">\n",
       "  <thead>\n",
       "    <tr style=\"text-align: right;\">\n",
       "      <th></th>\n",
       "      <th>Train Score</th>\n",
       "      <th>Bal Train Score</th>\n",
       "      <th>f1 Train Score</th>\n",
       "      <th>Test Score</th>\n",
       "      <th>Bal Test Score</th>\n",
       "      <th>f1 Test score</th>\n",
       "    </tr>\n",
       "  </thead>\n",
       "  <tbody>\n",
       "    <tr>\n",
       "      <th>Logistic-lemma</th>\n",
       "      <td>0.998</td>\n",
       "      <td>0.998</td>\n",
       "      <td>0.997996</td>\n",
       "      <td>0.968222</td>\n",
       "      <td>0.968222</td>\n",
       "      <td>0.967411</td>\n",
       "    </tr>\n",
       "  </tbody>\n",
       "</table>\n",
       "</div>"
      ],
      "text/plain": [
       "                Train Score  Bal Train Score  f1 Train Score  Test Score  \\\n",
       "Logistic-lemma        0.998            0.998        0.997996    0.968222   \n",
       "\n",
       "                Bal Test Score  f1 Test score  \n",
       "Logistic-lemma        0.968222       0.967411  "
      ]
     },
     "execution_count": 64,
     "metadata": {},
     "output_type": "execute_result"
    }
   ],
   "source": [
    "df_scores_other_logistic"
   ]
  },
  {
   "cell_type": "code",
   "execution_count": 65,
   "metadata": {},
   "outputs": [],
   "source": [
    "scores_lemma_rforest, models_lemma_rforest = evaluate_model([RandomForestClassifier()], X_train_lemma, X_test_lemma, y_train_lemma, y_test_lemma)"
   ]
  },
  {
   "cell_type": "code",
   "execution_count": 66,
   "metadata": {},
   "outputs": [],
   "source": [
    "df_scores_other_rforest = pd.DataFrame(scores_lemma_rforest, index=['Train Score', 'Bal Train Score', 'f1 Train Score', \n",
    "                                        'Test Score', 'Bal Test Score', 'f1 Test score'], \n",
    "                         columns=['Random Forest']).T"
   ]
  },
  {
   "cell_type": "code",
   "execution_count": 67,
   "metadata": {},
   "outputs": [
    {
     "data": {
      "text/html": [
       "<div>\n",
       "<style scoped>\n",
       "    .dataframe tbody tr th:only-of-type {\n",
       "        vertical-align: middle;\n",
       "    }\n",
       "\n",
       "    .dataframe tbody tr th {\n",
       "        vertical-align: top;\n",
       "    }\n",
       "\n",
       "    .dataframe thead th {\n",
       "        text-align: right;\n",
       "    }\n",
       "</style>\n",
       "<table border=\"1\" class=\"dataframe\">\n",
       "  <thead>\n",
       "    <tr style=\"text-align: right;\">\n",
       "      <th></th>\n",
       "      <th>Train Score</th>\n",
       "      <th>Bal Train Score</th>\n",
       "      <th>f1 Train Score</th>\n",
       "      <th>Test Score</th>\n",
       "      <th>Bal Test Score</th>\n",
       "      <th>f1 Test score</th>\n",
       "    </tr>\n",
       "  </thead>\n",
       "  <tbody>\n",
       "    <tr>\n",
       "      <th>Random Forest</th>\n",
       "      <td>1.0</td>\n",
       "      <td>1.0</td>\n",
       "      <td>1.0</td>\n",
       "      <td>0.955111</td>\n",
       "      <td>0.955111</td>\n",
       "      <td>0.953955</td>\n",
       "    </tr>\n",
       "  </tbody>\n",
       "</table>\n",
       "</div>"
      ],
      "text/plain": [
       "               Train Score  Bal Train Score  f1 Train Score  Test Score  \\\n",
       "Random Forest          1.0              1.0             1.0    0.955111   \n",
       "\n",
       "               Bal Test Score  f1 Test score  \n",
       "Random Forest        0.955111       0.953955  "
      ]
     },
     "execution_count": 67,
     "metadata": {},
     "output_type": "execute_result"
    }
   ],
   "source": [
    "df_scores_other_rforest"
   ]
  },
  {
   "cell_type": "code",
   "execution_count": null,
   "metadata": {},
   "outputs": [],
   "source": [
    "# some notes:\n",
    "# I think I have reached the limit of machine learning without utilizing neural networks.\n",
    "# This modeling is all cpu based - and so very slow. I would immediately see improvement in my sanity of\n",
    "# less time spent looking at 'python busy' and more time looking at the results and making these pretty graphs"
   ]
  },
  {
   "cell_type": "code",
   "execution_count": 135,
   "metadata": {},
   "outputs": [],
   "source": [
    "# Predictions"
   ]
  },
  {
   "cell_type": "code",
   "execution_count": 142,
   "metadata": {},
   "outputs": [],
   "source": [
    "legal_advice = 'Both of our names will be on the birth certificate. We used an anonymous, non-ID donor from a sperm bank for conception. So I will not be biologically related to him. Friends of ours have different thoughts on what is required here, I don’t see what adopting him would do that being on his birth certificate doesn’t, but I can’t seem to find any information about it. Any help or advice would be appreciated.'"
   ]
  },
  {
   "cell_type": "code",
   "execution_count": 178,
   "metadata": {},
   "outputs": [],
   "source": [
    "no_sleep_story = df_all_simple.iloc[-1]['selftext']"
   ]
  },
  {
   "cell_type": "code",
   "execution_count": 179,
   "metadata": {},
   "outputs": [],
   "source": [
    "legal_sample = cv_lemma.transform(legal_advice.split())"
   ]
  },
  {
   "cell_type": "code",
   "execution_count": 180,
   "metadata": {},
   "outputs": [],
   "source": [
    "no_sleep_sample = cv_lemma.transform(no_sleep_story.split())"
   ]
  },
  {
   "cell_type": "code",
   "execution_count": 181,
   "metadata": {},
   "outputs": [
    {
     "data": {
      "text/plain": [
       "array(['legaladvice', 'legaladvice', 'legaladvice', 'legaladvice',\n",
       "       'legaladvice', 'legaladvice', 'legaladvice', 'legaladvice',\n",
       "       'legaladvice', 'legaladvice', 'legaladvice', 'legaladvice',\n",
       "       'legaladvice', 'legaladvice', 'legaladvice', 'legaladvice',\n",
       "       'legaladvice', 'legaladvice', 'legaladvice', 'legaladvice',\n",
       "       'legaladvice', 'legaladvice', 'legaladvice', 'legaladvice',\n",
       "       'legaladvice', 'legaladvice', 'legaladvice', 'legaladvice',\n",
       "       'legaladvice', 'legaladvice', 'legaladvice', 'legaladvice',\n",
       "       'legaladvice', 'legaladvice', 'legaladvice', 'legaladvice',\n",
       "       'legaladvice', 'legaladvice', 'legaladvice', 'legaladvice',\n",
       "       'legaladvice', 'legaladvice', 'legaladvice', 'legaladvice',\n",
       "       'legaladvice', 'legaladvice', 'legaladvice', 'legaladvice',\n",
       "       'legaladvice', 'legaladvice', 'legaladvice', 'legaladvice',\n",
       "       'legaladvice', 'legaladvice', 'legaladvice', 'legaladvice',\n",
       "       'legaladvice', 'legaladvice', 'legaladvice', 'legaladvice',\n",
       "       'legaladvice', 'legaladvice', 'legaladvice', 'legaladvice',\n",
       "       'legaladvice', 'legaladvice', 'legaladvice', 'legaladvice',\n",
       "       'legaladvice', 'legaladvice', 'legaladvice', 'legaladvice',\n",
       "       'legaladvice', 'legaladvice'], dtype=object)"
      ]
     },
     "execution_count": 181,
     "metadata": {},
     "output_type": "execute_result"
    }
   ],
   "source": [
    "models_lemma_other[1].predict(legal_sample)"
   ]
  },
  {
   "cell_type": "code",
   "execution_count": 182,
   "metadata": {},
   "outputs": [
    {
     "data": {
      "text/plain": [
       "array(['legaladvice', 'legaladvice', 'legaladvice', ..., 'legaladvice',\n",
       "       'legaladvice', 'legaladvice'], dtype=object)"
      ]
     },
     "execution_count": 182,
     "metadata": {},
     "output_type": "execute_result"
    }
   ],
   "source": [
    "models_lemma_other[1].predict(no_sleep_sample)"
   ]
  },
  {
   "cell_type": "code",
   "execution_count": null,
   "metadata": {},
   "outputs": [],
   "source": []
  }
 ],
 "metadata": {
  "kernelspec": {
   "display_name": "Python 3",
   "language": "python",
   "name": "python3"
  },
  "language_info": {
   "codemirror_mode": {
    "name": "ipython",
    "version": 3
   },
   "file_extension": ".py",
   "mimetype": "text/x-python",
   "name": "python",
   "nbconvert_exporter": "python",
   "pygments_lexer": "ipython3",
   "version": "3.8.3"
  }
 },
 "nbformat": 4,
 "nbformat_minor": 4
}
