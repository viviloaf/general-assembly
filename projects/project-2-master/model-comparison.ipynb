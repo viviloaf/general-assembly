{
 "cells": [
  {
   "cell_type": "code",
   "execution_count": 75,
   "metadata": {},
   "outputs": [],
   "source": [
    "import numpy as np\n",
    "import pandas as pd\n",
    "\n",
    "import matplotlib.pyplot as plt\n",
    "\n",
    "import seaborn as sns\n",
    "\n",
    "from sklearn.linear_model import LinearRegression, LogisticRegression, Lasso, Ridge, ElasticNet, SGDClassifier\n",
    "from sklearn.svm import SVR, LinearSVC\n",
    "from sklearn.model_selection import train_test_split, GridSearchCV\n",
    "from sklearn.neighbors import KNeighborsRegressor\n",
    "from sklearn.pipeline import make_pipeline, Pipeline\n",
    "from sklearn.preprocessing import StandardScaler, OneHotEncoder\n",
    "from sklearn.impute import SimpleImputer\n",
    "from sklearn.compose import ColumnTransformer, make_column_transformer, make_column_selector\n",
    "from sklearn.metrics import mean_squared_error\n",
    "\n",
    "from sklearn import set_config\n",
    "from joblib import dump, load"
   ]
  },
  {
   "cell_type": "code",
   "execution_count": 2,
   "metadata": {},
   "outputs": [],
   "source": [
    "df_train_raw = pd.read_csv('/home/blue/general-assembly/dsir-824/submissions/projects/project-2-master/datasets/train.csv')\n",
    "\n",
    "df = df_train_raw.copy()"
   ]
  },
  {
   "cell_type": "code",
   "execution_count": 79,
   "metadata": {},
   "outputs": [],
   "source": [
    "df_test_raw = pd.read_csv('/home/blue/general-assembly/dsir-824/submissions/projects/project-2-master/datasets/test.csv')\n",
    "df_test = df_test_raw.copy()"
   ]
  },
  {
   "cell_type": "code",
   "execution_count": 3,
   "metadata": {},
   "outputs": [
    {
     "data": {
      "text/html": [
       "<div>\n",
       "<style scoped>\n",
       "    .dataframe tbody tr th:only-of-type {\n",
       "        vertical-align: middle;\n",
       "    }\n",
       "\n",
       "    .dataframe tbody tr th {\n",
       "        vertical-align: top;\n",
       "    }\n",
       "\n",
       "    .dataframe thead th {\n",
       "        text-align: right;\n",
       "    }\n",
       "</style>\n",
       "<table border=\"1\" class=\"dataframe\">\n",
       "  <thead>\n",
       "    <tr style=\"text-align: right;\">\n",
       "      <th></th>\n",
       "      <th>Id</th>\n",
       "      <th>PID</th>\n",
       "      <th>MS SubClass</th>\n",
       "      <th>MS Zoning</th>\n",
       "      <th>Lot Frontage</th>\n",
       "      <th>Lot Area</th>\n",
       "      <th>Street</th>\n",
       "      <th>Alley</th>\n",
       "      <th>Lot Shape</th>\n",
       "      <th>Land Contour</th>\n",
       "      <th>...</th>\n",
       "      <th>Screen Porch</th>\n",
       "      <th>Pool Area</th>\n",
       "      <th>Pool QC</th>\n",
       "      <th>Fence</th>\n",
       "      <th>Misc Feature</th>\n",
       "      <th>Misc Val</th>\n",
       "      <th>Mo Sold</th>\n",
       "      <th>Yr Sold</th>\n",
       "      <th>Sale Type</th>\n",
       "      <th>SalePrice</th>\n",
       "    </tr>\n",
       "  </thead>\n",
       "  <tbody>\n",
       "    <tr>\n",
       "      <th>0</th>\n",
       "      <td>109</td>\n",
       "      <td>533352170</td>\n",
       "      <td>60</td>\n",
       "      <td>RL</td>\n",
       "      <td>NaN</td>\n",
       "      <td>13517</td>\n",
       "      <td>Pave</td>\n",
       "      <td>NaN</td>\n",
       "      <td>IR1</td>\n",
       "      <td>Lvl</td>\n",
       "      <td>...</td>\n",
       "      <td>0</td>\n",
       "      <td>0</td>\n",
       "      <td>NaN</td>\n",
       "      <td>NaN</td>\n",
       "      <td>NaN</td>\n",
       "      <td>0</td>\n",
       "      <td>3</td>\n",
       "      <td>2010</td>\n",
       "      <td>WD</td>\n",
       "      <td>130500</td>\n",
       "    </tr>\n",
       "    <tr>\n",
       "      <th>1</th>\n",
       "      <td>544</td>\n",
       "      <td>531379050</td>\n",
       "      <td>60</td>\n",
       "      <td>RL</td>\n",
       "      <td>43.0</td>\n",
       "      <td>11492</td>\n",
       "      <td>Pave</td>\n",
       "      <td>NaN</td>\n",
       "      <td>IR1</td>\n",
       "      <td>Lvl</td>\n",
       "      <td>...</td>\n",
       "      <td>0</td>\n",
       "      <td>0</td>\n",
       "      <td>NaN</td>\n",
       "      <td>NaN</td>\n",
       "      <td>NaN</td>\n",
       "      <td>0</td>\n",
       "      <td>4</td>\n",
       "      <td>2009</td>\n",
       "      <td>WD</td>\n",
       "      <td>220000</td>\n",
       "    </tr>\n",
       "    <tr>\n",
       "      <th>2</th>\n",
       "      <td>153</td>\n",
       "      <td>535304180</td>\n",
       "      <td>20</td>\n",
       "      <td>RL</td>\n",
       "      <td>68.0</td>\n",
       "      <td>7922</td>\n",
       "      <td>Pave</td>\n",
       "      <td>NaN</td>\n",
       "      <td>Reg</td>\n",
       "      <td>Lvl</td>\n",
       "      <td>...</td>\n",
       "      <td>0</td>\n",
       "      <td>0</td>\n",
       "      <td>NaN</td>\n",
       "      <td>NaN</td>\n",
       "      <td>NaN</td>\n",
       "      <td>0</td>\n",
       "      <td>1</td>\n",
       "      <td>2010</td>\n",
       "      <td>WD</td>\n",
       "      <td>109000</td>\n",
       "    </tr>\n",
       "    <tr>\n",
       "      <th>3</th>\n",
       "      <td>318</td>\n",
       "      <td>916386060</td>\n",
       "      <td>60</td>\n",
       "      <td>RL</td>\n",
       "      <td>73.0</td>\n",
       "      <td>9802</td>\n",
       "      <td>Pave</td>\n",
       "      <td>NaN</td>\n",
       "      <td>Reg</td>\n",
       "      <td>Lvl</td>\n",
       "      <td>...</td>\n",
       "      <td>0</td>\n",
       "      <td>0</td>\n",
       "      <td>NaN</td>\n",
       "      <td>NaN</td>\n",
       "      <td>NaN</td>\n",
       "      <td>0</td>\n",
       "      <td>4</td>\n",
       "      <td>2010</td>\n",
       "      <td>WD</td>\n",
       "      <td>174000</td>\n",
       "    </tr>\n",
       "    <tr>\n",
       "      <th>4</th>\n",
       "      <td>255</td>\n",
       "      <td>906425045</td>\n",
       "      <td>50</td>\n",
       "      <td>RL</td>\n",
       "      <td>82.0</td>\n",
       "      <td>14235</td>\n",
       "      <td>Pave</td>\n",
       "      <td>NaN</td>\n",
       "      <td>IR1</td>\n",
       "      <td>Lvl</td>\n",
       "      <td>...</td>\n",
       "      <td>0</td>\n",
       "      <td>0</td>\n",
       "      <td>NaN</td>\n",
       "      <td>NaN</td>\n",
       "      <td>NaN</td>\n",
       "      <td>0</td>\n",
       "      <td>3</td>\n",
       "      <td>2010</td>\n",
       "      <td>WD</td>\n",
       "      <td>138500</td>\n",
       "    </tr>\n",
       "  </tbody>\n",
       "</table>\n",
       "<p>5 rows × 81 columns</p>\n",
       "</div>"
      ],
      "text/plain": [
       "    Id        PID  MS SubClass MS Zoning  Lot Frontage  Lot Area Street Alley  \\\n",
       "0  109  533352170           60        RL           NaN     13517   Pave   NaN   \n",
       "1  544  531379050           60        RL          43.0     11492   Pave   NaN   \n",
       "2  153  535304180           20        RL          68.0      7922   Pave   NaN   \n",
       "3  318  916386060           60        RL          73.0      9802   Pave   NaN   \n",
       "4  255  906425045           50        RL          82.0     14235   Pave   NaN   \n",
       "\n",
       "  Lot Shape Land Contour  ... Screen Porch Pool Area Pool QC Fence  \\\n",
       "0       IR1          Lvl  ...            0         0     NaN   NaN   \n",
       "1       IR1          Lvl  ...            0         0     NaN   NaN   \n",
       "2       Reg          Lvl  ...            0         0     NaN   NaN   \n",
       "3       Reg          Lvl  ...            0         0     NaN   NaN   \n",
       "4       IR1          Lvl  ...            0         0     NaN   NaN   \n",
       "\n",
       "  Misc Feature Misc Val Mo Sold Yr Sold  Sale Type  SalePrice  \n",
       "0          NaN        0       3    2010        WD      130500  \n",
       "1          NaN        0       4    2009        WD      220000  \n",
       "2          NaN        0       1    2010        WD      109000  \n",
       "3          NaN        0       4    2010        WD      174000  \n",
       "4          NaN        0       3    2010        WD      138500  \n",
       "\n",
       "[5 rows x 81 columns]"
      ]
     },
     "execution_count": 3,
     "metadata": {},
     "output_type": "execute_result"
    }
   ],
   "source": [
    "df.head()"
   ]
  },
  {
   "cell_type": "code",
   "execution_count": 4,
   "metadata": {},
   "outputs": [],
   "source": [
    "df_dummies = pd.get_dummies(df)"
   ]
  },
  {
   "cell_type": "code",
   "execution_count": 5,
   "metadata": {},
   "outputs": [
    {
     "data": {
      "text/plain": [
       "SalePrice          1.000000\n",
       "Overall Qual       0.800207\n",
       "Gr Liv Area        0.697038\n",
       "Garage Area        0.650270\n",
       "Garage Cars        0.648220\n",
       "Total Bsmt SF      0.628925\n",
       "1st Flr SF         0.618486\n",
       "Bsmt Qual_Ex       0.586497\n",
       "Year Built         0.571849\n",
       "Kitchen Qual_Ex    0.551284\n",
       "Name: SalePrice, dtype: float64"
      ]
     },
     "execution_count": 5,
     "metadata": {},
     "output_type": "execute_result"
    }
   ],
   "source": [
    "df_dummies.corr()['SalePrice'].sort_values(ascending=False).head(10)"
   ]
  },
  {
   "cell_type": "code",
   "execution_count": 6,
   "metadata": {},
   "outputs": [],
   "source": [
    "#X = df[['Overall Qual', 'Gr Liv Area', 'Total Bsmt SF']]\n",
    "#y = df['SalePrice']"
   ]
  },
  {
   "cell_type": "code",
   "execution_count": 7,
   "metadata": {},
   "outputs": [],
   "source": [
    "# This will use the entire dataset\n",
    "X = df.drop('SalePrice', axis=1)\n",
    "y = df['SalePrice']"
   ]
  },
  {
   "cell_type": "code",
   "execution_count": 8,
   "metadata": {},
   "outputs": [],
   "source": [
    "#X_train, X_test, y_train, y_test = train_test_split(X, y)"
   ]
  },
  {
   "cell_type": "code",
   "execution_count": 9,
   "metadata": {},
   "outputs": [],
   "source": [
    "# https://scikit-learn.org/stable/auto_examples/compose/plot_column_transformer_mixed_types.html\n",
    "#numeric_features = list(X.loc[:, X.dtypes == object].columns)\n",
    "numeric_transformer = Pipeline(steps=[\n",
    "    ('num_imputer', SimpleImputer(strategy='mean')),\n",
    "    ('num_scaler', StandardScaler())])\n",
    "\n",
    "#cat_features = list(X.loc[:, X.dtypes != object].columns)\n",
    "categorical_transformer = Pipeline(steps=[\n",
    "    ('cat_imputer', SimpleImputer(strategy='constant', fill_value='Other')),\n",
    "    ('cat_onehot', OneHotEncoder(handle_unknown='ignore'))])\n",
    "\n",
    "preprocessing = ColumnTransformer(transformers=[\n",
    "    ('num', numeric_transformer, make_column_selector(dtype_include=np.number)),\n",
    "    ('cat', categorical_transformer, make_column_selector(dtype_include='object'))\n",
    "])"
   ]
  },
  {
   "cell_type": "code",
   "execution_count": 10,
   "metadata": {},
   "outputs": [],
   "source": [
    "estimator_list = (LinearRegression(n_jobs=-1), \n",
    "                  LogisticRegression(n_jobs=-1, max_iter=100_000), \n",
    "                  Ridge(max_iter=100_000), \n",
    "                  Lasso(max_iter=100_000), \n",
    "                  ElasticNet(max_iter=100_000), \n",
    "                  KNeighborsRegressor(n_jobs=-1), \n",
    "                  SVR())"
   ]
  },
  {
   "cell_type": "code",
   "execution_count": 11,
   "metadata": {},
   "outputs": [],
   "source": [
    "index = ['LinearRegression()', 'LogisticRegression()', 'Ridge()', 'Lasso()', 'ElasticNet()', 'KNeighborsRegressor()', 'SVR()']"
   ]
  },
  {
   "cell_type": "code",
   "execution_count": 38,
   "metadata": {},
   "outputs": [],
   "source": [
    "estimator_params_true = {\n",
    "    LinearRegression(): {\n",
    "        'linearregression__fit_intercept': [True],\n",
    "        'linearregression__n_jobs': [-1]},\n",
    "    Ridge():{\n",
    "        'ridge__alpha': list(range(1,11)),\n",
    "        'ridge__fit_intercept': [True],\n",
    "        'ridge__max_iter': [100_000],\n",
    "    },\n",
    "    Lasso(): {\n",
    "        'lasso__alpha': list(range(1,11)),\n",
    "        'lasso__fit_intercept': [True],\n",
    "        'lasso__max_iter': [100_000],\n",
    "    }, \n",
    "    ElasticNet():{\n",
    "        'elasticnet__alpha': list(range(1,11)),\n",
    "        'elasticnet__fit_intercept': [True],\n",
    "        'elasticnet__l1_ratio': np.arange(0.1, 1, 0.1),\n",
    "        'elasticnet__max_iter': [100_000],\n",
    "    }, \n",
    "    }"
   ]
  },
  {
   "cell_type": "code",
   "execution_count": 39,
   "metadata": {},
   "outputs": [],
   "source": [
    "estimator_params_false = {\n",
    "    LinearRegression(): {\n",
    "    'linearregression__fit_intercept': [False],\n",
    "    'linearregression__n_jobs': [-1]},\n",
    "    Ridge():{\n",
    "    'ridge__alpha': list(range(1,11)),\n",
    "    'ridge__fit_intercept': [False],\n",
    "    'ridge__max_iter': [100_000]}, \n",
    "    Lasso(): {\n",
    "    'lasso__alpha': list(range(1,51)),\n",
    "    'lasso__fit_intercept': [False],\n",
    "    'lasso__max_iter': [100_000]},\n",
    "    ElasticNet():{\n",
    "    'elasticnet__alpha': list(range(1,11)),\n",
    "    'elasticnet__fit_intercept': [False],\n",
    "    'elasticnet__l1_ratio': np.arange(0.1, 1, 0.1),\n",
    "    'elasticnet__max_iter': [100_000]}, \n",
    "\n",
    "}"
   ]
  },
  {
   "cell_type": "code",
   "execution_count": 100,
   "metadata": {},
   "outputs": [],
   "source": [
    "estimator_params_other = {\n",
    "    KNeighborsRegressor():{\n",
    "        'kneighborsregressor__n_neighbors': list(range(1, 51)),\n",
    "        'kneighborsregressor__leaf_size': list(range(1, 51)),\n",
    "        'kneighborsregressor__n_jobs': [-1]}, \n",
    "    SVR():{\n",
    "        'svr__C': [0.001, 0.01, 0.1, 1, 10],\n",
    "        'svr__gamma': [0.001, 0.01, 0.1, 1],\n",
    "}}"
   ]
  },
  {
   "cell_type": "code",
   "execution_count": 101,
   "metadata": {},
   "outputs": [],
   "source": [
    "class ModelSelection:\n",
    "    '''\n",
    "    This holds several functions\n",
    "    '''\n",
    "    \n",
    "    def __init__(self, X, y):\n",
    "        '''\n",
    "        This creates the X_train, X_test, y_train, y_test arrays\n",
    "        '''\n",
    "        X_train, X_test, y_train, y_test = train_test_split(X, y)\n",
    "        \n",
    "        self.X_train = X_train\n",
    "        self.X_test = X_test\n",
    "        self.y_train = y_train\n",
    "        self.y_test = y_test\n",
    "        \n",
    "    def make_pipe(self, preprocessing, estimator_list):\n",
    "        '''\n",
    "        This takes in a list of estimators and a preprocessing pipe object\n",
    "        It outputs a list of pipes with a preprocessing object and an estimator object\n",
    "        '''\n",
    "        pipe_list = []\n",
    "        for estimator in estimator_list:\n",
    "            pipe_list.append(make_pipeline(preprocessing, estimator))\n",
    "        \n",
    "        return pipe_list\n",
    "        \n",
    "    \n",
    "    def evaluate_pipes(self, pipe_list):\n",
    "        '''\n",
    "        This evaluates each pipe object in a list and returns back a list of scores and best params\n",
    "        It takes in two X and Y, uses train_test_split to separate into 4 different arrays\n",
    "        Then it evaluates each model on a test set and measures the accuracy\n",
    "        The function returns the list of scores\n",
    "        '''\n",
    "        \n",
    "        scores = []\n",
    "        objects = []\n",
    "        for pipe in pipe_list:\n",
    "            pipe_object = pipe.fit(self.X_train,self.y_train)\n",
    "            scores.append(pipe_object.score(self.X_test, self.y_test))\n",
    "            objects.append(pipe_object)\n",
    "        return scores, objects\n",
    "    \n",
    "    def calculate_rsme(self, preprocessing, fitted_pipe_objects):\n",
    "        '''\n",
    "        This takes in a list of fitted pipe objects, self variables\n",
    "        find residuials\n",
    "        \n",
    "        '''\n",
    "        list_rsme = []\n",
    "        #processed_x_test = preprocessing.transform(self.X_test)\n",
    "        for pipe in fitted_pipe_objects:\n",
    "            preds = pipe.predict(self.X_test)\n",
    "            rsme = mean_squared_error(self.y_test, preds, squared=False)\n",
    "            list_rsme.append(rsme)\n",
    "            \n",
    "        return list_rsme\n",
    "            \n",
    "    def make_grid_search(self, preprocessing, estimator_list, params):\n",
    "        '''\n",
    "        This is a function that takes in a preprocessing pipeline, a list of estimator objects and params\n",
    "        This returns a list of fitted GridSearchCV Objects that can then be iterated through\n",
    "        '''\n",
    "        \n",
    "        pipe_array = self.make_pipe(preprocessing, estimator_list) \n",
    "        grid_array = []\n",
    "        \n",
    "        for pipe_object, param in list(zip(pipe_array, params)):\n",
    "            grid_array.append(\n",
    "                GridSearchCV(\n",
    "                    estimator=pipe_object, \n",
    "                    param_grid=param,\n",
    "                    n_jobs=-1))\n",
    "\n",
    "        return pipe_array, grid_array\n",
    "    \n",
    "    def evaluate_grid_search(self, grid_list):\n",
    "        '''\n",
    "        Takes in a list of grid objects\n",
    "        Trains them on initial X and Y train test split\n",
    "        evaluates on test dataset\n",
    "        outputs a list of accuracy scores, list of fitted grid objects\n",
    "        '''\n",
    "        scores = []\n",
    "        objects = []\n",
    "        \n",
    "        for grid in grid_list:\n",
    "            grid_object = grid.fit(self.X_train, self.y_train)\n",
    "            scores.append(grid.score(self.X_test, self.y_test))\n",
    "            objects.append(grid_object)\n",
    "        \n",
    "        return scores, objects"
   ]
  },
  {
   "cell_type": "code",
   "execution_count": 102,
   "metadata": {},
   "outputs": [],
   "source": [
    "# Instantiate class\n",
    "ms = ModelSelection(X, y)"
   ]
  },
  {
   "cell_type": "code",
   "execution_count": 17,
   "metadata": {},
   "outputs": [],
   "source": [
    "pipe_list = ms.make_pipe(preprocessing, estimator_list)"
   ]
  },
  {
   "cell_type": "code",
   "execution_count": 18,
   "metadata": {},
   "outputs": [],
   "source": [
    "set_config(display='diagram')\n",
    "#pipe_list[0]"
   ]
  },
  {
   "cell_type": "code",
   "execution_count": 19,
   "metadata": {},
   "outputs": [],
   "source": [
    "fitted_pipe_list, fitted_pipe_objects = ms.evaluate_pipes(pipe_list=pipe_list)"
   ]
  },
  {
   "cell_type": "code",
   "execution_count": null,
   "metadata": {},
   "outputs": [],
   "source": []
  },
  {
   "cell_type": "code",
   "execution_count": 20,
   "metadata": {},
   "outputs": [],
   "source": [
    "df_results = pd.DataFrame(fitted_pipe_list, index=index, columns=['Baseline Test Score'])"
   ]
  },
  {
   "cell_type": "code",
   "execution_count": 21,
   "metadata": {},
   "outputs": [],
   "source": [
    "rsme_list = ms.calculate_rsme(preprocessing, fitted_pipe_objects)"
   ]
  },
  {
   "cell_type": "code",
   "execution_count": 24,
   "metadata": {},
   "outputs": [],
   "source": [
    "rsme_list = (pd.DataFrame(rsme_list, columns=['rsme'], index=index))"
   ]
  },
  {
   "cell_type": "code",
   "execution_count": 25,
   "metadata": {},
   "outputs": [],
   "source": [
    "df_results = df_results.join(rsme_list)"
   ]
  },
  {
   "cell_type": "code",
   "execution_count": 27,
   "metadata": {},
   "outputs": [],
   "source": [
    "#df_results.to_csv('/home/blue/general-assembly/dsir-824/submissions/projects/project-2-master/outputted work/baseline.csv')"
   ]
  },
  {
   "cell_type": "code",
   "execution_count": null,
   "metadata": {},
   "outputs": [],
   "source": []
  },
  {
   "cell_type": "code",
   "execution_count": 42,
   "metadata": {},
   "outputs": [],
   "source": [
    "pipe_list_true, grid_list_true = ms.make_grid_search(preprocessing, list(estimator_params_true.keys()), list(estimator_params_true.values()))"
   ]
  },
  {
   "cell_type": "code",
   "execution_count": 43,
   "metadata": {},
   "outputs": [],
   "source": [
    "pipe_list_false, grid_list_false = ms.make_grid_search(preprocessing, list(estimator_params_false.keys()), list(estimator_params_false.values()))"
   ]
  },
  {
   "cell_type": "code",
   "execution_count": 103,
   "metadata": {},
   "outputs": [],
   "source": [
    "pipe_list_other, grid_list_other = ms.make_grid_search(preprocessing, list(estimator_params_other.keys()), list(estimator_params_other.values()))"
   ]
  },
  {
   "cell_type": "code",
   "execution_count": null,
   "metadata": {},
   "outputs": [],
   "source": []
  },
  {
   "cell_type": "code",
   "execution_count": 45,
   "metadata": {},
   "outputs": [],
   "source": [
    "grid_fit_scores, grid_fit_objects = ms.evaluate_grid_search(grid_list_true)"
   ]
  },
  {
   "cell_type": "code",
   "execution_count": 46,
   "metadata": {},
   "outputs": [
    {
     "data": {
      "text/plain": [
       "[0.9058126620778286,\n",
       " 0.9143666369230723,\n",
       " 0.9220971038346236,\n",
       " 0.9071318657493225]"
      ]
     },
     "execution_count": 46,
     "metadata": {},
     "output_type": "execute_result"
    }
   ],
   "source": [
    "grid_fit_scores"
   ]
  },
  {
   "cell_type": "code",
   "execution_count": null,
   "metadata": {},
   "outputs": [],
   "source": []
  },
  {
   "cell_type": "code",
   "execution_count": 47,
   "metadata": {},
   "outputs": [],
   "source": [
    "grid_fit_scores_f, grid_fit_objects_f = ms.evaluate_grid_search(grid_list_false)"
   ]
  },
  {
   "cell_type": "code",
   "execution_count": 48,
   "metadata": {},
   "outputs": [
    {
     "data": {
      "text/plain": [
       "[0.9057916045702099,\n",
       " 0.9120538765826537,\n",
       " 0.9210485938777743,\n",
       " 0.9042972068268573]"
      ]
     },
     "execution_count": 48,
     "metadata": {},
     "output_type": "execute_result"
    }
   ],
   "source": [
    "grid_fit_scores_f"
   ]
  },
  {
   "cell_type": "code",
   "execution_count": null,
   "metadata": {},
   "outputs": [],
   "source": []
  },
  {
   "cell_type": "code",
   "execution_count": 104,
   "metadata": {},
   "outputs": [],
   "source": [
    "grid_fit_scores_o, grid_fit_objects_o = ms.evaluate_grid_search(grid_list_other)"
   ]
  },
  {
   "cell_type": "code",
   "execution_count": 50,
   "metadata": {},
   "outputs": [
    {
     "data": {
      "text/plain": [
       "[0.8805638295039733, -0.05986265437585714]"
      ]
     },
     "execution_count": 50,
     "metadata": {},
     "output_type": "execute_result"
    }
   ],
   "source": [
    "grid_fit_scores_o"
   ]
  },
  {
   "cell_type": "code",
   "execution_count": null,
   "metadata": {},
   "outputs": [],
   "source": []
  },
  {
   "cell_type": "code",
   "execution_count": 51,
   "metadata": {},
   "outputs": [],
   "source": [
    "w_intercepts = pd.DataFrame(grid_fit_scores, index=str(list(estimator_params_true.keys()))[1:-1].replace(',','').split(), columns=['w/ Intercept Score'])"
   ]
  },
  {
   "cell_type": "code",
   "execution_count": 52,
   "metadata": {},
   "outputs": [],
   "source": [
    "rsme_intercepts = ms.calculate_rsme(preprocessing, grid_fit_objects)"
   ]
  },
  {
   "cell_type": "code",
   "execution_count": 53,
   "metadata": {},
   "outputs": [],
   "source": [
    "rsme_intercepts = (pd.DataFrame(rsme_intercepts, columns=['rsme_i'], index=str(list(estimator_params_true.keys()))[1:-1].replace(',','').split()))"
   ]
  },
  {
   "cell_type": "code",
   "execution_count": null,
   "metadata": {},
   "outputs": [],
   "source": []
  },
  {
   "cell_type": "code",
   "execution_count": 54,
   "metadata": {},
   "outputs": [],
   "source": [
    "n_intercepts = pd.DataFrame(grid_fit_scores_f, index=str(list(estimator_params_false.keys()))[1:-1].replace(',','').split(), columns=['n/ Intercept Score'])"
   ]
  },
  {
   "cell_type": "code",
   "execution_count": 55,
   "metadata": {},
   "outputs": [],
   "source": [
    "rsme_n_intercepts = ms.calculate_rsme(preprocessing, grid_fit_objects_f)"
   ]
  },
  {
   "cell_type": "code",
   "execution_count": 56,
   "metadata": {},
   "outputs": [],
   "source": [
    "rsme_n_intercepts = (pd.DataFrame(rsme_n_intercepts, columns=['rsme_n_i'], index=str(list(estimator_params_false.keys()))[1:-1].replace(',','').split()))"
   ]
  },
  {
   "cell_type": "code",
   "execution_count": null,
   "metadata": {},
   "outputs": [],
   "source": []
  },
  {
   "cell_type": "code",
   "execution_count": 105,
   "metadata": {},
   "outputs": [],
   "source": [
    "other = pd.DataFrame(grid_fit_scores_o, index=str(list(estimator_params_other.keys()))[1:-1].replace(',','').split(), columns=['other Score'])"
   ]
  },
  {
   "cell_type": "code",
   "execution_count": 106,
   "metadata": {},
   "outputs": [],
   "source": [
    "rsme_other = ms.calculate_rsme(preprocessing, grid_fit_objects_o)"
   ]
  },
  {
   "cell_type": "code",
   "execution_count": 107,
   "metadata": {},
   "outputs": [],
   "source": [
    "rsme_other = (pd.DataFrame(rsme_other, columns=['rsme_o'], index=str(list(estimator_params_other.keys()))[1:-1].replace(',','').split()))"
   ]
  },
  {
   "cell_type": "code",
   "execution_count": null,
   "metadata": {},
   "outputs": [],
   "source": []
  },
  {
   "cell_type": "code",
   "execution_count": 60,
   "metadata": {},
   "outputs": [],
   "source": [
    "df_results = df_results.join(w_intercepts)"
   ]
  },
  {
   "cell_type": "code",
   "execution_count": 61,
   "metadata": {},
   "outputs": [],
   "source": [
    "df_results = df_results.join(rsme_intercepts)"
   ]
  },
  {
   "cell_type": "code",
   "execution_count": 62,
   "metadata": {},
   "outputs": [],
   "source": [
    "df_results = df_results.join(n_intercepts)"
   ]
  },
  {
   "cell_type": "code",
   "execution_count": 63,
   "metadata": {},
   "outputs": [],
   "source": [
    "df_results = df_results.join(rsme_n_intercepts)"
   ]
  },
  {
   "cell_type": "code",
   "execution_count": 64,
   "metadata": {},
   "outputs": [],
   "source": [
    "df_results = df_results.join(other)"
   ]
  },
  {
   "cell_type": "code",
   "execution_count": 65,
   "metadata": {},
   "outputs": [],
   "source": [
    "df_results = df_results.join(rsme_other)"
   ]
  },
  {
   "cell_type": "code",
   "execution_count": null,
   "metadata": {},
   "outputs": [],
   "source": []
  },
  {
   "cell_type": "code",
   "execution_count": 69,
   "metadata": {},
   "outputs": [],
   "source": [
    "#df_results.to_csv('/home/blue/general-assembly/dsir-824/submissions/projects/project-2-master/outputted work/whole-dataset-model-comparison.csv')"
   ]
  },
  {
   "cell_type": "code",
   "execution_count": 67,
   "metadata": {},
   "outputs": [
    {
     "data": {
      "text/html": [
       "<div>\n",
       "<style scoped>\n",
       "    .dataframe tbody tr th:only-of-type {\n",
       "        vertical-align: middle;\n",
       "    }\n",
       "\n",
       "    .dataframe tbody tr th {\n",
       "        vertical-align: top;\n",
       "    }\n",
       "\n",
       "    .dataframe thead th {\n",
       "        text-align: right;\n",
       "    }\n",
       "</style>\n",
       "<table border=\"1\" class=\"dataframe\">\n",
       "  <thead>\n",
       "    <tr style=\"text-align: right;\">\n",
       "      <th></th>\n",
       "      <th>Baseline Test Score</th>\n",
       "      <th>rsme</th>\n",
       "      <th>w/ Intercept Score</th>\n",
       "      <th>rsme_i</th>\n",
       "      <th>n/ Intercept Score</th>\n",
       "      <th>rsme_n_i</th>\n",
       "      <th>other Score</th>\n",
       "      <th>rsme_o</th>\n",
       "    </tr>\n",
       "  </thead>\n",
       "  <tbody>\n",
       "    <tr>\n",
       "      <th>LinearRegression()</th>\n",
       "      <td>0.905813</td>\n",
       "      <td>24998.404132</td>\n",
       "      <td>0.905813</td>\n",
       "      <td>24998.404132</td>\n",
       "      <td>0.905792</td>\n",
       "      <td>25001.198428</td>\n",
       "      <td>NaN</td>\n",
       "      <td>NaN</td>\n",
       "    </tr>\n",
       "    <tr>\n",
       "      <th>LogisticRegression()</th>\n",
       "      <td>0.013645</td>\n",
       "      <td>44278.091201</td>\n",
       "      <td>NaN</td>\n",
       "      <td>NaN</td>\n",
       "      <td>NaN</td>\n",
       "      <td>NaN</td>\n",
       "      <td>NaN</td>\n",
       "      <td>NaN</td>\n",
       "    </tr>\n",
       "    <tr>\n",
       "      <th>Ridge()</th>\n",
       "      <td>0.917541</td>\n",
       "      <td>23390.271443</td>\n",
       "      <td>0.914367</td>\n",
       "      <td>23836.227607</td>\n",
       "      <td>0.912054</td>\n",
       "      <td>24155.964018</td>\n",
       "      <td>NaN</td>\n",
       "      <td>NaN</td>\n",
       "    </tr>\n",
       "    <tr>\n",
       "      <th>Lasso()</th>\n",
       "      <td>0.914111</td>\n",
       "      <td>23871.784549</td>\n",
       "      <td>0.922097</td>\n",
       "      <td>22734.888329</td>\n",
       "      <td>0.921049</td>\n",
       "      <td>22887.373564</td>\n",
       "      <td>NaN</td>\n",
       "      <td>NaN</td>\n",
       "    </tr>\n",
       "    <tr>\n",
       "      <th>ElasticNet()</th>\n",
       "      <td>0.883311</td>\n",
       "      <td>27824.695600</td>\n",
       "      <td>0.907132</td>\n",
       "      <td>24822.720877</td>\n",
       "      <td>0.904297</td>\n",
       "      <td>25198.711260</td>\n",
       "      <td>NaN</td>\n",
       "      <td>NaN</td>\n",
       "    </tr>\n",
       "    <tr>\n",
       "      <th>KNeighborsRegressor()</th>\n",
       "      <td>0.875086</td>\n",
       "      <td>28788.655751</td>\n",
       "      <td>NaN</td>\n",
       "      <td>NaN</td>\n",
       "      <td>NaN</td>\n",
       "      <td>NaN</td>\n",
       "      <td>0.880564</td>\n",
       "      <td>28150.360351</td>\n",
       "    </tr>\n",
       "    <tr>\n",
       "      <th>SVR()</th>\n",
       "      <td>-0.073246</td>\n",
       "      <td>84385.063471</td>\n",
       "      <td>NaN</td>\n",
       "      <td>NaN</td>\n",
       "      <td>NaN</td>\n",
       "      <td>NaN</td>\n",
       "      <td>-0.059863</td>\n",
       "      <td>83857.289040</td>\n",
       "    </tr>\n",
       "  </tbody>\n",
       "</table>\n",
       "</div>"
      ],
      "text/plain": [
       "                       Baseline Test Score          rsme  w/ Intercept Score  \\\n",
       "LinearRegression()                0.905813  24998.404132            0.905813   \n",
       "LogisticRegression()              0.013645  44278.091201                 NaN   \n",
       "Ridge()                           0.917541  23390.271443            0.914367   \n",
       "Lasso()                           0.914111  23871.784549            0.922097   \n",
       "ElasticNet()                      0.883311  27824.695600            0.907132   \n",
       "KNeighborsRegressor()             0.875086  28788.655751                 NaN   \n",
       "SVR()                            -0.073246  84385.063471                 NaN   \n",
       "\n",
       "                             rsme_i  n/ Intercept Score      rsme_n_i  \\\n",
       "LinearRegression()     24998.404132            0.905792  25001.198428   \n",
       "LogisticRegression()            NaN                 NaN           NaN   \n",
       "Ridge()                23836.227607            0.912054  24155.964018   \n",
       "Lasso()                22734.888329            0.921049  22887.373564   \n",
       "ElasticNet()           24822.720877            0.904297  25198.711260   \n",
       "KNeighborsRegressor()           NaN                 NaN           NaN   \n",
       "SVR()                           NaN                 NaN           NaN   \n",
       "\n",
       "                       other Score        rsme_o  \n",
       "LinearRegression()             NaN           NaN  \n",
       "LogisticRegression()           NaN           NaN  \n",
       "Ridge()                        NaN           NaN  \n",
       "Lasso()                        NaN           NaN  \n",
       "ElasticNet()                   NaN           NaN  \n",
       "KNeighborsRegressor()     0.880564  28150.360351  \n",
       "SVR()                    -0.059863  83857.289040  "
      ]
     },
     "execution_count": 67,
     "metadata": {},
     "output_type": "execute_result"
    }
   ],
   "source": [
    "df_results"
   ]
  },
  {
   "cell_type": "code",
   "execution_count": 70,
   "metadata": {},
   "outputs": [
    {
     "data": {
      "text/plain": [
       "{'kneighborsregressor__leaf_size': 20,\n",
       " 'kneighborsregressor__n_jobs': -1,\n",
       " 'kneighborsregressor__n_neighbors': 7}"
      ]
     },
     "execution_count": 70,
     "metadata": {},
     "output_type": "execute_result"
    }
   ],
   "source": [
    "grid_fit_objects_o[0].best_params_"
   ]
  },
  {
   "cell_type": "code",
   "execution_count": 76,
   "metadata": {},
   "outputs": [],
   "source": [
    "#save = dump(grid_fit_objects_f[2], '/home/blue/general-assembly/dsir-824/submissions/projects/project-2-master/outputted work/lasso-rsme-22887.joblib')"
   ]
  },
  {
   "cell_type": "code",
   "execution_count": 91,
   "metadata": {},
   "outputs": [],
   "source": [
    "predictions = grid_fit_objects_f[2].predict(df_test)"
   ]
  },
  {
   "cell_type": "code",
   "execution_count": 92,
   "metadata": {},
   "outputs": [],
   "source": [
    "predictions = pd.DataFrame(predictions)"
   ]
  },
  {
   "cell_type": "code",
   "execution_count": 93,
   "metadata": {},
   "outputs": [],
   "source": [
    "predictions = predictions.rename({0:'SalePrice'}, axis=1)"
   ]
  },
  {
   "cell_type": "code",
   "execution_count": 94,
   "metadata": {},
   "outputs": [],
   "source": [
    "predictions = predictions.join(df_test['Id'])"
   ]
  },
  {
   "cell_type": "code",
   "execution_count": 95,
   "metadata": {},
   "outputs": [],
   "source": [
    "predictions = predictions[['Id', 'SalePrice']]"
   ]
  },
  {
   "cell_type": "code",
   "execution_count": 98,
   "metadata": {},
   "outputs": [],
   "source": [
    "predictions.to_csv('/home/blue/general-assembly/dsir-824/submissions/projects/project-2-master/outputted work/920-lasso-predictions.csv', index=False)"
   ]
  },
  {
   "cell_type": "code",
   "execution_count": 112,
   "metadata": {},
   "outputs": [
    {
     "data": {
      "text/plain": [
       "{'lasso__alpha': 10, 'lasso__fit_intercept': False, 'lasso__max_iter': 100000}"
      ]
     },
     "execution_count": 112,
     "metadata": {},
     "output_type": "execute_result"
    }
   ],
   "source": [
    "grid_fit_objects_f[2].best_params_"
   ]
  },
  {
   "cell_type": "code",
   "execution_count": null,
   "metadata": {},
   "outputs": [],
   "source": []
  }
 ],
 "metadata": {
  "kernelspec": {
   "display_name": "Python 3",
   "language": "python",
   "name": "python3"
  },
  "language_info": {
   "codemirror_mode": {
    "name": "ipython",
    "version": 3
   },
   "file_extension": ".py",
   "mimetype": "text/x-python",
   "name": "python",
   "nbconvert_exporter": "python",
   "pygments_lexer": "ipython3",
   "version": "3.8.3"
  }
 },
 "nbformat": 4,
 "nbformat_minor": 4
}
