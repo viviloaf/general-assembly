{
 "cells": [
  {
   "cell_type": "code",
   "execution_count": 3,
   "metadata": {},
   "outputs": [],
   "source": [
    "import numpy as np\n",
    "import pandas as pd\n",
    "\n",
    "import matplotlib.pyplot as plt\n",
    "\n",
    "import seaborn as sns\n",
    "\n",
    "from sklearn.linear_model import Lasso\n",
    "from sklearn.model_selection import train_test_split, GridSearchCV\n",
    "from sklearn.pipeline import make_pipeline, Pipeline\n",
    "from sklearn.preprocessing import StandardScaler, OneHotEncoder\n",
    "from sklearn.impute import SimpleImputer\n",
    "from sklearn.compose import ColumnTransformer, make_column_transformer, make_column_selector\n",
    "from sklearn.metrics import mean_squared_error\n",
    "\n",
    "from sklearn import set_config\n",
    "from joblib import dump, load"
   ]
  },
  {
   "cell_type": "code",
   "execution_count": 4,
   "metadata": {},
   "outputs": [],
   "source": [
    "df_train_raw = pd.read_csv('/home/blue/general-assembly/dsir-824/submissions/projects/project-2-master/datasets/train.csv')\n",
    "\n",
    "df = df_train_raw.copy()"
   ]
  },
  {
   "cell_type": "code",
   "execution_count": 5,
   "metadata": {},
   "outputs": [],
   "source": [
    "df_test_raw = pd.read_csv('/home/blue/general-assembly/dsir-824/submissions/projects/project-2-master/datasets/test.csv')\n",
    "df_test = df_test_raw.copy()"
   ]
  },
  {
   "cell_type": "code",
   "execution_count": 6,
   "metadata": {},
   "outputs": [],
   "source": [
    "# This will use the entire dataset\n",
    "X = df.drop('SalePrice', axis=1)\n",
    "y = df['SalePrice']"
   ]
  },
  {
   "cell_type": "code",
   "execution_count": 7,
   "metadata": {},
   "outputs": [
    {
     "data": {
      "text/plain": [
       "Lasso()"
      ]
     },
     "execution_count": 7,
     "metadata": {},
     "output_type": "execute_result"
    }
   ],
   "source": [
    "Lasso()"
   ]
  },
  {
   "cell_type": "code",
   "execution_count": 8,
   "metadata": {},
   "outputs": [],
   "source": [
    "params = {\n",
    "    'lasso__alpha': np.arange(0.1,30,0.1),\n",
    "    'lasso__fit_intercept': [False],\n",
    "    'lasso__max_iter': [-1]\n",
    "},\n"
   ]
  },
  {
   "cell_type": "code",
   "execution_count": 9,
   "metadata": {},
   "outputs": [],
   "source": [
    "# https://scikit-learn.org/stable/auto_examples/compose/plot_column_transformer_mixed_types.html\n",
    "#numeric_features = list(X.loc[:, X.dtypes == object].columns)\n",
    "numeric_transformer = Pipeline(steps=[\n",
    "    ('num_imputer', SimpleImputer(strategy='mean')),\n",
    "    ('num_scaler', StandardScaler())])\n",
    "\n",
    "#cat_features = list(X.loc[:, X.dtypes != object].columns)\n",
    "categorical_transformer = Pipeline(steps=[\n",
    "    ('cat_imputer', SimpleImputer(strategy='constant', fill_value='Other')),\n",
    "    ('cat_onehot', OneHotEncoder(handle_unknown='ignore'))])\n",
    "\n",
    "preprocessing = ColumnTransformer(transformers=[\n",
    "    ('num', numeric_transformer, make_column_selector(dtype_include=np.number)),\n",
    "    ('cat', categorical_transformer, make_column_selector(dtype_include='object'))\n",
    "])"
   ]
  },
  {
   "cell_type": "code",
   "execution_count": 10,
   "metadata": {},
   "outputs": [],
   "source": [
    "class ModelSelection:\n",
    "    '''\n",
    "    This holds several functions\n",
    "    '''\n",
    "    \n",
    "    def __init__(self, X, y):\n",
    "        '''\n",
    "        This creates the X_train, X_test, y_train, y_test arrays\n",
    "        '''\n",
    "        X_train, X_test, y_train, y_test = train_test_split(X, y)\n",
    "        \n",
    "        self.X_train = X_train\n",
    "        self.X_test = X_test\n",
    "        self.y_train = y_train\n",
    "        self.y_test = y_test\n",
    "        \n",
    "    def make_pipe(self, preprocessing, estimator_list):\n",
    "        '''\n",
    "        This takes in a list of estimators and a preprocessing pipe object\n",
    "        It outputs a list of pipes with a preprocessing object and an estimator object\n",
    "        '''\n",
    "        pipe_list = []\n",
    "        for estimator in estimator_list:\n",
    "            pipe_list.append(make_pipeline(preprocessing, estimator))\n",
    "        \n",
    "        return pipe_list\n",
    "        \n",
    "    \n",
    "    def evaluate_pipes(self, pipe_list):\n",
    "        '''\n",
    "        This evaluates each pipe object in a list and returns back a list of scores and best params\n",
    "        It takes in two X and Y, uses train_test_split to separate into 4 different arrays\n",
    "        Then it evaluates each model on a test set and measures the accuracy\n",
    "        The function returns the list of scores\n",
    "        '''\n",
    "        \n",
    "        scores = []\n",
    "        objects = []\n",
    "        for pipe in pipe_list:\n",
    "            pipe_object = pipe.fit(self.X_train,self.y_train)\n",
    "            scores.append(pipe_object.score(self.X_test, self.y_test))\n",
    "            objects.append(pipe_object)\n",
    "        return scores, objects\n",
    "    \n",
    "    def calculate_rsme(self, preprocessing, fitted_pipe_objects):\n",
    "        '''\n",
    "        This takes in a list of fitted pipe objects, self variables\n",
    "        find residuials\n",
    "        \n",
    "        '''\n",
    "        list_rsme = []\n",
    "        #processed_x_test = preprocessing.transform(self.X_test)\n",
    "        for pipe in fitted_pipe_objects:\n",
    "            preds = pipe.predict(self.X_test)\n",
    "            rsme = mean_squared_error(self.y_test, preds, squared=False)\n",
    "            list_rsme.append(rsme)\n",
    "            \n",
    "        return list_rsme\n",
    "            \n",
    "    def make_grid_search(self, preprocessing, estimator_list, params):\n",
    "        '''\n",
    "        This is a function that takes in a preprocessing pipeline, a list of estimator objects and params\n",
    "        This returns a list of fitted GridSearchCV Objects that can then be iterated through\n",
    "        '''\n",
    "        \n",
    "        pipe_array = self.make_pipe(preprocessing, estimator_list) \n",
    "        grid_array = []\n",
    "        \n",
    "        for pipe_object, param in list(zip(pipe_array, params)):\n",
    "            grid_array.append(\n",
    "                GridSearchCV(\n",
    "                    estimator=pipe_object, \n",
    "                    param_grid=param,\n",
    "                    n_jobs=-1))\n",
    "\n",
    "        return pipe_array, grid_array\n",
    "    \n",
    "    def evaluate_grid_search(self, grid_list):\n",
    "        '''\n",
    "        Takes in a list of grid objects\n",
    "        Trains them on initial X and Y train test split\n",
    "        evaluates on test dataset\n",
    "        outputs a list of accuracy scores, list of fitted grid objects\n",
    "        '''\n",
    "        scores = []\n",
    "        objects = []\n",
    "        \n",
    "        for grid in grid_list:\n",
    "            grid_object = grid.fit(self.X_train, self.y_train)\n",
    "            scores.append(grid.score(self.X_test, self.y_test))\n",
    "            objects.append(grid_object)\n",
    "        \n",
    "        return scores, objects"
   ]
  },
  {
   "cell_type": "code",
   "execution_count": 11,
   "metadata": {},
   "outputs": [],
   "source": [
    "# Instantiate class\n",
    "ms = ModelSelection(X, y)"
   ]
  },
  {
   "cell_type": "code",
   "execution_count": 12,
   "metadata": {},
   "outputs": [],
   "source": [
    "pipe = make_pipeline(preprocessing, Lasso())"
   ]
  },
  {
   "cell_type": "code",
   "execution_count": 13,
   "metadata": {},
   "outputs": [],
   "source": [
    "gs = GridSearchCV(pipe, params, n_jobs=-1)"
   ]
  },
  {
   "cell_type": "code",
   "execution_count": 14,
   "metadata": {},
   "outputs": [],
   "source": [
    "scores, objects = ms.evaluate_grid_search([gs])"
   ]
  },
  {
   "cell_type": "code",
   "execution_count": 15,
   "metadata": {},
   "outputs": [
    {
     "data": {
      "text/plain": [
       "[0.9092953872829259]"
      ]
     },
     "execution_count": 15,
     "metadata": {},
     "output_type": "execute_result"
    }
   ],
   "source": [
    "scores\n"
   ]
  },
  {
   "cell_type": "code",
   "execution_count": 25,
   "metadata": {},
   "outputs": [
    {
     "data": {
      "text/plain": [
       "{'lasso__alpha': 29.900000000000002,\n",
       " 'lasso__fit_intercept': False,\n",
       " 'lasso__max_iter': -1}"
      ]
     },
     "execution_count": 25,
     "metadata": {},
     "output_type": "execute_result"
    }
   ],
   "source": [
    "objects[0].best_params_"
   ]
  },
  {
   "cell_type": "code",
   "execution_count": 26,
   "metadata": {},
   "outputs": [
    {
     "data": {
      "text/plain": [
       "['/home/blue/general-assembly/dsir-824/submissions/projects/project-2-master/overfit-']"
      ]
     },
     "execution_count": 26,
     "metadata": {},
     "output_type": "execute_result"
    }
   ],
   "source": [
    "dump(objects[0], '/home/blue/general-assembly/dsir-824/submissions/projects/project-2-master/overfit-')"
   ]
  },
  {
   "cell_type": "code",
   "execution_count": null,
   "metadata": {},
   "outputs": [],
   "source": []
  }
 ],
 "metadata": {
  "kernelspec": {
   "display_name": "Python 3",
   "language": "python",
   "name": "python3"
  },
  "language_info": {
   "codemirror_mode": {
    "name": "ipython",
    "version": 3
   },
   "file_extension": ".py",
   "mimetype": "text/x-python",
   "name": "python",
   "nbconvert_exporter": "python",
   "pygments_lexer": "ipython3",
   "version": "3.8.3"
  }
 },
 "nbformat": 4,
 "nbformat_minor": 4
}
