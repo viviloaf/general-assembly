{
 "cells": [
  {
   "cell_type": "code",
   "execution_count": 1,
   "metadata": {},
   "outputs": [],
   "source": [
    "# I am using a chi test/f_regression to try to select the best categeorical features"
   ]
  },
  {
   "cell_type": "code",
   "execution_count": 2,
   "metadata": {},
   "outputs": [],
   "source": [
    "import pandas as pd\n",
    "import numpy as np\n",
    "\n",
    "import models as model\n",
    "\n",
    "from sklearn.model_selection import train_test_split\n",
    "from sklearn.feature_selection import VarianceThreshold, SelectKBest, chi2, f_regression\n",
    "\n",
    "from sklearn.pipeline import make_pipeline, Pipeline\n",
    "from sklearn import set_config"
   ]
  },
  {
   "cell_type": "code",
   "execution_count": 3,
   "metadata": {},
   "outputs": [],
   "source": [
    "df_train_raw = pd.read_csv('/home/blue/general-assembly/dsir-824/submissions/projects/project-2-master/datasets/train.csv')\n",
    "\n",
    "df = df_train_raw.copy()"
   ]
  },
  {
   "cell_type": "code",
   "execution_count": 4,
   "metadata": {},
   "outputs": [],
   "source": [
    "# This will use the entire dataset\n",
    "X = df.drop('SalePrice', axis=1)\n",
    "y = df['SalePrice']"
   ]
  },
  {
   "cell_type": "code",
   "execution_count": 5,
   "metadata": {},
   "outputs": [],
   "source": [
    "df_objects = df.loc[:, df.dtypes == object]"
   ]
  },
  {
   "cell_type": "code",
   "execution_count": 6,
   "metadata": {},
   "outputs": [],
   "source": [
    "ms = model.ModelSelection(df_objects,y)"
   ]
  },
  {
   "cell_type": "code",
   "execution_count": 7,
   "metadata": {},
   "outputs": [],
   "source": [
    "preprocessing = ms.preprocessing"
   ]
  },
  {
   "cell_type": "code",
   "execution_count": 22,
   "metadata": {},
   "outputs": [],
   "source": [
    "X_transform = preprocessing.fit_transform(ms.X_train, ms.y_train)"
   ]
  },
  {
   "cell_type": "code",
   "execution_count": 50,
   "metadata": {},
   "outputs": [],
   "source": [
    "fs = SelectKBest(score_func=chi2, k='all').fit_transform(X_transform, ms.y_train)"
   ]
  },
  {
   "cell_type": "code",
   "execution_count": 56,
   "metadata": {},
   "outputs": [
    {
     "name": "stdout",
     "output_type": "stream",
     "text": [
      "  (0, 2)\t4.6430519264397025\n",
      "  (0, 7)\t16.041734625108955\n",
      "  (0, 10)\t6.360968069468202\n",
      "  (0, 14)\t2.0806270202298274\n",
      "  (0, 18)\t3.222739749748365\n",
      "  (0, 19)\t39.23009878419996\n",
      "  (0, 25)\t2.2478078483346606\n",
      "  (0, 26)\t4.672721929654193\n",
      "  (0, 51)\t4.133691756267012\n",
      "  (0, 57)\t2.924144617948019\n",
      "  (0, 66)\t9.298187272243318\n",
      "  (0, 76)\t3.7284437639314456\n",
      "  (0, 82)\t2.2052927464013194\n",
      "  (0, 86)\t2.4550872751329957\n",
      "  (0, 92)\t8.61695644351875\n",
      "  (0, 105)\t2.6973947695753133\n",
      "  (0, 120)\t2.714752259348291\n",
      "  (0, 129)\t2.0315498865434627\n",
      "  (0, 134)\t2.109947816845919\n",
      "  (0, 140)\t2.900792360284\n",
      "  (0, 143)\t2.008099861273569\n",
      "  (0, 149)\t2.02522756197023\n",
      "  (0, 157)\t3.222739749748365\n",
      "  (0, 161)\t2.0847229101855898\n",
      "  (0, 169)\t2.2112290279691504\n",
      "  :\t:\n",
      "  (4, 129)\t2.0315498865434627\n",
      "  (4, 135)\t2.047094192717294\n",
      "  (4, 140)\t2.900792360284\n",
      "  (4, 142)\t2.0306005939084053\n",
      "  (4, 149)\t2.02522756197023\n",
      "  (4, 157)\t3.222739749748365\n",
      "  (4, 159)\t3.3218452468476563\n",
      "  (4, 165)\t2.1734092950695794\n",
      "  (4, 176)\t2.794092338977482\n",
      "  (4, 177)\t7.352122195924314\n",
      "  (4, 184)\t2.7650066540655014\n",
      "  (4, 188)\t3.8327428448358747\n",
      "  (4, 193)\t3.53395175026564\n",
      "  (4, 197)\t2.000331521245002\n",
      "  (4, 205)\t4.174541780910592\n",
      "  (4, 209)\t2.000610735853647\n",
      "  (4, 213)\t2.0349951408828444\n",
      "  (4, 221)\t2.2009191008752738\n",
      "  (4, 228)\t3.197505197505204\n",
      "  (4, 234)\t3.4012151360029037\n",
      "  (4, 237)\t3.42213214819878\n",
      "  (4, 240)\t14.856609905672785\n",
      "  (4, 246)\t2.5431529490283387\n",
      "  (4, 248)\t5.693914566796879\n",
      "  (4, 260)\t2.9605842313518207\n"
     ]
    }
   ],
   "source": [
    "print(fs[:5])"
   ]
  },
  {
   "cell_type": "code",
   "execution_count": 59,
   "metadata": {},
   "outputs": [
    {
     "name": "stdout",
     "output_type": "stream",
     "text": [
      "  (0, 2)\t4.6430519264397025\n",
      "  (0, 7)\t16.041734625108955\n",
      "  (0, 10)\t6.360968069468202\n",
      "  (0, 14)\t2.0806270202298274\n",
      "  (0, 18)\t3.222739749748365\n",
      "  (0, 19)\t39.23009878419996\n",
      "  (0, 25)\t2.2478078483346606\n",
      "  (0, 26)\t4.672721929654193\n",
      "  (0, 51)\t4.133691756267012\n",
      "  (0, 57)\t2.924144617948019\n",
      "  (0, 66)\t9.298187272243318\n",
      "  (0, 76)\t3.7284437639314456\n",
      "  (0, 82)\t2.2052927464013194\n",
      "  (0, 86)\t2.4550872751329957\n",
      "  (0, 92)\t8.61695644351875\n",
      "  (0, 105)\t2.6973947695753133\n",
      "  (0, 120)\t2.714752259348291\n",
      "  (0, 129)\t2.0315498865434627\n",
      "  (0, 134)\t2.109947816845919\n",
      "  (0, 140)\t2.900792360284\n",
      "  (0, 143)\t2.008099861273569\n",
      "  (0, 149)\t2.02522756197023\n",
      "  (0, 157)\t3.222739749748365\n",
      "  (0, 161)\t2.0847229101855898\n",
      "  (0, 169)\t2.2112290279691504\n",
      "  :\t:\n",
      "  (1537, 129)\t2.0315498865434627\n",
      "  (1537, 134)\t2.109947816845919\n",
      "  (1537, 140)\t2.900792360284\n",
      "  (1537, 143)\t2.008099861273569\n",
      "  (1537, 149)\t2.02522756197023\n",
      "  (1537, 157)\t3.222739749748365\n",
      "  (1537, 158)\t2.8141890193472117\n",
      "  (1537, 169)\t2.2112290279691504\n",
      "  (1537, 176)\t2.794092338977482\n",
      "  (1537, 177)\t7.352122195924314\n",
      "  (1537, 182)\t2.002195163511018\n",
      "  (1537, 188)\t3.8327428448358747\n",
      "  (1537, 193)\t3.53395175026564\n",
      "  (1537, 196)\t2.051359687446601\n",
      "  (1537, 205)\t4.174541780910592\n",
      "  (1537, 209)\t2.000610735853647\n",
      "  (1537, 213)\t2.0349951408828444\n",
      "  (1537, 219)\t2.3482913962644294\n",
      "  (1537, 228)\t3.197505197505204\n",
      "  (1537, 234)\t3.4012151360029037\n",
      "  (1537, 237)\t3.42213214819878\n",
      "  (1537, 240)\t14.856609905672785\n",
      "  (1537, 246)\t2.5431529490283387\n",
      "  (1537, 248)\t5.693914566796879\n",
      "  (1537, 258)\t3.742757221949974\n"
     ]
    }
   ],
   "source": [
    "print(X_transform)"
   ]
  },
  {
   "cell_type": "code",
   "execution_count": null,
   "metadata": {},
   "outputs": [],
   "source": []
  }
 ],
 "metadata": {
  "kernelspec": {
   "display_name": "Python 3",
   "language": "python",
   "name": "python3"
  },
  "language_info": {
   "codemirror_mode": {
    "name": "ipython",
    "version": 3
   },
   "file_extension": ".py",
   "mimetype": "text/x-python",
   "name": "python",
   "nbconvert_exporter": "python",
   "pygments_lexer": "ipython3",
   "version": "3.8.3"
  }
 },
 "nbformat": 4,
 "nbformat_minor": 4
}
