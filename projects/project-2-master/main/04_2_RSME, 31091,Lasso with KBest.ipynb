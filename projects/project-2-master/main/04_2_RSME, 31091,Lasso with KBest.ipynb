{
 "cells": [
  {
   "cell_type": "code",
   "execution_count": 54,
   "metadata": {},
   "outputs": [],
   "source": [
    "import numpy as np\n",
    "import pandas as pd\n",
    "\n",
    "import matplotlib.pyplot as plt\n",
    "\n",
    "import seaborn as sns\n",
    "\n",
    "import models as model\n",
    "\n",
    "from sklearn.linear_model import Lasso\n",
    "from sklearn.model_selection import train_test_split, GridSearchCV\n",
    "from sklearn.pipeline import make_pipeline, Pipeline\n",
    "from sklearn.preprocessing import StandardScaler, OneHotEncoder\n",
    "from sklearn.impute import SimpleImputer\n",
    "from sklearn.compose import ColumnTransformer, make_column_transformer, make_column_selector\n",
    "from sklearn.metrics import mean_squared_error\n",
    "from sklearn.feature_selection import SelectKBest, chi2\n",
    "\n",
    "from sklearn import set_config\n",
    "from joblib import dump, load"
   ]
  },
  {
   "cell_type": "code",
   "execution_count": 55,
   "metadata": {},
   "outputs": [],
   "source": [
    "df_test_raw = pd.read_csv('/home/blue/general-assembly/dsir-824/submissions/projects/project-2-master/datasets/test.csv')\n",
    "df_test = df_test_raw.copy()"
   ]
  },
  {
   "cell_type": "code",
   "execution_count": 56,
   "metadata": {},
   "outputs": [],
   "source": [
    "df_train_raw = pd.read_csv('/home/blue/general-assembly/dsir-824/submissions/projects/project-2-master/datasets/train.csv')\n",
    "\n",
    "df = df_train_raw.copy()"
   ]
  },
  {
   "cell_type": "code",
   "execution_count": 57,
   "metadata": {},
   "outputs": [],
   "source": [
    "# This will use the entire dataset\n",
    "X = df.drop('SalePrice', axis=1)\n",
    "y = df['SalePrice']"
   ]
  },
  {
   "cell_type": "code",
   "execution_count": null,
   "metadata": {},
   "outputs": [],
   "source": [
    "Lasso()"
   ]
  },
  {
   "cell_type": "code",
   "execution_count": 142,
   "metadata": {},
   "outputs": [],
   "source": [
    "params = {\n",
    "    'lasso__alpha': [100,150,200],\n",
    "    'lasso__fit_intercept': [True],\n",
    "    'lasso__normalize': [True],\n",
    "    'lasso__max_iter': [-1],\n",
    "    'columntransformer__num__num_kbest__k': [35],#list(range(10, 31,5)),\n",
    "    'columntransformer__cat__cat_kbest__k': [30],#list(range(10, 31,5))\n",
    "},\n"
   ]
  },
  {
   "cell_type": "code",
   "execution_count": 143,
   "metadata": {},
   "outputs": [],
   "source": [
    "# Create Custom Preprocessing Module to include KBest\n",
    "# This is the version which we will train a baseline with kfeatures\n",
    "# There is a basic version of preprocessing inside class ModelSelection which does not handle feature selection\n",
    "\n",
    "numeric_transformer = Pipeline(steps=[\n",
    "    ('num_imputer', SimpleImputer()),\n",
    "    ('num_scaler', StandardScaler()),\n",
    "    ('num_kbest', SelectKBest())])\n",
    "\n",
    "categorical_transformer = Pipeline(steps=[\n",
    "    ('cat_imputer', SimpleImputer(strategy='constant', fill_value='Other')),\n",
    "    ('cat_onehot', OneHotEncoder(handle_unknown='ignore')),\n",
    "    ('cat_scaler', StandardScaler(with_mean=False)),\n",
    "    ('cat_kbest', SelectKBest(score_func=chi2))])\n",
    "\n",
    "\n",
    "preprocessing = ColumnTransformer(transformers=[\n",
    "    ('num', numeric_transformer, make_column_selector(dtype_include=np.number)),\n",
    "    ('cat', categorical_transformer, make_column_selector(dtype_include='object'))\n",
    "])"
   ]
  },
  {
   "cell_type": "code",
   "execution_count": 144,
   "metadata": {},
   "outputs": [],
   "source": [
    "# Instantiate class\n",
    "ms = model.ModelSelection(X, y)"
   ]
  },
  {
   "cell_type": "code",
   "execution_count": 145,
   "metadata": {},
   "outputs": [],
   "source": [
    "pipe = make_pipeline(preprocessing, Lasso())"
   ]
  },
  {
   "cell_type": "code",
   "execution_count": 146,
   "metadata": {},
   "outputs": [],
   "source": [
    "gs = GridSearchCV(pipe, params, n_jobs=-1)"
   ]
  },
  {
   "cell_type": "code",
   "execution_count": 147,
   "metadata": {},
   "outputs": [
    {
     "data": {
      "text/html": [
       "<style>div.sk-top-container {color: black;background-color: white;}div.sk-toggleable {background-color: white;}label.sk-toggleable__label {cursor: pointer;display: block;width: 100%;margin-bottom: 0;padding: 0.2em 0.3em;box-sizing: border-box;text-align: center;}div.sk-toggleable__content {max-height: 0;max-width: 0;overflow: hidden;text-align: left;background-color: #f0f8ff;}div.sk-toggleable__content pre {margin: 0.2em;color: black;border-radius: 0.25em;background-color: #f0f8ff;}input.sk-toggleable__control:checked~div.sk-toggleable__content {max-height: 200px;max-width: 100%;overflow: auto;}div.sk-estimator input.sk-toggleable__control:checked~label.sk-toggleable__label {background-color: #d4ebff;}div.sk-label input.sk-toggleable__control:checked~label.sk-toggleable__label {background-color: #d4ebff;}input.sk-hidden--visually {border: 0;clip: rect(1px 1px 1px 1px);clip: rect(1px, 1px, 1px, 1px);height: 1px;margin: -1px;overflow: hidden;padding: 0;position: absolute;width: 1px;}div.sk-estimator {font-family: monospace;background-color: #f0f8ff;margin: 0.25em 0.25em;border: 1px dotted black;border-radius: 0.25em;box-sizing: border-box;}div.sk-estimator:hover {background-color: #d4ebff;}div.sk-parallel-item::after {content: \"\";width: 100%;border-bottom: 1px solid gray;flex-grow: 1;}div.sk-label:hover label.sk-toggleable__label {background-color: #d4ebff;}div.sk-serial::before {content: \"\";position: absolute;border-left: 1px solid gray;box-sizing: border-box;top: 2em;bottom: 0;left: 50%;}div.sk-serial {display: flex;flex-direction: column;align-items: center;background-color: white;}div.sk-item {z-index: 1;}div.sk-parallel {display: flex;align-items: stretch;justify-content: center;background-color: white;}div.sk-parallel-item {display: flex;flex-direction: column;position: relative;background-color: white;}div.sk-parallel-item:first-child::after {align-self: flex-end;width: 50%;}div.sk-parallel-item:last-child::after {align-self: flex-start;width: 50%;}div.sk-parallel-item:only-child::after {width: 0;}div.sk-dashed-wrapped {border: 1px dashed gray;margin: 0.2em;box-sizing: border-box;padding-bottom: 0.1em;background-color: white;position: relative;}div.sk-label label {font-family: monospace;font-weight: bold;background-color: white;display: inline-block;line-height: 1.2em;}div.sk-label-container {position: relative;z-index: 2;text-align: center;}div.sk-container {display: inline-block;position: relative;}</style><div class=\"sk-top-container\"><div class=\"sk-container\"><div class=\"sk-item sk-dashed-wrapped\"><div class=\"sk-label-container\"><div class=\"sk-label sk-toggleable\"><input class=\"sk-toggleable__control sk-hidden--visually\" id=\"1954b238-b7d2-4563-98c7-8e68091828f2\" type=\"checkbox\" ><label class=\"sk-toggleable__label\" for=\"1954b238-b7d2-4563-98c7-8e68091828f2\">GridSearchCV</label><div class=\"sk-toggleable__content\"><pre>GridSearchCV(estimator=Pipeline(steps=[('columntransformer',\n",
       "                                        ColumnTransformer(transformers=[('num',\n",
       "                                                                         Pipeline(steps=[('num_imputer',\n",
       "                                                                                          SimpleImputer()),\n",
       "                                                                                         ('num_scaler',\n",
       "                                                                                          StandardScaler()),\n",
       "                                                                                         ('num_kbest',\n",
       "                                                                                          SelectKBest())]),\n",
       "                                                                         <sklearn.compose._column_transformer.make_column_selector object at 0x7fe3e7499e80>),\n",
       "                                                                        ('cat',\n",
       "                                                                         Pipeline(steps=[('cat_imputer',\n",
       "                                                                                          SimpleImputer(fill_va...\n",
       "                                                                                          SelectKBest(score_func=<function chi2 at 0x7fe3cd75aaf0>))]),\n",
       "                                                                         <sklearn.compose._column_transformer.make_column_selector object at 0x7fe3cc7d66d0>)])),\n",
       "                                       ('lasso', Lasso())]),\n",
       "             n_jobs=-1,\n",
       "             param_grid=({'columntransformer__cat__cat_kbest__k': [30],\n",
       "                          'columntransformer__num__num_kbest__k': [35],\n",
       "                          'lasso__alpha': [100, 150, 200],\n",
       "                          'lasso__fit_intercept': [True],\n",
       "                          'lasso__max_iter': [-1],\n",
       "                          'lasso__normalize': [True]},))</pre></div></div></div><div class=\"sk-parallel\"><div class=\"sk-parallel-item\"><div class=\"sk-item\"><div class=\"sk-serial\"><div class=\"sk-item\"><div class=\"sk-serial\"><div class=\"sk-item sk-dashed-wrapped\"><div class=\"sk-label-container\"><div class=\"sk-label sk-toggleable\"><input class=\"sk-toggleable__control sk-hidden--visually\" id=\"238a02f1-23d5-405e-8400-57e6124dc2ca\" type=\"checkbox\" ><label class=\"sk-toggleable__label\" for=\"238a02f1-23d5-405e-8400-57e6124dc2ca\">columntransformer: ColumnTransformer</label><div class=\"sk-toggleable__content\"><pre>ColumnTransformer(transformers=[('num',\n",
       "                                 Pipeline(steps=[('num_imputer',\n",
       "                                                  SimpleImputer()),\n",
       "                                                 ('num_scaler',\n",
       "                                                  StandardScaler()),\n",
       "                                                 ('num_kbest', SelectKBest())]),\n",
       "                                 <sklearn.compose._column_transformer.make_column_selector object at 0x7fe3e7499e80>),\n",
       "                                ('cat',\n",
       "                                 Pipeline(steps=[('cat_imputer',\n",
       "                                                  SimpleImputer(fill_value='Other',\n",
       "                                                                strategy='constant')),\n",
       "                                                 ('cat_onehot',\n",
       "                                                  OneHotEncoder(handle_unknown='ignore')),\n",
       "                                                 ('cat_scaler',\n",
       "                                                  StandardScaler(with_mean=False)),\n",
       "                                                 ('cat_kbest',\n",
       "                                                  SelectKBest(score_func=<function chi2 at 0x7fe3cd75aaf0>))]),\n",
       "                                 <sklearn.compose._column_transformer.make_column_selector object at 0x7fe3cc7d66d0>)])</pre></div></div></div><div class=\"sk-parallel\"><div class=\"sk-parallel-item\"><div class=\"sk-item\"><div class=\"sk-label-container\"><div class=\"sk-label sk-toggleable\"><input class=\"sk-toggleable__control sk-hidden--visually\" id=\"610a9131-c79f-4e47-a9a3-70d233f41cf9\" type=\"checkbox\" ><label class=\"sk-toggleable__label\" for=\"610a9131-c79f-4e47-a9a3-70d233f41cf9\">num</label><div class=\"sk-toggleable__content\"><pre><sklearn.compose._column_transformer.make_column_selector object at 0x7fe3e7499e80></pre></div></div></div><div class=\"sk-serial\"><div class=\"sk-item\"><div class=\"sk-serial\"><div class=\"sk-item\"><div class=\"sk-estimator sk-toggleable\"><input class=\"sk-toggleable__control sk-hidden--visually\" id=\"cc14d5b7-2554-4a3c-b634-1415973be662\" type=\"checkbox\" ><label class=\"sk-toggleable__label\" for=\"cc14d5b7-2554-4a3c-b634-1415973be662\">SimpleImputer</label><div class=\"sk-toggleable__content\"><pre>SimpleImputer()</pre></div></div></div><div class=\"sk-item\"><div class=\"sk-estimator sk-toggleable\"><input class=\"sk-toggleable__control sk-hidden--visually\" id=\"57327c12-98ec-4b11-8aca-0b0163929b5f\" type=\"checkbox\" ><label class=\"sk-toggleable__label\" for=\"57327c12-98ec-4b11-8aca-0b0163929b5f\">StandardScaler</label><div class=\"sk-toggleable__content\"><pre>StandardScaler()</pre></div></div></div><div class=\"sk-item\"><div class=\"sk-estimator sk-toggleable\"><input class=\"sk-toggleable__control sk-hidden--visually\" id=\"8f56a334-22a1-463f-a6e6-ec653b5de27a\" type=\"checkbox\" ><label class=\"sk-toggleable__label\" for=\"8f56a334-22a1-463f-a6e6-ec653b5de27a\">SelectKBest</label><div class=\"sk-toggleable__content\"><pre>SelectKBest()</pre></div></div></div></div></div></div></div></div><div class=\"sk-parallel-item\"><div class=\"sk-item\"><div class=\"sk-label-container\"><div class=\"sk-label sk-toggleable\"><input class=\"sk-toggleable__control sk-hidden--visually\" id=\"d3ea7363-fd55-44fa-bf80-ae18fcaf5479\" type=\"checkbox\" ><label class=\"sk-toggleable__label\" for=\"d3ea7363-fd55-44fa-bf80-ae18fcaf5479\">cat</label><div class=\"sk-toggleable__content\"><pre><sklearn.compose._column_transformer.make_column_selector object at 0x7fe3cc7d66d0></pre></div></div></div><div class=\"sk-serial\"><div class=\"sk-item\"><div class=\"sk-serial\"><div class=\"sk-item\"><div class=\"sk-estimator sk-toggleable\"><input class=\"sk-toggleable__control sk-hidden--visually\" id=\"ac157da7-aacc-45d6-8a53-99f17251ea3a\" type=\"checkbox\" ><label class=\"sk-toggleable__label\" for=\"ac157da7-aacc-45d6-8a53-99f17251ea3a\">SimpleImputer</label><div class=\"sk-toggleable__content\"><pre>SimpleImputer(fill_value='Other', strategy='constant')</pre></div></div></div><div class=\"sk-item\"><div class=\"sk-estimator sk-toggleable\"><input class=\"sk-toggleable__control sk-hidden--visually\" id=\"f1e44ff4-4e81-4579-84e5-51c5c0e8f953\" type=\"checkbox\" ><label class=\"sk-toggleable__label\" for=\"f1e44ff4-4e81-4579-84e5-51c5c0e8f953\">OneHotEncoder</label><div class=\"sk-toggleable__content\"><pre>OneHotEncoder(handle_unknown='ignore')</pre></div></div></div><div class=\"sk-item\"><div class=\"sk-estimator sk-toggleable\"><input class=\"sk-toggleable__control sk-hidden--visually\" id=\"5b99086e-2151-441d-bcdd-7b6f9e699def\" type=\"checkbox\" ><label class=\"sk-toggleable__label\" for=\"5b99086e-2151-441d-bcdd-7b6f9e699def\">StandardScaler</label><div class=\"sk-toggleable__content\"><pre>StandardScaler(with_mean=False)</pre></div></div></div><div class=\"sk-item\"><div class=\"sk-estimator sk-toggleable\"><input class=\"sk-toggleable__control sk-hidden--visually\" id=\"8c5a107b-0ea1-40fc-a297-37115ce91a8e\" type=\"checkbox\" ><label class=\"sk-toggleable__label\" for=\"8c5a107b-0ea1-40fc-a297-37115ce91a8e\">SelectKBest</label><div class=\"sk-toggleable__content\"><pre>SelectKBest(score_func=<function chi2 at 0x7fe3cd75aaf0>)</pre></div></div></div></div></div></div></div></div></div></div><div class=\"sk-item\"><div class=\"sk-estimator sk-toggleable\"><input class=\"sk-toggleable__control sk-hidden--visually\" id=\"560abdd4-11c5-40fb-b566-740c3424b96e\" type=\"checkbox\" ><label class=\"sk-toggleable__label\" for=\"560abdd4-11c5-40fb-b566-740c3424b96e\">Lasso</label><div class=\"sk-toggleable__content\"><pre>Lasso()</pre></div></div></div></div></div></div></div></div></div></div></div></div>"
      ],
      "text/plain": [
       "GridSearchCV(estimator=Pipeline(steps=[('columntransformer',\n",
       "                                        ColumnTransformer(transformers=[('num',\n",
       "                                                                         Pipeline(steps=[('num_imputer',\n",
       "                                                                                          SimpleImputer()),\n",
       "                                                                                         ('num_scaler',\n",
       "                                                                                          StandardScaler()),\n",
       "                                                                                         ('num_kbest',\n",
       "                                                                                          SelectKBest())]),\n",
       "                                                                         <sklearn.compose._column_transformer.make_column_selector object at 0x7fe3e7499e80>),\n",
       "                                                                        ('cat',\n",
       "                                                                         Pipeline(steps=[('cat_imputer',\n",
       "                                                                                          SimpleImputer(fill_va...\n",
       "                                                                                          SelectKBest(score_func=<function chi2 at 0x7fe3cd75aaf0>))]),\n",
       "                                                                         <sklearn.compose._column_transformer.make_column_selector object at 0x7fe3cc7d66d0>)])),\n",
       "                                       ('lasso', Lasso())]),\n",
       "             n_jobs=-1,\n",
       "             param_grid=({'columntransformer__cat__cat_kbest__k': [30],\n",
       "                          'columntransformer__num__num_kbest__k': [35],\n",
       "                          'lasso__alpha': [100, 150, 200],\n",
       "                          'lasso__fit_intercept': [True],\n",
       "                          'lasso__max_iter': [-1],\n",
       "                          'lasso__normalize': [True]},))"
      ]
     },
     "execution_count": 147,
     "metadata": {},
     "output_type": "execute_result"
    }
   ],
   "source": [
    "set_config(display='diagram')\n",
    "gs"
   ]
  },
  {
   "cell_type": "code",
   "execution_count": 148,
   "metadata": {},
   "outputs": [],
   "source": [
    "scores, objects = ms.evaluate_grid_search([gs])"
   ]
  },
  {
   "cell_type": "code",
   "execution_count": 149,
   "metadata": {},
   "outputs": [
    {
     "data": {
      "text/plain": [
       "[0.8320765146765675]"
      ]
     },
     "execution_count": 149,
     "metadata": {},
     "output_type": "execute_result"
    }
   ],
   "source": [
    "scores"
   ]
  },
  {
   "cell_type": "code",
   "execution_count": 150,
   "metadata": {},
   "outputs": [
    {
     "data": {
      "text/plain": [
       "{'columntransformer__cat__cat_kbest__k': 30,\n",
       " 'columntransformer__num__num_kbest__k': 35,\n",
       " 'lasso__alpha': 100,\n",
       " 'lasso__fit_intercept': True,\n",
       " 'lasso__max_iter': -1,\n",
       " 'lasso__normalize': True}"
      ]
     },
     "execution_count": 150,
     "metadata": {},
     "output_type": "execute_result"
    }
   ],
   "source": [
    "objects[0].best_params_"
   ]
  },
  {
   "cell_type": "code",
   "execution_count": 151,
   "metadata": {},
   "outputs": [],
   "source": [
    "#dump(objects[0], '/home/blue/general-assembly/dsir-824/submissions/projects/project-2-master/overfit-')"
   ]
  },
  {
   "cell_type": "code",
   "execution_count": 152,
   "metadata": {},
   "outputs": [
    {
     "data": {
      "text/plain": [
       "[31091.306493114662]"
      ]
     },
     "execution_count": 152,
     "metadata": {},
     "output_type": "execute_result"
    }
   ],
   "source": [
    "ms.calculate_rsme(objects)"
   ]
  },
  {
   "cell_type": "code",
   "execution_count": 49,
   "metadata": {},
   "outputs": [],
   "source": [
    "def predictions(object_fitted, test_data, to_file=False):\n",
    "    '''\n",
    "    Output: Model Predictions\n",
    "\n",
    "    This takes in a single fitted object like a fitted pipeline or a fitted gridsearchcv object\n",
    "    The output format is in the Kaggle Required documents.\n",
    "\n",
    "    See the competition here: https://www.kaggle.com/c/ga-dsir-824-project-2-regression-challenge/leaderboard#score\n",
    "\n",
    "    If to_file=True, it will output the Dataframe as a csv, ignoring the index and \n",
    "    place the csv file into your current working directory\n",
    "    '''\n",
    "    predictions = object_fitted.predict(test_data)\n",
    "    predictions = pd.DataFrame(predictions)\n",
    "    predictions = predictions.rename({0:'SalePrice'}, axis=1)\n",
    "    predictions = predictions.join(test_data['Id'])\n",
    "    predictions = predictions[['Id', 'SalePrice']]\n",
    "\n",
    "    if to_file == True:\n",
    "        predictions.to_csv('predictions.csv', index=False)\n",
    "        return predictions\n",
    "    else:\n",
    "        return predictions"
   ]
  },
  {
   "cell_type": "code",
   "execution_count": 50,
   "metadata": {},
   "outputs": [],
   "source": [
    "predict = predictions(objects[0], df_test)"
   ]
  },
  {
   "cell_type": "code",
   "execution_count": 53,
   "metadata": {},
   "outputs": [],
   "source": [
    "predict.to_csv('/home/blue/general-assembly/dsir-824/submissions/projects/project-2-master/other/predictions/925-lasso-kbest', index=False)"
   ]
  },
  {
   "cell_type": "code",
   "execution_count": null,
   "metadata": {},
   "outputs": [],
   "source": []
  }
 ],
 "metadata": {
  "kernelspec": {
   "display_name": "Python 3",
   "language": "python",
   "name": "python3"
  },
  "language_info": {
   "codemirror_mode": {
    "name": "ipython",
    "version": 3
   },
   "file_extension": ".py",
   "mimetype": "text/x-python",
   "name": "python",
   "nbconvert_exporter": "python",
   "pygments_lexer": "ipython3",
   "version": "3.8.3"
  }
 },
 "nbformat": 4,
 "nbformat_minor": 4
}
