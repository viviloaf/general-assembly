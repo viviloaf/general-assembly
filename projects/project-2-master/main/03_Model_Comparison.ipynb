{
 "cells": [
  {
   "cell_type": "code",
   "execution_count": 1,
   "metadata": {},
   "outputs": [],
   "source": [
    "import numpy as np\n",
    "import pandas as pd\n",
    "\n",
    "import matplotlib.pyplot as plt\n",
    "\n",
    "import seaborn as sns\n",
    "\n",
    "import models as models\n",
    "\n",
    "from sklearn.linear_model import LinearRegression, LogisticRegression, Lasso, Ridge, ElasticNet, SGDClassifier\n",
    "from sklearn.svm import SVR, LinearSVC\n",
    "from sklearn.model_selection import train_test_split, GridSearchCV\n",
    "from sklearn.neighbors import KNeighborsRegressor\n",
    "from sklearn.pipeline import make_pipeline, Pipeline\n",
    "from sklearn.preprocessing import StandardScaler, OneHotEncoder\n",
    "from sklearn.impute import SimpleImputer\n",
    "from sklearn.compose import ColumnTransformer, make_column_transformer, make_column_selector\n",
    "from sklearn.metrics import mean_squared_error\n",
    "from sklearn.feature_selection import SelectKBest, chi2\n",
    "\n",
    "from sklearn import set_config\n",
    "from joblib import dump, load"
   ]
  },
  {
   "cell_type": "code",
   "execution_count": 2,
   "metadata": {},
   "outputs": [],
   "source": [
    "df_train_raw = pd.read_csv('/home/blue/general-assembly/dsir-824/submissions/projects/project-2-master/datasets/train.csv')\n",
    "\n",
    "df = df_train_raw.copy()"
   ]
  },
  {
   "cell_type": "code",
   "execution_count": 3,
   "metadata": {},
   "outputs": [],
   "source": [
    "df_test_raw = pd.read_csv('/home/blue/general-assembly/dsir-824/submissions/projects/project-2-master/datasets/test.csv')\n",
    "df_test = df_test_raw.copy()"
   ]
  },
  {
   "cell_type": "code",
   "execution_count": 4,
   "metadata": {},
   "outputs": [
    {
     "data": {
      "text/html": [
       "<div>\n",
       "<style scoped>\n",
       "    .dataframe tbody tr th:only-of-type {\n",
       "        vertical-align: middle;\n",
       "    }\n",
       "\n",
       "    .dataframe tbody tr th {\n",
       "        vertical-align: top;\n",
       "    }\n",
       "\n",
       "    .dataframe thead th {\n",
       "        text-align: right;\n",
       "    }\n",
       "</style>\n",
       "<table border=\"1\" class=\"dataframe\">\n",
       "  <thead>\n",
       "    <tr style=\"text-align: right;\">\n",
       "      <th></th>\n",
       "      <th>Id</th>\n",
       "      <th>PID</th>\n",
       "      <th>MS SubClass</th>\n",
       "      <th>MS Zoning</th>\n",
       "      <th>Lot Frontage</th>\n",
       "      <th>Lot Area</th>\n",
       "      <th>Street</th>\n",
       "      <th>Alley</th>\n",
       "      <th>Lot Shape</th>\n",
       "      <th>Land Contour</th>\n",
       "      <th>...</th>\n",
       "      <th>Screen Porch</th>\n",
       "      <th>Pool Area</th>\n",
       "      <th>Pool QC</th>\n",
       "      <th>Fence</th>\n",
       "      <th>Misc Feature</th>\n",
       "      <th>Misc Val</th>\n",
       "      <th>Mo Sold</th>\n",
       "      <th>Yr Sold</th>\n",
       "      <th>Sale Type</th>\n",
       "      <th>SalePrice</th>\n",
       "    </tr>\n",
       "  </thead>\n",
       "  <tbody>\n",
       "    <tr>\n",
       "      <th>0</th>\n",
       "      <td>109</td>\n",
       "      <td>533352170</td>\n",
       "      <td>60</td>\n",
       "      <td>RL</td>\n",
       "      <td>NaN</td>\n",
       "      <td>13517</td>\n",
       "      <td>Pave</td>\n",
       "      <td>NaN</td>\n",
       "      <td>IR1</td>\n",
       "      <td>Lvl</td>\n",
       "      <td>...</td>\n",
       "      <td>0</td>\n",
       "      <td>0</td>\n",
       "      <td>NaN</td>\n",
       "      <td>NaN</td>\n",
       "      <td>NaN</td>\n",
       "      <td>0</td>\n",
       "      <td>3</td>\n",
       "      <td>2010</td>\n",
       "      <td>WD</td>\n",
       "      <td>130500</td>\n",
       "    </tr>\n",
       "    <tr>\n",
       "      <th>1</th>\n",
       "      <td>544</td>\n",
       "      <td>531379050</td>\n",
       "      <td>60</td>\n",
       "      <td>RL</td>\n",
       "      <td>43.0</td>\n",
       "      <td>11492</td>\n",
       "      <td>Pave</td>\n",
       "      <td>NaN</td>\n",
       "      <td>IR1</td>\n",
       "      <td>Lvl</td>\n",
       "      <td>...</td>\n",
       "      <td>0</td>\n",
       "      <td>0</td>\n",
       "      <td>NaN</td>\n",
       "      <td>NaN</td>\n",
       "      <td>NaN</td>\n",
       "      <td>0</td>\n",
       "      <td>4</td>\n",
       "      <td>2009</td>\n",
       "      <td>WD</td>\n",
       "      <td>220000</td>\n",
       "    </tr>\n",
       "    <tr>\n",
       "      <th>2</th>\n",
       "      <td>153</td>\n",
       "      <td>535304180</td>\n",
       "      <td>20</td>\n",
       "      <td>RL</td>\n",
       "      <td>68.0</td>\n",
       "      <td>7922</td>\n",
       "      <td>Pave</td>\n",
       "      <td>NaN</td>\n",
       "      <td>Reg</td>\n",
       "      <td>Lvl</td>\n",
       "      <td>...</td>\n",
       "      <td>0</td>\n",
       "      <td>0</td>\n",
       "      <td>NaN</td>\n",
       "      <td>NaN</td>\n",
       "      <td>NaN</td>\n",
       "      <td>0</td>\n",
       "      <td>1</td>\n",
       "      <td>2010</td>\n",
       "      <td>WD</td>\n",
       "      <td>109000</td>\n",
       "    </tr>\n",
       "    <tr>\n",
       "      <th>3</th>\n",
       "      <td>318</td>\n",
       "      <td>916386060</td>\n",
       "      <td>60</td>\n",
       "      <td>RL</td>\n",
       "      <td>73.0</td>\n",
       "      <td>9802</td>\n",
       "      <td>Pave</td>\n",
       "      <td>NaN</td>\n",
       "      <td>Reg</td>\n",
       "      <td>Lvl</td>\n",
       "      <td>...</td>\n",
       "      <td>0</td>\n",
       "      <td>0</td>\n",
       "      <td>NaN</td>\n",
       "      <td>NaN</td>\n",
       "      <td>NaN</td>\n",
       "      <td>0</td>\n",
       "      <td>4</td>\n",
       "      <td>2010</td>\n",
       "      <td>WD</td>\n",
       "      <td>174000</td>\n",
       "    </tr>\n",
       "    <tr>\n",
       "      <th>4</th>\n",
       "      <td>255</td>\n",
       "      <td>906425045</td>\n",
       "      <td>50</td>\n",
       "      <td>RL</td>\n",
       "      <td>82.0</td>\n",
       "      <td>14235</td>\n",
       "      <td>Pave</td>\n",
       "      <td>NaN</td>\n",
       "      <td>IR1</td>\n",
       "      <td>Lvl</td>\n",
       "      <td>...</td>\n",
       "      <td>0</td>\n",
       "      <td>0</td>\n",
       "      <td>NaN</td>\n",
       "      <td>NaN</td>\n",
       "      <td>NaN</td>\n",
       "      <td>0</td>\n",
       "      <td>3</td>\n",
       "      <td>2010</td>\n",
       "      <td>WD</td>\n",
       "      <td>138500</td>\n",
       "    </tr>\n",
       "  </tbody>\n",
       "</table>\n",
       "<p>5 rows × 81 columns</p>\n",
       "</div>"
      ],
      "text/plain": [
       "    Id        PID  MS SubClass MS Zoning  Lot Frontage  Lot Area Street Alley  \\\n",
       "0  109  533352170           60        RL           NaN     13517   Pave   NaN   \n",
       "1  544  531379050           60        RL          43.0     11492   Pave   NaN   \n",
       "2  153  535304180           20        RL          68.0      7922   Pave   NaN   \n",
       "3  318  916386060           60        RL          73.0      9802   Pave   NaN   \n",
       "4  255  906425045           50        RL          82.0     14235   Pave   NaN   \n",
       "\n",
       "  Lot Shape Land Contour  ... Screen Porch Pool Area Pool QC Fence  \\\n",
       "0       IR1          Lvl  ...            0         0     NaN   NaN   \n",
       "1       IR1          Lvl  ...            0         0     NaN   NaN   \n",
       "2       Reg          Lvl  ...            0         0     NaN   NaN   \n",
       "3       Reg          Lvl  ...            0         0     NaN   NaN   \n",
       "4       IR1          Lvl  ...            0         0     NaN   NaN   \n",
       "\n",
       "  Misc Feature Misc Val Mo Sold Yr Sold  Sale Type  SalePrice  \n",
       "0          NaN        0       3    2010        WD      130500  \n",
       "1          NaN        0       4    2009        WD      220000  \n",
       "2          NaN        0       1    2010        WD      109000  \n",
       "3          NaN        0       4    2010        WD      174000  \n",
       "4          NaN        0       3    2010        WD      138500  \n",
       "\n",
       "[5 rows x 81 columns]"
      ]
     },
     "execution_count": 4,
     "metadata": {},
     "output_type": "execute_result"
    }
   ],
   "source": [
    "df.head()"
   ]
  },
  {
   "cell_type": "code",
   "execution_count": 5,
   "metadata": {},
   "outputs": [],
   "source": [
    "# This will use the entire dataset\n",
    "X= df.drop('SalePrice', axis=1)\n",
    "y= df['SalePrice']"
   ]
  },
  {
   "cell_type": "code",
   "execution_count": 6,
   "metadata": {},
   "outputs": [],
   "source": [
    "# set up baseline estimators without hyperparameter optimization\n",
    "\n",
    "estimator_list = (LinearRegression(n_jobs=-1), \n",
    "                  LogisticRegression(n_jobs=-1, max_iter=500_000), \n",
    "                  Ridge(max_iter=500_000), \n",
    "                  Lasso(max_iter=500_000), \n",
    "                  ElasticNet(max_iter=500_000), \n",
    "                  KNeighborsRegressor(n_jobs=-1), \n",
    "                  SVR())"
   ]
  },
  {
   "cell_type": "code",
   "execution_count": 7,
   "metadata": {},
   "outputs": [],
   "source": [
    "# set up common naming convention\n",
    "index = ['LinearRegression()', 'LogisticRegression()', 'Ridge()', 'Lasso()', 'ElasticNet()', 'KNeighborsRegressor()', 'SVR()']"
   ]
  },
  {
   "cell_type": "code",
   "execution_count": 8,
   "metadata": {},
   "outputs": [],
   "source": [
    "# Set up GridSearchCV Params for all 6 GridSearch instances"
   ]
  },
  {
   "cell_type": "code",
   "execution_count": 9,
   "metadata": {},
   "outputs": [],
   "source": [
    "estimator_params_true = {\n",
    "    LinearRegression(): {\n",
    "        'linearregression__fit_intercept': [True],\n",
    "        'linearregression__n_jobs': [-1]},\n",
    "    Ridge():{\n",
    "        'ridge__alpha': list(range(1,11)),\n",
    "        'ridge__fit_intercept': [True],\n",
    "        'ridge__max_iter': [100_000],\n",
    "    },\n",
    "    Lasso(): {\n",
    "        'lasso__alpha': list(range(1,11)),\n",
    "        'lasso__fit_intercept': [True],\n",
    "        'lasso__max_iter': [100_000],\n",
    "    }, \n",
    "    ElasticNet():{\n",
    "        'elasticnet__alpha': list(range(1,11)),\n",
    "        'elasticnet__fit_intercept': [True],\n",
    "        'elasticnet__l1_ratio': np.arange(0.1, 1, 0.2),\n",
    "        'elasticnet__max_iter': [100_000],\n",
    "    }, \n",
    "    }"
   ]
  },
  {
   "cell_type": "code",
   "execution_count": 10,
   "metadata": {},
   "outputs": [],
   "source": [
    "# Hyperparameter range for kbest was found through a manual kbestfeatures"
   ]
  },
  {
   "cell_type": "code",
   "execution_count": 11,
   "metadata": {},
   "outputs": [],
   "source": [
    "estimator_params_true_k = {\n",
    "    LinearRegression(): {\n",
    "        'linearregression__fit_intercept': [True],\n",
    "        'linearregression__n_jobs': [-1],\n",
    "        'columntransformer__num__num_kbest__k': [35],#list(range(10, 31,5)),\n",
    "        'columntransformer__cat__cat_kbest__k': [30],#list(range(10, 31,5)),\n",
    "    },\n",
    "    Ridge():{\n",
    "        'ridge__alpha': list(range(1,11)),\n",
    "        'ridge__fit_intercept': [True],\n",
    "        'ridge__max_iter': [100_000],\n",
    "        'columntransformer__num__num_kbest__k': [35],#list(range(10, 31,5)),\n",
    "        'columntransformer__cat__cat_kbest__k': [30],#list(range(10, 31,5)),\n",
    "    },\n",
    "    Lasso(): {\n",
    "        'lasso__alpha': list(range(1,11)),\n",
    "        'lasso__fit_intercept': [True],\n",
    "        'lasso__max_iter': [100_000],\n",
    "        'columntransformer__num__num_kbest__k': [35],#list(range(10, 31,5)),\n",
    "        'columntransformer__cat__cat_kbest__k': [30],#list(range(10, 31,5)),\n",
    "    }, \n",
    "    ElasticNet():{\n",
    "        'elasticnet__alpha': list(range(1,11)),\n",
    "        'elasticnet__fit_intercept': [True],\n",
    "        'elasticnet__l1_ratio': np.arange(0.1, 1, 0.2),\n",
    "        'elasticnet__max_iter': [100_000],\n",
    "        'columntransformer__num__num_kbest__k': [35],#list(range(10, 31,5)),\n",
    "        'columntransformer__cat__cat_kbest__k': [30],#list(range(10, 31,5))\n",
    "    }, \n",
    "    }"
   ]
  },
  {
   "cell_type": "code",
   "execution_count": 12,
   "metadata": {},
   "outputs": [],
   "source": [
    "estimator_params_false = {\n",
    "    LinearRegression(): {\n",
    "    'linearregression__fit_intercept': [False],\n",
    "    'linearregression__n_jobs': [-1]},\n",
    "    Ridge():{\n",
    "    'ridge__alpha': list(range(1,11)),\n",
    "    'ridge__fit_intercept': [False],\n",
    "    'ridge__max_iter': [100_000]}, \n",
    "    Lasso(): {\n",
    "    'lasso__alpha': list(range(1,51,5)),\n",
    "    'lasso__fit_intercept': [False],\n",
    "    'lasso__max_iter': [100_000]},\n",
    "    ElasticNet():{\n",
    "    'elasticnet__alpha': list(range(1,11)),\n",
    "    'elasticnet__fit_intercept': [False],\n",
    "    'elasticnet__l1_ratio': np.arange(0.1, 1, 0.2),\n",
    "    'elasticnet__max_iter': [100_000]}, \n",
    "\n",
    "}"
   ]
  },
  {
   "cell_type": "code",
   "execution_count": 13,
   "metadata": {},
   "outputs": [],
   "source": [
    "estimator_params_false_k = {\n",
    "    LinearRegression(): {\n",
    "    'linearregression__fit_intercept': [False],\n",
    "    'linearregression__n_jobs': [-1],\n",
    "    'columntransformer__num__num_kbest__k': [35],#list(range(10, 31,5)),\n",
    "    'columntransformer__cat__cat_kbest__k': [30],#list(range(10, 31,5)),\n",
    "    },\n",
    "    Ridge():{\n",
    "    'ridge__alpha': list(range(1,11)),\n",
    "    'ridge__fit_intercept': [False],\n",
    "    'ridge__max_iter': [100_000],\n",
    "    'columntransformer__num__num_kbest__k': [35],#list(range(10, 31,5)),\n",
    "    'columntransformer__cat__cat_kbest__k': [30],#list(range(10, 31,5)),\n",
    "    }, \n",
    "    Lasso(): {\n",
    "    'lasso__alpha': list(range(1,51,5)),\n",
    "    'lasso__fit_intercept': [False],\n",
    "    'lasso__max_iter': [100_000],\n",
    "    'columntransformer__num__num_kbest__k': [35],#list(range(10, 31,5)),\n",
    "    'columntransformer__cat__cat_kbest__k': [30],#list(range(10, 31,5)),\n",
    "    },\n",
    "    ElasticNet():{\n",
    "    'elasticnet__alpha': list(range(1,11)),\n",
    "    'elasticnet__fit_intercept': [False],\n",
    "    'elasticnet__l1_ratio': np.arange(0.1, 1, 0.2),\n",
    "    'elasticnet__max_iter': [100_000],\n",
    "    'columntransformer__num__num_kbest__k': [35],#list(range(10, 31,5)),\n",
    "    'columntransformer__cat__cat_kbest__k': [30],#list(range(10, 31,5)),\n",
    "    }, \n",
    "\n",
    "}"
   ]
  },
  {
   "cell_type": "code",
   "execution_count": 14,
   "metadata": {},
   "outputs": [],
   "source": [
    "estimator_params_other = {\n",
    "    KNeighborsRegressor():{\n",
    "        'kneighborsregressor__n_neighbors': list(range(5, 31,2)),\n",
    "        'kneighborsregressor__leaf_size': list(range(25, 45,2)),\n",
    "        'kneighborsregressor__n_jobs': [-1]}, \n",
    "    SVR():{\n",
    "        'svr__C': [0.001, 0.01, 0.1, 1, 10],\n",
    "        'svr__gamma': [0.001, 0.01, 0.1, 1],\n",
    "}}"
   ]
  },
  {
   "cell_type": "code",
   "execution_count": 15,
   "metadata": {},
   "outputs": [],
   "source": [
    "estimator_params_other_k = {\n",
    "    KNeighborsRegressor():{\n",
    "        'kneighborsregressor__n_neighbors': list(range(25, 45,2)),\n",
    "        'kneighborsregressor__leaf_size': list(range(25, 45,2)),\n",
    "        'kneighborsregressor__n_jobs': [-1],\n",
    "        'columntransformer__num__num_kbest__k': [35],#list(range(10, 31,5)),\n",
    "        'columntransformer__cat__cat_kbest__k': [30],#list(range(10, 31,5)),\n",
    "    }, \n",
    "    SVR():{\n",
    "        'svr__C': [0.001, 0.01, 0.1, 1, 10],\n",
    "        'svr__gamma': [0.001, 0.01, 0.1, 1],\n",
    "        'columntransformer__num__num_kbest__k': [35],#list(range(10, 31,5)), \n",
    "        'columntransformer__cat__cat_kbest__k': [30],#list(range(10, 31,5)),\n",
    "}}"
   ]
  },
  {
   "cell_type": "code",
   "execution_count": 16,
   "metadata": {},
   "outputs": [],
   "source": [
    "# Create Custom Preprocessing Module to include KBest\n",
    "# This is the version which we will train a baseline with kfeatures\n",
    "# There is a basic version of preprocessing inside class ModelSelection which does not handle feature selection\n",
    "\n",
    "numeric_transformer = Pipeline(steps=[\n",
    "    ('num_imputer', SimpleImputer()),\n",
    "    ('num_scaler', StandardScaler()),\n",
    "    ('num_kbest', SelectKBest())])\n",
    "\n",
    "categorical_transformer = Pipeline(steps=[\n",
    "    ('cat_imputer', SimpleImputer(strategy='constant', fill_value='Other')),\n",
    "    ('cat_onehot', OneHotEncoder(handle_unknown='ignore')),\n",
    "    ('cat_scaler', StandardScaler(with_mean=False)),\n",
    "    ('cat_kbest', SelectKBest(score_func=chi2))])\n",
    "\n",
    "\n",
    "preprocessing = ColumnTransformer(transformers=[\n",
    "    ('num', numeric_transformer, make_column_selector(dtype_include=np.number)),\n",
    "    ('cat', categorical_transformer, make_column_selector(dtype_include='object'))\n",
    "])"
   ]
  },
  {
   "cell_type": "code",
   "execution_count": 17,
   "metadata": {},
   "outputs": [],
   "source": [
    "# Instantiate Grid and Pipe CV Class Object\n",
    "ms = models.ModelSelection(X, y)"
   ]
  },
  {
   "cell_type": "code",
   "execution_count": 18,
   "metadata": {},
   "outputs": [],
   "source": [
    "# Set up Baseline Pipeline\n",
    "pipe_list = ms.make_pipe(estimator_list)"
   ]
  },
  {
   "cell_type": "code",
   "execution_count": 19,
   "metadata": {},
   "outputs": [
    {
     "data": {
      "text/html": [
       "<style>div.sk-top-container {color: black;background-color: white;}div.sk-toggleable {background-color: white;}label.sk-toggleable__label {cursor: pointer;display: block;width: 100%;margin-bottom: 0;padding: 0.2em 0.3em;box-sizing: border-box;text-align: center;}div.sk-toggleable__content {max-height: 0;max-width: 0;overflow: hidden;text-align: left;background-color: #f0f8ff;}div.sk-toggleable__content pre {margin: 0.2em;color: black;border-radius: 0.25em;background-color: #f0f8ff;}input.sk-toggleable__control:checked~div.sk-toggleable__content {max-height: 200px;max-width: 100%;overflow: auto;}div.sk-estimator input.sk-toggleable__control:checked~label.sk-toggleable__label {background-color: #d4ebff;}div.sk-label input.sk-toggleable__control:checked~label.sk-toggleable__label {background-color: #d4ebff;}input.sk-hidden--visually {border: 0;clip: rect(1px 1px 1px 1px);clip: rect(1px, 1px, 1px, 1px);height: 1px;margin: -1px;overflow: hidden;padding: 0;position: absolute;width: 1px;}div.sk-estimator {font-family: monospace;background-color: #f0f8ff;margin: 0.25em 0.25em;border: 1px dotted black;border-radius: 0.25em;box-sizing: border-box;}div.sk-estimator:hover {background-color: #d4ebff;}div.sk-parallel-item::after {content: \"\";width: 100%;border-bottom: 1px solid gray;flex-grow: 1;}div.sk-label:hover label.sk-toggleable__label {background-color: #d4ebff;}div.sk-serial::before {content: \"\";position: absolute;border-left: 1px solid gray;box-sizing: border-box;top: 2em;bottom: 0;left: 50%;}div.sk-serial {display: flex;flex-direction: column;align-items: center;background-color: white;}div.sk-item {z-index: 1;}div.sk-parallel {display: flex;align-items: stretch;justify-content: center;background-color: white;}div.sk-parallel-item {display: flex;flex-direction: column;position: relative;background-color: white;}div.sk-parallel-item:first-child::after {align-self: flex-end;width: 50%;}div.sk-parallel-item:last-child::after {align-self: flex-start;width: 50%;}div.sk-parallel-item:only-child::after {width: 0;}div.sk-dashed-wrapped {border: 1px dashed gray;margin: 0.2em;box-sizing: border-box;padding-bottom: 0.1em;background-color: white;position: relative;}div.sk-label label {font-family: monospace;font-weight: bold;background-color: white;display: inline-block;line-height: 1.2em;}div.sk-label-container {position: relative;z-index: 2;text-align: center;}div.sk-container {display: inline-block;position: relative;}</style><div class=\"sk-top-container\"><div class=\"sk-container\"><div class=\"sk-item sk-dashed-wrapped\"><div class=\"sk-label-container\"><div class=\"sk-label sk-toggleable\"><input class=\"sk-toggleable__control sk-hidden--visually\" id=\"57b97635-c3b5-4a41-b2e1-ee5d03ea0ba6\" type=\"checkbox\" ><label class=\"sk-toggleable__label\" for=\"57b97635-c3b5-4a41-b2e1-ee5d03ea0ba6\">Pipeline</label><div class=\"sk-toggleable__content\"><pre>Pipeline(steps=[('columntransformer',\n",
       "                 ColumnTransformer(transformers=[('num',\n",
       "                                                  Pipeline(steps=[('num_imputer',\n",
       "                                                                   SimpleImputer()),\n",
       "                                                                  ('num_scaler',\n",
       "                                                                   StandardScaler())]),\n",
       "                                                  <sklearn.compose._column_transformer.make_column_selector object at 0x7f71545d15b0>),\n",
       "                                                 ('cat',\n",
       "                                                  Pipeline(steps=[('cat_imputer',\n",
       "                                                                   SimpleImputer(fill_value='Other',\n",
       "                                                                                 strategy='constant')),\n",
       "                                                                  ('cat_onehot',\n",
       "                                                                   OneHotEncoder(handle_unknown='ignore')),\n",
       "                                                                  ('cat_scaler',\n",
       "                                                                   StandardScaler(with_mean=False))]),\n",
       "                                                  <sklearn.compose._column_transformer.make_column_selector object at 0x7f71545d15e0>)])),\n",
       "                ('linearregression', LinearRegression(n_jobs=-1))])</pre></div></div></div><div class=\"sk-serial\"><div class=\"sk-item sk-dashed-wrapped\"><div class=\"sk-label-container\"><div class=\"sk-label sk-toggleable\"><input class=\"sk-toggleable__control sk-hidden--visually\" id=\"f9d8f84d-079b-47b1-b602-31fe2b2a23c3\" type=\"checkbox\" ><label class=\"sk-toggleable__label\" for=\"f9d8f84d-079b-47b1-b602-31fe2b2a23c3\">columntransformer: ColumnTransformer</label><div class=\"sk-toggleable__content\"><pre>ColumnTransformer(transformers=[('num',\n",
       "                                 Pipeline(steps=[('num_imputer',\n",
       "                                                  SimpleImputer()),\n",
       "                                                 ('num_scaler',\n",
       "                                                  StandardScaler())]),\n",
       "                                 <sklearn.compose._column_transformer.make_column_selector object at 0x7f71545d15b0>),\n",
       "                                ('cat',\n",
       "                                 Pipeline(steps=[('cat_imputer',\n",
       "                                                  SimpleImputer(fill_value='Other',\n",
       "                                                                strategy='constant')),\n",
       "                                                 ('cat_onehot',\n",
       "                                                  OneHotEncoder(handle_unknown='ignore')),\n",
       "                                                 ('cat_scaler',\n",
       "                                                  StandardScaler(with_mean=False))]),\n",
       "                                 <sklearn.compose._column_transformer.make_column_selector object at 0x7f71545d15e0>)])</pre></div></div></div><div class=\"sk-parallel\"><div class=\"sk-parallel-item\"><div class=\"sk-item\"><div class=\"sk-label-container\"><div class=\"sk-label sk-toggleable\"><input class=\"sk-toggleable__control sk-hidden--visually\" id=\"6ec0c172-7247-45d3-8740-6146a1647ee2\" type=\"checkbox\" ><label class=\"sk-toggleable__label\" for=\"6ec0c172-7247-45d3-8740-6146a1647ee2\">num</label><div class=\"sk-toggleable__content\"><pre><sklearn.compose._column_transformer.make_column_selector object at 0x7f71545d15b0></pre></div></div></div><div class=\"sk-serial\"><div class=\"sk-item\"><div class=\"sk-serial\"><div class=\"sk-item\"><div class=\"sk-estimator sk-toggleable\"><input class=\"sk-toggleable__control sk-hidden--visually\" id=\"6ff0e2c6-7b77-4650-b24d-dd6aaea9d763\" type=\"checkbox\" ><label class=\"sk-toggleable__label\" for=\"6ff0e2c6-7b77-4650-b24d-dd6aaea9d763\">SimpleImputer</label><div class=\"sk-toggleable__content\"><pre>SimpleImputer()</pre></div></div></div><div class=\"sk-item\"><div class=\"sk-estimator sk-toggleable\"><input class=\"sk-toggleable__control sk-hidden--visually\" id=\"dfd7814e-a84a-4392-84e9-d0f56976ba31\" type=\"checkbox\" ><label class=\"sk-toggleable__label\" for=\"dfd7814e-a84a-4392-84e9-d0f56976ba31\">StandardScaler</label><div class=\"sk-toggleable__content\"><pre>StandardScaler()</pre></div></div></div></div></div></div></div></div><div class=\"sk-parallel-item\"><div class=\"sk-item\"><div class=\"sk-label-container\"><div class=\"sk-label sk-toggleable\"><input class=\"sk-toggleable__control sk-hidden--visually\" id=\"8580acbd-92bf-41c5-b9cc-67397a84dbc2\" type=\"checkbox\" ><label class=\"sk-toggleable__label\" for=\"8580acbd-92bf-41c5-b9cc-67397a84dbc2\">cat</label><div class=\"sk-toggleable__content\"><pre><sklearn.compose._column_transformer.make_column_selector object at 0x7f71545d15e0></pre></div></div></div><div class=\"sk-serial\"><div class=\"sk-item\"><div class=\"sk-serial\"><div class=\"sk-item\"><div class=\"sk-estimator sk-toggleable\"><input class=\"sk-toggleable__control sk-hidden--visually\" id=\"9e93b3d1-2208-4e4c-b3ac-faed46819e9a\" type=\"checkbox\" ><label class=\"sk-toggleable__label\" for=\"9e93b3d1-2208-4e4c-b3ac-faed46819e9a\">SimpleImputer</label><div class=\"sk-toggleable__content\"><pre>SimpleImputer(fill_value='Other', strategy='constant')</pre></div></div></div><div class=\"sk-item\"><div class=\"sk-estimator sk-toggleable\"><input class=\"sk-toggleable__control sk-hidden--visually\" id=\"fd5985c9-b992-4adc-bc4d-d17c924f8372\" type=\"checkbox\" ><label class=\"sk-toggleable__label\" for=\"fd5985c9-b992-4adc-bc4d-d17c924f8372\">OneHotEncoder</label><div class=\"sk-toggleable__content\"><pre>OneHotEncoder(handle_unknown='ignore')</pre></div></div></div><div class=\"sk-item\"><div class=\"sk-estimator sk-toggleable\"><input class=\"sk-toggleable__control sk-hidden--visually\" id=\"7eb6287c-046a-4cd6-af06-f4b894003aac\" type=\"checkbox\" ><label class=\"sk-toggleable__label\" for=\"7eb6287c-046a-4cd6-af06-f4b894003aac\">StandardScaler</label><div class=\"sk-toggleable__content\"><pre>StandardScaler(with_mean=False)</pre></div></div></div></div></div></div></div></div></div></div><div class=\"sk-item\"><div class=\"sk-estimator sk-toggleable\"><input class=\"sk-toggleable__control sk-hidden--visually\" id=\"0c41e80c-234c-427a-9968-c9f33710eb20\" type=\"checkbox\" ><label class=\"sk-toggleable__label\" for=\"0c41e80c-234c-427a-9968-c9f33710eb20\">LinearRegression</label><div class=\"sk-toggleable__content\"><pre>LinearRegression(n_jobs=-1)</pre></div></div></div></div></div></div></div>"
      ],
      "text/plain": [
       "Pipeline(steps=[('columntransformer',\n",
       "                 ColumnTransformer(transformers=[('num',\n",
       "                                                  Pipeline(steps=[('num_imputer',\n",
       "                                                                   SimpleImputer()),\n",
       "                                                                  ('num_scaler',\n",
       "                                                                   StandardScaler())]),\n",
       "                                                  <sklearn.compose._column_transformer.make_column_selector object at 0x7f71545d15b0>),\n",
       "                                                 ('cat',\n",
       "                                                  Pipeline(steps=[('cat_imputer',\n",
       "                                                                   SimpleImputer(fill_value='Other',\n",
       "                                                                                 strategy='constant')),\n",
       "                                                                  ('cat_onehot',\n",
       "                                                                   OneHotEncoder(handle_unknown='ignore')),\n",
       "                                                                  ('cat_scaler',\n",
       "                                                                   StandardScaler(with_mean=False))]),\n",
       "                                                  <sklearn.compose._column_transformer.make_column_selector object at 0x7f71545d15e0>)])),\n",
       "                ('linearregression', LinearRegression(n_jobs=-1))])"
      ]
     },
     "execution_count": 19,
     "metadata": {},
     "output_type": "execute_result"
    }
   ],
   "source": [
    "# Display Pipeline to verify creation\n",
    "set_config(display='diagram')\n",
    "pipe_list[0]"
   ]
  },
  {
   "cell_type": "code",
   "execution_count": 20,
   "metadata": {},
   "outputs": [],
   "source": [
    "# Evaluate Baseline Pipeline"
   ]
  },
  {
   "cell_type": "code",
   "execution_count": 21,
   "metadata": {},
   "outputs": [],
   "source": [
    "fitted_pipe_list, fitted_pipe_objects = ms.evaluate_pipes(pipe_list=pipe_list)"
   ]
  },
  {
   "cell_type": "code",
   "execution_count": null,
   "metadata": {},
   "outputs": [],
   "source": []
  },
  {
   "cell_type": "code",
   "execution_count": 22,
   "metadata": {},
   "outputs": [],
   "source": [
    "# Create Results Dataframe, Calculate RSME as benchmark for Kaggle"
   ]
  },
  {
   "cell_type": "code",
   "execution_count": 23,
   "metadata": {},
   "outputs": [],
   "source": [
    "df_results = pd.DataFrame(fitted_pipe_list, index=index, columns=['Baseline Test Score'])"
   ]
  },
  {
   "cell_type": "code",
   "execution_count": 24,
   "metadata": {},
   "outputs": [],
   "source": [
    "rsme_list = ms.calculate_rsme(fitted_pipe_objects)"
   ]
  },
  {
   "cell_type": "code",
   "execution_count": 25,
   "metadata": {},
   "outputs": [],
   "source": [
    "rsme_list = (pd.DataFrame(rsme_list, columns=['rsme'], index=index))"
   ]
  },
  {
   "cell_type": "code",
   "execution_count": 26,
   "metadata": {},
   "outputs": [],
   "source": [
    "df_results = df_results.join(rsme_list)"
   ]
  },
  {
   "cell_type": "code",
   "execution_count": 27,
   "metadata": {},
   "outputs": [
    {
     "data": {
      "text/html": [
       "<div>\n",
       "<style scoped>\n",
       "    .dataframe tbody tr th:only-of-type {\n",
       "        vertical-align: middle;\n",
       "    }\n",
       "\n",
       "    .dataframe tbody tr th {\n",
       "        vertical-align: top;\n",
       "    }\n",
       "\n",
       "    .dataframe thead th {\n",
       "        text-align: right;\n",
       "    }\n",
       "</style>\n",
       "<table border=\"1\" class=\"dataframe\">\n",
       "  <thead>\n",
       "    <tr style=\"text-align: right;\">\n",
       "      <th></th>\n",
       "      <th>Baseline Test Score</th>\n",
       "      <th>rsme</th>\n",
       "    </tr>\n",
       "  </thead>\n",
       "  <tbody>\n",
       "    <tr>\n",
       "      <th>LinearRegression()</th>\n",
       "      <td>0.743534</td>\n",
       "      <td>40023.587103</td>\n",
       "    </tr>\n",
       "    <tr>\n",
       "      <th>LogisticRegression()</th>\n",
       "      <td>0.017544</td>\n",
       "      <td>46334.515213</td>\n",
       "    </tr>\n",
       "    <tr>\n",
       "      <th>Ridge()</th>\n",
       "      <td>0.748093</td>\n",
       "      <td>39666.224960</td>\n",
       "    </tr>\n",
       "    <tr>\n",
       "      <th>Lasso()</th>\n",
       "      <td>0.744031</td>\n",
       "      <td>39984.777598</td>\n",
       "    </tr>\n",
       "    <tr>\n",
       "      <th>ElasticNet()</th>\n",
       "      <td>0.814004</td>\n",
       "      <td>34084.183871</td>\n",
       "    </tr>\n",
       "    <tr>\n",
       "      <th>KNeighborsRegressor()</th>\n",
       "      <td>0.758171</td>\n",
       "      <td>38864.711120</td>\n",
       "    </tr>\n",
       "    <tr>\n",
       "      <th>SVR()</th>\n",
       "      <td>-0.051186</td>\n",
       "      <td>81029.055916</td>\n",
       "    </tr>\n",
       "  </tbody>\n",
       "</table>\n",
       "</div>"
      ],
      "text/plain": [
       "                       Baseline Test Score          rsme\n",
       "LinearRegression()                0.743534  40023.587103\n",
       "LogisticRegression()              0.017544  46334.515213\n",
       "Ridge()                           0.748093  39666.224960\n",
       "Lasso()                           0.744031  39984.777598\n",
       "ElasticNet()                      0.814004  34084.183871\n",
       "KNeighborsRegressor()             0.758171  38864.711120\n",
       "SVR()                            -0.051186  81029.055916"
      ]
     },
     "execution_count": 27,
     "metadata": {},
     "output_type": "execute_result"
    }
   ],
   "source": [
    "df_results"
   ]
  },
  {
   "cell_type": "code",
   "execution_count": null,
   "metadata": {},
   "outputs": [],
   "source": []
  },
  {
   "cell_type": "code",
   "execution_count": 28,
   "metadata": {},
   "outputs": [],
   "source": [
    "# Instantiate Baseline with KBest Features\n",
    "pipe_list_wfs = ms.make_pipe(preprocessing=preprocessing, estimator_list=estimator_list)"
   ]
  },
  {
   "cell_type": "code",
   "execution_count": 29,
   "metadata": {},
   "outputs": [
    {
     "data": {
      "text/html": [
       "<style>div.sk-top-container {color: black;background-color: white;}div.sk-toggleable {background-color: white;}label.sk-toggleable__label {cursor: pointer;display: block;width: 100%;margin-bottom: 0;padding: 0.2em 0.3em;box-sizing: border-box;text-align: center;}div.sk-toggleable__content {max-height: 0;max-width: 0;overflow: hidden;text-align: left;background-color: #f0f8ff;}div.sk-toggleable__content pre {margin: 0.2em;color: black;border-radius: 0.25em;background-color: #f0f8ff;}input.sk-toggleable__control:checked~div.sk-toggleable__content {max-height: 200px;max-width: 100%;overflow: auto;}div.sk-estimator input.sk-toggleable__control:checked~label.sk-toggleable__label {background-color: #d4ebff;}div.sk-label input.sk-toggleable__control:checked~label.sk-toggleable__label {background-color: #d4ebff;}input.sk-hidden--visually {border: 0;clip: rect(1px 1px 1px 1px);clip: rect(1px, 1px, 1px, 1px);height: 1px;margin: -1px;overflow: hidden;padding: 0;position: absolute;width: 1px;}div.sk-estimator {font-family: monospace;background-color: #f0f8ff;margin: 0.25em 0.25em;border: 1px dotted black;border-radius: 0.25em;box-sizing: border-box;}div.sk-estimator:hover {background-color: #d4ebff;}div.sk-parallel-item::after {content: \"\";width: 100%;border-bottom: 1px solid gray;flex-grow: 1;}div.sk-label:hover label.sk-toggleable__label {background-color: #d4ebff;}div.sk-serial::before {content: \"\";position: absolute;border-left: 1px solid gray;box-sizing: border-box;top: 2em;bottom: 0;left: 50%;}div.sk-serial {display: flex;flex-direction: column;align-items: center;background-color: white;}div.sk-item {z-index: 1;}div.sk-parallel {display: flex;align-items: stretch;justify-content: center;background-color: white;}div.sk-parallel-item {display: flex;flex-direction: column;position: relative;background-color: white;}div.sk-parallel-item:first-child::after {align-self: flex-end;width: 50%;}div.sk-parallel-item:last-child::after {align-self: flex-start;width: 50%;}div.sk-parallel-item:only-child::after {width: 0;}div.sk-dashed-wrapped {border: 1px dashed gray;margin: 0.2em;box-sizing: border-box;padding-bottom: 0.1em;background-color: white;position: relative;}div.sk-label label {font-family: monospace;font-weight: bold;background-color: white;display: inline-block;line-height: 1.2em;}div.sk-label-container {position: relative;z-index: 2;text-align: center;}div.sk-container {display: inline-block;position: relative;}</style><div class=\"sk-top-container\"><div class=\"sk-container\"><div class=\"sk-item sk-dashed-wrapped\"><div class=\"sk-label-container\"><div class=\"sk-label sk-toggleable\"><input class=\"sk-toggleable__control sk-hidden--visually\" id=\"c8514b78-958f-49da-932d-1eef2989b7d5\" type=\"checkbox\" ><label class=\"sk-toggleable__label\" for=\"c8514b78-958f-49da-932d-1eef2989b7d5\">Pipeline</label><div class=\"sk-toggleable__content\"><pre>Pipeline(steps=[('columntransformer',\n",
       "                 ColumnTransformer(transformers=[('num',\n",
       "                                                  Pipeline(steps=[('num_imputer',\n",
       "                                                                   SimpleImputer()),\n",
       "                                                                  ('num_scaler',\n",
       "                                                                   StandardScaler()),\n",
       "                                                                  ('num_kbest',\n",
       "                                                                   SelectKBest())]),\n",
       "                                                  <sklearn.compose._column_transformer.make_column_selector object at 0x7f71545d1e50>),\n",
       "                                                 ('cat',\n",
       "                                                  Pipeline(steps=[('cat_imputer',\n",
       "                                                                   SimpleImputer(fill_value='Other',\n",
       "                                                                                 strategy='constant')),\n",
       "                                                                  ('cat_onehot',\n",
       "                                                                   OneHotEncoder(handle_unknown='ignore')),\n",
       "                                                                  ('cat_scaler',\n",
       "                                                                   StandardScaler(with_mean=False)),\n",
       "                                                                  ('cat_kbest',\n",
       "                                                                   SelectKBest(score_func=<function chi2 at 0x7f71546b1c10>))]),\n",
       "                                                  <sklearn.compose._column_transformer.make_column_selector object at 0x7f71545d1ee0>)])),\n",
       "                ('linearregression', LinearRegression(n_jobs=-1))])</pre></div></div></div><div class=\"sk-serial\"><div class=\"sk-item sk-dashed-wrapped\"><div class=\"sk-label-container\"><div class=\"sk-label sk-toggleable\"><input class=\"sk-toggleable__control sk-hidden--visually\" id=\"e9f66d1c-8729-457c-adaa-3ea509dd9320\" type=\"checkbox\" ><label class=\"sk-toggleable__label\" for=\"e9f66d1c-8729-457c-adaa-3ea509dd9320\">columntransformer: ColumnTransformer</label><div class=\"sk-toggleable__content\"><pre>ColumnTransformer(transformers=[('num',\n",
       "                                 Pipeline(steps=[('num_imputer',\n",
       "                                                  SimpleImputer()),\n",
       "                                                 ('num_scaler',\n",
       "                                                  StandardScaler()),\n",
       "                                                 ('num_kbest', SelectKBest())]),\n",
       "                                 <sklearn.compose._column_transformer.make_column_selector object at 0x7f71545d1e50>),\n",
       "                                ('cat',\n",
       "                                 Pipeline(steps=[('cat_imputer',\n",
       "                                                  SimpleImputer(fill_value='Other',\n",
       "                                                                strategy='constant')),\n",
       "                                                 ('cat_onehot',\n",
       "                                                  OneHotEncoder(handle_unknown='ignore')),\n",
       "                                                 ('cat_scaler',\n",
       "                                                  StandardScaler(with_mean=False)),\n",
       "                                                 ('cat_kbest',\n",
       "                                                  SelectKBest(score_func=<function chi2 at 0x7f71546b1c10>))]),\n",
       "                                 <sklearn.compose._column_transformer.make_column_selector object at 0x7f71545d1ee0>)])</pre></div></div></div><div class=\"sk-parallel\"><div class=\"sk-parallel-item\"><div class=\"sk-item\"><div class=\"sk-label-container\"><div class=\"sk-label sk-toggleable\"><input class=\"sk-toggleable__control sk-hidden--visually\" id=\"c356e93c-0cd6-4409-8d6b-20cc079f3523\" type=\"checkbox\" ><label class=\"sk-toggleable__label\" for=\"c356e93c-0cd6-4409-8d6b-20cc079f3523\">num</label><div class=\"sk-toggleable__content\"><pre><sklearn.compose._column_transformer.make_column_selector object at 0x7f71545d1e50></pre></div></div></div><div class=\"sk-serial\"><div class=\"sk-item\"><div class=\"sk-serial\"><div class=\"sk-item\"><div class=\"sk-estimator sk-toggleable\"><input class=\"sk-toggleable__control sk-hidden--visually\" id=\"c983dc93-0194-43a7-a9b8-25d3b0a8b2ff\" type=\"checkbox\" ><label class=\"sk-toggleable__label\" for=\"c983dc93-0194-43a7-a9b8-25d3b0a8b2ff\">SimpleImputer</label><div class=\"sk-toggleable__content\"><pre>SimpleImputer()</pre></div></div></div><div class=\"sk-item\"><div class=\"sk-estimator sk-toggleable\"><input class=\"sk-toggleable__control sk-hidden--visually\" id=\"3103379a-3002-4c21-9f8f-abfd4438031c\" type=\"checkbox\" ><label class=\"sk-toggleable__label\" for=\"3103379a-3002-4c21-9f8f-abfd4438031c\">StandardScaler</label><div class=\"sk-toggleable__content\"><pre>StandardScaler()</pre></div></div></div><div class=\"sk-item\"><div class=\"sk-estimator sk-toggleable\"><input class=\"sk-toggleable__control sk-hidden--visually\" id=\"e9e1cec9-9d94-43c8-9214-d0a30912c65f\" type=\"checkbox\" ><label class=\"sk-toggleable__label\" for=\"e9e1cec9-9d94-43c8-9214-d0a30912c65f\">SelectKBest</label><div class=\"sk-toggleable__content\"><pre>SelectKBest()</pre></div></div></div></div></div></div></div></div><div class=\"sk-parallel-item\"><div class=\"sk-item\"><div class=\"sk-label-container\"><div class=\"sk-label sk-toggleable\"><input class=\"sk-toggleable__control sk-hidden--visually\" id=\"f2db5a3e-21e8-47d6-b51b-dd2ca49fa7ae\" type=\"checkbox\" ><label class=\"sk-toggleable__label\" for=\"f2db5a3e-21e8-47d6-b51b-dd2ca49fa7ae\">cat</label><div class=\"sk-toggleable__content\"><pre><sklearn.compose._column_transformer.make_column_selector object at 0x7f71545d1ee0></pre></div></div></div><div class=\"sk-serial\"><div class=\"sk-item\"><div class=\"sk-serial\"><div class=\"sk-item\"><div class=\"sk-estimator sk-toggleable\"><input class=\"sk-toggleable__control sk-hidden--visually\" id=\"35daf9df-912e-4dde-b8f6-a00f593091f6\" type=\"checkbox\" ><label class=\"sk-toggleable__label\" for=\"35daf9df-912e-4dde-b8f6-a00f593091f6\">SimpleImputer</label><div class=\"sk-toggleable__content\"><pre>SimpleImputer(fill_value='Other', strategy='constant')</pre></div></div></div><div class=\"sk-item\"><div class=\"sk-estimator sk-toggleable\"><input class=\"sk-toggleable__control sk-hidden--visually\" id=\"eac727e6-3a25-4f38-a515-655326bd3d78\" type=\"checkbox\" ><label class=\"sk-toggleable__label\" for=\"eac727e6-3a25-4f38-a515-655326bd3d78\">OneHotEncoder</label><div class=\"sk-toggleable__content\"><pre>OneHotEncoder(handle_unknown='ignore')</pre></div></div></div><div class=\"sk-item\"><div class=\"sk-estimator sk-toggleable\"><input class=\"sk-toggleable__control sk-hidden--visually\" id=\"78946c5b-1417-4e70-825e-34de3d4e616b\" type=\"checkbox\" ><label class=\"sk-toggleable__label\" for=\"78946c5b-1417-4e70-825e-34de3d4e616b\">StandardScaler</label><div class=\"sk-toggleable__content\"><pre>StandardScaler(with_mean=False)</pre></div></div></div><div class=\"sk-item\"><div class=\"sk-estimator sk-toggleable\"><input class=\"sk-toggleable__control sk-hidden--visually\" id=\"22650885-e981-4721-9d33-05c4be26613e\" type=\"checkbox\" ><label class=\"sk-toggleable__label\" for=\"22650885-e981-4721-9d33-05c4be26613e\">SelectKBest</label><div class=\"sk-toggleable__content\"><pre>SelectKBest(score_func=<function chi2 at 0x7f71546b1c10>)</pre></div></div></div></div></div></div></div></div></div></div><div class=\"sk-item\"><div class=\"sk-estimator sk-toggleable\"><input class=\"sk-toggleable__control sk-hidden--visually\" id=\"abf5d30d-e7c9-4d59-9e54-66c7ba910255\" type=\"checkbox\" ><label class=\"sk-toggleable__label\" for=\"abf5d30d-e7c9-4d59-9e54-66c7ba910255\">LinearRegression</label><div class=\"sk-toggleable__content\"><pre>LinearRegression(n_jobs=-1)</pre></div></div></div></div></div></div></div>"
      ],
      "text/plain": [
       "Pipeline(steps=[('columntransformer',\n",
       "                 ColumnTransformer(transformers=[('num',\n",
       "                                                  Pipeline(steps=[('num_imputer',\n",
       "                                                                   SimpleImputer()),\n",
       "                                                                  ('num_scaler',\n",
       "                                                                   StandardScaler()),\n",
       "                                                                  ('num_kbest',\n",
       "                                                                   SelectKBest())]),\n",
       "                                                  <sklearn.compose._column_transformer.make_column_selector object at 0x7f71545d1e50>),\n",
       "                                                 ('cat',\n",
       "                                                  Pipeline(steps=[('cat_imputer',\n",
       "                                                                   SimpleImputer(fill_value='Other',\n",
       "                                                                                 strategy='constant')),\n",
       "                                                                  ('cat_onehot',\n",
       "                                                                   OneHotEncoder(handle_unknown='ignore')),\n",
       "                                                                  ('cat_scaler',\n",
       "                                                                   StandardScaler(with_mean=False)),\n",
       "                                                                  ('cat_kbest',\n",
       "                                                                   SelectKBest(score_func=<function chi2 at 0x7f71546b1c10>))]),\n",
       "                                                  <sklearn.compose._column_transformer.make_column_selector object at 0x7f71545d1ee0>)])),\n",
       "                ('linearregression', LinearRegression(n_jobs=-1))])"
      ]
     },
     "execution_count": 29,
     "metadata": {},
     "output_type": "execute_result"
    }
   ],
   "source": [
    "# Display Baseline Pipeline with KBest Features\n",
    "pipe_list_wfs[0]"
   ]
  },
  {
   "cell_type": "code",
   "execution_count": 30,
   "metadata": {},
   "outputs": [],
   "source": [
    "# Evaluate\n",
    "fitted_pipe_list_wfs, fitted_pipe_objects_wfs = ms.evaluate_pipes(pipe_list=pipe_list_wfs)"
   ]
  },
  {
   "cell_type": "code",
   "execution_count": 31,
   "metadata": {},
   "outputs": [
    {
     "data": {
      "text/plain": [
       "[-3.787655638031341e+26,\n",
       " 0.011695906432748537,\n",
       " 0.7061440577342226,\n",
       " 0.7059646622194216,\n",
       " 0.7124669160037669,\n",
       " 0.8592406946881062,\n",
       " -0.047637674961855]"
      ]
     },
     "execution_count": 31,
     "metadata": {},
     "output_type": "execute_result"
    }
   ],
   "source": [
    "fitted_pipe_list_wfs"
   ]
  },
  {
   "cell_type": "code",
   "execution_count": 32,
   "metadata": {},
   "outputs": [],
   "source": [
    "# Calculate RSME, add to results Dataframe"
   ]
  },
  {
   "cell_type": "code",
   "execution_count": 33,
   "metadata": {},
   "outputs": [],
   "source": [
    "df_results_wfs = pd.DataFrame(fitted_pipe_list_wfs, index=index, columns=['Baseline w/ KBest'])"
   ]
  },
  {
   "cell_type": "code",
   "execution_count": 34,
   "metadata": {},
   "outputs": [],
   "source": [
    "rsme_list_wfs = ms.calculate_rsme(fitted_pipe_objects_wfs)"
   ]
  },
  {
   "cell_type": "code",
   "execution_count": 35,
   "metadata": {},
   "outputs": [],
   "source": [
    "rsme_list_wfs = (pd.DataFrame(rsme_list_wfs, columns=['rsme_kbest'], index=index))"
   ]
  },
  {
   "cell_type": "code",
   "execution_count": 36,
   "metadata": {},
   "outputs": [],
   "source": [
    "df_results_wfs = df_results_wfs.join(rsme_list_wfs)"
   ]
  },
  {
   "cell_type": "code",
   "execution_count": 37,
   "metadata": {},
   "outputs": [],
   "source": [
    "df_results = df_results.join(df_results_wfs)"
   ]
  },
  {
   "cell_type": "code",
   "execution_count": 38,
   "metadata": {},
   "outputs": [
    {
     "data": {
      "text/html": [
       "<div>\n",
       "<style scoped>\n",
       "    .dataframe tbody tr th:only-of-type {\n",
       "        vertical-align: middle;\n",
       "    }\n",
       "\n",
       "    .dataframe tbody tr th {\n",
       "        vertical-align: top;\n",
       "    }\n",
       "\n",
       "    .dataframe thead th {\n",
       "        text-align: right;\n",
       "    }\n",
       "</style>\n",
       "<table border=\"1\" class=\"dataframe\">\n",
       "  <thead>\n",
       "    <tr style=\"text-align: right;\">\n",
       "      <th></th>\n",
       "      <th>Baseline Test Score</th>\n",
       "      <th>rsme</th>\n",
       "      <th>Baseline w/ KBest</th>\n",
       "      <th>rsme_kbest</th>\n",
       "    </tr>\n",
       "  </thead>\n",
       "  <tbody>\n",
       "    <tr>\n",
       "      <th>LinearRegression()</th>\n",
       "      <td>0.743534</td>\n",
       "      <td>40023.587103</td>\n",
       "      <td>-3.787656e+26</td>\n",
       "      <td>1.538106e+18</td>\n",
       "    </tr>\n",
       "    <tr>\n",
       "      <th>LogisticRegression()</th>\n",
       "      <td>0.017544</td>\n",
       "      <td>46334.515213</td>\n",
       "      <td>1.169591e-02</td>\n",
       "      <td>4.361838e+04</td>\n",
       "    </tr>\n",
       "    <tr>\n",
       "      <th>Ridge()</th>\n",
       "      <td>0.748093</td>\n",
       "      <td>39666.224960</td>\n",
       "      <td>7.061441e-01</td>\n",
       "      <td>4.284184e+04</td>\n",
       "    </tr>\n",
       "    <tr>\n",
       "      <th>Lasso()</th>\n",
       "      <td>0.744031</td>\n",
       "      <td>39984.777598</td>\n",
       "      <td>7.059647e-01</td>\n",
       "      <td>4.285492e+04</td>\n",
       "    </tr>\n",
       "    <tr>\n",
       "      <th>ElasticNet()</th>\n",
       "      <td>0.814004</td>\n",
       "      <td>34084.183871</td>\n",
       "      <td>7.124669e-01</td>\n",
       "      <td>4.237842e+04</td>\n",
       "    </tr>\n",
       "    <tr>\n",
       "      <th>KNeighborsRegressor()</th>\n",
       "      <td>0.758171</td>\n",
       "      <td>38864.711120</td>\n",
       "      <td>8.592407e-01</td>\n",
       "      <td>2.965101e+04</td>\n",
       "    </tr>\n",
       "    <tr>\n",
       "      <th>SVR()</th>\n",
       "      <td>-0.051186</td>\n",
       "      <td>81029.055916</td>\n",
       "      <td>-4.763767e-02</td>\n",
       "      <td>8.089216e+04</td>\n",
       "    </tr>\n",
       "  </tbody>\n",
       "</table>\n",
       "</div>"
      ],
      "text/plain": [
       "                       Baseline Test Score          rsme  Baseline w/ KBest  \\\n",
       "LinearRegression()                0.743534  40023.587103      -3.787656e+26   \n",
       "LogisticRegression()              0.017544  46334.515213       1.169591e-02   \n",
       "Ridge()                           0.748093  39666.224960       7.061441e-01   \n",
       "Lasso()                           0.744031  39984.777598       7.059647e-01   \n",
       "ElasticNet()                      0.814004  34084.183871       7.124669e-01   \n",
       "KNeighborsRegressor()             0.758171  38864.711120       8.592407e-01   \n",
       "SVR()                            -0.051186  81029.055916      -4.763767e-02   \n",
       "\n",
       "                         rsme_kbest  \n",
       "LinearRegression()     1.538106e+18  \n",
       "LogisticRegression()   4.361838e+04  \n",
       "Ridge()                4.284184e+04  \n",
       "Lasso()                4.285492e+04  \n",
       "ElasticNet()           4.237842e+04  \n",
       "KNeighborsRegressor()  2.965101e+04  \n",
       "SVR()                  8.089216e+04  "
      ]
     },
     "execution_count": 38,
     "metadata": {},
     "output_type": "execute_result"
    }
   ],
   "source": [
    "df_results"
   ]
  },
  {
   "cell_type": "code",
   "execution_count": 39,
   "metadata": {},
   "outputs": [],
   "source": [
    "# Optional. save current Dataframe to csv for reports\n",
    "#df_results.to_csv('/home/blue/general-assembly/dsir-824/submissions/projects/project-2-master/notebooks/outputted work/baseline-924.csv')"
   ]
  },
  {
   "cell_type": "code",
   "execution_count": null,
   "metadata": {},
   "outputs": [],
   "source": []
  },
  {
   "cell_type": "code",
   "execution_count": 40,
   "metadata": {},
   "outputs": [],
   "source": [
    "# Instantiate 6 Gridsear`ch CV for model optimization"
   ]
  },
  {
   "cell_type": "code",
   "execution_count": 41,
   "metadata": {},
   "outputs": [],
   "source": [
    "pipe_list_true, grid_list_true = ms.make_grid_search(list(estimator_params_true.keys()), \n",
    "                                                     list(estimator_params_true.values()))"
   ]
  },
  {
   "cell_type": "code",
   "execution_count": 42,
   "metadata": {},
   "outputs": [],
   "source": [
    "pipe_list_true_k, grid_list_true_k = ms.make_grid_search_wfs(preprocessing=preprocessing, \n",
    "                                                         estimator_list=list(estimator_params_true_k.keys()), \n",
    "                                                         params=list(estimator_params_true_k.values()))"
   ]
  },
  {
   "cell_type": "code",
   "execution_count": 43,
   "metadata": {},
   "outputs": [],
   "source": [
    "pipe_list_false, grid_list_false = ms.make_grid_search(list(estimator_params_false.keys()), \n",
    "                                                       list(estimator_params_false.values()))"
   ]
  },
  {
   "cell_type": "code",
   "execution_count": 44,
   "metadata": {},
   "outputs": [],
   "source": [
    "pipe_list_false_k, grid_list_false_k = ms.make_grid_search_wfs(preprocessing=preprocessing, \n",
    "                                                           estimator_list=list(estimator_params_false_k.keys()), \n",
    "                                                           params=list(estimator_params_false_k.values()))"
   ]
  },
  {
   "cell_type": "code",
   "execution_count": 45,
   "metadata": {},
   "outputs": [],
   "source": [
    "pipe_list_other, grid_list_other = ms.make_grid_search(list(estimator_params_other.keys()), \n",
    "                                                       list(estimator_params_other.values()))"
   ]
  },
  {
   "cell_type": "code",
   "execution_count": 46,
   "metadata": {},
   "outputs": [],
   "source": [
    "pipe_list_other_k, grid_list_other_k = ms.make_grid_search_wfs(preprocessing=preprocessing, \n",
    "                                                           estimator_list=list(estimator_params_other_k.keys()), \n",
    "                                                           params=list(estimator_params_other_k.values()))"
   ]
  },
  {
   "cell_type": "code",
   "execution_count": 47,
   "metadata": {},
   "outputs": [],
   "source": [
    "# Display 6 GridSearchCV objects to verify it was created correctly"
   ]
  },
  {
   "cell_type": "code",
   "execution_count": 48,
   "metadata": {},
   "outputs": [
    {
     "data": {
      "text/html": [
       "<style>div.sk-top-container {color: black;background-color: white;}div.sk-toggleable {background-color: white;}label.sk-toggleable__label {cursor: pointer;display: block;width: 100%;margin-bottom: 0;padding: 0.2em 0.3em;box-sizing: border-box;text-align: center;}div.sk-toggleable__content {max-height: 0;max-width: 0;overflow: hidden;text-align: left;background-color: #f0f8ff;}div.sk-toggleable__content pre {margin: 0.2em;color: black;border-radius: 0.25em;background-color: #f0f8ff;}input.sk-toggleable__control:checked~div.sk-toggleable__content {max-height: 200px;max-width: 100%;overflow: auto;}div.sk-estimator input.sk-toggleable__control:checked~label.sk-toggleable__label {background-color: #d4ebff;}div.sk-label input.sk-toggleable__control:checked~label.sk-toggleable__label {background-color: #d4ebff;}input.sk-hidden--visually {border: 0;clip: rect(1px 1px 1px 1px);clip: rect(1px, 1px, 1px, 1px);height: 1px;margin: -1px;overflow: hidden;padding: 0;position: absolute;width: 1px;}div.sk-estimator {font-family: monospace;background-color: #f0f8ff;margin: 0.25em 0.25em;border: 1px dotted black;border-radius: 0.25em;box-sizing: border-box;}div.sk-estimator:hover {background-color: #d4ebff;}div.sk-parallel-item::after {content: \"\";width: 100%;border-bottom: 1px solid gray;flex-grow: 1;}div.sk-label:hover label.sk-toggleable__label {background-color: #d4ebff;}div.sk-serial::before {content: \"\";position: absolute;border-left: 1px solid gray;box-sizing: border-box;top: 2em;bottom: 0;left: 50%;}div.sk-serial {display: flex;flex-direction: column;align-items: center;background-color: white;}div.sk-item {z-index: 1;}div.sk-parallel {display: flex;align-items: stretch;justify-content: center;background-color: white;}div.sk-parallel-item {display: flex;flex-direction: column;position: relative;background-color: white;}div.sk-parallel-item:first-child::after {align-self: flex-end;width: 50%;}div.sk-parallel-item:last-child::after {align-self: flex-start;width: 50%;}div.sk-parallel-item:only-child::after {width: 0;}div.sk-dashed-wrapped {border: 1px dashed gray;margin: 0.2em;box-sizing: border-box;padding-bottom: 0.1em;background-color: white;position: relative;}div.sk-label label {font-family: monospace;font-weight: bold;background-color: white;display: inline-block;line-height: 1.2em;}div.sk-label-container {position: relative;z-index: 2;text-align: center;}div.sk-container {display: inline-block;position: relative;}</style><div class=\"sk-top-container\"><div class=\"sk-container\"><div class=\"sk-item sk-dashed-wrapped\"><div class=\"sk-label-container\"><div class=\"sk-label sk-toggleable\"><input class=\"sk-toggleable__control sk-hidden--visually\" id=\"3482953e-d71a-4e62-8a8d-059cfe7496b9\" type=\"checkbox\" ><label class=\"sk-toggleable__label\" for=\"3482953e-d71a-4e62-8a8d-059cfe7496b9\">GridSearchCV</label><div class=\"sk-toggleable__content\"><pre>GridSearchCV(estimator=Pipeline(steps=[('columntransformer',\n",
       "                                        ColumnTransformer(transformers=[('num',\n",
       "                                                                         Pipeline(steps=[('num_imputer',\n",
       "                                                                                          SimpleImputer()),\n",
       "                                                                                         ('num_scaler',\n",
       "                                                                                          StandardScaler())]),\n",
       "                                                                         <sklearn.compose._column_transformer.make_column_selector object at 0x7f71545d15b0>),\n",
       "                                                                        ('cat',\n",
       "                                                                         Pipeline(steps=[('cat_imputer',\n",
       "                                                                                          SimpleImputer(fill_value='Other',\n",
       "                                                                                                        strategy='constant')),\n",
       "                                                                                         ('cat_onehot',\n",
       "                                                                                          OneHotEncoder(handle_unknown='ignore')),\n",
       "                                                                                         ('cat_scaler',\n",
       "                                                                                          StandardScaler(with_mean=False))]),\n",
       "                                                                         <sklearn.compose._column_transformer.make_column_selector object at 0x7f71545d15e0>)])),\n",
       "                                       ('linearregression',\n",
       "                                        LinearRegression())]),\n",
       "             n_jobs=-1,\n",
       "             param_grid={'linearregression__fit_intercept': [True],\n",
       "                         'linearregression__n_jobs': [-1]})</pre></div></div></div><div class=\"sk-parallel\"><div class=\"sk-parallel-item\"><div class=\"sk-item\"><div class=\"sk-serial\"><div class=\"sk-item\"><div class=\"sk-serial\"><div class=\"sk-item sk-dashed-wrapped\"><div class=\"sk-label-container\"><div class=\"sk-label sk-toggleable\"><input class=\"sk-toggleable__control sk-hidden--visually\" id=\"c1b9bf3e-f68a-43ec-b899-adac5e5cd238\" type=\"checkbox\" ><label class=\"sk-toggleable__label\" for=\"c1b9bf3e-f68a-43ec-b899-adac5e5cd238\">columntransformer: ColumnTransformer</label><div class=\"sk-toggleable__content\"><pre>ColumnTransformer(transformers=[('num',\n",
       "                                 Pipeline(steps=[('num_imputer',\n",
       "                                                  SimpleImputer()),\n",
       "                                                 ('num_scaler',\n",
       "                                                  StandardScaler())]),\n",
       "                                 <sklearn.compose._column_transformer.make_column_selector object at 0x7f71545d15b0>),\n",
       "                                ('cat',\n",
       "                                 Pipeline(steps=[('cat_imputer',\n",
       "                                                  SimpleImputer(fill_value='Other',\n",
       "                                                                strategy='constant')),\n",
       "                                                 ('cat_onehot',\n",
       "                                                  OneHotEncoder(handle_unknown='ignore')),\n",
       "                                                 ('cat_scaler',\n",
       "                                                  StandardScaler(with_mean=False))]),\n",
       "                                 <sklearn.compose._column_transformer.make_column_selector object at 0x7f71545d15e0>)])</pre></div></div></div><div class=\"sk-parallel\"><div class=\"sk-parallel-item\"><div class=\"sk-item\"><div class=\"sk-label-container\"><div class=\"sk-label sk-toggleable\"><input class=\"sk-toggleable__control sk-hidden--visually\" id=\"d7014502-c0a3-425c-a107-c56050d5345e\" type=\"checkbox\" ><label class=\"sk-toggleable__label\" for=\"d7014502-c0a3-425c-a107-c56050d5345e\">num</label><div class=\"sk-toggleable__content\"><pre><sklearn.compose._column_transformer.make_column_selector object at 0x7f71545d15b0></pre></div></div></div><div class=\"sk-serial\"><div class=\"sk-item\"><div class=\"sk-serial\"><div class=\"sk-item\"><div class=\"sk-estimator sk-toggleable\"><input class=\"sk-toggleable__control sk-hidden--visually\" id=\"57750d04-7938-40fe-adbe-0bdf2587602e\" type=\"checkbox\" ><label class=\"sk-toggleable__label\" for=\"57750d04-7938-40fe-adbe-0bdf2587602e\">SimpleImputer</label><div class=\"sk-toggleable__content\"><pre>SimpleImputer()</pre></div></div></div><div class=\"sk-item\"><div class=\"sk-estimator sk-toggleable\"><input class=\"sk-toggleable__control sk-hidden--visually\" id=\"ef84726e-35e4-4366-944e-140d33eed777\" type=\"checkbox\" ><label class=\"sk-toggleable__label\" for=\"ef84726e-35e4-4366-944e-140d33eed777\">StandardScaler</label><div class=\"sk-toggleable__content\"><pre>StandardScaler()</pre></div></div></div></div></div></div></div></div><div class=\"sk-parallel-item\"><div class=\"sk-item\"><div class=\"sk-label-container\"><div class=\"sk-label sk-toggleable\"><input class=\"sk-toggleable__control sk-hidden--visually\" id=\"f2f19420-510f-4d5a-9094-1ef736ddc220\" type=\"checkbox\" ><label class=\"sk-toggleable__label\" for=\"f2f19420-510f-4d5a-9094-1ef736ddc220\">cat</label><div class=\"sk-toggleable__content\"><pre><sklearn.compose._column_transformer.make_column_selector object at 0x7f71545d15e0></pre></div></div></div><div class=\"sk-serial\"><div class=\"sk-item\"><div class=\"sk-serial\"><div class=\"sk-item\"><div class=\"sk-estimator sk-toggleable\"><input class=\"sk-toggleable__control sk-hidden--visually\" id=\"00229c0d-80ad-405e-9e5f-7bba5582c902\" type=\"checkbox\" ><label class=\"sk-toggleable__label\" for=\"00229c0d-80ad-405e-9e5f-7bba5582c902\">SimpleImputer</label><div class=\"sk-toggleable__content\"><pre>SimpleImputer(fill_value='Other', strategy='constant')</pre></div></div></div><div class=\"sk-item\"><div class=\"sk-estimator sk-toggleable\"><input class=\"sk-toggleable__control sk-hidden--visually\" id=\"690231de-ca4d-4a5c-9734-8e16f43a006c\" type=\"checkbox\" ><label class=\"sk-toggleable__label\" for=\"690231de-ca4d-4a5c-9734-8e16f43a006c\">OneHotEncoder</label><div class=\"sk-toggleable__content\"><pre>OneHotEncoder(handle_unknown='ignore')</pre></div></div></div><div class=\"sk-item\"><div class=\"sk-estimator sk-toggleable\"><input class=\"sk-toggleable__control sk-hidden--visually\" id=\"73947107-2e14-490a-a284-b6e35aace0f2\" type=\"checkbox\" ><label class=\"sk-toggleable__label\" for=\"73947107-2e14-490a-a284-b6e35aace0f2\">StandardScaler</label><div class=\"sk-toggleable__content\"><pre>StandardScaler(with_mean=False)</pre></div></div></div></div></div></div></div></div></div></div><div class=\"sk-item\"><div class=\"sk-estimator sk-toggleable\"><input class=\"sk-toggleable__control sk-hidden--visually\" id=\"8df0e296-2a6f-47f9-a901-ceacd90e45f1\" type=\"checkbox\" ><label class=\"sk-toggleable__label\" for=\"8df0e296-2a6f-47f9-a901-ceacd90e45f1\">LinearRegression</label><div class=\"sk-toggleable__content\"><pre>LinearRegression()</pre></div></div></div></div></div></div></div></div></div></div></div></div>"
      ],
      "text/plain": [
       "GridSearchCV(estimator=Pipeline(steps=[('columntransformer',\n",
       "                                        ColumnTransformer(transformers=[('num',\n",
       "                                                                         Pipeline(steps=[('num_imputer',\n",
       "                                                                                          SimpleImputer()),\n",
       "                                                                                         ('num_scaler',\n",
       "                                                                                          StandardScaler())]),\n",
       "                                                                         <sklearn.compose._column_transformer.make_column_selector object at 0x7f71545d15b0>),\n",
       "                                                                        ('cat',\n",
       "                                                                         Pipeline(steps=[('cat_imputer',\n",
       "                                                                                          SimpleImputer(fill_value='Other',\n",
       "                                                                                                        strategy='constant')),\n",
       "                                                                                         ('cat_onehot',\n",
       "                                                                                          OneHotEncoder(handle_unknown='ignore')),\n",
       "                                                                                         ('cat_scaler',\n",
       "                                                                                          StandardScaler(with_mean=False))]),\n",
       "                                                                         <sklearn.compose._column_transformer.make_column_selector object at 0x7f71545d15e0>)])),\n",
       "                                       ('linearregression',\n",
       "                                        LinearRegression())]),\n",
       "             n_jobs=-1,\n",
       "             param_grid={'linearregression__fit_intercept': [True],\n",
       "                         'linearregression__n_jobs': [-1]})"
      ]
     },
     "execution_count": 48,
     "metadata": {},
     "output_type": "execute_result"
    }
   ],
   "source": [
    "grid_list_true[0]"
   ]
  },
  {
   "cell_type": "code",
   "execution_count": 49,
   "metadata": {},
   "outputs": [
    {
     "data": {
      "text/html": [
       "<style>div.sk-top-container {color: black;background-color: white;}div.sk-toggleable {background-color: white;}label.sk-toggleable__label {cursor: pointer;display: block;width: 100%;margin-bottom: 0;padding: 0.2em 0.3em;box-sizing: border-box;text-align: center;}div.sk-toggleable__content {max-height: 0;max-width: 0;overflow: hidden;text-align: left;background-color: #f0f8ff;}div.sk-toggleable__content pre {margin: 0.2em;color: black;border-radius: 0.25em;background-color: #f0f8ff;}input.sk-toggleable__control:checked~div.sk-toggleable__content {max-height: 200px;max-width: 100%;overflow: auto;}div.sk-estimator input.sk-toggleable__control:checked~label.sk-toggleable__label {background-color: #d4ebff;}div.sk-label input.sk-toggleable__control:checked~label.sk-toggleable__label {background-color: #d4ebff;}input.sk-hidden--visually {border: 0;clip: rect(1px 1px 1px 1px);clip: rect(1px, 1px, 1px, 1px);height: 1px;margin: -1px;overflow: hidden;padding: 0;position: absolute;width: 1px;}div.sk-estimator {font-family: monospace;background-color: #f0f8ff;margin: 0.25em 0.25em;border: 1px dotted black;border-radius: 0.25em;box-sizing: border-box;}div.sk-estimator:hover {background-color: #d4ebff;}div.sk-parallel-item::after {content: \"\";width: 100%;border-bottom: 1px solid gray;flex-grow: 1;}div.sk-label:hover label.sk-toggleable__label {background-color: #d4ebff;}div.sk-serial::before {content: \"\";position: absolute;border-left: 1px solid gray;box-sizing: border-box;top: 2em;bottom: 0;left: 50%;}div.sk-serial {display: flex;flex-direction: column;align-items: center;background-color: white;}div.sk-item {z-index: 1;}div.sk-parallel {display: flex;align-items: stretch;justify-content: center;background-color: white;}div.sk-parallel-item {display: flex;flex-direction: column;position: relative;background-color: white;}div.sk-parallel-item:first-child::after {align-self: flex-end;width: 50%;}div.sk-parallel-item:last-child::after {align-self: flex-start;width: 50%;}div.sk-parallel-item:only-child::after {width: 0;}div.sk-dashed-wrapped {border: 1px dashed gray;margin: 0.2em;box-sizing: border-box;padding-bottom: 0.1em;background-color: white;position: relative;}div.sk-label label {font-family: monospace;font-weight: bold;background-color: white;display: inline-block;line-height: 1.2em;}div.sk-label-container {position: relative;z-index: 2;text-align: center;}div.sk-container {display: inline-block;position: relative;}</style><div class=\"sk-top-container\"><div class=\"sk-container\"><div class=\"sk-item sk-dashed-wrapped\"><div class=\"sk-label-container\"><div class=\"sk-label sk-toggleable\"><input class=\"sk-toggleable__control sk-hidden--visually\" id=\"00666401-11e0-42d8-8846-fb149cf870f7\" type=\"checkbox\" ><label class=\"sk-toggleable__label\" for=\"00666401-11e0-42d8-8846-fb149cf870f7\">GridSearchCV</label><div class=\"sk-toggleable__content\"><pre>GridSearchCV(estimator=Pipeline(steps=[('columntransformer',\n",
       "                                        ColumnTransformer(transformers=[('num',\n",
       "                                                                         Pipeline(steps=[('num_imputer',\n",
       "                                                                                          SimpleImputer()),\n",
       "                                                                                         ('num_scaler',\n",
       "                                                                                          StandardScaler()),\n",
       "                                                                                         ('num_kbest',\n",
       "                                                                                          SelectKBest())]),\n",
       "                                                                         <sklearn.compose._column_transformer.make_column_selector object at 0x7f71545d1e50>),\n",
       "                                                                        ('cat',\n",
       "                                                                         Pipeline(steps=[('cat_imputer',\n",
       "                                                                                          SimpleImputer(fill_va...\n",
       "                                                                                          SelectKBest(score_func=<function chi2 at 0x7f71546b1c10>))]),\n",
       "                                                                         <sklearn.compose._column_transformer.make_column_selector object at 0x7f71545d1ee0>)])),\n",
       "                                       ('linearregression',\n",
       "                                        LinearRegression())]),\n",
       "             n_jobs=-1,\n",
       "             param_grid={'columntransformer__cat__cat_kbest__k': [30],\n",
       "                         'columntransformer__num__num_kbest__k': [35],\n",
       "                         'linearregression__fit_intercept': [True],\n",
       "                         'linearregression__n_jobs': [-1]})</pre></div></div></div><div class=\"sk-parallel\"><div class=\"sk-parallel-item\"><div class=\"sk-item\"><div class=\"sk-serial\"><div class=\"sk-item\"><div class=\"sk-serial\"><div class=\"sk-item sk-dashed-wrapped\"><div class=\"sk-label-container\"><div class=\"sk-label sk-toggleable\"><input class=\"sk-toggleable__control sk-hidden--visually\" id=\"c75f7f22-b609-4abe-b012-75983d8e038c\" type=\"checkbox\" ><label class=\"sk-toggleable__label\" for=\"c75f7f22-b609-4abe-b012-75983d8e038c\">columntransformer: ColumnTransformer</label><div class=\"sk-toggleable__content\"><pre>ColumnTransformer(transformers=[('num',\n",
       "                                 Pipeline(steps=[('num_imputer',\n",
       "                                                  SimpleImputer()),\n",
       "                                                 ('num_scaler',\n",
       "                                                  StandardScaler()),\n",
       "                                                 ('num_kbest', SelectKBest())]),\n",
       "                                 <sklearn.compose._column_transformer.make_column_selector object at 0x7f71545d1e50>),\n",
       "                                ('cat',\n",
       "                                 Pipeline(steps=[('cat_imputer',\n",
       "                                                  SimpleImputer(fill_value='Other',\n",
       "                                                                strategy='constant')),\n",
       "                                                 ('cat_onehot',\n",
       "                                                  OneHotEncoder(handle_unknown='ignore')),\n",
       "                                                 ('cat_scaler',\n",
       "                                                  StandardScaler(with_mean=False)),\n",
       "                                                 ('cat_kbest',\n",
       "                                                  SelectKBest(score_func=<function chi2 at 0x7f71546b1c10>))]),\n",
       "                                 <sklearn.compose._column_transformer.make_column_selector object at 0x7f71545d1ee0>)])</pre></div></div></div><div class=\"sk-parallel\"><div class=\"sk-parallel-item\"><div class=\"sk-item\"><div class=\"sk-label-container\"><div class=\"sk-label sk-toggleable\"><input class=\"sk-toggleable__control sk-hidden--visually\" id=\"c2333a2a-a60e-4422-9175-458bcbd34ba3\" type=\"checkbox\" ><label class=\"sk-toggleable__label\" for=\"c2333a2a-a60e-4422-9175-458bcbd34ba3\">num</label><div class=\"sk-toggleable__content\"><pre><sklearn.compose._column_transformer.make_column_selector object at 0x7f71545d1e50></pre></div></div></div><div class=\"sk-serial\"><div class=\"sk-item\"><div class=\"sk-serial\"><div class=\"sk-item\"><div class=\"sk-estimator sk-toggleable\"><input class=\"sk-toggleable__control sk-hidden--visually\" id=\"8efdf964-ece7-4208-bdcf-6ff5e8e68965\" type=\"checkbox\" ><label class=\"sk-toggleable__label\" for=\"8efdf964-ece7-4208-bdcf-6ff5e8e68965\">SimpleImputer</label><div class=\"sk-toggleable__content\"><pre>SimpleImputer()</pre></div></div></div><div class=\"sk-item\"><div class=\"sk-estimator sk-toggleable\"><input class=\"sk-toggleable__control sk-hidden--visually\" id=\"3e434435-feaf-4e68-adb5-ae3da1d07b49\" type=\"checkbox\" ><label class=\"sk-toggleable__label\" for=\"3e434435-feaf-4e68-adb5-ae3da1d07b49\">StandardScaler</label><div class=\"sk-toggleable__content\"><pre>StandardScaler()</pre></div></div></div><div class=\"sk-item\"><div class=\"sk-estimator sk-toggleable\"><input class=\"sk-toggleable__control sk-hidden--visually\" id=\"4b8177ca-da2a-406a-aa13-e82d8a258498\" type=\"checkbox\" ><label class=\"sk-toggleable__label\" for=\"4b8177ca-da2a-406a-aa13-e82d8a258498\">SelectKBest</label><div class=\"sk-toggleable__content\"><pre>SelectKBest()</pre></div></div></div></div></div></div></div></div><div class=\"sk-parallel-item\"><div class=\"sk-item\"><div class=\"sk-label-container\"><div class=\"sk-label sk-toggleable\"><input class=\"sk-toggleable__control sk-hidden--visually\" id=\"abdf9a49-f0f7-4590-a106-c8ea8cbdce1b\" type=\"checkbox\" ><label class=\"sk-toggleable__label\" for=\"abdf9a49-f0f7-4590-a106-c8ea8cbdce1b\">cat</label><div class=\"sk-toggleable__content\"><pre><sklearn.compose._column_transformer.make_column_selector object at 0x7f71545d1ee0></pre></div></div></div><div class=\"sk-serial\"><div class=\"sk-item\"><div class=\"sk-serial\"><div class=\"sk-item\"><div class=\"sk-estimator sk-toggleable\"><input class=\"sk-toggleable__control sk-hidden--visually\" id=\"74513064-ce47-4333-af40-558664fa3e32\" type=\"checkbox\" ><label class=\"sk-toggleable__label\" for=\"74513064-ce47-4333-af40-558664fa3e32\">SimpleImputer</label><div class=\"sk-toggleable__content\"><pre>SimpleImputer(fill_value='Other', strategy='constant')</pre></div></div></div><div class=\"sk-item\"><div class=\"sk-estimator sk-toggleable\"><input class=\"sk-toggleable__control sk-hidden--visually\" id=\"e7de9b6f-b0e0-4cee-8bb8-341174190d38\" type=\"checkbox\" ><label class=\"sk-toggleable__label\" for=\"e7de9b6f-b0e0-4cee-8bb8-341174190d38\">OneHotEncoder</label><div class=\"sk-toggleable__content\"><pre>OneHotEncoder(handle_unknown='ignore')</pre></div></div></div><div class=\"sk-item\"><div class=\"sk-estimator sk-toggleable\"><input class=\"sk-toggleable__control sk-hidden--visually\" id=\"be536873-4852-4678-8cdf-02aeadc5b687\" type=\"checkbox\" ><label class=\"sk-toggleable__label\" for=\"be536873-4852-4678-8cdf-02aeadc5b687\">StandardScaler</label><div class=\"sk-toggleable__content\"><pre>StandardScaler(with_mean=False)</pre></div></div></div><div class=\"sk-item\"><div class=\"sk-estimator sk-toggleable\"><input class=\"sk-toggleable__control sk-hidden--visually\" id=\"66dd0dbd-16ec-4903-8030-bd5d75eccd97\" type=\"checkbox\" ><label class=\"sk-toggleable__label\" for=\"66dd0dbd-16ec-4903-8030-bd5d75eccd97\">SelectKBest</label><div class=\"sk-toggleable__content\"><pre>SelectKBest(score_func=<function chi2 at 0x7f71546b1c10>)</pre></div></div></div></div></div></div></div></div></div></div><div class=\"sk-item\"><div class=\"sk-estimator sk-toggleable\"><input class=\"sk-toggleable__control sk-hidden--visually\" id=\"3258ae62-222e-4a2d-8162-0e7e26009a71\" type=\"checkbox\" ><label class=\"sk-toggleable__label\" for=\"3258ae62-222e-4a2d-8162-0e7e26009a71\">LinearRegression</label><div class=\"sk-toggleable__content\"><pre>LinearRegression()</pre></div></div></div></div></div></div></div></div></div></div></div></div>"
      ],
      "text/plain": [
       "GridSearchCV(estimator=Pipeline(steps=[('columntransformer',\n",
       "                                        ColumnTransformer(transformers=[('num',\n",
       "                                                                         Pipeline(steps=[('num_imputer',\n",
       "                                                                                          SimpleImputer()),\n",
       "                                                                                         ('num_scaler',\n",
       "                                                                                          StandardScaler()),\n",
       "                                                                                         ('num_kbest',\n",
       "                                                                                          SelectKBest())]),\n",
       "                                                                         <sklearn.compose._column_transformer.make_column_selector object at 0x7f71545d1e50>),\n",
       "                                                                        ('cat',\n",
       "                                                                         Pipeline(steps=[('cat_imputer',\n",
       "                                                                                          SimpleImputer(fill_va...\n",
       "                                                                                          SelectKBest(score_func=<function chi2 at 0x7f71546b1c10>))]),\n",
       "                                                                         <sklearn.compose._column_transformer.make_column_selector object at 0x7f71545d1ee0>)])),\n",
       "                                       ('linearregression',\n",
       "                                        LinearRegression())]),\n",
       "             n_jobs=-1,\n",
       "             param_grid={'columntransformer__cat__cat_kbest__k': [30],\n",
       "                         'columntransformer__num__num_kbest__k': [35],\n",
       "                         'linearregression__fit_intercept': [True],\n",
       "                         'linearregression__n_jobs': [-1]})"
      ]
     },
     "execution_count": 49,
     "metadata": {},
     "output_type": "execute_result"
    }
   ],
   "source": [
    "grid_list_true_k[0]"
   ]
  },
  {
   "cell_type": "code",
   "execution_count": 50,
   "metadata": {},
   "outputs": [
    {
     "data": {
      "text/html": [
       "<style>div.sk-top-container {color: black;background-color: white;}div.sk-toggleable {background-color: white;}label.sk-toggleable__label {cursor: pointer;display: block;width: 100%;margin-bottom: 0;padding: 0.2em 0.3em;box-sizing: border-box;text-align: center;}div.sk-toggleable__content {max-height: 0;max-width: 0;overflow: hidden;text-align: left;background-color: #f0f8ff;}div.sk-toggleable__content pre {margin: 0.2em;color: black;border-radius: 0.25em;background-color: #f0f8ff;}input.sk-toggleable__control:checked~div.sk-toggleable__content {max-height: 200px;max-width: 100%;overflow: auto;}div.sk-estimator input.sk-toggleable__control:checked~label.sk-toggleable__label {background-color: #d4ebff;}div.sk-label input.sk-toggleable__control:checked~label.sk-toggleable__label {background-color: #d4ebff;}input.sk-hidden--visually {border: 0;clip: rect(1px 1px 1px 1px);clip: rect(1px, 1px, 1px, 1px);height: 1px;margin: -1px;overflow: hidden;padding: 0;position: absolute;width: 1px;}div.sk-estimator {font-family: monospace;background-color: #f0f8ff;margin: 0.25em 0.25em;border: 1px dotted black;border-radius: 0.25em;box-sizing: border-box;}div.sk-estimator:hover {background-color: #d4ebff;}div.sk-parallel-item::after {content: \"\";width: 100%;border-bottom: 1px solid gray;flex-grow: 1;}div.sk-label:hover label.sk-toggleable__label {background-color: #d4ebff;}div.sk-serial::before {content: \"\";position: absolute;border-left: 1px solid gray;box-sizing: border-box;top: 2em;bottom: 0;left: 50%;}div.sk-serial {display: flex;flex-direction: column;align-items: center;background-color: white;}div.sk-item {z-index: 1;}div.sk-parallel {display: flex;align-items: stretch;justify-content: center;background-color: white;}div.sk-parallel-item {display: flex;flex-direction: column;position: relative;background-color: white;}div.sk-parallel-item:first-child::after {align-self: flex-end;width: 50%;}div.sk-parallel-item:last-child::after {align-self: flex-start;width: 50%;}div.sk-parallel-item:only-child::after {width: 0;}div.sk-dashed-wrapped {border: 1px dashed gray;margin: 0.2em;box-sizing: border-box;padding-bottom: 0.1em;background-color: white;position: relative;}div.sk-label label {font-family: monospace;font-weight: bold;background-color: white;display: inline-block;line-height: 1.2em;}div.sk-label-container {position: relative;z-index: 2;text-align: center;}div.sk-container {display: inline-block;position: relative;}</style><div class=\"sk-top-container\"><div class=\"sk-container\"><div class=\"sk-item sk-dashed-wrapped\"><div class=\"sk-label-container\"><div class=\"sk-label sk-toggleable\"><input class=\"sk-toggleable__control sk-hidden--visually\" id=\"d6b81993-66fa-4557-9265-21b67c51e20a\" type=\"checkbox\" ><label class=\"sk-toggleable__label\" for=\"d6b81993-66fa-4557-9265-21b67c51e20a\">GridSearchCV</label><div class=\"sk-toggleable__content\"><pre>GridSearchCV(estimator=Pipeline(steps=[('columntransformer',\n",
       "                                        ColumnTransformer(transformers=[('num',\n",
       "                                                                         Pipeline(steps=[('num_imputer',\n",
       "                                                                                          SimpleImputer()),\n",
       "                                                                                         ('num_scaler',\n",
       "                                                                                          StandardScaler())]),\n",
       "                                                                         <sklearn.compose._column_transformer.make_column_selector object at 0x7f71545d15b0>),\n",
       "                                                                        ('cat',\n",
       "                                                                         Pipeline(steps=[('cat_imputer',\n",
       "                                                                                          SimpleImputer(fill_value='Other',\n",
       "                                                                                                        strategy='constant')),\n",
       "                                                                                         ('cat_onehot',\n",
       "                                                                                          OneHotEncoder(handle_unknown='ignore')),\n",
       "                                                                                         ('cat_scaler',\n",
       "                                                                                          StandardScaler(with_mean=False))]),\n",
       "                                                                         <sklearn.compose._column_transformer.make_column_selector object at 0x7f71545d15e0>)])),\n",
       "                                       ('linearregression',\n",
       "                                        LinearRegression())]),\n",
       "             n_jobs=-1,\n",
       "             param_grid={'linearregression__fit_intercept': [False],\n",
       "                         'linearregression__n_jobs': [-1]})</pre></div></div></div><div class=\"sk-parallel\"><div class=\"sk-parallel-item\"><div class=\"sk-item\"><div class=\"sk-serial\"><div class=\"sk-item\"><div class=\"sk-serial\"><div class=\"sk-item sk-dashed-wrapped\"><div class=\"sk-label-container\"><div class=\"sk-label sk-toggleable\"><input class=\"sk-toggleable__control sk-hidden--visually\" id=\"74691a0b-f6dd-46e3-ade4-19d910ebca8e\" type=\"checkbox\" ><label class=\"sk-toggleable__label\" for=\"74691a0b-f6dd-46e3-ade4-19d910ebca8e\">columntransformer: ColumnTransformer</label><div class=\"sk-toggleable__content\"><pre>ColumnTransformer(transformers=[('num',\n",
       "                                 Pipeline(steps=[('num_imputer',\n",
       "                                                  SimpleImputer()),\n",
       "                                                 ('num_scaler',\n",
       "                                                  StandardScaler())]),\n",
       "                                 <sklearn.compose._column_transformer.make_column_selector object at 0x7f71545d15b0>),\n",
       "                                ('cat',\n",
       "                                 Pipeline(steps=[('cat_imputer',\n",
       "                                                  SimpleImputer(fill_value='Other',\n",
       "                                                                strategy='constant')),\n",
       "                                                 ('cat_onehot',\n",
       "                                                  OneHotEncoder(handle_unknown='ignore')),\n",
       "                                                 ('cat_scaler',\n",
       "                                                  StandardScaler(with_mean=False))]),\n",
       "                                 <sklearn.compose._column_transformer.make_column_selector object at 0x7f71545d15e0>)])</pre></div></div></div><div class=\"sk-parallel\"><div class=\"sk-parallel-item\"><div class=\"sk-item\"><div class=\"sk-label-container\"><div class=\"sk-label sk-toggleable\"><input class=\"sk-toggleable__control sk-hidden--visually\" id=\"f740cad5-c442-4555-93f7-45557554f308\" type=\"checkbox\" ><label class=\"sk-toggleable__label\" for=\"f740cad5-c442-4555-93f7-45557554f308\">num</label><div class=\"sk-toggleable__content\"><pre><sklearn.compose._column_transformer.make_column_selector object at 0x7f71545d15b0></pre></div></div></div><div class=\"sk-serial\"><div class=\"sk-item\"><div class=\"sk-serial\"><div class=\"sk-item\"><div class=\"sk-estimator sk-toggleable\"><input class=\"sk-toggleable__control sk-hidden--visually\" id=\"3a934033-3df6-4226-9850-68331edd70e3\" type=\"checkbox\" ><label class=\"sk-toggleable__label\" for=\"3a934033-3df6-4226-9850-68331edd70e3\">SimpleImputer</label><div class=\"sk-toggleable__content\"><pre>SimpleImputer()</pre></div></div></div><div class=\"sk-item\"><div class=\"sk-estimator sk-toggleable\"><input class=\"sk-toggleable__control sk-hidden--visually\" id=\"e5965fdc-2639-4369-ad4c-ca226f007e90\" type=\"checkbox\" ><label class=\"sk-toggleable__label\" for=\"e5965fdc-2639-4369-ad4c-ca226f007e90\">StandardScaler</label><div class=\"sk-toggleable__content\"><pre>StandardScaler()</pre></div></div></div></div></div></div></div></div><div class=\"sk-parallel-item\"><div class=\"sk-item\"><div class=\"sk-label-container\"><div class=\"sk-label sk-toggleable\"><input class=\"sk-toggleable__control sk-hidden--visually\" id=\"ba2848f5-a496-42aa-947d-1f2a00fc6f2a\" type=\"checkbox\" ><label class=\"sk-toggleable__label\" for=\"ba2848f5-a496-42aa-947d-1f2a00fc6f2a\">cat</label><div class=\"sk-toggleable__content\"><pre><sklearn.compose._column_transformer.make_column_selector object at 0x7f71545d15e0></pre></div></div></div><div class=\"sk-serial\"><div class=\"sk-item\"><div class=\"sk-serial\"><div class=\"sk-item\"><div class=\"sk-estimator sk-toggleable\"><input class=\"sk-toggleable__control sk-hidden--visually\" id=\"60d40dac-8564-4e66-93e2-9eea6156001e\" type=\"checkbox\" ><label class=\"sk-toggleable__label\" for=\"60d40dac-8564-4e66-93e2-9eea6156001e\">SimpleImputer</label><div class=\"sk-toggleable__content\"><pre>SimpleImputer(fill_value='Other', strategy='constant')</pre></div></div></div><div class=\"sk-item\"><div class=\"sk-estimator sk-toggleable\"><input class=\"sk-toggleable__control sk-hidden--visually\" id=\"acba8abd-28ab-4d8b-b722-6fa8bfaf67f2\" type=\"checkbox\" ><label class=\"sk-toggleable__label\" for=\"acba8abd-28ab-4d8b-b722-6fa8bfaf67f2\">OneHotEncoder</label><div class=\"sk-toggleable__content\"><pre>OneHotEncoder(handle_unknown='ignore')</pre></div></div></div><div class=\"sk-item\"><div class=\"sk-estimator sk-toggleable\"><input class=\"sk-toggleable__control sk-hidden--visually\" id=\"d7e5ea3d-3576-4f68-94cc-f93fd9bec1d9\" type=\"checkbox\" ><label class=\"sk-toggleable__label\" for=\"d7e5ea3d-3576-4f68-94cc-f93fd9bec1d9\">StandardScaler</label><div class=\"sk-toggleable__content\"><pre>StandardScaler(with_mean=False)</pre></div></div></div></div></div></div></div></div></div></div><div class=\"sk-item\"><div class=\"sk-estimator sk-toggleable\"><input class=\"sk-toggleable__control sk-hidden--visually\" id=\"0ea5c74c-328a-45f7-a80d-0b9488b9a17f\" type=\"checkbox\" ><label class=\"sk-toggleable__label\" for=\"0ea5c74c-328a-45f7-a80d-0b9488b9a17f\">LinearRegression</label><div class=\"sk-toggleable__content\"><pre>LinearRegression()</pre></div></div></div></div></div></div></div></div></div></div></div></div>"
      ],
      "text/plain": [
       "GridSearchCV(estimator=Pipeline(steps=[('columntransformer',\n",
       "                                        ColumnTransformer(transformers=[('num',\n",
       "                                                                         Pipeline(steps=[('num_imputer',\n",
       "                                                                                          SimpleImputer()),\n",
       "                                                                                         ('num_scaler',\n",
       "                                                                                          StandardScaler())]),\n",
       "                                                                         <sklearn.compose._column_transformer.make_column_selector object at 0x7f71545d15b0>),\n",
       "                                                                        ('cat',\n",
       "                                                                         Pipeline(steps=[('cat_imputer',\n",
       "                                                                                          SimpleImputer(fill_value='Other',\n",
       "                                                                                                        strategy='constant')),\n",
       "                                                                                         ('cat_onehot',\n",
       "                                                                                          OneHotEncoder(handle_unknown='ignore')),\n",
       "                                                                                         ('cat_scaler',\n",
       "                                                                                          StandardScaler(with_mean=False))]),\n",
       "                                                                         <sklearn.compose._column_transformer.make_column_selector object at 0x7f71545d15e0>)])),\n",
       "                                       ('linearregression',\n",
       "                                        LinearRegression())]),\n",
       "             n_jobs=-1,\n",
       "             param_grid={'linearregression__fit_intercept': [False],\n",
       "                         'linearregression__n_jobs': [-1]})"
      ]
     },
     "execution_count": 50,
     "metadata": {},
     "output_type": "execute_result"
    }
   ],
   "source": [
    "grid_list_false[0]"
   ]
  },
  {
   "cell_type": "code",
   "execution_count": 51,
   "metadata": {},
   "outputs": [
    {
     "data": {
      "text/html": [
       "<style>div.sk-top-container {color: black;background-color: white;}div.sk-toggleable {background-color: white;}label.sk-toggleable__label {cursor: pointer;display: block;width: 100%;margin-bottom: 0;padding: 0.2em 0.3em;box-sizing: border-box;text-align: center;}div.sk-toggleable__content {max-height: 0;max-width: 0;overflow: hidden;text-align: left;background-color: #f0f8ff;}div.sk-toggleable__content pre {margin: 0.2em;color: black;border-radius: 0.25em;background-color: #f0f8ff;}input.sk-toggleable__control:checked~div.sk-toggleable__content {max-height: 200px;max-width: 100%;overflow: auto;}div.sk-estimator input.sk-toggleable__control:checked~label.sk-toggleable__label {background-color: #d4ebff;}div.sk-label input.sk-toggleable__control:checked~label.sk-toggleable__label {background-color: #d4ebff;}input.sk-hidden--visually {border: 0;clip: rect(1px 1px 1px 1px);clip: rect(1px, 1px, 1px, 1px);height: 1px;margin: -1px;overflow: hidden;padding: 0;position: absolute;width: 1px;}div.sk-estimator {font-family: monospace;background-color: #f0f8ff;margin: 0.25em 0.25em;border: 1px dotted black;border-radius: 0.25em;box-sizing: border-box;}div.sk-estimator:hover {background-color: #d4ebff;}div.sk-parallel-item::after {content: \"\";width: 100%;border-bottom: 1px solid gray;flex-grow: 1;}div.sk-label:hover label.sk-toggleable__label {background-color: #d4ebff;}div.sk-serial::before {content: \"\";position: absolute;border-left: 1px solid gray;box-sizing: border-box;top: 2em;bottom: 0;left: 50%;}div.sk-serial {display: flex;flex-direction: column;align-items: center;background-color: white;}div.sk-item {z-index: 1;}div.sk-parallel {display: flex;align-items: stretch;justify-content: center;background-color: white;}div.sk-parallel-item {display: flex;flex-direction: column;position: relative;background-color: white;}div.sk-parallel-item:first-child::after {align-self: flex-end;width: 50%;}div.sk-parallel-item:last-child::after {align-self: flex-start;width: 50%;}div.sk-parallel-item:only-child::after {width: 0;}div.sk-dashed-wrapped {border: 1px dashed gray;margin: 0.2em;box-sizing: border-box;padding-bottom: 0.1em;background-color: white;position: relative;}div.sk-label label {font-family: monospace;font-weight: bold;background-color: white;display: inline-block;line-height: 1.2em;}div.sk-label-container {position: relative;z-index: 2;text-align: center;}div.sk-container {display: inline-block;position: relative;}</style><div class=\"sk-top-container\"><div class=\"sk-container\"><div class=\"sk-item sk-dashed-wrapped\"><div class=\"sk-label-container\"><div class=\"sk-label sk-toggleable\"><input class=\"sk-toggleable__control sk-hidden--visually\" id=\"26be6e0d-d932-49be-804b-499368db99b7\" type=\"checkbox\" ><label class=\"sk-toggleable__label\" for=\"26be6e0d-d932-49be-804b-499368db99b7\">GridSearchCV</label><div class=\"sk-toggleable__content\"><pre>GridSearchCV(estimator=Pipeline(steps=[('columntransformer',\n",
       "                                        ColumnTransformer(transformers=[('num',\n",
       "                                                                         Pipeline(steps=[('num_imputer',\n",
       "                                                                                          SimpleImputer()),\n",
       "                                                                                         ('num_scaler',\n",
       "                                                                                          StandardScaler()),\n",
       "                                                                                         ('num_kbest',\n",
       "                                                                                          SelectKBest())]),\n",
       "                                                                         <sklearn.compose._column_transformer.make_column_selector object at 0x7f71545d1e50>),\n",
       "                                                                        ('cat',\n",
       "                                                                         Pipeline(steps=[('cat_imputer',\n",
       "                                                                                          SimpleImputer(fill_va...\n",
       "                                                                                          SelectKBest(score_func=<function chi2 at 0x7f71546b1c10>))]),\n",
       "                                                                         <sklearn.compose._column_transformer.make_column_selector object at 0x7f71545d1ee0>)])),\n",
       "                                       ('linearregression',\n",
       "                                        LinearRegression())]),\n",
       "             n_jobs=-1,\n",
       "             param_grid={'columntransformer__cat__cat_kbest__k': [30],\n",
       "                         'columntransformer__num__num_kbest__k': [35],\n",
       "                         'linearregression__fit_intercept': [False],\n",
       "                         'linearregression__n_jobs': [-1]})</pre></div></div></div><div class=\"sk-parallel\"><div class=\"sk-parallel-item\"><div class=\"sk-item\"><div class=\"sk-serial\"><div class=\"sk-item\"><div class=\"sk-serial\"><div class=\"sk-item sk-dashed-wrapped\"><div class=\"sk-label-container\"><div class=\"sk-label sk-toggleable\"><input class=\"sk-toggleable__control sk-hidden--visually\" id=\"aac95221-ca8f-4d58-af6f-f43d07809d31\" type=\"checkbox\" ><label class=\"sk-toggleable__label\" for=\"aac95221-ca8f-4d58-af6f-f43d07809d31\">columntransformer: ColumnTransformer</label><div class=\"sk-toggleable__content\"><pre>ColumnTransformer(transformers=[('num',\n",
       "                                 Pipeline(steps=[('num_imputer',\n",
       "                                                  SimpleImputer()),\n",
       "                                                 ('num_scaler',\n",
       "                                                  StandardScaler()),\n",
       "                                                 ('num_kbest', SelectKBest())]),\n",
       "                                 <sklearn.compose._column_transformer.make_column_selector object at 0x7f71545d1e50>),\n",
       "                                ('cat',\n",
       "                                 Pipeline(steps=[('cat_imputer',\n",
       "                                                  SimpleImputer(fill_value='Other',\n",
       "                                                                strategy='constant')),\n",
       "                                                 ('cat_onehot',\n",
       "                                                  OneHotEncoder(handle_unknown='ignore')),\n",
       "                                                 ('cat_scaler',\n",
       "                                                  StandardScaler(with_mean=False)),\n",
       "                                                 ('cat_kbest',\n",
       "                                                  SelectKBest(score_func=<function chi2 at 0x7f71546b1c10>))]),\n",
       "                                 <sklearn.compose._column_transformer.make_column_selector object at 0x7f71545d1ee0>)])</pre></div></div></div><div class=\"sk-parallel\"><div class=\"sk-parallel-item\"><div class=\"sk-item\"><div class=\"sk-label-container\"><div class=\"sk-label sk-toggleable\"><input class=\"sk-toggleable__control sk-hidden--visually\" id=\"9ed2d629-8daf-49ad-92a7-f4c6f0bf54e7\" type=\"checkbox\" ><label class=\"sk-toggleable__label\" for=\"9ed2d629-8daf-49ad-92a7-f4c6f0bf54e7\">num</label><div class=\"sk-toggleable__content\"><pre><sklearn.compose._column_transformer.make_column_selector object at 0x7f71545d1e50></pre></div></div></div><div class=\"sk-serial\"><div class=\"sk-item\"><div class=\"sk-serial\"><div class=\"sk-item\"><div class=\"sk-estimator sk-toggleable\"><input class=\"sk-toggleable__control sk-hidden--visually\" id=\"f8817c23-5394-4faa-8db4-f05349c1ca77\" type=\"checkbox\" ><label class=\"sk-toggleable__label\" for=\"f8817c23-5394-4faa-8db4-f05349c1ca77\">SimpleImputer</label><div class=\"sk-toggleable__content\"><pre>SimpleImputer()</pre></div></div></div><div class=\"sk-item\"><div class=\"sk-estimator sk-toggleable\"><input class=\"sk-toggleable__control sk-hidden--visually\" id=\"055cef57-fe60-499f-acfb-8f4c062b1da1\" type=\"checkbox\" ><label class=\"sk-toggleable__label\" for=\"055cef57-fe60-499f-acfb-8f4c062b1da1\">StandardScaler</label><div class=\"sk-toggleable__content\"><pre>StandardScaler()</pre></div></div></div><div class=\"sk-item\"><div class=\"sk-estimator sk-toggleable\"><input class=\"sk-toggleable__control sk-hidden--visually\" id=\"19592478-7f21-447f-9338-cdc0bfc4a199\" type=\"checkbox\" ><label class=\"sk-toggleable__label\" for=\"19592478-7f21-447f-9338-cdc0bfc4a199\">SelectKBest</label><div class=\"sk-toggleable__content\"><pre>SelectKBest()</pre></div></div></div></div></div></div></div></div><div class=\"sk-parallel-item\"><div class=\"sk-item\"><div class=\"sk-label-container\"><div class=\"sk-label sk-toggleable\"><input class=\"sk-toggleable__control sk-hidden--visually\" id=\"a681e697-0364-41af-9713-44226f0198ab\" type=\"checkbox\" ><label class=\"sk-toggleable__label\" for=\"a681e697-0364-41af-9713-44226f0198ab\">cat</label><div class=\"sk-toggleable__content\"><pre><sklearn.compose._column_transformer.make_column_selector object at 0x7f71545d1ee0></pre></div></div></div><div class=\"sk-serial\"><div class=\"sk-item\"><div class=\"sk-serial\"><div class=\"sk-item\"><div class=\"sk-estimator sk-toggleable\"><input class=\"sk-toggleable__control sk-hidden--visually\" id=\"c6c58f74-c0a4-4754-b7de-f2c62f44386f\" type=\"checkbox\" ><label class=\"sk-toggleable__label\" for=\"c6c58f74-c0a4-4754-b7de-f2c62f44386f\">SimpleImputer</label><div class=\"sk-toggleable__content\"><pre>SimpleImputer(fill_value='Other', strategy='constant')</pre></div></div></div><div class=\"sk-item\"><div class=\"sk-estimator sk-toggleable\"><input class=\"sk-toggleable__control sk-hidden--visually\" id=\"99014018-84a3-406c-9610-9000bc333ffa\" type=\"checkbox\" ><label class=\"sk-toggleable__label\" for=\"99014018-84a3-406c-9610-9000bc333ffa\">OneHotEncoder</label><div class=\"sk-toggleable__content\"><pre>OneHotEncoder(handle_unknown='ignore')</pre></div></div></div><div class=\"sk-item\"><div class=\"sk-estimator sk-toggleable\"><input class=\"sk-toggleable__control sk-hidden--visually\" id=\"b7f20171-bb4c-440d-87f1-d2853b0f8535\" type=\"checkbox\" ><label class=\"sk-toggleable__label\" for=\"b7f20171-bb4c-440d-87f1-d2853b0f8535\">StandardScaler</label><div class=\"sk-toggleable__content\"><pre>StandardScaler(with_mean=False)</pre></div></div></div><div class=\"sk-item\"><div class=\"sk-estimator sk-toggleable\"><input class=\"sk-toggleable__control sk-hidden--visually\" id=\"070ff716-3951-40b7-915e-b67004042108\" type=\"checkbox\" ><label class=\"sk-toggleable__label\" for=\"070ff716-3951-40b7-915e-b67004042108\">SelectKBest</label><div class=\"sk-toggleable__content\"><pre>SelectKBest(score_func=<function chi2 at 0x7f71546b1c10>)</pre></div></div></div></div></div></div></div></div></div></div><div class=\"sk-item\"><div class=\"sk-estimator sk-toggleable\"><input class=\"sk-toggleable__control sk-hidden--visually\" id=\"e65df7be-a4e2-4898-bc91-826894325985\" type=\"checkbox\" ><label class=\"sk-toggleable__label\" for=\"e65df7be-a4e2-4898-bc91-826894325985\">LinearRegression</label><div class=\"sk-toggleable__content\"><pre>LinearRegression()</pre></div></div></div></div></div></div></div></div></div></div></div></div>"
      ],
      "text/plain": [
       "GridSearchCV(estimator=Pipeline(steps=[('columntransformer',\n",
       "                                        ColumnTransformer(transformers=[('num',\n",
       "                                                                         Pipeline(steps=[('num_imputer',\n",
       "                                                                                          SimpleImputer()),\n",
       "                                                                                         ('num_scaler',\n",
       "                                                                                          StandardScaler()),\n",
       "                                                                                         ('num_kbest',\n",
       "                                                                                          SelectKBest())]),\n",
       "                                                                         <sklearn.compose._column_transformer.make_column_selector object at 0x7f71545d1e50>),\n",
       "                                                                        ('cat',\n",
       "                                                                         Pipeline(steps=[('cat_imputer',\n",
       "                                                                                          SimpleImputer(fill_va...\n",
       "                                                                                          SelectKBest(score_func=<function chi2 at 0x7f71546b1c10>))]),\n",
       "                                                                         <sklearn.compose._column_transformer.make_column_selector object at 0x7f71545d1ee0>)])),\n",
       "                                       ('linearregression',\n",
       "                                        LinearRegression())]),\n",
       "             n_jobs=-1,\n",
       "             param_grid={'columntransformer__cat__cat_kbest__k': [30],\n",
       "                         'columntransformer__num__num_kbest__k': [35],\n",
       "                         'linearregression__fit_intercept': [False],\n",
       "                         'linearregression__n_jobs': [-1]})"
      ]
     },
     "execution_count": 51,
     "metadata": {},
     "output_type": "execute_result"
    }
   ],
   "source": [
    "grid_list_false_k[0]"
   ]
  },
  {
   "cell_type": "code",
   "execution_count": 52,
   "metadata": {},
   "outputs": [
    {
     "data": {
      "text/html": [
       "<style>div.sk-top-container {color: black;background-color: white;}div.sk-toggleable {background-color: white;}label.sk-toggleable__label {cursor: pointer;display: block;width: 100%;margin-bottom: 0;padding: 0.2em 0.3em;box-sizing: border-box;text-align: center;}div.sk-toggleable__content {max-height: 0;max-width: 0;overflow: hidden;text-align: left;background-color: #f0f8ff;}div.sk-toggleable__content pre {margin: 0.2em;color: black;border-radius: 0.25em;background-color: #f0f8ff;}input.sk-toggleable__control:checked~div.sk-toggleable__content {max-height: 200px;max-width: 100%;overflow: auto;}div.sk-estimator input.sk-toggleable__control:checked~label.sk-toggleable__label {background-color: #d4ebff;}div.sk-label input.sk-toggleable__control:checked~label.sk-toggleable__label {background-color: #d4ebff;}input.sk-hidden--visually {border: 0;clip: rect(1px 1px 1px 1px);clip: rect(1px, 1px, 1px, 1px);height: 1px;margin: -1px;overflow: hidden;padding: 0;position: absolute;width: 1px;}div.sk-estimator {font-family: monospace;background-color: #f0f8ff;margin: 0.25em 0.25em;border: 1px dotted black;border-radius: 0.25em;box-sizing: border-box;}div.sk-estimator:hover {background-color: #d4ebff;}div.sk-parallel-item::after {content: \"\";width: 100%;border-bottom: 1px solid gray;flex-grow: 1;}div.sk-label:hover label.sk-toggleable__label {background-color: #d4ebff;}div.sk-serial::before {content: \"\";position: absolute;border-left: 1px solid gray;box-sizing: border-box;top: 2em;bottom: 0;left: 50%;}div.sk-serial {display: flex;flex-direction: column;align-items: center;background-color: white;}div.sk-item {z-index: 1;}div.sk-parallel {display: flex;align-items: stretch;justify-content: center;background-color: white;}div.sk-parallel-item {display: flex;flex-direction: column;position: relative;background-color: white;}div.sk-parallel-item:first-child::after {align-self: flex-end;width: 50%;}div.sk-parallel-item:last-child::after {align-self: flex-start;width: 50%;}div.sk-parallel-item:only-child::after {width: 0;}div.sk-dashed-wrapped {border: 1px dashed gray;margin: 0.2em;box-sizing: border-box;padding-bottom: 0.1em;background-color: white;position: relative;}div.sk-label label {font-family: monospace;font-weight: bold;background-color: white;display: inline-block;line-height: 1.2em;}div.sk-label-container {position: relative;z-index: 2;text-align: center;}div.sk-container {display: inline-block;position: relative;}</style><div class=\"sk-top-container\"><div class=\"sk-container\"><div class=\"sk-item sk-dashed-wrapped\"><div class=\"sk-label-container\"><div class=\"sk-label sk-toggleable\"><input class=\"sk-toggleable__control sk-hidden--visually\" id=\"7966969e-814d-45ca-9772-f4aaa7b0d6b4\" type=\"checkbox\" ><label class=\"sk-toggleable__label\" for=\"7966969e-814d-45ca-9772-f4aaa7b0d6b4\">GridSearchCV</label><div class=\"sk-toggleable__content\"><pre>GridSearchCV(estimator=Pipeline(steps=[('columntransformer',\n",
       "                                        ColumnTransformer(transformers=[('num',\n",
       "                                                                         Pipeline(steps=[('num_imputer',\n",
       "                                                                                          SimpleImputer()),\n",
       "                                                                                         ('num_scaler',\n",
       "                                                                                          StandardScaler())]),\n",
       "                                                                         <sklearn.compose._column_transformer.make_column_selector object at 0x7f71545d15b0>),\n",
       "                                                                        ('cat',\n",
       "                                                                         Pipeline(steps=[('cat_imputer',\n",
       "                                                                                          SimpleImputer(fill_value='Other',\n",
       "                                                                                                        strategy='consta...\n",
       "                                                                                          StandardScaler(with_mean=False))]),\n",
       "                                                                         <sklearn.compose._column_transformer.make_column_selector object at 0x7f71545d15e0>)])),\n",
       "                                       ('kneighborsregressor',\n",
       "                                        KNeighborsRegressor())]),\n",
       "             n_jobs=-1,\n",
       "             param_grid={'kneighborsregressor__leaf_size': [25, 27, 29, 31, 33,\n",
       "                                                            35, 37, 39, 41,\n",
       "                                                            43],\n",
       "                         'kneighborsregressor__n_jobs': [-1],\n",
       "                         'kneighborsregressor__n_neighbors': [5, 7, 9, 11, 13,\n",
       "                                                              15, 17, 19, 21,\n",
       "                                                              23, 25, 27, 29]})</pre></div></div></div><div class=\"sk-parallel\"><div class=\"sk-parallel-item\"><div class=\"sk-item\"><div class=\"sk-serial\"><div class=\"sk-item\"><div class=\"sk-serial\"><div class=\"sk-item sk-dashed-wrapped\"><div class=\"sk-label-container\"><div class=\"sk-label sk-toggleable\"><input class=\"sk-toggleable__control sk-hidden--visually\" id=\"962baf1b-15eb-4191-a891-d9bd6567f93b\" type=\"checkbox\" ><label class=\"sk-toggleable__label\" for=\"962baf1b-15eb-4191-a891-d9bd6567f93b\">columntransformer: ColumnTransformer</label><div class=\"sk-toggleable__content\"><pre>ColumnTransformer(transformers=[('num',\n",
       "                                 Pipeline(steps=[('num_imputer',\n",
       "                                                  SimpleImputer()),\n",
       "                                                 ('num_scaler',\n",
       "                                                  StandardScaler())]),\n",
       "                                 <sklearn.compose._column_transformer.make_column_selector object at 0x7f71545d15b0>),\n",
       "                                ('cat',\n",
       "                                 Pipeline(steps=[('cat_imputer',\n",
       "                                                  SimpleImputer(fill_value='Other',\n",
       "                                                                strategy='constant')),\n",
       "                                                 ('cat_onehot',\n",
       "                                                  OneHotEncoder(handle_unknown='ignore')),\n",
       "                                                 ('cat_scaler',\n",
       "                                                  StandardScaler(with_mean=False))]),\n",
       "                                 <sklearn.compose._column_transformer.make_column_selector object at 0x7f71545d15e0>)])</pre></div></div></div><div class=\"sk-parallel\"><div class=\"sk-parallel-item\"><div class=\"sk-item\"><div class=\"sk-label-container\"><div class=\"sk-label sk-toggleable\"><input class=\"sk-toggleable__control sk-hidden--visually\" id=\"8d61f322-87d4-4158-82ea-59a85161ddd0\" type=\"checkbox\" ><label class=\"sk-toggleable__label\" for=\"8d61f322-87d4-4158-82ea-59a85161ddd0\">num</label><div class=\"sk-toggleable__content\"><pre><sklearn.compose._column_transformer.make_column_selector object at 0x7f71545d15b0></pre></div></div></div><div class=\"sk-serial\"><div class=\"sk-item\"><div class=\"sk-serial\"><div class=\"sk-item\"><div class=\"sk-estimator sk-toggleable\"><input class=\"sk-toggleable__control sk-hidden--visually\" id=\"3a935429-3955-448c-98bb-4734333384c1\" type=\"checkbox\" ><label class=\"sk-toggleable__label\" for=\"3a935429-3955-448c-98bb-4734333384c1\">SimpleImputer</label><div class=\"sk-toggleable__content\"><pre>SimpleImputer()</pre></div></div></div><div class=\"sk-item\"><div class=\"sk-estimator sk-toggleable\"><input class=\"sk-toggleable__control sk-hidden--visually\" id=\"a11a5b42-5e70-4e68-92ca-3e2f6a9d203e\" type=\"checkbox\" ><label class=\"sk-toggleable__label\" for=\"a11a5b42-5e70-4e68-92ca-3e2f6a9d203e\">StandardScaler</label><div class=\"sk-toggleable__content\"><pre>StandardScaler()</pre></div></div></div></div></div></div></div></div><div class=\"sk-parallel-item\"><div class=\"sk-item\"><div class=\"sk-label-container\"><div class=\"sk-label sk-toggleable\"><input class=\"sk-toggleable__control sk-hidden--visually\" id=\"6a4cb781-da22-4853-ba3f-a8126a8d119e\" type=\"checkbox\" ><label class=\"sk-toggleable__label\" for=\"6a4cb781-da22-4853-ba3f-a8126a8d119e\">cat</label><div class=\"sk-toggleable__content\"><pre><sklearn.compose._column_transformer.make_column_selector object at 0x7f71545d15e0></pre></div></div></div><div class=\"sk-serial\"><div class=\"sk-item\"><div class=\"sk-serial\"><div class=\"sk-item\"><div class=\"sk-estimator sk-toggleable\"><input class=\"sk-toggleable__control sk-hidden--visually\" id=\"172049e9-5bdf-47c4-9fb8-6d0ffa4531c1\" type=\"checkbox\" ><label class=\"sk-toggleable__label\" for=\"172049e9-5bdf-47c4-9fb8-6d0ffa4531c1\">SimpleImputer</label><div class=\"sk-toggleable__content\"><pre>SimpleImputer(fill_value='Other', strategy='constant')</pre></div></div></div><div class=\"sk-item\"><div class=\"sk-estimator sk-toggleable\"><input class=\"sk-toggleable__control sk-hidden--visually\" id=\"a8703cb1-9338-4939-af62-a07a3ee141b1\" type=\"checkbox\" ><label class=\"sk-toggleable__label\" for=\"a8703cb1-9338-4939-af62-a07a3ee141b1\">OneHotEncoder</label><div class=\"sk-toggleable__content\"><pre>OneHotEncoder(handle_unknown='ignore')</pre></div></div></div><div class=\"sk-item\"><div class=\"sk-estimator sk-toggleable\"><input class=\"sk-toggleable__control sk-hidden--visually\" id=\"e8655050-d0de-4bff-acfa-4bf61bc795f7\" type=\"checkbox\" ><label class=\"sk-toggleable__label\" for=\"e8655050-d0de-4bff-acfa-4bf61bc795f7\">StandardScaler</label><div class=\"sk-toggleable__content\"><pre>StandardScaler(with_mean=False)</pre></div></div></div></div></div></div></div></div></div></div><div class=\"sk-item\"><div class=\"sk-estimator sk-toggleable\"><input class=\"sk-toggleable__control sk-hidden--visually\" id=\"15d2aa57-2b54-4041-b378-81cd839b3742\" type=\"checkbox\" ><label class=\"sk-toggleable__label\" for=\"15d2aa57-2b54-4041-b378-81cd839b3742\">KNeighborsRegressor</label><div class=\"sk-toggleable__content\"><pre>KNeighborsRegressor()</pre></div></div></div></div></div></div></div></div></div></div></div></div>"
      ],
      "text/plain": [
       "GridSearchCV(estimator=Pipeline(steps=[('columntransformer',\n",
       "                                        ColumnTransformer(transformers=[('num',\n",
       "                                                                         Pipeline(steps=[('num_imputer',\n",
       "                                                                                          SimpleImputer()),\n",
       "                                                                                         ('num_scaler',\n",
       "                                                                                          StandardScaler())]),\n",
       "                                                                         <sklearn.compose._column_transformer.make_column_selector object at 0x7f71545d15b0>),\n",
       "                                                                        ('cat',\n",
       "                                                                         Pipeline(steps=[('cat_imputer',\n",
       "                                                                                          SimpleImputer(fill_value='Other',\n",
       "                                                                                                        strategy='consta...\n",
       "                                                                                          StandardScaler(with_mean=False))]),\n",
       "                                                                         <sklearn.compose._column_transformer.make_column_selector object at 0x7f71545d15e0>)])),\n",
       "                                       ('kneighborsregressor',\n",
       "                                        KNeighborsRegressor())]),\n",
       "             n_jobs=-1,\n",
       "             param_grid={'kneighborsregressor__leaf_size': [25, 27, 29, 31, 33,\n",
       "                                                            35, 37, 39, 41,\n",
       "                                                            43],\n",
       "                         'kneighborsregressor__n_jobs': [-1],\n",
       "                         'kneighborsregressor__n_neighbors': [5, 7, 9, 11, 13,\n",
       "                                                              15, 17, 19, 21,\n",
       "                                                              23, 25, 27, 29]})"
      ]
     },
     "execution_count": 52,
     "metadata": {},
     "output_type": "execute_result"
    }
   ],
   "source": [
    "grid_list_other[0]"
   ]
  },
  {
   "cell_type": "code",
   "execution_count": 53,
   "metadata": {},
   "outputs": [
    {
     "data": {
      "text/html": [
       "<style>div.sk-top-container {color: black;background-color: white;}div.sk-toggleable {background-color: white;}label.sk-toggleable__label {cursor: pointer;display: block;width: 100%;margin-bottom: 0;padding: 0.2em 0.3em;box-sizing: border-box;text-align: center;}div.sk-toggleable__content {max-height: 0;max-width: 0;overflow: hidden;text-align: left;background-color: #f0f8ff;}div.sk-toggleable__content pre {margin: 0.2em;color: black;border-radius: 0.25em;background-color: #f0f8ff;}input.sk-toggleable__control:checked~div.sk-toggleable__content {max-height: 200px;max-width: 100%;overflow: auto;}div.sk-estimator input.sk-toggleable__control:checked~label.sk-toggleable__label {background-color: #d4ebff;}div.sk-label input.sk-toggleable__control:checked~label.sk-toggleable__label {background-color: #d4ebff;}input.sk-hidden--visually {border: 0;clip: rect(1px 1px 1px 1px);clip: rect(1px, 1px, 1px, 1px);height: 1px;margin: -1px;overflow: hidden;padding: 0;position: absolute;width: 1px;}div.sk-estimator {font-family: monospace;background-color: #f0f8ff;margin: 0.25em 0.25em;border: 1px dotted black;border-radius: 0.25em;box-sizing: border-box;}div.sk-estimator:hover {background-color: #d4ebff;}div.sk-parallel-item::after {content: \"\";width: 100%;border-bottom: 1px solid gray;flex-grow: 1;}div.sk-label:hover label.sk-toggleable__label {background-color: #d4ebff;}div.sk-serial::before {content: \"\";position: absolute;border-left: 1px solid gray;box-sizing: border-box;top: 2em;bottom: 0;left: 50%;}div.sk-serial {display: flex;flex-direction: column;align-items: center;background-color: white;}div.sk-item {z-index: 1;}div.sk-parallel {display: flex;align-items: stretch;justify-content: center;background-color: white;}div.sk-parallel-item {display: flex;flex-direction: column;position: relative;background-color: white;}div.sk-parallel-item:first-child::after {align-self: flex-end;width: 50%;}div.sk-parallel-item:last-child::after {align-self: flex-start;width: 50%;}div.sk-parallel-item:only-child::after {width: 0;}div.sk-dashed-wrapped {border: 1px dashed gray;margin: 0.2em;box-sizing: border-box;padding-bottom: 0.1em;background-color: white;position: relative;}div.sk-label label {font-family: monospace;font-weight: bold;background-color: white;display: inline-block;line-height: 1.2em;}div.sk-label-container {position: relative;z-index: 2;text-align: center;}div.sk-container {display: inline-block;position: relative;}</style><div class=\"sk-top-container\"><div class=\"sk-container\"><div class=\"sk-item sk-dashed-wrapped\"><div class=\"sk-label-container\"><div class=\"sk-label sk-toggleable\"><input class=\"sk-toggleable__control sk-hidden--visually\" id=\"8e2a25d9-941a-4733-a285-12c68893827a\" type=\"checkbox\" ><label class=\"sk-toggleable__label\" for=\"8e2a25d9-941a-4733-a285-12c68893827a\">GridSearchCV</label><div class=\"sk-toggleable__content\"><pre>GridSearchCV(estimator=Pipeline(steps=[('columntransformer',\n",
       "                                        ColumnTransformer(transformers=[('num',\n",
       "                                                                         Pipeline(steps=[('num_imputer',\n",
       "                                                                                          SimpleImputer()),\n",
       "                                                                                         ('num_scaler',\n",
       "                                                                                          StandardScaler()),\n",
       "                                                                                         ('num_kbest',\n",
       "                                                                                          SelectKBest())]),\n",
       "                                                                         <sklearn.compose._column_transformer.make_column_selector object at 0x7f71545d1e50>),\n",
       "                                                                        ('cat',\n",
       "                                                                         Pipeline(steps=[('cat_imputer',\n",
       "                                                                                          SimpleImputer(fill_va...\n",
       "                                                                         <sklearn.compose._column_transformer.make_column_selector object at 0x7f71545d1ee0>)])),\n",
       "                                       ('kneighborsregressor',\n",
       "                                        KNeighborsRegressor())]),\n",
       "             n_jobs=-1,\n",
       "             param_grid={'columntransformer__cat__cat_kbest__k': [30],\n",
       "                         'columntransformer__num__num_kbest__k': [35],\n",
       "                         'kneighborsregressor__leaf_size': [25, 27, 29, 31, 33,\n",
       "                                                            35, 37, 39, 41,\n",
       "                                                            43],\n",
       "                         'kneighborsregressor__n_jobs': [-1],\n",
       "                         'kneighborsregressor__n_neighbors': [25, 27, 29, 31,\n",
       "                                                              33, 35, 37, 39,\n",
       "                                                              41, 43]})</pre></div></div></div><div class=\"sk-parallel\"><div class=\"sk-parallel-item\"><div class=\"sk-item\"><div class=\"sk-serial\"><div class=\"sk-item\"><div class=\"sk-serial\"><div class=\"sk-item sk-dashed-wrapped\"><div class=\"sk-label-container\"><div class=\"sk-label sk-toggleable\"><input class=\"sk-toggleable__control sk-hidden--visually\" id=\"53a26774-6c4e-408d-a877-1ffd86cb638f\" type=\"checkbox\" ><label class=\"sk-toggleable__label\" for=\"53a26774-6c4e-408d-a877-1ffd86cb638f\">columntransformer: ColumnTransformer</label><div class=\"sk-toggleable__content\"><pre>ColumnTransformer(transformers=[('num',\n",
       "                                 Pipeline(steps=[('num_imputer',\n",
       "                                                  SimpleImputer()),\n",
       "                                                 ('num_scaler',\n",
       "                                                  StandardScaler()),\n",
       "                                                 ('num_kbest', SelectKBest())]),\n",
       "                                 <sklearn.compose._column_transformer.make_column_selector object at 0x7f71545d1e50>),\n",
       "                                ('cat',\n",
       "                                 Pipeline(steps=[('cat_imputer',\n",
       "                                                  SimpleImputer(fill_value='Other',\n",
       "                                                                strategy='constant')),\n",
       "                                                 ('cat_onehot',\n",
       "                                                  OneHotEncoder(handle_unknown='ignore')),\n",
       "                                                 ('cat_scaler',\n",
       "                                                  StandardScaler(with_mean=False)),\n",
       "                                                 ('cat_kbest',\n",
       "                                                  SelectKBest(score_func=<function chi2 at 0x7f71546b1c10>))]),\n",
       "                                 <sklearn.compose._column_transformer.make_column_selector object at 0x7f71545d1ee0>)])</pre></div></div></div><div class=\"sk-parallel\"><div class=\"sk-parallel-item\"><div class=\"sk-item\"><div class=\"sk-label-container\"><div class=\"sk-label sk-toggleable\"><input class=\"sk-toggleable__control sk-hidden--visually\" id=\"34ddc2d4-7a9d-4980-8ff1-23b86f6ad3e7\" type=\"checkbox\" ><label class=\"sk-toggleable__label\" for=\"34ddc2d4-7a9d-4980-8ff1-23b86f6ad3e7\">num</label><div class=\"sk-toggleable__content\"><pre><sklearn.compose._column_transformer.make_column_selector object at 0x7f71545d1e50></pre></div></div></div><div class=\"sk-serial\"><div class=\"sk-item\"><div class=\"sk-serial\"><div class=\"sk-item\"><div class=\"sk-estimator sk-toggleable\"><input class=\"sk-toggleable__control sk-hidden--visually\" id=\"868ea542-80b5-49a2-8de8-f274f47c3a41\" type=\"checkbox\" ><label class=\"sk-toggleable__label\" for=\"868ea542-80b5-49a2-8de8-f274f47c3a41\">SimpleImputer</label><div class=\"sk-toggleable__content\"><pre>SimpleImputer()</pre></div></div></div><div class=\"sk-item\"><div class=\"sk-estimator sk-toggleable\"><input class=\"sk-toggleable__control sk-hidden--visually\" id=\"f7539af0-66e8-4974-b998-31ff9ea6dfaa\" type=\"checkbox\" ><label class=\"sk-toggleable__label\" for=\"f7539af0-66e8-4974-b998-31ff9ea6dfaa\">StandardScaler</label><div class=\"sk-toggleable__content\"><pre>StandardScaler()</pre></div></div></div><div class=\"sk-item\"><div class=\"sk-estimator sk-toggleable\"><input class=\"sk-toggleable__control sk-hidden--visually\" id=\"501a0318-df9b-4e9e-9db3-86e2f233e99b\" type=\"checkbox\" ><label class=\"sk-toggleable__label\" for=\"501a0318-df9b-4e9e-9db3-86e2f233e99b\">SelectKBest</label><div class=\"sk-toggleable__content\"><pre>SelectKBest()</pre></div></div></div></div></div></div></div></div><div class=\"sk-parallel-item\"><div class=\"sk-item\"><div class=\"sk-label-container\"><div class=\"sk-label sk-toggleable\"><input class=\"sk-toggleable__control sk-hidden--visually\" id=\"11909717-08ee-453c-b92b-c3af73496d59\" type=\"checkbox\" ><label class=\"sk-toggleable__label\" for=\"11909717-08ee-453c-b92b-c3af73496d59\">cat</label><div class=\"sk-toggleable__content\"><pre><sklearn.compose._column_transformer.make_column_selector object at 0x7f71545d1ee0></pre></div></div></div><div class=\"sk-serial\"><div class=\"sk-item\"><div class=\"sk-serial\"><div class=\"sk-item\"><div class=\"sk-estimator sk-toggleable\"><input class=\"sk-toggleable__control sk-hidden--visually\" id=\"ff898748-19e2-46d0-9cf0-293e0391c42a\" type=\"checkbox\" ><label class=\"sk-toggleable__label\" for=\"ff898748-19e2-46d0-9cf0-293e0391c42a\">SimpleImputer</label><div class=\"sk-toggleable__content\"><pre>SimpleImputer(fill_value='Other', strategy='constant')</pre></div></div></div><div class=\"sk-item\"><div class=\"sk-estimator sk-toggleable\"><input class=\"sk-toggleable__control sk-hidden--visually\" id=\"fa62de0c-5504-4588-8795-17d7618dc741\" type=\"checkbox\" ><label class=\"sk-toggleable__label\" for=\"fa62de0c-5504-4588-8795-17d7618dc741\">OneHotEncoder</label><div class=\"sk-toggleable__content\"><pre>OneHotEncoder(handle_unknown='ignore')</pre></div></div></div><div class=\"sk-item\"><div class=\"sk-estimator sk-toggleable\"><input class=\"sk-toggleable__control sk-hidden--visually\" id=\"c4417b53-e2de-450a-b6d6-9343033bb340\" type=\"checkbox\" ><label class=\"sk-toggleable__label\" for=\"c4417b53-e2de-450a-b6d6-9343033bb340\">StandardScaler</label><div class=\"sk-toggleable__content\"><pre>StandardScaler(with_mean=False)</pre></div></div></div><div class=\"sk-item\"><div class=\"sk-estimator sk-toggleable\"><input class=\"sk-toggleable__control sk-hidden--visually\" id=\"3c24465b-cdde-435f-a092-27f17005108b\" type=\"checkbox\" ><label class=\"sk-toggleable__label\" for=\"3c24465b-cdde-435f-a092-27f17005108b\">SelectKBest</label><div class=\"sk-toggleable__content\"><pre>SelectKBest(score_func=<function chi2 at 0x7f71546b1c10>)</pre></div></div></div></div></div></div></div></div></div></div><div class=\"sk-item\"><div class=\"sk-estimator sk-toggleable\"><input class=\"sk-toggleable__control sk-hidden--visually\" id=\"4de49367-7fc2-4ec2-98d1-98bfcdf5e319\" type=\"checkbox\" ><label class=\"sk-toggleable__label\" for=\"4de49367-7fc2-4ec2-98d1-98bfcdf5e319\">KNeighborsRegressor</label><div class=\"sk-toggleable__content\"><pre>KNeighborsRegressor()</pre></div></div></div></div></div></div></div></div></div></div></div></div>"
      ],
      "text/plain": [
       "GridSearchCV(estimator=Pipeline(steps=[('columntransformer',\n",
       "                                        ColumnTransformer(transformers=[('num',\n",
       "                                                                         Pipeline(steps=[('num_imputer',\n",
       "                                                                                          SimpleImputer()),\n",
       "                                                                                         ('num_scaler',\n",
       "                                                                                          StandardScaler()),\n",
       "                                                                                         ('num_kbest',\n",
       "                                                                                          SelectKBest())]),\n",
       "                                                                         <sklearn.compose._column_transformer.make_column_selector object at 0x7f71545d1e50>),\n",
       "                                                                        ('cat',\n",
       "                                                                         Pipeline(steps=[('cat_imputer',\n",
       "                                                                                          SimpleImputer(fill_va...\n",
       "                                                                         <sklearn.compose._column_transformer.make_column_selector object at 0x7f71545d1ee0>)])),\n",
       "                                       ('kneighborsregressor',\n",
       "                                        KNeighborsRegressor())]),\n",
       "             n_jobs=-1,\n",
       "             param_grid={'columntransformer__cat__cat_kbest__k': [30],\n",
       "                         'columntransformer__num__num_kbest__k': [35],\n",
       "                         'kneighborsregressor__leaf_size': [25, 27, 29, 31, 33,\n",
       "                                                            35, 37, 39, 41,\n",
       "                                                            43],\n",
       "                         'kneighborsregressor__n_jobs': [-1],\n",
       "                         'kneighborsregressor__n_neighbors': [25, 27, 29, 31,\n",
       "                                                              33, 35, 37, 39,\n",
       "                                                              41, 43]})"
      ]
     },
     "execution_count": 53,
     "metadata": {},
     "output_type": "execute_result"
    }
   ],
   "source": [
    "grid_list_other_k[0]"
   ]
  },
  {
   "cell_type": "code",
   "execution_count": null,
   "metadata": {},
   "outputs": [],
   "source": []
  },
  {
   "cell_type": "code",
   "execution_count": 54,
   "metadata": {},
   "outputs": [],
   "source": [
    "# Evaluate all 6 models. This section will take a while\n",
    "# Note, when I ran this section, it took about 10 hours on an AMD FX8320e with multiprocessing turned on"
   ]
  },
  {
   "cell_type": "code",
   "execution_count": 55,
   "metadata": {},
   "outputs": [],
   "source": [
    "grid_fit_scores, grid_fit_objects = ms.evaluate_grid_search(grid_list_true)"
   ]
  },
  {
   "cell_type": "code",
   "execution_count": 56,
   "metadata": {},
   "outputs": [
    {
     "data": {
      "text/plain": [
       "[0.7435337489033035,\n",
       " 0.7525954939567431,\n",
       " 0.7483895532027648,\n",
       " 0.7824933657185111]"
      ]
     },
     "execution_count": 56,
     "metadata": {},
     "output_type": "execute_result"
    }
   ],
   "source": [
    "grid_fit_scores"
   ]
  },
  {
   "cell_type": "code",
   "execution_count": null,
   "metadata": {},
   "outputs": [],
   "source": []
  },
  {
   "cell_type": "code",
   "execution_count": 57,
   "metadata": {},
   "outputs": [],
   "source": [
    "grid_fit_scores_k, grid_fit_objects_k = ms.evaluate_grid_search(grid_list_true_k)"
   ]
  },
  {
   "cell_type": "code",
   "execution_count": 58,
   "metadata": {},
   "outputs": [
    {
     "data": {
      "text/plain": [
       "[-2.317916202081439e+23,\n",
       " 0.6827763148880717,\n",
       " 0.6788585222043683,\n",
       " 0.708124394175332]"
      ]
     },
     "execution_count": 58,
     "metadata": {},
     "output_type": "execute_result"
    }
   ],
   "source": [
    "grid_fit_scores_k"
   ]
  },
  {
   "cell_type": "code",
   "execution_count": null,
   "metadata": {},
   "outputs": [],
   "source": []
  },
  {
   "cell_type": "code",
   "execution_count": 59,
   "metadata": {},
   "outputs": [],
   "source": [
    "grid_fit_scores_f, grid_fit_objects_f = ms.evaluate_grid_search(grid_list_false)"
   ]
  },
  {
   "cell_type": "code",
   "execution_count": 60,
   "metadata": {},
   "outputs": [
    {
     "data": {
      "text/plain": [
       "[0.7462170781641819,\n",
       " 0.7990646376038946,\n",
       " 0.7570436152718114,\n",
       " 0.7874192603057474]"
      ]
     },
     "execution_count": 60,
     "metadata": {},
     "output_type": "execute_result"
    }
   ],
   "source": [
    "grid_fit_scores_f"
   ]
  },
  {
   "cell_type": "code",
   "execution_count": null,
   "metadata": {},
   "outputs": [],
   "source": []
  },
  {
   "cell_type": "code",
   "execution_count": 61,
   "metadata": {},
   "outputs": [],
   "source": [
    "grid_fit_scores_f_k, grid_fit_objects_f_k = ms.evaluate_grid_search(grid_list_false_k)"
   ]
  },
  {
   "cell_type": "code",
   "execution_count": 62,
   "metadata": {},
   "outputs": [
    {
     "data": {
      "text/plain": [
       "[-2.0992380627915587e+25,\n",
       " -4.622090821587138,\n",
       " -4.694550789019159,\n",
       " -4.351671737924874]"
      ]
     },
     "execution_count": 62,
     "metadata": {},
     "output_type": "execute_result"
    }
   ],
   "source": [
    "grid_fit_scores_f_k"
   ]
  },
  {
   "cell_type": "code",
   "execution_count": null,
   "metadata": {},
   "outputs": [],
   "source": []
  },
  {
   "cell_type": "code",
   "execution_count": 63,
   "metadata": {},
   "outputs": [],
   "source": [
    "grid_fit_scores_o, grid_fit_objects_o = ms.evaluate_grid_search(grid_list_other)"
   ]
  },
  {
   "cell_type": "code",
   "execution_count": 64,
   "metadata": {},
   "outputs": [
    {
     "data": {
      "text/plain": [
       "[0.7508672035569244, -0.04485611005249379]"
      ]
     },
     "execution_count": 64,
     "metadata": {},
     "output_type": "execute_result"
    }
   ],
   "source": [
    "grid_fit_scores_o"
   ]
  },
  {
   "cell_type": "code",
   "execution_count": null,
   "metadata": {},
   "outputs": [],
   "source": []
  },
  {
   "cell_type": "code",
   "execution_count": 65,
   "metadata": {},
   "outputs": [],
   "source": [
    "# I have given up trying to estimate this portion. This took over 24 hours and never converged\n",
    "#grid_fit_scores_o_k, grid_fit_objects_o_k = ms.evaluate_grid_search(grid_list_other_k)"
   ]
  },
  {
   "cell_type": "code",
   "execution_count": 66,
   "metadata": {},
   "outputs": [],
   "source": [
    "#grid_fit_scores_o_k"
   ]
  },
  {
   "cell_type": "code",
   "execution_count": null,
   "metadata": {},
   "outputs": [],
   "source": []
  },
  {
   "cell_type": "code",
   "execution_count": 67,
   "metadata": {},
   "outputs": [],
   "source": [
    "# Create Individual Dataframes for each GridSearchCV Object, calculate RSME for each"
   ]
  },
  {
   "cell_type": "code",
   "execution_count": 68,
   "metadata": {},
   "outputs": [],
   "source": [
    "w_intercepts = pd.DataFrame(grid_fit_scores, \n",
    "                            index=str(list(estimator_params_true.keys()))[1:-1].replace(',','').split(), \n",
    "                            columns=['w/ Intercept Score'])"
   ]
  },
  {
   "cell_type": "code",
   "execution_count": 71,
   "metadata": {},
   "outputs": [],
   "source": [
    "rsme_intercepts = ms.calculate_rsme(grid_fit_objects)"
   ]
  },
  {
   "cell_type": "code",
   "execution_count": 72,
   "metadata": {},
   "outputs": [],
   "source": [
    "rsme_intercepts = (pd.DataFrame(rsme_intercepts, columns=['rsme_i'], \n",
    "                                index=str(list(estimator_params_true.keys()))[1:-1].replace(',','').split()))"
   ]
  },
  {
   "cell_type": "code",
   "execution_count": null,
   "metadata": {},
   "outputs": [],
   "source": []
  },
  {
   "cell_type": "code",
   "execution_count": 73,
   "metadata": {},
   "outputs": [],
   "source": [
    "w_intercepts_k = pd.DataFrame(grid_fit_scores_k, \n",
    "                            index=str(list(estimator_params_true_k.keys()))[1:-1].replace(',','').split(), \n",
    "                            columns=['w/ Intercept Score, KBest'])"
   ]
  },
  {
   "cell_type": "code",
   "execution_count": 76,
   "metadata": {},
   "outputs": [],
   "source": [
    "rsme_intercepts_k = ms.calculate_rsme(preprocessing=preprocessing, fitted_pipe_objects=grid_fit_objects_k)"
   ]
  },
  {
   "cell_type": "code",
   "execution_count": 77,
   "metadata": {},
   "outputs": [],
   "source": [
    "rsme_intercepts_k = (pd.DataFrame(rsme_intercepts_k, columns=['rsme_i_kbest'], \n",
    "                                index=str(list(estimator_params_true_k.keys()))[1:-1].replace(',','').split()))"
   ]
  },
  {
   "cell_type": "code",
   "execution_count": 78,
   "metadata": {},
   "outputs": [
    {
     "data": {
      "text/html": [
       "<div>\n",
       "<style scoped>\n",
       "    .dataframe tbody tr th:only-of-type {\n",
       "        vertical-align: middle;\n",
       "    }\n",
       "\n",
       "    .dataframe tbody tr th {\n",
       "        vertical-align: top;\n",
       "    }\n",
       "\n",
       "    .dataframe thead th {\n",
       "        text-align: right;\n",
       "    }\n",
       "</style>\n",
       "<table border=\"1\" class=\"dataframe\">\n",
       "  <thead>\n",
       "    <tr style=\"text-align: right;\">\n",
       "      <th></th>\n",
       "      <th>w/ Intercept Score, KBest</th>\n",
       "    </tr>\n",
       "  </thead>\n",
       "  <tbody>\n",
       "    <tr>\n",
       "      <th>LinearRegression()</th>\n",
       "      <td>-2.317916e+23</td>\n",
       "    </tr>\n",
       "    <tr>\n",
       "      <th>Ridge()</th>\n",
       "      <td>6.827763e-01</td>\n",
       "    </tr>\n",
       "    <tr>\n",
       "      <th>Lasso()</th>\n",
       "      <td>6.788585e-01</td>\n",
       "    </tr>\n",
       "    <tr>\n",
       "      <th>ElasticNet()</th>\n",
       "      <td>7.081244e-01</td>\n",
       "    </tr>\n",
       "  </tbody>\n",
       "</table>\n",
       "</div>"
      ],
      "text/plain": [
       "                    w/ Intercept Score, KBest\n",
       "LinearRegression()              -2.317916e+23\n",
       "Ridge()                          6.827763e-01\n",
       "Lasso()                          6.788585e-01\n",
       "ElasticNet()                     7.081244e-01"
      ]
     },
     "execution_count": 78,
     "metadata": {},
     "output_type": "execute_result"
    }
   ],
   "source": [
    "w_intercepts_k"
   ]
  },
  {
   "cell_type": "code",
   "execution_count": 79,
   "metadata": {},
   "outputs": [
    {
     "data": {
      "text/html": [
       "<div>\n",
       "<style scoped>\n",
       "    .dataframe tbody tr th:only-of-type {\n",
       "        vertical-align: middle;\n",
       "    }\n",
       "\n",
       "    .dataframe tbody tr th {\n",
       "        vertical-align: top;\n",
       "    }\n",
       "\n",
       "    .dataframe thead th {\n",
       "        text-align: right;\n",
       "    }\n",
       "</style>\n",
       "<table border=\"1\" class=\"dataframe\">\n",
       "  <thead>\n",
       "    <tr style=\"text-align: right;\">\n",
       "      <th></th>\n",
       "      <th>rsme_i_kbest</th>\n",
       "    </tr>\n",
       "  </thead>\n",
       "  <tbody>\n",
       "    <tr>\n",
       "      <th>LinearRegression()</th>\n",
       "      <td>3.804957e+16</td>\n",
       "    </tr>\n",
       "    <tr>\n",
       "      <th>Ridge()</th>\n",
       "      <td>4.451268e+04</td>\n",
       "    </tr>\n",
       "    <tr>\n",
       "      <th>Lasso()</th>\n",
       "      <td>4.478670e+04</td>\n",
       "    </tr>\n",
       "    <tr>\n",
       "      <th>ElasticNet()</th>\n",
       "      <td>4.269724e+04</td>\n",
       "    </tr>\n",
       "  </tbody>\n",
       "</table>\n",
       "</div>"
      ],
      "text/plain": [
       "                    rsme_i_kbest\n",
       "LinearRegression()  3.804957e+16\n",
       "Ridge()             4.451268e+04\n",
       "Lasso()             4.478670e+04\n",
       "ElasticNet()        4.269724e+04"
      ]
     },
     "execution_count": 79,
     "metadata": {},
     "output_type": "execute_result"
    }
   ],
   "source": [
    "rsme_intercepts_k"
   ]
  },
  {
   "cell_type": "code",
   "execution_count": 80,
   "metadata": {},
   "outputs": [],
   "source": [
    "n_intercepts = pd.DataFrame(grid_fit_scores_f, \n",
    "                            index=str(list(estimator_params_false.keys()))[1:-1].replace(',','').split(), \n",
    "                            columns=['n/ Intercept Score'])"
   ]
  },
  {
   "cell_type": "code",
   "execution_count": 82,
   "metadata": {},
   "outputs": [],
   "source": [
    "rsme_n_intercepts = ms.calculate_rsme(grid_fit_objects_f)"
   ]
  },
  {
   "cell_type": "code",
   "execution_count": 83,
   "metadata": {},
   "outputs": [],
   "source": [
    "rsme_n_intercepts = (pd.DataFrame(rsme_n_intercepts,\n",
    "                                  columns=['rsme_n_i'], index=str(list(estimator_params_false.keys()))[1:-1].replace(',','').split()))"
   ]
  },
  {
   "cell_type": "code",
   "execution_count": null,
   "metadata": {},
   "outputs": [],
   "source": []
  },
  {
   "cell_type": "code",
   "execution_count": 84,
   "metadata": {},
   "outputs": [],
   "source": [
    "n_intercepts_k = pd.DataFrame(grid_fit_scores_f_k, \n",
    "                            index=str(list(estimator_params_false_k.keys()))[1:-1].replace(',','').split(), \n",
    "                            columns=['n/ Intercept Score w/ KBest'])"
   ]
  },
  {
   "cell_type": "code",
   "execution_count": 87,
   "metadata": {},
   "outputs": [],
   "source": [
    "rsme_n_intercepts_k = ms.calculate_rsme(preprocessing=preprocessing, fitted_pipe_objects=grid_fit_objects_f_k)"
   ]
  },
  {
   "cell_type": "code",
   "execution_count": 88,
   "metadata": {},
   "outputs": [],
   "source": [
    "rsme_n_intercepts_k = (pd.DataFrame(rsme_n_intercepts_k, \n",
    "                                  columns=['rsme_n_i_kbest'], index=str(list(estimator_params_false_k.keys()))[1:-1].replace(',','').split()))"
   ]
  },
  {
   "cell_type": "code",
   "execution_count": null,
   "metadata": {},
   "outputs": [],
   "source": []
  },
  {
   "cell_type": "code",
   "execution_count": 89,
   "metadata": {},
   "outputs": [],
   "source": [
    "other = pd.DataFrame(grid_fit_scores_o, \n",
    "                     index=str(list(estimator_params_other.keys()))[1:-1].replace(',','').split(), \n",
    "                     columns=['other Score'])"
   ]
  },
  {
   "cell_type": "code",
   "execution_count": 91,
   "metadata": {},
   "outputs": [],
   "source": [
    "rsme_other = ms.calculate_rsme(grid_fit_objects_o)"
   ]
  },
  {
   "cell_type": "code",
   "execution_count": 92,
   "metadata": {},
   "outputs": [],
   "source": [
    "rsme_other = (pd.DataFrame(rsme_other, \n",
    "                           columns=['rsme_o'], \n",
    "                           index=str(list(estimator_params_other.keys()))[1:-1].replace(',','').split()))"
   ]
  },
  {
   "cell_type": "code",
   "execution_count": null,
   "metadata": {},
   "outputs": [],
   "source": []
  },
  {
   "cell_type": "code",
   "execution_count": 93,
   "metadata": {},
   "outputs": [],
   "source": [
    "# Remove this portion from knn with feature selection"
   ]
  },
  {
   "cell_type": "code",
   "execution_count": 94,
   "metadata": {},
   "outputs": [],
   "source": [
    "#other_k = pd.DataFrame(grid_fit_scores_o_k, \n",
    "#                     index=str(list(estimator_params_other_k.keys()))[1:-1].replace(',','').split(), \n",
    "#                     columns=['other Score w/ kbest'])"
   ]
  },
  {
   "cell_type": "code",
   "execution_count": 95,
   "metadata": {},
   "outputs": [],
   "source": [
    "#rsme_other_k = ms.calculate_rsme(preprocessing, grid_fit_objects_o_k)"
   ]
  },
  {
   "cell_type": "code",
   "execution_count": 96,
   "metadata": {},
   "outputs": [],
   "source": [
    "#rsme_other_k = (pd.DataFrame(rsme_other_k, \n",
    "#                           columns=['rsme_o_k'], \n",
    "#                           index=str(list(estimator_params_other.keys()))[1:-1].replace(',','').split()))"
   ]
  },
  {
   "cell_type": "code",
   "execution_count": null,
   "metadata": {},
   "outputs": [],
   "source": []
  },
  {
   "cell_type": "code",
   "execution_count": 97,
   "metadata": {},
   "outputs": [],
   "source": [
    "# Add DataFrames from 6 models to df_results"
   ]
  },
  {
   "cell_type": "code",
   "execution_count": 98,
   "metadata": {},
   "outputs": [],
   "source": [
    "df_results = df_results.join(w_intercepts)"
   ]
  },
  {
   "cell_type": "code",
   "execution_count": 99,
   "metadata": {},
   "outputs": [],
   "source": [
    "df_results = df_results.join(rsme_intercepts)"
   ]
  },
  {
   "cell_type": "code",
   "execution_count": 100,
   "metadata": {},
   "outputs": [],
   "source": [
    "df_results = df_results.join(w_intercepts_k)"
   ]
  },
  {
   "cell_type": "code",
   "execution_count": 101,
   "metadata": {},
   "outputs": [],
   "source": [
    "df_results = df_results.join(rsme_intercepts_k)"
   ]
  },
  {
   "cell_type": "code",
   "execution_count": null,
   "metadata": {},
   "outputs": [],
   "source": []
  },
  {
   "cell_type": "code",
   "execution_count": 102,
   "metadata": {},
   "outputs": [],
   "source": [
    "df_results = df_results.join(n_intercepts)"
   ]
  },
  {
   "cell_type": "code",
   "execution_count": 103,
   "metadata": {},
   "outputs": [],
   "source": [
    "df_results = df_results.join(rsme_n_intercepts)"
   ]
  },
  {
   "cell_type": "code",
   "execution_count": 104,
   "metadata": {},
   "outputs": [],
   "source": [
    "f_results = df_results.join(n_intercepts_k)"
   ]
  },
  {
   "cell_type": "code",
   "execution_count": 105,
   "metadata": {},
   "outputs": [],
   "source": [
    "df_results = df_results.join(rsme_n_intercepts_k)"
   ]
  },
  {
   "cell_type": "code",
   "execution_count": null,
   "metadata": {},
   "outputs": [],
   "source": []
  },
  {
   "cell_type": "code",
   "execution_count": 106,
   "metadata": {},
   "outputs": [],
   "source": [
    "df_results = df_results.join(other)"
   ]
  },
  {
   "cell_type": "code",
   "execution_count": 107,
   "metadata": {},
   "outputs": [],
   "source": [
    "df_results = df_results.join(rsme_other)"
   ]
  },
  {
   "cell_type": "code",
   "execution_count": 108,
   "metadata": {},
   "outputs": [],
   "source": [
    "#df_results = df_results.join(other_k)"
   ]
  },
  {
   "cell_type": "code",
   "execution_count": 109,
   "metadata": {},
   "outputs": [],
   "source": [
    "#df_results = df_results.join(rsme_other_k)"
   ]
  },
  {
   "cell_type": "code",
   "execution_count": null,
   "metadata": {},
   "outputs": [],
   "source": []
  },
  {
   "cell_type": "code",
   "execution_count": 110,
   "metadata": {},
   "outputs": [],
   "source": [
    "# let's see what's the best by looking at the lowest RSME score. Our goal is to find a model with the lowest RSME so we can do a deep dive\n",
    "# We can use joblib to save the entire state of our model and load it into another Jupyter Notebook"
   ]
  },
  {
   "cell_type": "code",
   "execution_count": 111,
   "metadata": {},
   "outputs": [
    {
     "data": {
      "text/html": [
       "<div>\n",
       "<style scoped>\n",
       "    .dataframe tbody tr th:only-of-type {\n",
       "        vertical-align: middle;\n",
       "    }\n",
       "\n",
       "    .dataframe tbody tr th {\n",
       "        vertical-align: top;\n",
       "    }\n",
       "\n",
       "    .dataframe thead th {\n",
       "        text-align: right;\n",
       "    }\n",
       "</style>\n",
       "<table border=\"1\" class=\"dataframe\">\n",
       "  <thead>\n",
       "    <tr style=\"text-align: right;\">\n",
       "      <th></th>\n",
       "      <th>Baseline Test Score</th>\n",
       "      <th>rsme</th>\n",
       "      <th>Baseline w/ KBest</th>\n",
       "      <th>rsme_kbest</th>\n",
       "      <th>w/ Intercept Score</th>\n",
       "      <th>rsme_i</th>\n",
       "      <th>w/ Intercept Score, KBest</th>\n",
       "      <th>rsme_i_kbest</th>\n",
       "      <th>n/ Intercept Score</th>\n",
       "      <th>rsme_n_i</th>\n",
       "      <th>rsme_n_i_kbest</th>\n",
       "      <th>other Score</th>\n",
       "      <th>rsme_o</th>\n",
       "    </tr>\n",
       "  </thead>\n",
       "  <tbody>\n",
       "    <tr>\n",
       "      <th>LinearRegression()</th>\n",
       "      <td>0.743534</td>\n",
       "      <td>40023.587103</td>\n",
       "      <td>-3.787656e+26</td>\n",
       "      <td>1.538106e+18</td>\n",
       "      <td>0.743534</td>\n",
       "      <td>40023.587103</td>\n",
       "      <td>-2.317916e+23</td>\n",
       "      <td>3.804957e+16</td>\n",
       "      <td>0.746217</td>\n",
       "      <td>39813.659178</td>\n",
       "      <td>3.621027e+17</td>\n",
       "      <td>NaN</td>\n",
       "      <td>NaN</td>\n",
       "    </tr>\n",
       "    <tr>\n",
       "      <th>LogisticRegression()</th>\n",
       "      <td>0.017544</td>\n",
       "      <td>46334.515213</td>\n",
       "      <td>1.169591e-02</td>\n",
       "      <td>4.361838e+04</td>\n",
       "      <td>NaN</td>\n",
       "      <td>NaN</td>\n",
       "      <td>NaN</td>\n",
       "      <td>NaN</td>\n",
       "      <td>NaN</td>\n",
       "      <td>NaN</td>\n",
       "      <td>NaN</td>\n",
       "      <td>NaN</td>\n",
       "      <td>NaN</td>\n",
       "    </tr>\n",
       "    <tr>\n",
       "      <th>Ridge()</th>\n",
       "      <td>0.748093</td>\n",
       "      <td>39666.224960</td>\n",
       "      <td>7.061441e-01</td>\n",
       "      <td>4.284184e+04</td>\n",
       "      <td>0.752595</td>\n",
       "      <td>39310.149949</td>\n",
       "      <td>6.827763e-01</td>\n",
       "      <td>4.451268e+04</td>\n",
       "      <td>0.799065</td>\n",
       "      <td>35426.568292</td>\n",
       "      <td>1.873915e+05</td>\n",
       "      <td>NaN</td>\n",
       "      <td>NaN</td>\n",
       "    </tr>\n",
       "    <tr>\n",
       "      <th>Lasso()</th>\n",
       "      <td>0.744031</td>\n",
       "      <td>39984.777598</td>\n",
       "      <td>7.059647e-01</td>\n",
       "      <td>4.285492e+04</td>\n",
       "      <td>0.748390</td>\n",
       "      <td>39642.883142</td>\n",
       "      <td>6.788585e-01</td>\n",
       "      <td>4.478670e+04</td>\n",
       "      <td>0.757044</td>\n",
       "      <td>38955.165705</td>\n",
       "      <td>1.885952e+05</td>\n",
       "      <td>NaN</td>\n",
       "      <td>NaN</td>\n",
       "    </tr>\n",
       "    <tr>\n",
       "      <th>ElasticNet()</th>\n",
       "      <td>0.814004</td>\n",
       "      <td>34084.183871</td>\n",
       "      <td>7.124669e-01</td>\n",
       "      <td>4.237842e+04</td>\n",
       "      <td>0.782493</td>\n",
       "      <td>36858.457120</td>\n",
       "      <td>7.081244e-01</td>\n",
       "      <td>4.269724e+04</td>\n",
       "      <td>0.787419</td>\n",
       "      <td>36438.698340</td>\n",
       "      <td>1.828292e+05</td>\n",
       "      <td>NaN</td>\n",
       "      <td>NaN</td>\n",
       "    </tr>\n",
       "    <tr>\n",
       "      <th>KNeighborsRegressor()</th>\n",
       "      <td>0.758171</td>\n",
       "      <td>38864.711120</td>\n",
       "      <td>8.592407e-01</td>\n",
       "      <td>2.965101e+04</td>\n",
       "      <td>NaN</td>\n",
       "      <td>NaN</td>\n",
       "      <td>NaN</td>\n",
       "      <td>NaN</td>\n",
       "      <td>NaN</td>\n",
       "      <td>NaN</td>\n",
       "      <td>NaN</td>\n",
       "      <td>0.750867</td>\n",
       "      <td>39447.215191</td>\n",
       "    </tr>\n",
       "    <tr>\n",
       "      <th>SVR()</th>\n",
       "      <td>-0.051186</td>\n",
       "      <td>81029.055916</td>\n",
       "      <td>-4.763767e-02</td>\n",
       "      <td>8.089216e+04</td>\n",
       "      <td>NaN</td>\n",
       "      <td>NaN</td>\n",
       "      <td>NaN</td>\n",
       "      <td>NaN</td>\n",
       "      <td>NaN</td>\n",
       "      <td>NaN</td>\n",
       "      <td>NaN</td>\n",
       "      <td>-0.044856</td>\n",
       "      <td>80784.704580</td>\n",
       "    </tr>\n",
       "  </tbody>\n",
       "</table>\n",
       "</div>"
      ],
      "text/plain": [
       "                       Baseline Test Score          rsme  Baseline w/ KBest  \\\n",
       "LinearRegression()                0.743534  40023.587103      -3.787656e+26   \n",
       "LogisticRegression()              0.017544  46334.515213       1.169591e-02   \n",
       "Ridge()                           0.748093  39666.224960       7.061441e-01   \n",
       "Lasso()                           0.744031  39984.777598       7.059647e-01   \n",
       "ElasticNet()                      0.814004  34084.183871       7.124669e-01   \n",
       "KNeighborsRegressor()             0.758171  38864.711120       8.592407e-01   \n",
       "SVR()                            -0.051186  81029.055916      -4.763767e-02   \n",
       "\n",
       "                         rsme_kbest  w/ Intercept Score        rsme_i  \\\n",
       "LinearRegression()     1.538106e+18            0.743534  40023.587103   \n",
       "LogisticRegression()   4.361838e+04                 NaN           NaN   \n",
       "Ridge()                4.284184e+04            0.752595  39310.149949   \n",
       "Lasso()                4.285492e+04            0.748390  39642.883142   \n",
       "ElasticNet()           4.237842e+04            0.782493  36858.457120   \n",
       "KNeighborsRegressor()  2.965101e+04                 NaN           NaN   \n",
       "SVR()                  8.089216e+04                 NaN           NaN   \n",
       "\n",
       "                       w/ Intercept Score, KBest  rsme_i_kbest  \\\n",
       "LinearRegression()                 -2.317916e+23  3.804957e+16   \n",
       "LogisticRegression()                         NaN           NaN   \n",
       "Ridge()                             6.827763e-01  4.451268e+04   \n",
       "Lasso()                             6.788585e-01  4.478670e+04   \n",
       "ElasticNet()                        7.081244e-01  4.269724e+04   \n",
       "KNeighborsRegressor()                        NaN           NaN   \n",
       "SVR()                                        NaN           NaN   \n",
       "\n",
       "                       n/ Intercept Score      rsme_n_i  rsme_n_i_kbest  \\\n",
       "LinearRegression()               0.746217  39813.659178    3.621027e+17   \n",
       "LogisticRegression()                  NaN           NaN             NaN   \n",
       "Ridge()                          0.799065  35426.568292    1.873915e+05   \n",
       "Lasso()                          0.757044  38955.165705    1.885952e+05   \n",
       "ElasticNet()                     0.787419  36438.698340    1.828292e+05   \n",
       "KNeighborsRegressor()                 NaN           NaN             NaN   \n",
       "SVR()                                 NaN           NaN             NaN   \n",
       "\n",
       "                       other Score        rsme_o  \n",
       "LinearRegression()             NaN           NaN  \n",
       "LogisticRegression()           NaN           NaN  \n",
       "Ridge()                        NaN           NaN  \n",
       "Lasso()                        NaN           NaN  \n",
       "ElasticNet()                   NaN           NaN  \n",
       "KNeighborsRegressor()     0.750867  39447.215191  \n",
       "SVR()                    -0.044856  80784.704580  "
      ]
     },
     "execution_count": 111,
     "metadata": {},
     "output_type": "execute_result"
    }
   ],
   "source": [
    "df_results"
   ]
  },
  {
   "cell_type": "code",
   "execution_count": 112,
   "metadata": {},
   "outputs": [
    {
     "data": {
      "text/plain": [
       "-2.6290946154685833e+23"
      ]
     },
     "execution_count": 112,
     "metadata": {},
     "output_type": "execute_result"
    }
   ],
   "source": [
    "grid_fit_objects_k[0].best_score_"
   ]
  },
  {
   "cell_type": "code",
   "execution_count": 113,
   "metadata": {},
   "outputs": [],
   "source": [
    "#save = dump(grid_fit_objects_f[2], '/home/blue/general-assembly/dsir-824/submissions/projects/project-2-master/outputted work/lasso-rsme-22887.joblib')"
   ]
  },
  {
   "cell_type": "code",
   "execution_count": 114,
   "metadata": {},
   "outputs": [
    {
     "data": {
      "text/plain": [
       "{'lasso__alpha': 46, 'lasso__fit_intercept': False, 'lasso__max_iter': 100000}"
      ]
     },
     "execution_count": 114,
     "metadata": {},
     "output_type": "execute_result"
    }
   ],
   "source": [
    "grid_fit_objects_f[2].best_params_"
   ]
  },
  {
   "cell_type": "code",
   "execution_count": null,
   "metadata": {},
   "outputs": [],
   "source": []
  }
 ],
 "metadata": {
  "kernelspec": {
   "display_name": "Python 3",
   "language": "python",
   "name": "python3"
  },
  "language_info": {
   "codemirror_mode": {
    "name": "ipython",
    "version": 3
   },
   "file_extension": ".py",
   "mimetype": "text/x-python",
   "name": "python",
   "nbconvert_exporter": "python",
   "pygments_lexer": "ipython3",
   "version": "3.8.3"
  }
 },
 "nbformat": 4,
 "nbformat_minor": 4
}
