{
 "cells": [
  {
   "cell_type": "code",
   "execution_count": 2,
   "metadata": {},
   "outputs": [],
   "source": [
    "import numpy as np\n",
    "import pandas as pd\n",
    "\n",
    "import matplotlib.pyplot as plt\n",
    "\n",
    "import seaborn as sns\n",
    "\n",
    "import models as models\n",
    "\n",
    "from sklearn.linear_model import LinearRegression, LogisticRegression, Lasso, Ridge, ElasticNet, SGDClassifier\n",
    "from sklearn.svm import SVR, LinearSVC\n",
    "from sklearn.model_selection import train_test_split, GridSearchCV\n",
    "from sklearn.neighbors import KNeighborsRegressor\n",
    "from sklearn.pipeline import make_pipeline, Pipeline\n",
    "from sklearn.preprocessing import StandardScaler, OneHotEncoder\n",
    "from sklearn.impute import SimpleImputer\n",
    "from sklearn.compose import ColumnTransformer, make_column_transformer, make_column_selector\n",
    "from sklearn.metrics import mean_squared_error\n",
    "from sklearn.feature_selection import SelectKBest, chi2\n",
    "\n",
    "from sklearn import set_config\n",
    "from joblib import dump, load"
   ]
  },
  {
   "cell_type": "code",
   "execution_count": 3,
   "metadata": {},
   "outputs": [],
   "source": [
    "df_train_raw = pd.read_csv('/home/blue/general-assembly/dsir-824/submissions/projects/project-2-master/datasets/train.csv')\n",
    "\n",
    "df = df_train_raw.copy()"
   ]
  },
  {
   "cell_type": "code",
   "execution_count": 4,
   "metadata": {},
   "outputs": [],
   "source": [
    "df_test_raw = pd.read_csv('/home/blue/general-assembly/dsir-824/submissions/projects/project-2-master/datasets/test.csv')\n",
    "df_test = df_test_raw.copy()"
   ]
  },
  {
   "cell_type": "code",
   "execution_count": 5,
   "metadata": {},
   "outputs": [
    {
     "data": {
      "text/html": [
       "<div>\n",
       "<style scoped>\n",
       "    .dataframe tbody tr th:only-of-type {\n",
       "        vertical-align: middle;\n",
       "    }\n",
       "\n",
       "    .dataframe tbody tr th {\n",
       "        vertical-align: top;\n",
       "    }\n",
       "\n",
       "    .dataframe thead th {\n",
       "        text-align: right;\n",
       "    }\n",
       "</style>\n",
       "<table border=\"1\" class=\"dataframe\">\n",
       "  <thead>\n",
       "    <tr style=\"text-align: right;\">\n",
       "      <th></th>\n",
       "      <th>Id</th>\n",
       "      <th>PID</th>\n",
       "      <th>MS SubClass</th>\n",
       "      <th>MS Zoning</th>\n",
       "      <th>Lot Frontage</th>\n",
       "      <th>Lot Area</th>\n",
       "      <th>Street</th>\n",
       "      <th>Alley</th>\n",
       "      <th>Lot Shape</th>\n",
       "      <th>Land Contour</th>\n",
       "      <th>...</th>\n",
       "      <th>Screen Porch</th>\n",
       "      <th>Pool Area</th>\n",
       "      <th>Pool QC</th>\n",
       "      <th>Fence</th>\n",
       "      <th>Misc Feature</th>\n",
       "      <th>Misc Val</th>\n",
       "      <th>Mo Sold</th>\n",
       "      <th>Yr Sold</th>\n",
       "      <th>Sale Type</th>\n",
       "      <th>SalePrice</th>\n",
       "    </tr>\n",
       "  </thead>\n",
       "  <tbody>\n",
       "    <tr>\n",
       "      <th>0</th>\n",
       "      <td>109</td>\n",
       "      <td>533352170</td>\n",
       "      <td>60</td>\n",
       "      <td>RL</td>\n",
       "      <td>NaN</td>\n",
       "      <td>13517</td>\n",
       "      <td>Pave</td>\n",
       "      <td>NaN</td>\n",
       "      <td>IR1</td>\n",
       "      <td>Lvl</td>\n",
       "      <td>...</td>\n",
       "      <td>0</td>\n",
       "      <td>0</td>\n",
       "      <td>NaN</td>\n",
       "      <td>NaN</td>\n",
       "      <td>NaN</td>\n",
       "      <td>0</td>\n",
       "      <td>3</td>\n",
       "      <td>2010</td>\n",
       "      <td>WD</td>\n",
       "      <td>130500</td>\n",
       "    </tr>\n",
       "    <tr>\n",
       "      <th>1</th>\n",
       "      <td>544</td>\n",
       "      <td>531379050</td>\n",
       "      <td>60</td>\n",
       "      <td>RL</td>\n",
       "      <td>43.0</td>\n",
       "      <td>11492</td>\n",
       "      <td>Pave</td>\n",
       "      <td>NaN</td>\n",
       "      <td>IR1</td>\n",
       "      <td>Lvl</td>\n",
       "      <td>...</td>\n",
       "      <td>0</td>\n",
       "      <td>0</td>\n",
       "      <td>NaN</td>\n",
       "      <td>NaN</td>\n",
       "      <td>NaN</td>\n",
       "      <td>0</td>\n",
       "      <td>4</td>\n",
       "      <td>2009</td>\n",
       "      <td>WD</td>\n",
       "      <td>220000</td>\n",
       "    </tr>\n",
       "    <tr>\n",
       "      <th>2</th>\n",
       "      <td>153</td>\n",
       "      <td>535304180</td>\n",
       "      <td>20</td>\n",
       "      <td>RL</td>\n",
       "      <td>68.0</td>\n",
       "      <td>7922</td>\n",
       "      <td>Pave</td>\n",
       "      <td>NaN</td>\n",
       "      <td>Reg</td>\n",
       "      <td>Lvl</td>\n",
       "      <td>...</td>\n",
       "      <td>0</td>\n",
       "      <td>0</td>\n",
       "      <td>NaN</td>\n",
       "      <td>NaN</td>\n",
       "      <td>NaN</td>\n",
       "      <td>0</td>\n",
       "      <td>1</td>\n",
       "      <td>2010</td>\n",
       "      <td>WD</td>\n",
       "      <td>109000</td>\n",
       "    </tr>\n",
       "    <tr>\n",
       "      <th>3</th>\n",
       "      <td>318</td>\n",
       "      <td>916386060</td>\n",
       "      <td>60</td>\n",
       "      <td>RL</td>\n",
       "      <td>73.0</td>\n",
       "      <td>9802</td>\n",
       "      <td>Pave</td>\n",
       "      <td>NaN</td>\n",
       "      <td>Reg</td>\n",
       "      <td>Lvl</td>\n",
       "      <td>...</td>\n",
       "      <td>0</td>\n",
       "      <td>0</td>\n",
       "      <td>NaN</td>\n",
       "      <td>NaN</td>\n",
       "      <td>NaN</td>\n",
       "      <td>0</td>\n",
       "      <td>4</td>\n",
       "      <td>2010</td>\n",
       "      <td>WD</td>\n",
       "      <td>174000</td>\n",
       "    </tr>\n",
       "    <tr>\n",
       "      <th>4</th>\n",
       "      <td>255</td>\n",
       "      <td>906425045</td>\n",
       "      <td>50</td>\n",
       "      <td>RL</td>\n",
       "      <td>82.0</td>\n",
       "      <td>14235</td>\n",
       "      <td>Pave</td>\n",
       "      <td>NaN</td>\n",
       "      <td>IR1</td>\n",
       "      <td>Lvl</td>\n",
       "      <td>...</td>\n",
       "      <td>0</td>\n",
       "      <td>0</td>\n",
       "      <td>NaN</td>\n",
       "      <td>NaN</td>\n",
       "      <td>NaN</td>\n",
       "      <td>0</td>\n",
       "      <td>3</td>\n",
       "      <td>2010</td>\n",
       "      <td>WD</td>\n",
       "      <td>138500</td>\n",
       "    </tr>\n",
       "  </tbody>\n",
       "</table>\n",
       "<p>5 rows × 81 columns</p>\n",
       "</div>"
      ],
      "text/plain": [
       "    Id        PID  MS SubClass MS Zoning  Lot Frontage  Lot Area Street Alley  \\\n",
       "0  109  533352170           60        RL           NaN     13517   Pave   NaN   \n",
       "1  544  531379050           60        RL          43.0     11492   Pave   NaN   \n",
       "2  153  535304180           20        RL          68.0      7922   Pave   NaN   \n",
       "3  318  916386060           60        RL          73.0      9802   Pave   NaN   \n",
       "4  255  906425045           50        RL          82.0     14235   Pave   NaN   \n",
       "\n",
       "  Lot Shape Land Contour  ... Screen Porch Pool Area Pool QC Fence  \\\n",
       "0       IR1          Lvl  ...            0         0     NaN   NaN   \n",
       "1       IR1          Lvl  ...            0         0     NaN   NaN   \n",
       "2       Reg          Lvl  ...            0         0     NaN   NaN   \n",
       "3       Reg          Lvl  ...            0         0     NaN   NaN   \n",
       "4       IR1          Lvl  ...            0         0     NaN   NaN   \n",
       "\n",
       "  Misc Feature Misc Val Mo Sold Yr Sold  Sale Type  SalePrice  \n",
       "0          NaN        0       3    2010        WD      130500  \n",
       "1          NaN        0       4    2009        WD      220000  \n",
       "2          NaN        0       1    2010        WD      109000  \n",
       "3          NaN        0       4    2010        WD      174000  \n",
       "4          NaN        0       3    2010        WD      138500  \n",
       "\n",
       "[5 rows x 81 columns]"
      ]
     },
     "execution_count": 5,
     "metadata": {},
     "output_type": "execute_result"
    }
   ],
   "source": [
    "df.head()"
   ]
  },
  {
   "cell_type": "code",
   "execution_count": 6,
   "metadata": {},
   "outputs": [],
   "source": [
    "# This will use the entire dataset\n",
    "X= df.drop('SalePrice', axis=1)\n",
    "y= df['SalePrice']"
   ]
  },
  {
   "cell_type": "code",
   "execution_count": 7,
   "metadata": {},
   "outputs": [],
   "source": [
    "# set up baseline estimators without hyperparameter optimization\n",
    "\n",
    "estimator_list = (LinearRegression(n_jobs=-1), \n",
    "                  LogisticRegression(n_jobs=-1, max_iter=500_000), \n",
    "                  Ridge(max_iter=500_000), \n",
    "                  Lasso(max_iter=500_000), \n",
    "                  ElasticNet(max_iter=500_000), \n",
    "                  KNeighborsRegressor(n_jobs=-1), \n",
    "                  SVR())"
   ]
  },
  {
   "cell_type": "code",
   "execution_count": 8,
   "metadata": {},
   "outputs": [],
   "source": [
    "# set up common naming convention\n",
    "index = ['LinearRegression()', 'LogisticRegression()', 'Ridge()', 'Lasso()', 'ElasticNet()', 'KNeighborsRegressor()', 'SVR()']"
   ]
  },
  {
   "cell_type": "code",
   "execution_count": 9,
   "metadata": {},
   "outputs": [],
   "source": [
    "# Set up GridSearchCV Params for all 6 GridSearch instances"
   ]
  },
  {
   "cell_type": "code",
   "execution_count": 10,
   "metadata": {},
   "outputs": [],
   "source": [
    "estimator_params_true = {\n",
    "    LinearRegression(): {\n",
    "        'linearregression__fit_intercept': [True],\n",
    "        'linearregression__n_jobs': [-1]},\n",
    "    Ridge():{\n",
    "        'ridge__alpha': list(range(1,11)),\n",
    "        'ridge__fit_intercept': [True],\n",
    "        'ridge__max_iter': [100_000],\n",
    "    },\n",
    "    Lasso(): {\n",
    "        'lasso__alpha': list(range(1,11)),\n",
    "        'lasso__fit_intercept': [True],\n",
    "        'lasso__max_iter': [100_000],\n",
    "    }, \n",
    "    ElasticNet():{\n",
    "        'elasticnet__alpha': list(range(1,11)),\n",
    "        'elasticnet__fit_intercept': [True],\n",
    "        'elasticnet__l1_ratio': np.arange(0.1, 1, 0.1),\n",
    "        'elasticnet__max_iter': [100_000],\n",
    "    }, \n",
    "    }"
   ]
  },
  {
   "cell_type": "code",
   "execution_count": 11,
   "metadata": {},
   "outputs": [],
   "source": [
    "# Hyperparameter range for kbest was found through a manual kbestfeatures"
   ]
  },
  {
   "cell_type": "code",
   "execution_count": 12,
   "metadata": {},
   "outputs": [],
   "source": [
    "estimator_params_true_k = {\n",
    "    LinearRegression(): {\n",
    "        'linearregression__fit_intercept': [True],\n",
    "        'linearregression__n_jobs': [-1],\n",
    "        'columntransformer__num__num_kbest__k': list(range(10, 20,2)),\n",
    "        'columntransformer__cat__cat_kbest__k': list(range(10, 25,2)),\n",
    "    },\n",
    "    Ridge():{\n",
    "        'ridge__alpha': list(range(1,11)),\n",
    "        'ridge__fit_intercept': [True],\n",
    "        'ridge__max_iter': [100_000],\n",
    "        'columntransformer__num__num_kbest__k': list(range(10, 20,2)),\n",
    "        'columntransformer__cat__cat_kbest__k': list(range(10, 25,2)),\n",
    "    },\n",
    "    Lasso(): {\n",
    "        'lasso__alpha': list(range(1,11)),\n",
    "        'lasso__fit_intercept': [True],\n",
    "        'lasso__max_iter': [100_000],\n",
    "        'columntransformer__num__num_kbest__k': list(range(10, 20,2)),\n",
    "        'columntransformer__cat__cat_kbest__k': list(range(10, 25,2)),\n",
    "    }, \n",
    "    ElasticNet():{\n",
    "        'elasticnet__alpha': list(range(1,11)),\n",
    "        'elasticnet__fit_intercept': [True],\n",
    "        'elasticnet__l1_ratio': np.arange(0.1, 1, 0.1),\n",
    "        'elasticnet__max_iter': [100_000],\n",
    "        'columntransformer__num__num_kbest__k': list(range(10, 20,2)),\n",
    "        'columntransformer__cat__cat_kbest__k': list(range(10, 25,2))\n",
    "    }, \n",
    "    }"
   ]
  },
  {
   "cell_type": "code",
   "execution_count": 13,
   "metadata": {},
   "outputs": [],
   "source": [
    "estimator_params_false = {\n",
    "    LinearRegression(): {\n",
    "    'linearregression__fit_intercept': [False],\n",
    "    'linearregression__n_jobs': [-1]},\n",
    "    Ridge():{\n",
    "    'ridge__alpha': list(range(1,11)),\n",
    "    'ridge__fit_intercept': [False],\n",
    "    'ridge__max_iter': [100_000]}, \n",
    "    Lasso(): {\n",
    "    'lasso__alpha': list(range(1,51,2)),\n",
    "    'lasso__fit_intercept': [False],\n",
    "    'lasso__max_iter': [100_000]},\n",
    "    ElasticNet():{\n",
    "    'elasticnet__alpha': list(range(1,11)),\n",
    "    'elasticnet__fit_intercept': [False],\n",
    "    'elasticnet__l1_ratio': np.arange(0.1, 1, 0.1),\n",
    "    'elasticnet__max_iter': [100_000]}, \n",
    "\n",
    "}"
   ]
  },
  {
   "cell_type": "code",
   "execution_count": 14,
   "metadata": {},
   "outputs": [],
   "source": [
    "estimator_params_false_k = {\n",
    "    LinearRegression(): {\n",
    "    'linearregression__fit_intercept': [False],\n",
    "    'linearregression__n_jobs': [-1],\n",
    "    'columntransformer__num__num_kbest__k': list(range(10, 20,2)),\n",
    "    'columntransformer__cat__cat_kbest__k': list(range(10, 25,2)),\n",
    "    },\n",
    "    Ridge():{\n",
    "    'ridge__alpha': list(range(1,11)),\n",
    "    'ridge__fit_intercept': [False],\n",
    "    'ridge__max_iter': [100_000],\n",
    "    'columntransformer__num__num_kbest__k': list(range(10, 20,2)),\n",
    "    'columntransformer__cat__cat_kbest__k': list(range(10, 25,2)),\n",
    "    }, \n",
    "    Lasso(): {\n",
    "    'lasso__alpha': list(range(1,51)),\n",
    "    'lasso__fit_intercept': [False],\n",
    "    'lasso__max_iter': [100_000],\n",
    "    'columntransformer__num__num_kbest__k': list(range(10, 20,2)),\n",
    "    'columntransformer__cat__cat_kbest__k': list(range(10, 25,2)),\n",
    "    },\n",
    "    ElasticNet():{\n",
    "    'elasticnet__alpha': list(range(1,11)),\n",
    "    'elasticnet__fit_intercept': [False],\n",
    "    'elasticnet__l1_ratio': np.arange(0.1, 1, 0.1),\n",
    "    'elasticnet__max_iter': [100_000],\n",
    "    'columntransformer__num__num_kbest__k': list(range(10, 20,2)),\n",
    "    'columntransformer__cat__cat_kbest__k': list(range(10, 25,2)),\n",
    "    }, \n",
    "\n",
    "}"
   ]
  },
  {
   "cell_type": "code",
   "execution_count": 15,
   "metadata": {},
   "outputs": [],
   "source": [
    "estimator_params_other = {\n",
    "    KNeighborsRegressor():{\n",
    "        'kneighborsregressor__n_neighbors': list(range(5, 31,2)),\n",
    "        'kneighborsregressor__leaf_size': list(range(25, 45,2)),\n",
    "        'kneighborsregressor__n_jobs': [-1]}, \n",
    "    SVR():{\n",
    "        'svr__C': [0.001, 0.01, 0.1, 1, 10],\n",
    "        'svr__gamma': [0.001, 0.01, 0.1, 1],\n",
    "}}"
   ]
  },
  {
   "cell_type": "code",
   "execution_count": 16,
   "metadata": {},
   "outputs": [],
   "source": [
    "estimator_params_other_k = {\n",
    "    KNeighborsRegressor():{\n",
    "        'kneighborsregressor__n_neighbors': list(range(25, 45,2)),\n",
    "        'kneighborsregressor__leaf_size': list(range(25, 45,2)),\n",
    "        'kneighborsregressor__n_jobs': [-1],\n",
    "        'columntransformer__num__num_kbest__k': list(range(10, 20,2)),\n",
    "        'columntransformer__cat__cat_kbest__k': list(range(10, 25,2)),\n",
    "    }, \n",
    "    SVR():{\n",
    "        'svr__C': [0.001, 0.01, 0.1, 1, 10],\n",
    "        'svr__gamma': [0.001, 0.01, 0.1, 1],\n",
    "        'columntransformer__num__num_kbest__k': list(range(10, 20,2)), \n",
    "        'columntransformer__cat__cat_kbest__k': list(range(10, 25,2)),\n",
    "}}"
   ]
  },
  {
   "cell_type": "code",
   "execution_count": 17,
   "metadata": {},
   "outputs": [],
   "source": [
    "# Create Custom Preprocessing Module to include KBest\n",
    "# This is the version which we will train a baseline with kfeatures\n",
    "# There is a basic version of preprocessing inside class ModelSelection which does not handle feature selection\n",
    "\n",
    "numeric_transformer = Pipeline(steps=[\n",
    "    ('num_imputer', SimpleImputer()),\n",
    "    ('num_scaler', StandardScaler()),\n",
    "    ('num_kbest', SelectKBest())])\n",
    "\n",
    "categorical_transformer = Pipeline(steps=[\n",
    "    ('cat_imputer', SimpleImputer(strategy='constant', fill_value='Other')),\n",
    "    ('cat_onehot', OneHotEncoder(handle_unknown='ignore')),\n",
    "    ('cat_scaler', StandardScaler(with_mean=False)),\n",
    "    ('cat_kbest', SelectKBest(score_func=chi2))])\n",
    "\n",
    "\n",
    "preprocessing = ColumnTransformer(transformers=[\n",
    "    ('num', numeric_transformer, make_column_selector(dtype_include=np.number)),\n",
    "    ('cat', categorical_transformer, make_column_selector(dtype_include='object'))\n",
    "])"
   ]
  },
  {
   "cell_type": "code",
   "execution_count": 18,
   "metadata": {},
   "outputs": [],
   "source": [
    "# Instantiate Grid and Pipe CV Class Object\n",
    "ms = models.ModelSelection(X, y)"
   ]
  },
  {
   "cell_type": "code",
   "execution_count": 19,
   "metadata": {},
   "outputs": [],
   "source": [
    "# Set up Baseline Pipeline\n",
    "pipe_list = ms.make_pipe(estimator_list)"
   ]
  },
  {
   "cell_type": "code",
   "execution_count": 20,
   "metadata": {},
   "outputs": [
    {
     "data": {
      "text/html": [
       "<style>div.sk-top-container {color: black;background-color: white;}div.sk-toggleable {background-color: white;}label.sk-toggleable__label {cursor: pointer;display: block;width: 100%;margin-bottom: 0;padding: 0.2em 0.3em;box-sizing: border-box;text-align: center;}div.sk-toggleable__content {max-height: 0;max-width: 0;overflow: hidden;text-align: left;background-color: #f0f8ff;}div.sk-toggleable__content pre {margin: 0.2em;color: black;border-radius: 0.25em;background-color: #f0f8ff;}input.sk-toggleable__control:checked~div.sk-toggleable__content {max-height: 200px;max-width: 100%;overflow: auto;}div.sk-estimator input.sk-toggleable__control:checked~label.sk-toggleable__label {background-color: #d4ebff;}div.sk-label input.sk-toggleable__control:checked~label.sk-toggleable__label {background-color: #d4ebff;}input.sk-hidden--visually {border: 0;clip: rect(1px 1px 1px 1px);clip: rect(1px, 1px, 1px, 1px);height: 1px;margin: -1px;overflow: hidden;padding: 0;position: absolute;width: 1px;}div.sk-estimator {font-family: monospace;background-color: #f0f8ff;margin: 0.25em 0.25em;border: 1px dotted black;border-radius: 0.25em;box-sizing: border-box;}div.sk-estimator:hover {background-color: #d4ebff;}div.sk-parallel-item::after {content: \"\";width: 100%;border-bottom: 1px solid gray;flex-grow: 1;}div.sk-label:hover label.sk-toggleable__label {background-color: #d4ebff;}div.sk-serial::before {content: \"\";position: absolute;border-left: 1px solid gray;box-sizing: border-box;top: 2em;bottom: 0;left: 50%;}div.sk-serial {display: flex;flex-direction: column;align-items: center;background-color: white;}div.sk-item {z-index: 1;}div.sk-parallel {display: flex;align-items: stretch;justify-content: center;background-color: white;}div.sk-parallel-item {display: flex;flex-direction: column;position: relative;background-color: white;}div.sk-parallel-item:first-child::after {align-self: flex-end;width: 50%;}div.sk-parallel-item:last-child::after {align-self: flex-start;width: 50%;}div.sk-parallel-item:only-child::after {width: 0;}div.sk-dashed-wrapped {border: 1px dashed gray;margin: 0.2em;box-sizing: border-box;padding-bottom: 0.1em;background-color: white;position: relative;}div.sk-label label {font-family: monospace;font-weight: bold;background-color: white;display: inline-block;line-height: 1.2em;}div.sk-label-container {position: relative;z-index: 2;text-align: center;}div.sk-container {display: inline-block;position: relative;}</style><div class=\"sk-top-container\"><div class=\"sk-container\"><div class=\"sk-item sk-dashed-wrapped\"><div class=\"sk-label-container\"><div class=\"sk-label sk-toggleable\"><input class=\"sk-toggleable__control sk-hidden--visually\" id=\"2acb29bd-939b-4217-8eba-d10f505d0a93\" type=\"checkbox\" ><label class=\"sk-toggleable__label\" for=\"2acb29bd-939b-4217-8eba-d10f505d0a93\">Pipeline</label><div class=\"sk-toggleable__content\"><pre>Pipeline(steps=[('columntransformer',\n",
       "                 ColumnTransformer(transformers=[('num',\n",
       "                                                  Pipeline(steps=[('num_imputer',\n",
       "                                                                   SimpleImputer()),\n",
       "                                                                  ('num_scaler',\n",
       "                                                                   StandardScaler())]),\n",
       "                                                  <sklearn.compose._column_transformer.make_column_selector object at 0x7febc225b220>),\n",
       "                                                 ('cat',\n",
       "                                                  Pipeline(steps=[('cat_imputer',\n",
       "                                                                   SimpleImputer(fill_value='Other',\n",
       "                                                                                 strategy='constant')),\n",
       "                                                                  ('cat_onehot',\n",
       "                                                                   OneHotEncoder(handle_unknown='ignore')),\n",
       "                                                                  ('cat_scaler',\n",
       "                                                                   StandardScaler(with_mean=False))]),\n",
       "                                                  <sklearn.compose._column_transformer.make_column_selector object at 0x7febc225b370>)])),\n",
       "                ('linearregression', LinearRegression(n_jobs=-1))])</pre></div></div></div><div class=\"sk-serial\"><div class=\"sk-item sk-dashed-wrapped\"><div class=\"sk-label-container\"><div class=\"sk-label sk-toggleable\"><input class=\"sk-toggleable__control sk-hidden--visually\" id=\"1e96d419-6848-4352-85d0-4ce398bd4e04\" type=\"checkbox\" ><label class=\"sk-toggleable__label\" for=\"1e96d419-6848-4352-85d0-4ce398bd4e04\">columntransformer: ColumnTransformer</label><div class=\"sk-toggleable__content\"><pre>ColumnTransformer(transformers=[('num',\n",
       "                                 Pipeline(steps=[('num_imputer',\n",
       "                                                  SimpleImputer()),\n",
       "                                                 ('num_scaler',\n",
       "                                                  StandardScaler())]),\n",
       "                                 <sklearn.compose._column_transformer.make_column_selector object at 0x7febc225b220>),\n",
       "                                ('cat',\n",
       "                                 Pipeline(steps=[('cat_imputer',\n",
       "                                                  SimpleImputer(fill_value='Other',\n",
       "                                                                strategy='constant')),\n",
       "                                                 ('cat_onehot',\n",
       "                                                  OneHotEncoder(handle_unknown='ignore')),\n",
       "                                                 ('cat_scaler',\n",
       "                                                  StandardScaler(with_mean=False))]),\n",
       "                                 <sklearn.compose._column_transformer.make_column_selector object at 0x7febc225b370>)])</pre></div></div></div><div class=\"sk-parallel\"><div class=\"sk-parallel-item\"><div class=\"sk-item\"><div class=\"sk-label-container\"><div class=\"sk-label sk-toggleable\"><input class=\"sk-toggleable__control sk-hidden--visually\" id=\"919cf38a-7080-405c-b1c3-0d1de6d81ffa\" type=\"checkbox\" ><label class=\"sk-toggleable__label\" for=\"919cf38a-7080-405c-b1c3-0d1de6d81ffa\">num</label><div class=\"sk-toggleable__content\"><pre><sklearn.compose._column_transformer.make_column_selector object at 0x7febc225b220></pre></div></div></div><div class=\"sk-serial\"><div class=\"sk-item\"><div class=\"sk-serial\"><div class=\"sk-item\"><div class=\"sk-estimator sk-toggleable\"><input class=\"sk-toggleable__control sk-hidden--visually\" id=\"fceb7b27-8c9f-4d2f-bab8-dbe6a1d02c60\" type=\"checkbox\" ><label class=\"sk-toggleable__label\" for=\"fceb7b27-8c9f-4d2f-bab8-dbe6a1d02c60\">SimpleImputer</label><div class=\"sk-toggleable__content\"><pre>SimpleImputer()</pre></div></div></div><div class=\"sk-item\"><div class=\"sk-estimator sk-toggleable\"><input class=\"sk-toggleable__control sk-hidden--visually\" id=\"7063fcb1-6fe2-4325-b14f-9bd11cc80609\" type=\"checkbox\" ><label class=\"sk-toggleable__label\" for=\"7063fcb1-6fe2-4325-b14f-9bd11cc80609\">StandardScaler</label><div class=\"sk-toggleable__content\"><pre>StandardScaler()</pre></div></div></div></div></div></div></div></div><div class=\"sk-parallel-item\"><div class=\"sk-item\"><div class=\"sk-label-container\"><div class=\"sk-label sk-toggleable\"><input class=\"sk-toggleable__control sk-hidden--visually\" id=\"6466bb1e-0150-45a9-88cb-8cfb7e9f386b\" type=\"checkbox\" ><label class=\"sk-toggleable__label\" for=\"6466bb1e-0150-45a9-88cb-8cfb7e9f386b\">cat</label><div class=\"sk-toggleable__content\"><pre><sklearn.compose._column_transformer.make_column_selector object at 0x7febc225b370></pre></div></div></div><div class=\"sk-serial\"><div class=\"sk-item\"><div class=\"sk-serial\"><div class=\"sk-item\"><div class=\"sk-estimator sk-toggleable\"><input class=\"sk-toggleable__control sk-hidden--visually\" id=\"4a8645d0-befa-4849-a18c-e2a39b18f1d8\" type=\"checkbox\" ><label class=\"sk-toggleable__label\" for=\"4a8645d0-befa-4849-a18c-e2a39b18f1d8\">SimpleImputer</label><div class=\"sk-toggleable__content\"><pre>SimpleImputer(fill_value='Other', strategy='constant')</pre></div></div></div><div class=\"sk-item\"><div class=\"sk-estimator sk-toggleable\"><input class=\"sk-toggleable__control sk-hidden--visually\" id=\"c5d28ae2-e28c-4f9f-b855-170992e497a0\" type=\"checkbox\" ><label class=\"sk-toggleable__label\" for=\"c5d28ae2-e28c-4f9f-b855-170992e497a0\">OneHotEncoder</label><div class=\"sk-toggleable__content\"><pre>OneHotEncoder(handle_unknown='ignore')</pre></div></div></div><div class=\"sk-item\"><div class=\"sk-estimator sk-toggleable\"><input class=\"sk-toggleable__control sk-hidden--visually\" id=\"85ada170-854f-4677-b3cb-c010c48ea416\" type=\"checkbox\" ><label class=\"sk-toggleable__label\" for=\"85ada170-854f-4677-b3cb-c010c48ea416\">StandardScaler</label><div class=\"sk-toggleable__content\"><pre>StandardScaler(with_mean=False)</pre></div></div></div></div></div></div></div></div></div></div><div class=\"sk-item\"><div class=\"sk-estimator sk-toggleable\"><input class=\"sk-toggleable__control sk-hidden--visually\" id=\"03273ac5-aa87-48df-af07-4c3195e5f4bd\" type=\"checkbox\" ><label class=\"sk-toggleable__label\" for=\"03273ac5-aa87-48df-af07-4c3195e5f4bd\">LinearRegression</label><div class=\"sk-toggleable__content\"><pre>LinearRegression(n_jobs=-1)</pre></div></div></div></div></div></div></div>"
      ],
      "text/plain": [
       "Pipeline(steps=[('columntransformer',\n",
       "                 ColumnTransformer(transformers=[('num',\n",
       "                                                  Pipeline(steps=[('num_imputer',\n",
       "                                                                   SimpleImputer()),\n",
       "                                                                  ('num_scaler',\n",
       "                                                                   StandardScaler())]),\n",
       "                                                  <sklearn.compose._column_transformer.make_column_selector object at 0x7febc225b220>),\n",
       "                                                 ('cat',\n",
       "                                                  Pipeline(steps=[('cat_imputer',\n",
       "                                                                   SimpleImputer(fill_value='Other',\n",
       "                                                                                 strategy='constant')),\n",
       "                                                                  ('cat_onehot',\n",
       "                                                                   OneHotEncoder(handle_unknown='ignore')),\n",
       "                                                                  ('cat_scaler',\n",
       "                                                                   StandardScaler(with_mean=False))]),\n",
       "                                                  <sklearn.compose._column_transformer.make_column_selector object at 0x7febc225b370>)])),\n",
       "                ('linearregression', LinearRegression(n_jobs=-1))])"
      ]
     },
     "execution_count": 20,
     "metadata": {},
     "output_type": "execute_result"
    }
   ],
   "source": [
    "# Display Pipeline to verify creation\n",
    "set_config(display='diagram')\n",
    "pipe_list[0]"
   ]
  },
  {
   "cell_type": "code",
   "execution_count": 21,
   "metadata": {},
   "outputs": [],
   "source": [
    "# Evaluate Baseline Pipeline"
   ]
  },
  {
   "cell_type": "code",
   "execution_count": null,
   "metadata": {},
   "outputs": [],
   "source": [
    "fitted_pipe_list, fitted_pipe_objects = ms.evaluate_pipes(pipe_list=pipe_list)"
   ]
  },
  {
   "cell_type": "code",
   "execution_count": null,
   "metadata": {},
   "outputs": [],
   "source": []
  },
  {
   "cell_type": "code",
   "execution_count": null,
   "metadata": {},
   "outputs": [],
   "source": [
    "# Create Results Dataframe, Calculate RSME as benchmark for Kaggle"
   ]
  },
  {
   "cell_type": "code",
   "execution_count": null,
   "metadata": {},
   "outputs": [],
   "source": [
    "df_results = pd.DataFrame(fitted_pipe_list, index=index, columns=['Baseline Test Score'])"
   ]
  },
  {
   "cell_type": "code",
   "execution_count": null,
   "metadata": {},
   "outputs": [],
   "source": [
    "rsme_list = ms.calculate_rsme(fitted_pipe_objects)"
   ]
  },
  {
   "cell_type": "code",
   "execution_count": null,
   "metadata": {},
   "outputs": [],
   "source": [
    "rsme_list = (pd.DataFrame(rsme_list, columns=['rsme'], index=index))"
   ]
  },
  {
   "cell_type": "code",
   "execution_count": null,
   "metadata": {},
   "outputs": [],
   "source": [
    "df_results = df_results.join(rsme_list)"
   ]
  },
  {
   "cell_type": "code",
   "execution_count": null,
   "metadata": {},
   "outputs": [],
   "source": [
    "df_results"
   ]
  },
  {
   "cell_type": "code",
   "execution_count": null,
   "metadata": {},
   "outputs": [],
   "source": []
  },
  {
   "cell_type": "code",
   "execution_count": null,
   "metadata": {},
   "outputs": [],
   "source": [
    "# Instantiate Baseline with KBest Features\n",
    "pipe_list_wfs = ms.make_pipe(preprocessing=preprocessing, estimator_list=estimator_list)"
   ]
  },
  {
   "cell_type": "code",
   "execution_count": null,
   "metadata": {},
   "outputs": [],
   "source": [
    "# Display Baseline Pipeline with KBest Features\n",
    "pipe_list_wfs[0]"
   ]
  },
  {
   "cell_type": "code",
   "execution_count": null,
   "metadata": {},
   "outputs": [],
   "source": [
    "# Evaluate\n",
    "fitted_pipe_list_wfs, fitted_pipe_objects_wfs = ms.evaluate_pipes(pipe_list=pipe_list_wfs)"
   ]
  },
  {
   "cell_type": "code",
   "execution_count": null,
   "metadata": {},
   "outputs": [],
   "source": [
    "fitted_pipe_list_wfs"
   ]
  },
  {
   "cell_type": "code",
   "execution_count": null,
   "metadata": {},
   "outputs": [],
   "source": [
    "# Calculate RSME, add to results Dataframe"
   ]
  },
  {
   "cell_type": "code",
   "execution_count": null,
   "metadata": {},
   "outputs": [],
   "source": [
    "df_results_wfs = pd.DataFrame(fitted_pipe_list_wfs, index=index, columns=['Baseline w/ KBest'])"
   ]
  },
  {
   "cell_type": "code",
   "execution_count": null,
   "metadata": {},
   "outputs": [],
   "source": [
    "rsme_list_wfs = ms.calculate_rsme(fitted_pipe_objects_wfs)"
   ]
  },
  {
   "cell_type": "code",
   "execution_count": null,
   "metadata": {},
   "outputs": [],
   "source": [
    "rsme_list_wfs = (pd.DataFrame(rsme_list_wfs, columns=['rsme_kbest'], index=index))"
   ]
  },
  {
   "cell_type": "code",
   "execution_count": null,
   "metadata": {},
   "outputs": [],
   "source": [
    "df_results_wfs = df_results_wfs.join(rsme_list_wfs)"
   ]
  },
  {
   "cell_type": "code",
   "execution_count": null,
   "metadata": {},
   "outputs": [],
   "source": [
    "df_results = df_results.join(df_results_wfs)"
   ]
  },
  {
   "cell_type": "code",
   "execution_count": null,
   "metadata": {},
   "outputs": [],
   "source": [
    "df_results"
   ]
  },
  {
   "cell_type": "code",
   "execution_count": null,
   "metadata": {},
   "outputs": [],
   "source": [
    "# Optional. save current Dataframe to csv for reports\n",
    "#df_results.to_csv('/home/blue/general-assembly/dsir-824/submissions/projects/project-2-master/notebooks/outputted work/baseline-924.csv')"
   ]
  },
  {
   "cell_type": "code",
   "execution_count": null,
   "metadata": {},
   "outputs": [],
   "source": []
  },
  {
   "cell_type": "code",
   "execution_count": null,
   "metadata": {},
   "outputs": [],
   "source": [
    "# Instantiate 6 Gridsear`ch CV for model optimization"
   ]
  },
  {
   "cell_type": "code",
   "execution_count": null,
   "metadata": {},
   "outputs": [],
   "source": [
    "pipe_list_true, grid_list_true = ms.make_grid_search(list(estimator_params_true.keys()), \n",
    "                                                     list(estimator_params_true.values()))"
   ]
  },
  {
   "cell_type": "code",
   "execution_count": null,
   "metadata": {},
   "outputs": [],
   "source": [
    "pipe_list_true_k, grid_list_true_k = ms.make_grid_search_wfs(preprocessing=preprocessing, \n",
    "                                                         estimator_list=list(estimator_params_true_k.keys()), \n",
    "                                                         params=list(estimator_params_true_k.values()))"
   ]
  },
  {
   "cell_type": "code",
   "execution_count": null,
   "metadata": {},
   "outputs": [],
   "source": [
    "pipe_list_false, grid_list_false = ms.make_grid_search(list(estimator_params_false.keys()), \n",
    "                                                       list(estimator_params_false.values()))"
   ]
  },
  {
   "cell_type": "code",
   "execution_count": null,
   "metadata": {},
   "outputs": [],
   "source": [
    "pipe_list_false_k, grid_list_false_k = ms.make_grid_search_wfs(preprocessing=preprocessing, \n",
    "                                                           estimator_list=list(estimator_params_false_k.keys()), \n",
    "                                                           params=list(estimator_params_false_k.values()))"
   ]
  },
  {
   "cell_type": "code",
   "execution_count": null,
   "metadata": {},
   "outputs": [],
   "source": [
    "pipe_list_other, grid_list_other = ms.make_grid_search(list(estimator_params_other.keys()), \n",
    "                                                       list(estimator_params_other.values()))"
   ]
  },
  {
   "cell_type": "code",
   "execution_count": null,
   "metadata": {},
   "outputs": [],
   "source": [
    "pipe_list_other_k, grid_list_other_k = ms.make_grid_search_wfs(preprocessing=preprocessing, \n",
    "                                                           estimator_list=list(estimator_params_other_k.keys()), \n",
    "                                                           params=list(estimator_params_other_k.values()))"
   ]
  },
  {
   "cell_type": "code",
   "execution_count": null,
   "metadata": {},
   "outputs": [],
   "source": [
    "# Display 6 GridSearchCV objects to verify it was created correctly"
   ]
  },
  {
   "cell_type": "code",
   "execution_count": null,
   "metadata": {},
   "outputs": [],
   "source": [
    "grid_list_true[0]"
   ]
  },
  {
   "cell_type": "code",
   "execution_count": null,
   "metadata": {},
   "outputs": [],
   "source": [
    "grid_list_true_k[0]"
   ]
  },
  {
   "cell_type": "code",
   "execution_count": null,
   "metadata": {},
   "outputs": [],
   "source": [
    "grid_list_false[0]"
   ]
  },
  {
   "cell_type": "code",
   "execution_count": null,
   "metadata": {},
   "outputs": [],
   "source": [
    "grid_list_false_k[0]"
   ]
  },
  {
   "cell_type": "code",
   "execution_count": null,
   "metadata": {},
   "outputs": [],
   "source": [
    "grid_list_other[0]"
   ]
  },
  {
   "cell_type": "code",
   "execution_count": null,
   "metadata": {},
   "outputs": [],
   "source": [
    "grid_list_other_k[0]"
   ]
  },
  {
   "cell_type": "code",
   "execution_count": null,
   "metadata": {},
   "outputs": [],
   "source": []
  },
  {
   "cell_type": "code",
   "execution_count": null,
   "metadata": {},
   "outputs": [],
   "source": [
    "# Evaluate all 6 models. This section will take a while\n",
    "# Note, when I ran this section, it took about 10 hours on an AMD FX8320e with multiprocessing turned on"
   ]
  },
  {
   "cell_type": "code",
   "execution_count": null,
   "metadata": {},
   "outputs": [],
   "source": [
    "grid_fit_scores, grid_fit_objects = ms.evaluate_grid_search(grid_list_true)"
   ]
  },
  {
   "cell_type": "code",
   "execution_count": null,
   "metadata": {},
   "outputs": [],
   "source": [
    "grid_fit_scores"
   ]
  },
  {
   "cell_type": "code",
   "execution_count": null,
   "metadata": {},
   "outputs": [],
   "source": []
  },
  {
   "cell_type": "code",
   "execution_count": null,
   "metadata": {},
   "outputs": [],
   "source": [
    "grid_fit_scores_k, grid_fit_objects_k = ms.evaluate_grid_search(grid_list_true_k)"
   ]
  },
  {
   "cell_type": "code",
   "execution_count": null,
   "metadata": {},
   "outputs": [],
   "source": [
    "grid_fit_scores_k"
   ]
  },
  {
   "cell_type": "code",
   "execution_count": null,
   "metadata": {},
   "outputs": [],
   "source": []
  },
  {
   "cell_type": "code",
   "execution_count": null,
   "metadata": {},
   "outputs": [],
   "source": [
    "grid_fit_scores_f, grid_fit_objects_f = ms.evaluate_grid_search(grid_list_false)"
   ]
  },
  {
   "cell_type": "code",
   "execution_count": null,
   "metadata": {},
   "outputs": [],
   "source": [
    "grid_fit_scores_f"
   ]
  },
  {
   "cell_type": "code",
   "execution_count": null,
   "metadata": {},
   "outputs": [],
   "source": []
  },
  {
   "cell_type": "code",
   "execution_count": null,
   "metadata": {},
   "outputs": [],
   "source": [
    "grid_fit_scores_f_k, grid_fit_objects_f_k = ms.evaluate_grid_search(grid_list_false_k)"
   ]
  },
  {
   "cell_type": "code",
   "execution_count": null,
   "metadata": {},
   "outputs": [],
   "source": [
    "grid_fit_scores_f_k"
   ]
  },
  {
   "cell_type": "code",
   "execution_count": null,
   "metadata": {},
   "outputs": [],
   "source": []
  },
  {
   "cell_type": "code",
   "execution_count": null,
   "metadata": {},
   "outputs": [],
   "source": [
    "grid_fit_scores_o, grid_fit_objects_o = ms.evaluate_grid_search(grid_list_other)"
   ]
  },
  {
   "cell_type": "code",
   "execution_count": null,
   "metadata": {},
   "outputs": [],
   "source": [
    "grid_fit_scores_o"
   ]
  },
  {
   "cell_type": "code",
   "execution_count": null,
   "metadata": {},
   "outputs": [],
   "source": []
  },
  {
   "cell_type": "code",
   "execution_count": null,
   "metadata": {},
   "outputs": [],
   "source": [
    "# I have given up trying to estimate this portion. This took over 24 hours and never converged\n",
    "#grid_fit_scores_o_k, grid_fit_objects_o_k = ms.evaluate_grid_search(grid_list_other_k)"
   ]
  },
  {
   "cell_type": "code",
   "execution_count": null,
   "metadata": {},
   "outputs": [],
   "source": [
    "#grid_fit_scores_o_k"
   ]
  },
  {
   "cell_type": "code",
   "execution_count": null,
   "metadata": {},
   "outputs": [],
   "source": []
  },
  {
   "cell_type": "code",
   "execution_count": null,
   "metadata": {},
   "outputs": [],
   "source": [
    "# Create Individual Dataframes for each GridSearchCV Object, calculate RSME for each"
   ]
  },
  {
   "cell_type": "code",
   "execution_count": null,
   "metadata": {},
   "outputs": [],
   "source": [
    "w_intercepts = pd.DataFrame(grid_fit_scores, \n",
    "                            index=str(list(estimator_params_true.keys()))[1:-1].replace(',','').split(), \n",
    "                            columns=['w/ Intercept Score'])"
   ]
  },
  {
   "cell_type": "code",
   "execution_count": null,
   "metadata": {},
   "outputs": [],
   "source": [
    "rsme_intercepts = ms.calculate_rsme(ms.preprocessing, grid_fit_objects)"
   ]
  },
  {
   "cell_type": "code",
   "execution_count": null,
   "metadata": {},
   "outputs": [],
   "source": [
    "rsme_intercepts = (pd.DataFrame(rsme_intercepts, columns=['rsme_i'], \n",
    "                                index=str(list(estimator_params_true.keys()))[1:-1].replace(',','').split()))"
   ]
  },
  {
   "cell_type": "code",
   "execution_count": null,
   "metadata": {},
   "outputs": [],
   "source": []
  },
  {
   "cell_type": "code",
   "execution_count": null,
   "metadata": {},
   "outputs": [],
   "source": [
    "w_intercepts_k = pd.DataFrame(grid_fit_scores_k, \n",
    "                            index=str(list(estimator_params_true_k.keys()))[1:-1].replace(',','').split(), \n",
    "                            columns=['w/ Intercept Score, KBest'])"
   ]
  },
  {
   "cell_type": "code",
   "execution_count": null,
   "metadata": {},
   "outputs": [],
   "source": [
    "rsme_intercepts_k = ms.calculate_rsme(preprocessing, grid_fit_objects_k)"
   ]
  },
  {
   "cell_type": "code",
   "execution_count": null,
   "metadata": {},
   "outputs": [],
   "source": [
    "rsme_intercepts_k = (pd.DataFrame(rsme_intercepts_k, columns=['rsme_i_kbest'], \n",
    "                                index=str(list(estimator_params_true_k.keys()))[1:-1].replace(',','').split()))"
   ]
  },
  {
   "cell_type": "code",
   "execution_count": null,
   "metadata": {},
   "outputs": [],
   "source": [
    "w_intercepts_k"
   ]
  },
  {
   "cell_type": "code",
   "execution_count": null,
   "metadata": {},
   "outputs": [],
   "source": [
    "rsme_intercepts_k"
   ]
  },
  {
   "cell_type": "code",
   "execution_count": null,
   "metadata": {},
   "outputs": [],
   "source": [
    "n_intercepts = pd.DataFrame(grid_fit_scores_f, \n",
    "                            index=str(list(estimator_params_false.keys()))[1:-1].replace(',','').split(), \n",
    "                            columns=['n/ Intercept Score'])"
   ]
  },
  {
   "cell_type": "code",
   "execution_count": null,
   "metadata": {},
   "outputs": [],
   "source": [
    "rsme_n_intercepts = ms.calculate_rsme(ms.preprocessing, grid_fit_objects_f)"
   ]
  },
  {
   "cell_type": "code",
   "execution_count": null,
   "metadata": {},
   "outputs": [],
   "source": [
    "rsme_n_intercepts = (pd.DataFrame(rsme_n_intercepts,\n",
    "                                  columns=['rsme_n_i'], index=str(list(estimator_params_false.keys()))[1:-1].replace(',','').split()))"
   ]
  },
  {
   "cell_type": "code",
   "execution_count": null,
   "metadata": {},
   "outputs": [],
   "source": []
  },
  {
   "cell_type": "code",
   "execution_count": null,
   "metadata": {},
   "outputs": [],
   "source": [
    "n_intercepts_k = pd.DataFrame(grid_fit_scores_f_k, \n",
    "                            index=str(list(estimator_params_false_k.keys()))[1:-1].replace(',','').split(), \n",
    "                            columns=['n/ Intercept Score w/ KBest'])"
   ]
  },
  {
   "cell_type": "code",
   "execution_count": null,
   "metadata": {},
   "outputs": [],
   "source": [
    "rsme_n_intercepts_k = ms.calculate_rsme(preprocessing, grid_fit_objects_f_k)"
   ]
  },
  {
   "cell_type": "code",
   "execution_count": null,
   "metadata": {},
   "outputs": [],
   "source": [
    "rsme_n_intercepts_k = (pd.DataFrame(rsme_n_intercepts_k, \n",
    "                                  columns=['rsme_n_i_kbest'], index=str(list(estimator_params_false_k.keys()))[1:-1].replace(',','').split()))"
   ]
  },
  {
   "cell_type": "code",
   "execution_count": null,
   "metadata": {},
   "outputs": [],
   "source": []
  },
  {
   "cell_type": "code",
   "execution_count": null,
   "metadata": {},
   "outputs": [],
   "source": [
    "other = pd.DataFrame(grid_fit_scores_o, \n",
    "                     index=str(list(estimator_params_other.keys()))[1:-1].replace(',','').split(), \n",
    "                     columns=['other Score'])"
   ]
  },
  {
   "cell_type": "code",
   "execution_count": null,
   "metadata": {},
   "outputs": [],
   "source": [
    "rsme_other = ms.calculate_rsme(ms.preprocessing, grid_fit_objects_o)"
   ]
  },
  {
   "cell_type": "code",
   "execution_count": null,
   "metadata": {},
   "outputs": [],
   "source": [
    "rsme_other = (pd.DataFrame(rsme_other, \n",
    "                           columns=['rsme_o'], \n",
    "                           index=str(list(estimator_params_other.keys()))[1:-1].replace(',','').split()))"
   ]
  },
  {
   "cell_type": "code",
   "execution_count": null,
   "metadata": {},
   "outputs": [],
   "source": []
  },
  {
   "cell_type": "code",
   "execution_count": null,
   "metadata": {},
   "outputs": [],
   "source": [
    "# Remove this portion from knn with feature selection"
   ]
  },
  {
   "cell_type": "code",
   "execution_count": null,
   "metadata": {},
   "outputs": [],
   "source": [
    "#other_k = pd.DataFrame(grid_fit_scores_o_k, \n",
    "#                     index=str(list(estimator_params_other_k.keys()))[1:-1].replace(',','').split(), \n",
    "#                     columns=['other Score w/ kbest'])"
   ]
  },
  {
   "cell_type": "code",
   "execution_count": null,
   "metadata": {},
   "outputs": [],
   "source": [
    "#rsme_other_k = ms.calculate_rsme(preprocessing, grid_fit_objects_o_k)"
   ]
  },
  {
   "cell_type": "code",
   "execution_count": null,
   "metadata": {},
   "outputs": [],
   "source": [
    "#rsme_other_k = (pd.DataFrame(rsme_other_k, \n",
    "#                           columns=['rsme_o_k'], \n",
    "#                           index=str(list(estimator_params_other.keys()))[1:-1].replace(',','').split()))"
   ]
  },
  {
   "cell_type": "code",
   "execution_count": null,
   "metadata": {},
   "outputs": [],
   "source": []
  },
  {
   "cell_type": "code",
   "execution_count": null,
   "metadata": {},
   "outputs": [],
   "source": [
    "# Add DataFrames from 6 models to df_results"
   ]
  },
  {
   "cell_type": "code",
   "execution_count": null,
   "metadata": {},
   "outputs": [],
   "source": [
    "df_results = df_results.join(w_intercepts)"
   ]
  },
  {
   "cell_type": "code",
   "execution_count": null,
   "metadata": {},
   "outputs": [],
   "source": [
    "df_results = df_results.join(rsme_intercepts)"
   ]
  },
  {
   "cell_type": "code",
   "execution_count": null,
   "metadata": {},
   "outputs": [],
   "source": [
    "df_results = df_results.join(w_intercepts_k)"
   ]
  },
  {
   "cell_type": "code",
   "execution_count": null,
   "metadata": {},
   "outputs": [],
   "source": [
    "df_results = df_results.join(rsme_intercepts_k)"
   ]
  },
  {
   "cell_type": "code",
   "execution_count": null,
   "metadata": {},
   "outputs": [],
   "source": []
  },
  {
   "cell_type": "code",
   "execution_count": null,
   "metadata": {},
   "outputs": [],
   "source": [
    "df_results = df_results.join(n_intercepts)"
   ]
  },
  {
   "cell_type": "code",
   "execution_count": null,
   "metadata": {},
   "outputs": [],
   "source": [
    "df_results = df_results.join(rsme_n_intercepts)"
   ]
  },
  {
   "cell_type": "code",
   "execution_count": null,
   "metadata": {},
   "outputs": [],
   "source": [
    "f_results = df_results.join(n_intercepts_k)"
   ]
  },
  {
   "cell_type": "code",
   "execution_count": null,
   "metadata": {},
   "outputs": [],
   "source": [
    "df_results = df_results.join(rsme_n_intercepts_k)"
   ]
  },
  {
   "cell_type": "code",
   "execution_count": null,
   "metadata": {},
   "outputs": [],
   "source": []
  },
  {
   "cell_type": "code",
   "execution_count": null,
   "metadata": {},
   "outputs": [],
   "source": [
    "df_results = df_results.join(other)"
   ]
  },
  {
   "cell_type": "code",
   "execution_count": null,
   "metadata": {},
   "outputs": [],
   "source": [
    "df_results = df_results.join(rsme_other)"
   ]
  },
  {
   "cell_type": "code",
   "execution_count": null,
   "metadata": {},
   "outputs": [],
   "source": [
    "#df_results = df_results.join(other_k)"
   ]
  },
  {
   "cell_type": "code",
   "execution_count": null,
   "metadata": {},
   "outputs": [],
   "source": [
    "#df_results = df_results.join(rsme_other_k)"
   ]
  },
  {
   "cell_type": "code",
   "execution_count": null,
   "metadata": {},
   "outputs": [],
   "source": []
  },
  {
   "cell_type": "code",
   "execution_count": null,
   "metadata": {},
   "outputs": [],
   "source": [
    "# let's see what's the best by looking at the lowest RSME score. Our goal is to find a model with the lowest RSME so we can do a deep dive\n",
    "# We can use joblib to save the entire state of our model and load it into another Jupyter Notebook"
   ]
  },
  {
   "cell_type": "code",
   "execution_count": null,
   "metadata": {},
   "outputs": [],
   "source": [
    "df_results"
   ]
  },
  {
   "cell_type": "code",
   "execution_count": null,
   "metadata": {},
   "outputs": [],
   "source": [
    "grid_fit_objects_k[0].best_score_"
   ]
  },
  {
   "cell_type": "code",
   "execution_count": null,
   "metadata": {},
   "outputs": [],
   "source": [
    "#save = dump(grid_fit_objects_f[2], '/home/blue/general-assembly/dsir-824/submissions/projects/project-2-master/outputted work/lasso-rsme-22887.joblib')"
   ]
  },
  {
   "cell_type": "code",
   "execution_count": null,
   "metadata": {},
   "outputs": [],
   "source": [
    "grid_fit_objects_f[2].best_params_"
   ]
  },
  {
   "cell_type": "code",
   "execution_count": null,
   "metadata": {},
   "outputs": [],
   "source": []
  }
 ],
 "metadata": {
  "kernelspec": {
   "display_name": "Python 3",
   "language": "python",
   "name": "python3"
  },
  "language_info": {
   "codemirror_mode": {
    "name": "ipython",
    "version": 3
   },
   "file_extension": ".py",
   "mimetype": "text/x-python",
   "name": "python",
   "nbconvert_exporter": "python",
   "pygments_lexer": "ipython3",
   "version": "3.8.3"
  }
 },
 "nbformat": 4,
 "nbformat_minor": 4
}
