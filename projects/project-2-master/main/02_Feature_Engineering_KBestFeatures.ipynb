{
 "cells": [
  {
   "cell_type": "code",
   "execution_count": 1,
   "metadata": {},
   "outputs": [],
   "source": [
    "# I am using a chi test/f_regression to try to select the best categeorical and numerical features, then I will compare them to \n",
    "# my cherry picked columns from doing a correlation visualization"
   ]
  },
  {
   "cell_type": "code",
   "execution_count": 99,
   "metadata": {},
   "outputs": [],
   "source": [
    "import pandas as pd\n",
    "import numpy as np\n",
    "\n",
    "import matplotlib.pyplot as plt\n",
    "\n",
    "import models as model\n",
    "\n",
    "from sklearn.model_selection import train_test_split\n",
    "from sklearn.feature_selection import VarianceThreshold, SelectKBest, chi2, f_regression\n",
    "\n",
    "from sklearn.preprocessing import OneHotEncoder, StandardScaler\n",
    "\n",
    "from sklearn.impute import SimpleImputer\n",
    "\n",
    "from sklearn.pipeline import make_pipeline, Pipeline\n",
    "from sklearn import set_config"
   ]
  },
  {
   "cell_type": "code",
   "execution_count": 3,
   "metadata": {},
   "outputs": [],
   "source": [
    "df_train_raw = pd.read_csv('/home/blue/general-assembly/dsir-824/submissions/projects/project-2-master/datasets/train.csv')\n",
    "\n",
    "df = df_train_raw.copy()"
   ]
  },
  {
   "cell_type": "code",
   "execution_count": 4,
   "metadata": {},
   "outputs": [],
   "source": [
    "# This will use the entire dataset\n",
    "X = df.drop('SalePrice', axis=1)\n",
    "y = df['SalePrice']"
   ]
  },
  {
   "cell_type": "code",
   "execution_count": null,
   "metadata": {},
   "outputs": [],
   "source": []
  },
  {
   "cell_type": "code",
   "execution_count": null,
   "metadata": {},
   "outputs": [],
   "source": [
    "# Set up the common X_train and y_train"
   ]
  },
  {
   "cell_type": "code",
   "execution_count": 5,
   "metadata": {},
   "outputs": [],
   "source": [
    "df_objects = df.loc[:, df.dtypes == object]"
   ]
  },
  {
   "cell_type": "code",
   "execution_count": 6,
   "metadata": {},
   "outputs": [],
   "source": [
    "ms = model.ModelSelection(df_objects,y)"
   ]
  },
  {
   "cell_type": "code",
   "execution_count": null,
   "metadata": {},
   "outputs": [],
   "source": []
  },
  {
   "cell_type": "code",
   "execution_count": null,
   "metadata": {},
   "outputs": [],
   "source": [
    "# Set up the aspects of the KBEstFeatures Categeorical Pipeline"
   ]
  },
  {
   "cell_type": "code",
   "execution_count": 7,
   "metadata": {},
   "outputs": [],
   "source": [
    "si = SimpleImputer(strategy='constant', fill_value='other')"
   ]
  },
  {
   "cell_type": "code",
   "execution_count": 8,
   "metadata": {},
   "outputs": [],
   "source": [
    "ohe = OneHotEncoder(sparse=False)"
   ]
  },
  {
   "cell_type": "code",
   "execution_count": 18,
   "metadata": {},
   "outputs": [],
   "source": [
    "kb = SelectKBest(score_func=chi2, k='all')"
   ]
  },
  {
   "cell_type": "code",
   "execution_count": null,
   "metadata": {},
   "outputs": [],
   "source": []
  },
  {
   "cell_type": "code",
   "execution_count": null,
   "metadata": {},
   "outputs": [],
   "source": [
    "# Inspect the columns and then compare to the output of OHE"
   ]
  },
  {
   "cell_type": "code",
   "execution_count": 359,
   "metadata": {},
   "outputs": [
    {
     "data": {
      "text/html": [
       "<div>\n",
       "<style scoped>\n",
       "    .dataframe tbody tr th:only-of-type {\n",
       "        vertical-align: middle;\n",
       "    }\n",
       "\n",
       "    .dataframe tbody tr th {\n",
       "        vertical-align: top;\n",
       "    }\n",
       "\n",
       "    .dataframe thead th {\n",
       "        text-align: right;\n",
       "    }\n",
       "</style>\n",
       "<table border=\"1\" class=\"dataframe\">\n",
       "  <thead>\n",
       "    <tr style=\"text-align: right;\">\n",
       "      <th></th>\n",
       "      <th>0</th>\n",
       "      <th>1</th>\n",
       "    </tr>\n",
       "  </thead>\n",
       "  <tbody>\n",
       "    <tr>\n",
       "      <th>0</th>\n",
       "      <td>0</td>\n",
       "      <td>MS Zoning</td>\n",
       "    </tr>\n",
       "    <tr>\n",
       "      <th>1</th>\n",
       "      <td>1</td>\n",
       "      <td>Street</td>\n",
       "    </tr>\n",
       "    <tr>\n",
       "      <th>2</th>\n",
       "      <td>2</td>\n",
       "      <td>Alley</td>\n",
       "    </tr>\n",
       "    <tr>\n",
       "      <th>3</th>\n",
       "      <td>3</td>\n",
       "      <td>Lot Shape</td>\n",
       "    </tr>\n",
       "    <tr>\n",
       "      <th>4</th>\n",
       "      <td>4</td>\n",
       "      <td>Land Contour</td>\n",
       "    </tr>\n",
       "    <tr>\n",
       "      <th>5</th>\n",
       "      <td>5</td>\n",
       "      <td>Utilities</td>\n",
       "    </tr>\n",
       "    <tr>\n",
       "      <th>6</th>\n",
       "      <td>6</td>\n",
       "      <td>Lot Config</td>\n",
       "    </tr>\n",
       "    <tr>\n",
       "      <th>7</th>\n",
       "      <td>7</td>\n",
       "      <td>Land Slope</td>\n",
       "    </tr>\n",
       "    <tr>\n",
       "      <th>8</th>\n",
       "      <td>8</td>\n",
       "      <td>Neighborhood</td>\n",
       "    </tr>\n",
       "    <tr>\n",
       "      <th>9</th>\n",
       "      <td>9</td>\n",
       "      <td>Condition 1</td>\n",
       "    </tr>\n",
       "    <tr>\n",
       "      <th>10</th>\n",
       "      <td>10</td>\n",
       "      <td>Condition 2</td>\n",
       "    </tr>\n",
       "    <tr>\n",
       "      <th>11</th>\n",
       "      <td>11</td>\n",
       "      <td>Bldg Type</td>\n",
       "    </tr>\n",
       "    <tr>\n",
       "      <th>12</th>\n",
       "      <td>12</td>\n",
       "      <td>House Style</td>\n",
       "    </tr>\n",
       "    <tr>\n",
       "      <th>13</th>\n",
       "      <td>13</td>\n",
       "      <td>Roof Style</td>\n",
       "    </tr>\n",
       "    <tr>\n",
       "      <th>14</th>\n",
       "      <td>14</td>\n",
       "      <td>Roof Matl</td>\n",
       "    </tr>\n",
       "    <tr>\n",
       "      <th>15</th>\n",
       "      <td>15</td>\n",
       "      <td>Exterior 1st</td>\n",
       "    </tr>\n",
       "    <tr>\n",
       "      <th>16</th>\n",
       "      <td>16</td>\n",
       "      <td>Exterior 2nd</td>\n",
       "    </tr>\n",
       "    <tr>\n",
       "      <th>17</th>\n",
       "      <td>17</td>\n",
       "      <td>Mas Vnr Type</td>\n",
       "    </tr>\n",
       "    <tr>\n",
       "      <th>18</th>\n",
       "      <td>18</td>\n",
       "      <td>Exter Qual</td>\n",
       "    </tr>\n",
       "    <tr>\n",
       "      <th>19</th>\n",
       "      <td>19</td>\n",
       "      <td>Exter Cond</td>\n",
       "    </tr>\n",
       "    <tr>\n",
       "      <th>20</th>\n",
       "      <td>20</td>\n",
       "      <td>Foundation</td>\n",
       "    </tr>\n",
       "    <tr>\n",
       "      <th>21</th>\n",
       "      <td>21</td>\n",
       "      <td>Bsmt Qual</td>\n",
       "    </tr>\n",
       "    <tr>\n",
       "      <th>22</th>\n",
       "      <td>22</td>\n",
       "      <td>Bsmt Cond</td>\n",
       "    </tr>\n",
       "    <tr>\n",
       "      <th>23</th>\n",
       "      <td>23</td>\n",
       "      <td>Bsmt Exposure</td>\n",
       "    </tr>\n",
       "    <tr>\n",
       "      <th>24</th>\n",
       "      <td>24</td>\n",
       "      <td>BsmtFin Type 1</td>\n",
       "    </tr>\n",
       "    <tr>\n",
       "      <th>25</th>\n",
       "      <td>25</td>\n",
       "      <td>BsmtFin Type 2</td>\n",
       "    </tr>\n",
       "    <tr>\n",
       "      <th>26</th>\n",
       "      <td>26</td>\n",
       "      <td>Heating</td>\n",
       "    </tr>\n",
       "    <tr>\n",
       "      <th>27</th>\n",
       "      <td>27</td>\n",
       "      <td>Heating QC</td>\n",
       "    </tr>\n",
       "    <tr>\n",
       "      <th>28</th>\n",
       "      <td>28</td>\n",
       "      <td>Central Air</td>\n",
       "    </tr>\n",
       "    <tr>\n",
       "      <th>29</th>\n",
       "      <td>29</td>\n",
       "      <td>Electrical</td>\n",
       "    </tr>\n",
       "    <tr>\n",
       "      <th>30</th>\n",
       "      <td>30</td>\n",
       "      <td>Kitchen Qual</td>\n",
       "    </tr>\n",
       "    <tr>\n",
       "      <th>31</th>\n",
       "      <td>31</td>\n",
       "      <td>Functional</td>\n",
       "    </tr>\n",
       "    <tr>\n",
       "      <th>32</th>\n",
       "      <td>32</td>\n",
       "      <td>Fireplace Qu</td>\n",
       "    </tr>\n",
       "    <tr>\n",
       "      <th>33</th>\n",
       "      <td>33</td>\n",
       "      <td>Garage Type</td>\n",
       "    </tr>\n",
       "    <tr>\n",
       "      <th>34</th>\n",
       "      <td>34</td>\n",
       "      <td>Garage Finish</td>\n",
       "    </tr>\n",
       "    <tr>\n",
       "      <th>35</th>\n",
       "      <td>35</td>\n",
       "      <td>Garage Qual</td>\n",
       "    </tr>\n",
       "    <tr>\n",
       "      <th>36</th>\n",
       "      <td>36</td>\n",
       "      <td>Garage Cond</td>\n",
       "    </tr>\n",
       "    <tr>\n",
       "      <th>37</th>\n",
       "      <td>37</td>\n",
       "      <td>Paved Drive</td>\n",
       "    </tr>\n",
       "    <tr>\n",
       "      <th>38</th>\n",
       "      <td>38</td>\n",
       "      <td>Pool QC</td>\n",
       "    </tr>\n",
       "    <tr>\n",
       "      <th>39</th>\n",
       "      <td>39</td>\n",
       "      <td>Fence</td>\n",
       "    </tr>\n",
       "    <tr>\n",
       "      <th>40</th>\n",
       "      <td>40</td>\n",
       "      <td>Misc Feature</td>\n",
       "    </tr>\n",
       "    <tr>\n",
       "      <th>41</th>\n",
       "      <td>41</td>\n",
       "      <td>Sale Type</td>\n",
       "    </tr>\n",
       "  </tbody>\n",
       "</table>\n",
       "</div>"
      ],
      "text/plain": [
       "     0               1\n",
       "0    0       MS Zoning\n",
       "1    1          Street\n",
       "2    2           Alley\n",
       "3    3       Lot Shape\n",
       "4    4    Land Contour\n",
       "5    5       Utilities\n",
       "6    6      Lot Config\n",
       "7    7      Land Slope\n",
       "8    8    Neighborhood\n",
       "9    9     Condition 1\n",
       "10  10     Condition 2\n",
       "11  11       Bldg Type\n",
       "12  12     House Style\n",
       "13  13      Roof Style\n",
       "14  14       Roof Matl\n",
       "15  15    Exterior 1st\n",
       "16  16    Exterior 2nd\n",
       "17  17    Mas Vnr Type\n",
       "18  18      Exter Qual\n",
       "19  19      Exter Cond\n",
       "20  20      Foundation\n",
       "21  21       Bsmt Qual\n",
       "22  22       Bsmt Cond\n",
       "23  23   Bsmt Exposure\n",
       "24  24  BsmtFin Type 1\n",
       "25  25  BsmtFin Type 2\n",
       "26  26         Heating\n",
       "27  27      Heating QC\n",
       "28  28     Central Air\n",
       "29  29      Electrical\n",
       "30  30    Kitchen Qual\n",
       "31  31      Functional\n",
       "32  32    Fireplace Qu\n",
       "33  33     Garage Type\n",
       "34  34   Garage Finish\n",
       "35  35     Garage Qual\n",
       "36  36     Garage Cond\n",
       "37  37     Paved Drive\n",
       "38  38         Pool QC\n",
       "39  39           Fence\n",
       "40  40    Misc Feature\n",
       "41  41       Sale Type"
      ]
     },
     "execution_count": 359,
     "metadata": {},
     "output_type": "execute_result"
    }
   ],
   "source": [
    "pd.DataFrame(enumerate(df_objects.columns))"
   ]
  },
  {
   "cell_type": "code",
   "execution_count": 375,
   "metadata": {},
   "outputs": [
    {
     "data": {
      "text/plain": [
       "NAmes      310\n",
       "CollgCr    180\n",
       "OldTown    163\n",
       "Edwards    143\n",
       "Somerst    130\n",
       "NridgHt    122\n",
       "Gilbert    116\n",
       "Sawyer     111\n",
       "NWAmes      87\n",
       "SawyerW     87\n",
       "Mitchel     82\n",
       "BrkSide     76\n",
       "Crawfor     71\n",
       "IDOTRR      69\n",
       "NoRidge     48\n",
       "Timber      48\n",
       "StoneBr     38\n",
       "SWISU       32\n",
       "ClearCr     27\n",
       "MeadowV     24\n",
       "Blmngtn     22\n",
       "BrDale      19\n",
       "NPkVill     17\n",
       "Veenker     17\n",
       "Blueste      6\n",
       "Greens       3\n",
       "GrnHill      2\n",
       "Landmrk      1\n",
       "Name: Neighborhood, dtype: int64"
      ]
     },
     "execution_count": 375,
     "metadata": {},
     "output_type": "execute_result"
    }
   ],
   "source": [
    "df_objects['Neighborhood'].value_counts()"
   ]
  },
  {
   "cell_type": "code",
   "execution_count": 15,
   "metadata": {},
   "outputs": [],
   "source": [
    "X_train_si = si.fit_transform(ms.X_train)"
   ]
  },
  {
   "cell_type": "code",
   "execution_count": 360,
   "metadata": {},
   "outputs": [
    {
     "data": {
      "text/html": [
       "<div>\n",
       "<style scoped>\n",
       "    .dataframe tbody tr th:only-of-type {\n",
       "        vertical-align: middle;\n",
       "    }\n",
       "\n",
       "    .dataframe tbody tr th {\n",
       "        vertical-align: top;\n",
       "    }\n",
       "\n",
       "    .dataframe thead th {\n",
       "        text-align: right;\n",
       "    }\n",
       "</style>\n",
       "<table border=\"1\" class=\"dataframe\">\n",
       "  <thead>\n",
       "    <tr style=\"text-align: right;\">\n",
       "      <th></th>\n",
       "      <th>0</th>\n",
       "    </tr>\n",
       "  </thead>\n",
       "  <tbody>\n",
       "    <tr>\n",
       "      <th>0</th>\n",
       "      <td>RL</td>\n",
       "    </tr>\n",
       "    <tr>\n",
       "      <th>1</th>\n",
       "      <td>Pave</td>\n",
       "    </tr>\n",
       "    <tr>\n",
       "      <th>2</th>\n",
       "      <td>other</td>\n",
       "    </tr>\n",
       "    <tr>\n",
       "      <th>3</th>\n",
       "      <td>Reg</td>\n",
       "    </tr>\n",
       "    <tr>\n",
       "      <th>4</th>\n",
       "      <td>Lvl</td>\n",
       "    </tr>\n",
       "    <tr>\n",
       "      <th>5</th>\n",
       "      <td>AllPub</td>\n",
       "    </tr>\n",
       "    <tr>\n",
       "      <th>6</th>\n",
       "      <td>Inside</td>\n",
       "    </tr>\n",
       "    <tr>\n",
       "      <th>7</th>\n",
       "      <td>Gtl</td>\n",
       "    </tr>\n",
       "    <tr>\n",
       "      <th>8</th>\n",
       "      <td>NAmes</td>\n",
       "    </tr>\n",
       "    <tr>\n",
       "      <th>9</th>\n",
       "      <td>Norm</td>\n",
       "    </tr>\n",
       "    <tr>\n",
       "      <th>10</th>\n",
       "      <td>Norm</td>\n",
       "    </tr>\n",
       "    <tr>\n",
       "      <th>11</th>\n",
       "      <td>1Fam</td>\n",
       "    </tr>\n",
       "    <tr>\n",
       "      <th>12</th>\n",
       "      <td>1Story</td>\n",
       "    </tr>\n",
       "    <tr>\n",
       "      <th>13</th>\n",
       "      <td>Hip</td>\n",
       "    </tr>\n",
       "    <tr>\n",
       "      <th>14</th>\n",
       "      <td>CompShg</td>\n",
       "    </tr>\n",
       "    <tr>\n",
       "      <th>15</th>\n",
       "      <td>MetalSd</td>\n",
       "    </tr>\n",
       "    <tr>\n",
       "      <th>16</th>\n",
       "      <td>MetalSd</td>\n",
       "    </tr>\n",
       "    <tr>\n",
       "      <th>17</th>\n",
       "      <td>BrkFace</td>\n",
       "    </tr>\n",
       "    <tr>\n",
       "      <th>18</th>\n",
       "      <td>TA</td>\n",
       "    </tr>\n",
       "    <tr>\n",
       "      <th>19</th>\n",
       "      <td>TA</td>\n",
       "    </tr>\n",
       "    <tr>\n",
       "      <th>20</th>\n",
       "      <td>CBlock</td>\n",
       "    </tr>\n",
       "    <tr>\n",
       "      <th>21</th>\n",
       "      <td>TA</td>\n",
       "    </tr>\n",
       "    <tr>\n",
       "      <th>22</th>\n",
       "      <td>TA</td>\n",
       "    </tr>\n",
       "    <tr>\n",
       "      <th>23</th>\n",
       "      <td>No</td>\n",
       "    </tr>\n",
       "    <tr>\n",
       "      <th>24</th>\n",
       "      <td>ALQ</td>\n",
       "    </tr>\n",
       "    <tr>\n",
       "      <th>25</th>\n",
       "      <td>Unf</td>\n",
       "    </tr>\n",
       "    <tr>\n",
       "      <th>26</th>\n",
       "      <td>GasA</td>\n",
       "    </tr>\n",
       "    <tr>\n",
       "      <th>27</th>\n",
       "      <td>TA</td>\n",
       "    </tr>\n",
       "    <tr>\n",
       "      <th>28</th>\n",
       "      <td>Y</td>\n",
       "    </tr>\n",
       "    <tr>\n",
       "      <th>29</th>\n",
       "      <td>SBrkr</td>\n",
       "    </tr>\n",
       "    <tr>\n",
       "      <th>30</th>\n",
       "      <td>TA</td>\n",
       "    </tr>\n",
       "    <tr>\n",
       "      <th>31</th>\n",
       "      <td>Typ</td>\n",
       "    </tr>\n",
       "    <tr>\n",
       "      <th>32</th>\n",
       "      <td>other</td>\n",
       "    </tr>\n",
       "    <tr>\n",
       "      <th>33</th>\n",
       "      <td>Attchd</td>\n",
       "    </tr>\n",
       "    <tr>\n",
       "      <th>34</th>\n",
       "      <td>RFn</td>\n",
       "    </tr>\n",
       "    <tr>\n",
       "      <th>35</th>\n",
       "      <td>TA</td>\n",
       "    </tr>\n",
       "    <tr>\n",
       "      <th>36</th>\n",
       "      <td>TA</td>\n",
       "    </tr>\n",
       "    <tr>\n",
       "      <th>37</th>\n",
       "      <td>Y</td>\n",
       "    </tr>\n",
       "    <tr>\n",
       "      <th>38</th>\n",
       "      <td>other</td>\n",
       "    </tr>\n",
       "    <tr>\n",
       "      <th>39</th>\n",
       "      <td>other</td>\n",
       "    </tr>\n",
       "    <tr>\n",
       "      <th>40</th>\n",
       "      <td>other</td>\n",
       "    </tr>\n",
       "    <tr>\n",
       "      <th>41</th>\n",
       "      <td>WD</td>\n",
       "    </tr>\n",
       "  </tbody>\n",
       "</table>\n",
       "</div>"
      ],
      "text/plain": [
       "          0\n",
       "0        RL\n",
       "1      Pave\n",
       "2     other\n",
       "3       Reg\n",
       "4       Lvl\n",
       "5    AllPub\n",
       "6    Inside\n",
       "7       Gtl\n",
       "8     NAmes\n",
       "9      Norm\n",
       "10     Norm\n",
       "11     1Fam\n",
       "12   1Story\n",
       "13      Hip\n",
       "14  CompShg\n",
       "15  MetalSd\n",
       "16  MetalSd\n",
       "17  BrkFace\n",
       "18       TA\n",
       "19       TA\n",
       "20   CBlock\n",
       "21       TA\n",
       "22       TA\n",
       "23       No\n",
       "24      ALQ\n",
       "25      Unf\n",
       "26     GasA\n",
       "27       TA\n",
       "28        Y\n",
       "29    SBrkr\n",
       "30       TA\n",
       "31      Typ\n",
       "32    other\n",
       "33   Attchd\n",
       "34      RFn\n",
       "35       TA\n",
       "36       TA\n",
       "37        Y\n",
       "38    other\n",
       "39    other\n",
       "40    other\n",
       "41      WD "
      ]
     },
     "execution_count": 360,
     "metadata": {},
     "output_type": "execute_result"
    }
   ],
   "source": [
    "pd.DataFrame(X_train_si[0])"
   ]
  },
  {
   "cell_type": "code",
   "execution_count": 19,
   "metadata": {},
   "outputs": [],
   "source": [
    "X_train_ohe = ohe.fit_transform(X_train_si)"
   ]
  },
  {
   "cell_type": "code",
   "execution_count": 21,
   "metadata": {},
   "outputs": [
    {
     "data": {
      "text/plain": [
       "array([0., 0., 0., 0., 0., 1., 0., 0., 1., 0., 0., 1., 0., 0., 0., 1., 0.,\n",
       "       0., 0., 1., 1., 0., 0., 0., 0., 0., 0., 1., 1., 0., 0., 0., 0., 0.,\n",
       "       0., 0., 0., 0., 0., 0., 0., 0., 0., 0., 0., 1., 0., 0., 0., 0., 0.,\n",
       "       0., 0., 0., 0., 0., 0., 0., 0., 0., 1., 0., 0., 0., 0., 0., 0., 0.,\n",
       "       0., 1., 0., 0., 0., 0., 1., 0., 0., 0., 0., 0., 0., 1., 0., 0., 0.,\n",
       "       0., 0., 0., 0., 0., 1., 0., 0., 0., 1., 0., 0., 0., 0., 0., 0., 0.,\n",
       "       0., 0., 0., 0., 1., 0., 0., 0., 0., 0., 0., 0., 0., 0., 0., 0., 0.,\n",
       "       0., 0., 1., 0., 0., 0., 0., 0., 0., 0., 1., 0., 0., 0., 0., 0., 0.,\n",
       "       1., 0., 0., 0., 0., 1., 0., 1., 0., 0., 0., 0., 0., 0., 0., 0., 1.,\n",
       "       0., 0., 0., 0., 0., 1., 0., 0., 0., 0., 1., 0., 1., 0., 0., 0., 0.,\n",
       "       0., 0., 0., 0., 0., 0., 0., 1., 0., 1., 0., 0., 0., 0., 0., 0., 0.,\n",
       "       0., 1., 0., 1., 0., 0., 0., 0., 1., 0., 0., 0., 1., 0., 0., 0., 0.,\n",
       "       0., 0., 0., 1., 0., 0., 0., 0., 0., 1., 0., 1., 0., 0., 0., 0., 0.,\n",
       "       0., 1., 0., 0., 0., 0., 0., 0., 1., 0., 0., 0., 0., 0., 1., 0., 0.,\n",
       "       0., 1., 0., 0., 0., 1., 0., 0., 0., 0., 1., 0., 0., 0., 0., 1., 0.,\n",
       "       0., 0., 0., 0., 0., 0., 0., 1.])"
      ]
     },
     "execution_count": 21,
     "metadata": {},
     "output_type": "execute_result"
    }
   ],
   "source": [
    "X_train_ohe[0]"
   ]
  },
  {
   "cell_type": "code",
   "execution_count": 190,
   "metadata": {},
   "outputs": [],
   "source": [
    "columns = ohe.get_feature_names()"
   ]
  },
  {
   "cell_type": "code",
   "execution_count": 191,
   "metadata": {},
   "outputs": [
    {
     "data": {
      "text/plain": [
       "array(['x0_A (agr)', 'x0_C (all)', 'x0_FV', 'x0_I (all)', 'x0_RH',\n",
       "       'x0_RL', 'x0_RM', 'x1_Grvl', 'x1_Pave', 'x2_Grvl', 'x2_Pave',\n",
       "       'x2_other', 'x3_IR1', 'x3_IR2', 'x3_IR3', 'x3_Reg', 'x4_Bnk',\n",
       "       'x4_HLS', 'x4_Low', 'x4_Lvl', 'x5_AllPub', 'x5_NoSeWa',\n",
       "       'x5_NoSewr', 'x6_Corner', 'x6_CulDSac', 'x6_FR2', 'x6_FR3',\n",
       "       'x6_Inside', 'x7_Gtl', 'x7_Mod', 'x7_Sev', 'x8_Blmngtn',\n",
       "       'x8_Blueste', 'x8_BrDale', 'x8_BrkSide', 'x8_ClearCr',\n",
       "       'x8_CollgCr', 'x8_Crawfor', 'x8_Edwards', 'x8_Gilbert',\n",
       "       'x8_Greens', 'x8_GrnHill', 'x8_IDOTRR', 'x8_MeadowV', 'x8_Mitchel',\n",
       "       'x8_NAmes', 'x8_NPkVill', 'x8_NWAmes', 'x8_NoRidge', 'x8_NridgHt',\n",
       "       'x8_OldTown', 'x8_SWISU', 'x8_Sawyer', 'x8_SawyerW', 'x8_Somerst',\n",
       "       'x8_StoneBr', 'x8_Timber', 'x8_Veenker', 'x9_Artery', 'x9_Feedr',\n",
       "       'x9_Norm', 'x9_PosA', 'x9_PosN', 'x9_RRAe', 'x9_RRAn', 'x9_RRNe',\n",
       "       'x9_RRNn', 'x10_Artery', 'x10_Feedr', 'x10_Norm', 'x10_PosN',\n",
       "       'x10_RRAe', 'x10_RRAn', 'x10_RRNn', 'x11_1Fam', 'x11_2fmCon',\n",
       "       'x11_Duplex', 'x11_Twnhs', 'x11_TwnhsE', 'x12_1.5Fin',\n",
       "       'x12_1.5Unf', 'x12_1Story', 'x12_2.5Fin', 'x12_2.5Unf',\n",
       "       'x12_2Story', 'x12_SFoyer', 'x12_SLvl', 'x13_Flat', 'x13_Gable',\n",
       "       'x13_Gambrel', 'x13_Hip', 'x13_Mansard', 'x13_Shed', 'x14_ClyTile',\n",
       "       'x14_CompShg', 'x14_Membran', 'x14_Tar&Grv', 'x14_WdShake',\n",
       "       'x14_WdShngl', 'x15_AsbShng', 'x15_AsphShn', 'x15_BrkComm',\n",
       "       'x15_BrkFace', 'x15_CBlock', 'x15_CemntBd', 'x15_HdBoard',\n",
       "       'x15_MetalSd', 'x15_Plywood', 'x15_Stone', 'x15_Stucco',\n",
       "       'x15_VinylSd', 'x15_Wd Sdng', 'x15_WdShing', 'x16_AsbShng',\n",
       "       'x16_AsphShn', 'x16_Brk Cmn', 'x16_BrkFace', 'x16_CBlock',\n",
       "       'x16_CmentBd', 'x16_HdBoard', 'x16_ImStucc', 'x16_MetalSd',\n",
       "       'x16_Plywood', 'x16_Stone', 'x16_Stucco', 'x16_VinylSd',\n",
       "       'x16_Wd Sdng', 'x16_Wd Shng', 'x17_BrkCmn', 'x17_BrkFace',\n",
       "       'x17_None', 'x17_Stone', 'x17_other', 'x18_Ex', 'x18_Fa', 'x18_Gd',\n",
       "       'x18_TA', 'x19_Ex', 'x19_Fa', 'x19_Gd', 'x19_Po', 'x19_TA',\n",
       "       'x20_BrkTil', 'x20_CBlock', 'x20_PConc', 'x20_Slab', 'x20_Stone',\n",
       "       'x20_Wood', 'x21_Ex', 'x21_Fa', 'x21_Gd', 'x21_Po', 'x21_TA',\n",
       "       'x21_other', 'x22_Ex', 'x22_Fa', 'x22_Gd', 'x22_Po', 'x22_TA',\n",
       "       'x22_other', 'x23_Av', 'x23_Gd', 'x23_Mn', 'x23_No', 'x23_other',\n",
       "       'x24_ALQ', 'x24_BLQ', 'x24_GLQ', 'x24_LwQ', 'x24_Rec', 'x24_Unf',\n",
       "       'x24_other', 'x25_ALQ', 'x25_BLQ', 'x25_GLQ', 'x25_LwQ', 'x25_Rec',\n",
       "       'x25_Unf', 'x25_other', 'x26_GasA', 'x26_GasW', 'x26_Grav',\n",
       "       'x26_OthW', 'x26_Wall', 'x27_Ex', 'x27_Fa', 'x27_Gd', 'x27_Po',\n",
       "       'x27_TA', 'x28_N', 'x28_Y', 'x29_FuseA', 'x29_FuseF', 'x29_FuseP',\n",
       "       'x29_Mix', 'x29_SBrkr', 'x30_Ex', 'x30_Fa', 'x30_Gd', 'x30_TA',\n",
       "       'x31_Maj1', 'x31_Maj2', 'x31_Min1', 'x31_Min2', 'x31_Mod',\n",
       "       'x31_Sal', 'x31_Sev', 'x31_Typ', 'x32_Ex', 'x32_Fa', 'x32_Gd',\n",
       "       'x32_Po', 'x32_TA', 'x32_other', 'x33_2Types', 'x33_Attchd',\n",
       "       'x33_Basment', 'x33_BuiltIn', 'x33_CarPort', 'x33_Detchd',\n",
       "       'x33_other', 'x34_Fin', 'x34_RFn', 'x34_Unf', 'x34_other',\n",
       "       'x35_Ex', 'x35_Fa', 'x35_Gd', 'x35_Po', 'x35_TA', 'x35_other',\n",
       "       'x36_Ex', 'x36_Fa', 'x36_Gd', 'x36_Po', 'x36_TA', 'x36_other',\n",
       "       'x37_N', 'x37_P', 'x37_Y', 'x38_Ex', 'x38_Gd', 'x38_TA',\n",
       "       'x38_other', 'x39_GdPrv', 'x39_GdWo', 'x39_MnPrv', 'x39_MnWw',\n",
       "       'x39_other', 'x40_Elev', 'x40_Gar2', 'x40_Othr', 'x40_Shed',\n",
       "       'x40_other', 'x41_COD', 'x41_CWD', 'x41_Con', 'x41_ConLD',\n",
       "       'x41_ConLI', 'x41_ConLw', 'x41_New', 'x41_Oth', 'x41_WD '],\n",
       "      dtype=object)"
      ]
     },
     "execution_count": 191,
     "metadata": {},
     "output_type": "execute_result"
    }
   ],
   "source": [
    "columns"
   ]
  },
  {
   "cell_type": "code",
   "execution_count": null,
   "metadata": {},
   "outputs": [],
   "source": [
    "# fit"
   ]
  },
  {
   "cell_type": "code",
   "execution_count": 30,
   "metadata": {
    "collapsed": true,
    "jupyter": {
     "outputs_hidden": true
    }
   },
   "outputs": [
    {
     "data": {
      "text/plain": [
       "array([[0., 0., 0., ..., 0., 0., 1.],\n",
       "       [0., 0., 0., ..., 0., 0., 1.],\n",
       "       [0., 0., 0., ..., 0., 0., 1.],\n",
       "       ...,\n",
       "       [0., 0., 0., ..., 0., 0., 1.],\n",
       "       [0., 0., 0., ..., 0., 0., 1.],\n",
       "       [0., 0., 0., ..., 0., 0., 1.]])"
      ]
     },
     "execution_count": 30,
     "metadata": {},
     "output_type": "execute_result"
    }
   ],
   "source": [
    "kb.fit_transform(X=X_train_ohe, y=ms.y_train, )"
   ]
  },
  {
   "cell_type": "code",
   "execution_count": 184,
   "metadata": {},
   "outputs": [],
   "source": [
    "# bhttps://datascience.stackexchange.com/questions/10773/how-does-selectkbest-work\n",
    "# The source to convert p values to score is here\n",
    "scores = -np.log10(kb.pvalues_)"
   ]
  },
  {
   "cell_type": "code",
   "execution_count": 47,
   "metadata": {},
   "outputs": [
    {
     "data": {
      "text/plain": [
       "263"
      ]
     },
     "execution_count": 47,
     "metadata": {},
     "output_type": "execute_result"
    }
   ],
   "source": [
    "len(scores)"
   ]
  },
  {
   "cell_type": "code",
   "execution_count": 48,
   "metadata": {},
   "outputs": [
    {
     "data": {
      "text/plain": [
       "263"
      ]
     },
     "execution_count": 48,
     "metadata": {},
     "output_type": "execute_result"
    }
   ],
   "source": [
    "len(columns)"
   ]
  },
  {
   "cell_type": "code",
   "execution_count": null,
   "metadata": {},
   "outputs": [],
   "source": [
    "# Visualize the standardized scores of each column with respect to SalePrice"
   ]
  },
  {
   "cell_type": "code",
   "execution_count": 97,
   "metadata": {},
   "outputs": [
    {
     "data": {
      "image/png": "[encoded data removed]",
      "text/plain": [
       "<Figure size 720x3960 with 1 Axes>"
      ]
     },
     "metadata": {
      "needs_background": "light"
     },
     "output_type": "display_data"
    }
   ],
   "source": [
    "plt.figure(figsize=(10,55))\n",
    "plt.barh(range(len(columns)), scores)\n",
    "plt.yticks(range(len(columns)), columns, rotation='horizontal')\n",
    "plt.title('Categorical Scoring by KBestFeatures for SalePrice')\n",
    "plt.margins(y=0, tight=True)\n",
    "plt.savefig(\n",
    "    '/home/blue/general-assembly/dsir-824/submissions/projects/project-2-master/images/kbestfeatures.png',\n",
    "    transparent=False,\n",
    "    bbox_inches='tight',\n",
    "    pad_inches=0,\n",
    "    \n",
    ")"
   ]
  },
  {
   "cell_type": "code",
   "execution_count": null,
   "metadata": {},
   "outputs": [],
   "source": [
    "# Looking at the plot of KBestFeatures vs Features, we have now identified a threshold of a score\n",
    "\n",
    "# I want all categeorical featurees > 20, let's go ahead and refine our plot"
   ]
  },
  {
   "cell_type": "code",
   "execution_count": 195,
   "metadata": {},
   "outputs": [],
   "source": [
    "knn_score = pd.DataFrame(scores, index=columns, columns=['pscore'])"
   ]
  },
  {
   "cell_type": "code",
   "execution_count": 215,
   "metadata": {},
   "outputs": [],
   "source": [
    "knn_score_filtered = knn_score[knn_score > 20].dropna().sort_values(by='pscore', ascending=False)"
   ]
  },
  {
   "cell_type": "code",
   "execution_count": 295,
   "metadata": {},
   "outputs": [],
   "source": [
    "knn_score_filtered = knn_score_filtered.reset_index()"
   ]
  },
  {
   "cell_type": "code",
   "execution_count": 303,
   "metadata": {},
   "outputs": [
    {
     "data": {
      "text/html": [
       "<div>\n",
       "<style scoped>\n",
       "    .dataframe tbody tr th:only-of-type {\n",
       "        vertical-align: middle;\n",
       "    }\n",
       "\n",
       "    .dataframe tbody tr th {\n",
       "        vertical-align: top;\n",
       "    }\n",
       "\n",
       "    .dataframe thead th {\n",
       "        text-align: right;\n",
       "    }\n",
       "</style>\n",
       "<table border=\"1\" class=\"dataframe\">\n",
       "  <thead>\n",
       "    <tr style=\"text-align: right;\">\n",
       "      <th></th>\n",
       "      <th>index</th>\n",
       "      <th>pscore</th>\n",
       "    </tr>\n",
       "  </thead>\n",
       "  <tbody>\n",
       "    <tr>\n",
       "      <th>0</th>\n",
       "      <td>x0_A (agr)</td>\n",
       "      <td>64.123213</td>\n",
       "    </tr>\n",
       "    <tr>\n",
       "      <th>1</th>\n",
       "      <td>x5_NoSewr</td>\n",
       "      <td>64.123213</td>\n",
       "    </tr>\n",
       "    <tr>\n",
       "      <th>2</th>\n",
       "      <td>x0_I (all)</td>\n",
       "      <td>64.123213</td>\n",
       "    </tr>\n",
       "    <tr>\n",
       "      <th>3</th>\n",
       "      <td>x35_Po</td>\n",
       "      <td>64.123213</td>\n",
       "    </tr>\n",
       "    <tr>\n",
       "      <th>4</th>\n",
       "      <td>x15_AsphShn</td>\n",
       "      <td>64.123213</td>\n",
       "    </tr>\n",
       "    <tr>\n",
       "      <th>5</th>\n",
       "      <td>x29_Mix</td>\n",
       "      <td>64.123213</td>\n",
       "    </tr>\n",
       "    <tr>\n",
       "      <th>6</th>\n",
       "      <td>x10_RRAn</td>\n",
       "      <td>64.123213</td>\n",
       "    </tr>\n",
       "    <tr>\n",
       "      <th>7</th>\n",
       "      <td>x40_Elev</td>\n",
       "      <td>64.123213</td>\n",
       "    </tr>\n",
       "    <tr>\n",
       "      <th>8</th>\n",
       "      <td>x15_Stone</td>\n",
       "      <td>64.123213</td>\n",
       "    </tr>\n",
       "    <tr>\n",
       "      <th>9</th>\n",
       "      <td>x31_Sal</td>\n",
       "      <td>64.004337</td>\n",
       "    </tr>\n",
       "    <tr>\n",
       "      <th>10</th>\n",
       "      <td>x22_Po</td>\n",
       "      <td>63.885525</td>\n",
       "    </tr>\n",
       "    <tr>\n",
       "      <th>11</th>\n",
       "      <td>x1_Grvl</td>\n",
       "      <td>63.648093</td>\n",
       "    </tr>\n",
       "    <tr>\n",
       "      <th>12</th>\n",
       "      <td>x20_Stone</td>\n",
       "      <td>35.798972</td>\n",
       "    </tr>\n",
       "    <tr>\n",
       "      <th>13</th>\n",
       "      <td>x40_Othr</td>\n",
       "      <td>35.798972</td>\n",
       "    </tr>\n",
       "    <tr>\n",
       "      <th>14</th>\n",
       "      <td>x18_Ex</td>\n",
       "      <td>31.509757</td>\n",
       "    </tr>\n",
       "    <tr>\n",
       "      <th>15</th>\n",
       "      <td>x36_Po</td>\n",
       "      <td>30.743637</td>\n",
       "    </tr>\n",
       "    <tr>\n",
       "      <th>16</th>\n",
       "      <td>x32_Ex</td>\n",
       "      <td>30.366498</td>\n",
       "    </tr>\n",
       "    <tr>\n",
       "      <th>17</th>\n",
       "      <td>x14_WdShake</td>\n",
       "      <td>26.620717</td>\n",
       "    </tr>\n",
       "    <tr>\n",
       "      <th>18</th>\n",
       "      <td>x19_Po</td>\n",
       "      <td>23.978984</td>\n",
       "    </tr>\n",
       "    <tr>\n",
       "      <th>19</th>\n",
       "      <td>x41_New</td>\n",
       "      <td>22.342370</td>\n",
       "    </tr>\n",
       "    <tr>\n",
       "      <th>20</th>\n",
       "      <td>x8_NridgHt</td>\n",
       "      <td>21.512293</td>\n",
       "    </tr>\n",
       "    <tr>\n",
       "      <th>21</th>\n",
       "      <td>x30_Ex</td>\n",
       "      <td>20.271453</td>\n",
       "    </tr>\n",
       "  </tbody>\n",
       "</table>\n",
       "</div>"
      ],
      "text/plain": [
       "          index     pscore\n",
       "0    x0_A (agr)  64.123213\n",
       "1     x5_NoSewr  64.123213\n",
       "2    x0_I (all)  64.123213\n",
       "3        x35_Po  64.123213\n",
       "4   x15_AsphShn  64.123213\n",
       "5       x29_Mix  64.123213\n",
       "6      x10_RRAn  64.123213\n",
       "7      x40_Elev  64.123213\n",
       "8     x15_Stone  64.123213\n",
       "9       x31_Sal  64.004337\n",
       "10       x22_Po  63.885525\n",
       "11      x1_Grvl  63.648093\n",
       "12    x20_Stone  35.798972\n",
       "13     x40_Othr  35.798972\n",
       "14       x18_Ex  31.509757\n",
       "15       x36_Po  30.743637\n",
       "16       x32_Ex  30.366498\n",
       "17  x14_WdShake  26.620717\n",
       "18       x19_Po  23.978984\n",
       "19      x41_New  22.342370\n",
       "20   x8_NridgHt  21.512293\n",
       "21       x30_Ex  20.271453"
      ]
     },
     "execution_count": 303,
     "metadata": {},
     "output_type": "execute_result"
    }
   ],
   "source": [
    "knn_score_filtered"
   ]
  },
  {
   "cell_type": "code",
   "execution_count": null,
   "metadata": {},
   "outputs": [],
   "source": [
    "# This gives me a good upper bound for defining where I want to go with my model gridsearch cv hyperparameters"
   ]
  },
  {
   "cell_type": "code",
   "execution_count": 98,
   "metadata": {},
   "outputs": [],
   "source": [
    "# Numerical Scoring via KBest features using f_score, let's take a look and see if my correlation\n",
    "# assumptions were correct!"
   ]
  },
  {
   "cell_type": "code",
   "execution_count": null,
   "metadata": {},
   "outputs": [],
   "source": [
    "# set up numerical pipeline elements\n",
    "# Use default numerical f_classif to identify if the column has any significance to SalePrice"
   ]
  },
  {
   "cell_type": "code",
   "execution_count": 148,
   "metadata": {},
   "outputs": [],
   "source": [
    "si_num = SimpleImputer(missing_values=np.nan, strategy='mean')\n",
    "ss_num = StandardScaler()\n",
    "kb_num = SelectKBest(k='all')"
   ]
  },
  {
   "cell_type": "code",
   "execution_count": 161,
   "metadata": {},
   "outputs": [],
   "source": [
    "df_nums = df.loc[:, df.dtypes != object].drop('SalePrice', axis=1)"
   ]
  },
  {
   "cell_type": "code",
   "execution_count": 162,
   "metadata": {},
   "outputs": [],
   "source": [
    "my = model.ModelSelection(df_nums,y)"
   ]
  },
  {
   "cell_type": "code",
   "execution_count": 163,
   "metadata": {},
   "outputs": [],
   "source": [
    "X_nums_si = si_num.fit_transform(my.X_train)"
   ]
  },
  {
   "cell_type": "code",
   "execution_count": 164,
   "metadata": {},
   "outputs": [],
   "source": [
    "X_nums_ss = ss_num.fit_transform(X_nums_si)"
   ]
  },
  {
   "cell_type": "code",
   "execution_count": 171,
   "metadata": {},
   "outputs": [],
   "source": [
    "columns_num = list(my.X_train.columns)"
   ]
  },
  {
   "cell_type": "code",
   "execution_count": 173,
   "metadata": {},
   "outputs": [
    {
     "data": {
      "text/plain": [
       "['Id',\n",
       " 'PID',\n",
       " 'MS SubClass',\n",
       " 'Lot Frontage',\n",
       " 'Lot Area',\n",
       " 'Overall Qual',\n",
       " 'Overall Cond',\n",
       " 'Year Built',\n",
       " 'Year Remod/Add',\n",
       " 'Mas Vnr Area',\n",
       " 'BsmtFin SF 1',\n",
       " 'BsmtFin SF 2',\n",
       " 'Bsmt Unf SF',\n",
       " 'Total Bsmt SF',\n",
       " '1st Flr SF',\n",
       " '2nd Flr SF',\n",
       " 'Low Qual Fin SF',\n",
       " 'Gr Liv Area',\n",
       " 'Bsmt Full Bath',\n",
       " 'Bsmt Half Bath',\n",
       " 'Full Bath',\n",
       " 'Half Bath',\n",
       " 'Bedroom AbvGr',\n",
       " 'Kitchen AbvGr',\n",
       " 'TotRms AbvGrd',\n",
       " 'Fireplaces',\n",
       " 'Garage Yr Blt',\n",
       " 'Garage Cars',\n",
       " 'Garage Area',\n",
       " 'Wood Deck SF',\n",
       " 'Open Porch SF',\n",
       " 'Enclosed Porch',\n",
       " '3Ssn Porch',\n",
       " 'Screen Porch',\n",
       " 'Pool Area',\n",
       " 'Misc Val',\n",
       " 'Mo Sold',\n",
       " 'Yr Sold']"
      ]
     },
     "execution_count": 173,
     "metadata": {},
     "output_type": "execute_result"
    }
   ],
   "source": [
    "columns_num"
   ]
  },
  {
   "cell_type": "code",
   "execution_count": 174,
   "metadata": {},
   "outputs": [
    {
     "data": {
      "text/plain": [
       "array([[ 1.14116299, -0.97215557,  0.06699017, ..., -0.10498392,\n",
       "         0.26977393, -1.36171656],\n",
       "       [ 1.26347278, -0.94048136,  0.06699017, ...,  0.83933028,\n",
       "        -0.0974051 , -1.36171656],\n",
       "       [ 1.17559973, -0.97102043, -0.86017192, ..., -0.10498392,\n",
       "         1.00413198, -1.36171656],\n",
       "       ...,\n",
       "       [ 1.29315962, -0.93913469, -0.86017192, ..., -0.10498392,\n",
       "        -0.0974051 , -1.36171656],\n",
       "       [-1.58765155, -0.93902233,  0.53057122, ..., -0.10498392,\n",
       "        -1.19894218,  1.70015488],\n",
       "       [ 1.34659594, -0.93422201, -0.16480035, ..., -0.10498392,\n",
       "        -1.93330024, -1.36171656]])"
      ]
     },
     "execution_count": 174,
     "metadata": {},
     "output_type": "execute_result"
    }
   ],
   "source": [
    "kb_num.fit_transform(X_nums_ss, my.y_train)"
   ]
  },
  {
   "cell_type": "code",
   "execution_count": 175,
   "metadata": {},
   "outputs": [],
   "source": [
    "scores_num = -np.log10(kb_num.pvalues_)"
   ]
  },
  {
   "cell_type": "code",
   "execution_count": 176,
   "metadata": {},
   "outputs": [
    {
     "data": {
      "text/plain": [
       "38"
      ]
     },
     "execution_count": 176,
     "metadata": {},
     "output_type": "execute_result"
    }
   ],
   "source": [
    "len(columns_num)"
   ]
  },
  {
   "cell_type": "code",
   "execution_count": 177,
   "metadata": {},
   "outputs": [
    {
     "data": {
      "text/plain": [
       "38"
      ]
     },
     "execution_count": 177,
     "metadata": {},
     "output_type": "execute_result"
    }
   ],
   "source": [
    "len(scores_num)"
   ]
  },
  {
   "cell_type": "code",
   "execution_count": null,
   "metadata": {},
   "outputs": [],
   "source": [
    "# Visualize"
   ]
  },
  {
   "cell_type": "code",
   "execution_count": 183,
   "metadata": {},
   "outputs": [
    {
     "data": {
      "image/png": "[encoded data removed]",
      "text/plain": [
       "<Figure size 720x1440 with 1 Axes>"
      ]
     },
     "metadata": {
      "needs_background": "light"
     },
     "output_type": "display_data"
    }
   ],
   "source": [
    "plt.figure(figsize=(10,20))\n",
    "plt.barh(range(len(columns_num)), scores_num)\n",
    "plt.yticks(range(len(columns_num)), columns_num, rotation='horizontal')\n",
    "plt.title('Numerical Scoring by KBestFeatures for SalePrice')\n",
    "plt.margins(y=0, tight=True)\n",
    "\n",
    "#plt.savefig(\n",
    "#    '/home/blue/general-assembly/dsir-824/submissions/projects/project-2-master/images/kbestfeatures-numerical.png',\n",
    "#    transparent=False,\n",
    "#    bbox_inches='tight',\n",
    "#    pad_inches=0,\n",
    "#    \n",
    "#)"
   ]
  },
  {
   "cell_type": "code",
   "execution_count": 232,
   "metadata": {},
   "outputs": [],
   "source": [
    "df_num_scores = pd.DataFrame(scores_num, index=columns_num, columns=['pscore'])"
   ]
  },
  {
   "cell_type": "code",
   "execution_count": 239,
   "metadata": {},
   "outputs": [
    {
     "data": {
      "text/html": [
       "<div>\n",
       "<style scoped>\n",
       "    .dataframe tbody tr th:only-of-type {\n",
       "        vertical-align: middle;\n",
       "    }\n",
       "\n",
       "    .dataframe tbody tr th {\n",
       "        vertical-align: top;\n",
       "    }\n",
       "\n",
       "    .dataframe thead th {\n",
       "        text-align: right;\n",
       "    }\n",
       "</style>\n",
       "<table border=\"1\" class=\"dataframe\">\n",
       "  <thead>\n",
       "    <tr style=\"text-align: right;\">\n",
       "      <th></th>\n",
       "      <th>pscore</th>\n",
       "    </tr>\n",
       "  </thead>\n",
       "  <tbody>\n",
       "    <tr>\n",
       "      <th>Overall Qual</th>\n",
       "      <td>117.676044</td>\n",
       "    </tr>\n",
       "    <tr>\n",
       "      <th>Gr Liv Area</th>\n",
       "      <td>56.235738</td>\n",
       "    </tr>\n",
       "    <tr>\n",
       "      <th>Garage Cars</th>\n",
       "      <td>43.931788</td>\n",
       "    </tr>\n",
       "    <tr>\n",
       "      <th>Full Bath</th>\n",
       "      <td>42.142692</td>\n",
       "    </tr>\n",
       "    <tr>\n",
       "      <th>Year Built</th>\n",
       "      <td>39.983690</td>\n",
       "    </tr>\n",
       "    <tr>\n",
       "      <th>Garage Area</th>\n",
       "      <td>39.249891</td>\n",
       "    </tr>\n",
       "    <tr>\n",
       "      <th>1st Flr SF</th>\n",
       "      <td>37.120835</td>\n",
       "    </tr>\n",
       "    <tr>\n",
       "      <th>Total Bsmt SF</th>\n",
       "      <td>32.771298</td>\n",
       "    </tr>\n",
       "    <tr>\n",
       "      <th>Mas Vnr Area</th>\n",
       "      <td>32.002713</td>\n",
       "    </tr>\n",
       "    <tr>\n",
       "      <th>3Ssn Porch</th>\n",
       "      <td>31.809437</td>\n",
       "    </tr>\n",
       "    <tr>\n",
       "      <th>Year Remod/Add</th>\n",
       "      <td>29.419544</td>\n",
       "    </tr>\n",
       "    <tr>\n",
       "      <th>Garage Yr Blt</th>\n",
       "      <td>27.004149</td>\n",
       "    </tr>\n",
       "  </tbody>\n",
       "</table>\n",
       "</div>"
      ],
      "text/plain": [
       "                    pscore\n",
       "Overall Qual    117.676044\n",
       "Gr Liv Area      56.235738\n",
       "Garage Cars      43.931788\n",
       "Full Bath        42.142692\n",
       "Year Built       39.983690\n",
       "Garage Area      39.249891\n",
       "1st Flr SF       37.120835\n",
       "Total Bsmt SF    32.771298\n",
       "Mas Vnr Area     32.002713\n",
       "3Ssn Porch       31.809437\n",
       "Year Remod/Add   29.419544\n",
       "Garage Yr Blt    27.004149"
      ]
     },
     "execution_count": 239,
     "metadata": {},
     "output_type": "execute_result"
    }
   ],
   "source": [
    "df_num_scores[df_num_scores > 20].dropna().sort_values(by='pscore', ascending=False)"
   ]
  },
  {
   "cell_type": "code",
   "execution_count": null,
   "metadata": {},
   "outputs": [],
   "source": [
    "# This gives me another set of numbers to work with. I generally want to stick with the best features that correlate the most\n",
    "\n",
    "# range for categeorical features: 1 - 21\n",
    "\n",
    "# range for numerical features: 1 - 22\n",
    "\n",
    "# We can then establish an optimized baseline and then see how our models preform"
   ]
  }
 ],
 "metadata": {
  "kernelspec": {
   "display_name": "Python 3",
   "language": "python",
   "name": "python3"
  },
  "language_info": {
   "codemirror_mode": {
    "name": "ipython",
    "version": 3
   },
   "file_extension": ".py",
   "mimetype": "text/x-python",
   "name": "python",
   "nbconvert_exporter": "python",
   "pygments_lexer": "ipython3",
   "version": "3.8.3"
  }
 },
 "nbformat": 4,
 "nbformat_minor": 4
}
