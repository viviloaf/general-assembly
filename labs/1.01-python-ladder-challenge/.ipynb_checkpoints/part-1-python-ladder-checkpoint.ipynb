{
 "cells": [
  {
   "cell_type": "markdown",
   "metadata": {},
   "source": [
    "<img src=\"http://imgur.com/1ZcRyrc.png\" style=\"float: left; margin: 20px; height: 55px\" />\n",
    "\n",
    "# Python Ladder Challenges - Notebook 1\n",
    "\n",
    "_Author:_ Tim Book"
   ]
  },
  {
   "cell_type": "markdown",
   "metadata": {},
   "source": [
    "# Climb the Ladder!\n",
    "Our class moves quickly! Sometimes, it feels like we make leaps in logic that are a bit too big. Learn Python _slowly_, by doing many, many examples. Problems in this notebook start out easy and progressively get harder, so that the next rung of the Python ladder is always within reach."
   ]
  },
  {
   "cell_type": "markdown",
   "metadata": {},
   "source": [
    "# Section I: Numbers, variables, and math."
   ]
  },
  {
   "cell_type": "markdown",
   "metadata": {},
   "source": [
    "1) What is 123456789 times 987654321?"
   ]
  },
  {
   "cell_type": "code",
   "execution_count": 1,
   "metadata": {},
   "outputs": [
    {
     "name": "stdout",
     "output_type": "stream",
     "text": [
      "121932631112635269\n"
     ]
    }
   ],
   "source": [
    "print(123456789 * 987654321)"
   ]
  },
  {
   "cell_type": "markdown",
   "metadata": {},
   "source": [
    "2) Create a variable called `mass` that is equal to 100."
   ]
  },
  {
   "cell_type": "code",
   "execution_count": 2,
   "metadata": {},
   "outputs": [],
   "source": [
    "mass = 100 # kg, assume metric"
   ]
  },
  {
   "cell_type": "markdown",
   "metadata": {},
   "source": [
    "3) Create a variable called `velocity` that is equal to 5."
   ]
  },
  {
   "cell_type": "code",
   "execution_count": 3,
   "metadata": {},
   "outputs": [],
   "source": [
    "velocity = 5 # m/s, assume metric"
   ]
  },
  {
   "cell_type": "markdown",
   "metadata": {},
   "source": [
    "4) In physics, the momentum an object is exerting is equal to its mass times its velocity. That is, $p = mv$. Use the variables you defined above to compute this object's momentum."
   ]
  },
  {
   "cell_type": "code",
   "execution_count": 12,
   "metadata": {},
   "outputs": [
    {
     "name": "stdout",
     "output_type": "stream",
     "text": [
      "Momentum: 500 (kg * m )/ s\n"
     ]
    }
   ],
   "source": [
    "p = mass * velocity\n",
    "\n",
    "print('Momentum:', p, '(kg * m )/ s')"
   ]
  },
  {
   "cell_type": "markdown",
   "metadata": {},
   "source": [
    "5) The kinetic energy of an object is half its mass times the square of its velocity. That is, $K = \\frac{1}{2}mv^2$. Compute the kinetic energy for this object using the variables you've already created. "
   ]
  },
  {
   "cell_type": "code",
   "execution_count": 13,
   "metadata": {},
   "outputs": [
    {
     "name": "stdout",
     "output_type": "stream",
     "text": [
      "Kinetic Energy: 350.0 kg / s^2\n"
     ]
    }
   ],
   "source": [
    "K = (0.5) * mass * (velocity^2)\n",
    "\n",
    "print('Kinetic Energy:', K, 'kg / s^2')"
   ]
  },
  {
   "cell_type": "markdown",
   "metadata": {},
   "source": [
    "### How much icing do you need?\n",
    "In the next few exercises, our goal will be to figure out how much icing we will need to perfectly cover a giant doughnut. The doughnut features a hole (unfortunately no jelly filling), and a few large sprinkles. We only need to find the area of the red region in this shape.\n",
    "\n",
    "![](imgs/donut.png)"
   ]
  },
  {
   "cell_type": "markdown",
   "metadata": {},
   "source": [
    "6) Create a variable called `pi` that is equal to 3.141"
   ]
  },
  {
   "cell_type": "code",
   "execution_count": 14,
   "metadata": {},
   "outputs": [],
   "source": [
    "pi = 3.14"
   ]
  },
  {
   "cell_type": "markdown",
   "metadata": {},
   "source": [
    "7) The radius of the largest circle is 13.425. The radius of the smaller circle is 4.792. The sprinkles are right triangles with side length 3.28. Create the variables `R`, `r`, and `s` that represent these values."
   ]
  },
  {
   "cell_type": "code",
   "execution_count": 16,
   "metadata": {},
   "outputs": [],
   "source": [
    "R, r, s = 13.425, 4.792, 3.28"
   ]
  },
  {
   "cell_type": "markdown",
   "metadata": {},
   "source": [
    "8) Find the area of the larger circle (the whole doughnut, including the hole). Call this variable `area_big_circle`.\n",
    "\n",
    "* _Hint:_ The area of a circle with radius $r$ is $A = \\pi r^2$."
   ]
  },
  {
   "cell_type": "code",
   "execution_count": 21,
   "metadata": {},
   "outputs": [
    {
     "name": "stdout",
     "output_type": "stream",
     "text": [
      "565.9241625000001\n"
     ]
    }
   ],
   "source": [
    "area_big_circle = pi * R ** 2\n",
    "print(area_big_circle)"
   ]
  },
  {
   "cell_type": "markdown",
   "metadata": {},
   "source": [
    "9) Find the area of the smaller circle (the hole). Call this variable `area_small_circle`."
   ]
  },
  {
   "cell_type": "code",
   "execution_count": 24,
   "metadata": {},
   "outputs": [
    {
     "name": "stdout",
     "output_type": "stream",
     "text": [
      "72.10464896\n"
     ]
    }
   ],
   "source": [
    "area_small_circle = pi * r ** 2\n",
    "print(area_small_circle)"
   ]
  },
  {
   "cell_type": "markdown",
   "metadata": {},
   "source": [
    "10) Find the area of one triangle (a sprinkle). Call this variable `area_sprinkle`.\n",
    "\n",
    "* _Hint:_ The area of a triangle with base $b$ and height $h$ is $A = \\frac{1}{2}bh$."
   ]
  },
  {
   "cell_type": "code",
   "execution_count": 27,
   "metadata": {},
   "outputs": [
    {
     "name": "stdout",
     "output_type": "stream",
     "text": [
      "5.379199999999999\n"
     ]
    }
   ],
   "source": [
    "area_sprinkle = (0.5) * s ** 2\n",
    "print(area_sprinkle)"
   ]
  },
  {
   "cell_type": "markdown",
   "metadata": {},
   "source": [
    "11) Using the three values you calculated above, find the area of the shaded region (i.e., how much icing will you need?). Save the result in a variable called `area_donut`."
   ]
  },
  {
   "cell_type": "code",
   "execution_count": 28,
   "metadata": {},
   "outputs": [],
   "source": [
    "shaded_area = area_big_circle - area_small_circle - (6 * area_sprinkle)"
   ]
  },
  {
   "cell_type": "code",
   "execution_count": 29,
   "metadata": {},
   "outputs": [
    {
     "name": "stdout",
     "output_type": "stream",
     "text": [
      "461.5443135400001\n"
     ]
    }
   ],
   "source": [
    "print(shaded_area)"
   ]
  },
  {
   "cell_type": "markdown",
   "metadata": {},
   "source": [
    "# Part II: Strings"
   ]
  },
  {
   "cell_type": "markdown",
   "metadata": {},
   "source": [
    "12) Create a variable called `name` that is equal to your name."
   ]
  },
  {
   "cell_type": "code",
   "execution_count": 30,
   "metadata": {},
   "outputs": [],
   "source": [
    "name = 'Vivian'"
   ]
  },
  {
   "cell_type": "markdown",
   "metadata": {},
   "source": [
    "13) By adding strings together, introduce yourself in a string. For example `\"Hello, my name is Tim!\"`. You may use f-strings if you know what they are and prefer to use them."
   ]
  },
  {
   "cell_type": "code",
   "execution_count": 31,
   "metadata": {},
   "outputs": [],
   "source": [
    "greeting, label = 'Hello', 'my name is'"
   ]
  },
  {
   "cell_type": "code",
   "execution_count": 33,
   "metadata": {},
   "outputs": [
    {
     "name": "stdout",
     "output_type": "stream",
     "text": [
      "Hello, my name is Vivian!\n"
     ]
    }
   ],
   "source": [
    "print(greeting+', '+label+' '+name+'!')"
   ]
  },
  {
   "cell_type": "markdown",
   "metadata": {},
   "source": [
    "14) Define the string `fact` to be `\"Python programming is fun.\"`"
   ]
  },
  {
   "cell_type": "code",
   "execution_count": 37,
   "metadata": {},
   "outputs": [],
   "source": [
    "fact = \"Python programming is fun.\""
   ]
  },
  {
   "cell_type": "markdown",
   "metadata": {},
   "source": [
    "15) Index `fact` in order to get the \"o\" in \"Python\"."
   ]
  },
  {
   "cell_type": "code",
   "execution_count": 41,
   "metadata": {},
   "outputs": [
    {
     "name": "stdout",
     "output_type": "stream",
     "text": [
      "o\n"
     ]
    }
   ],
   "source": [
    "print(fact[4])"
   ]
  },
  {
   "cell_type": "markdown",
   "metadata": {},
   "source": [
    "16) Index `fact` in order to get the \"u\" in \"fun\" using a negative index."
   ]
  },
  {
   "cell_type": "code",
   "execution_count": 43,
   "metadata": {},
   "outputs": [
    {
     "name": "stdout",
     "output_type": "stream",
     "text": [
      "u\n"
     ]
    }
   ],
   "source": [
    "print(fact[-3])"
   ]
  },
  {
   "cell_type": "markdown",
   "metadata": {},
   "source": [
    "17) Slice `fact` in order to get the word \"programming\"."
   ]
  },
  {
   "cell_type": "code",
   "execution_count": 46,
   "metadata": {},
   "outputs": [
    {
     "name": "stdout",
     "output_type": "stream",
     "text": [
      " programming\n"
     ]
    }
   ],
   "source": [
    "print(fact[6:18])"
   ]
  },
  {
   "cell_type": "markdown",
   "metadata": {},
   "source": [
    "18) Uppercase `fact`."
   ]
  },
  {
   "cell_type": "code",
   "execution_count": 48,
   "metadata": {},
   "outputs": [
    {
     "name": "stdout",
     "output_type": "stream",
     "text": [
      "PYTHON PROGRAMMING IS FUN.\n"
     ]
    }
   ],
   "source": [
    "print(fact.upper())"
   ]
  },
  {
   "cell_type": "markdown",
   "metadata": {},
   "source": [
    "19) Replace the period at the end of `fact` with an exclamation point."
   ]
  },
  {
   "cell_type": "code",
   "execution_count": 53,
   "metadata": {},
   "outputs": [
    {
     "name": "stdout",
     "output_type": "stream",
     "text": [
      "Python programming is fun!\n"
     ]
    }
   ],
   "source": [
    "print(fact[:-1]+'!')"
   ]
  },
  {
   "cell_type": "markdown",
   "metadata": {},
   "source": [
    "20) Use `.split()` to get the second word of this string. Was this easier than one of the problems above?"
   ]
  },
  {
   "cell_type": "code",
   "execution_count": 56,
   "metadata": {},
   "outputs": [
    {
     "name": "stdout",
     "output_type": "stream",
     "text": [
      "programming\n"
     ]
    }
   ],
   "source": [
    "fact_sentence = fact.split()\n",
    "print(fact_sentence[1])"
   ]
  },
  {
   "cell_type": "markdown",
   "metadata": {},
   "source": [
    "21) Reverse `fact`."
   ]
  },
  {
   "cell_type": "code",
   "execution_count": 58,
   "metadata": {},
   "outputs": [
    {
     "name": "stdout",
     "output_type": "stream",
     "text": [
      ".nuf si gnimmargorp nohtyP\n"
     ]
    }
   ],
   "source": [
    "print(fact[::-1])"
   ]
  },
  {
   "cell_type": "markdown",
   "metadata": {},
   "source": [
    "22) Does `fact` contain the letter `y`? To find this answer, use the `in` keyword."
   ]
  },
  {
   "cell_type": "code",
   "execution_count": 64,
   "metadata": {},
   "outputs": [
    {
     "data": {
      "text/plain": [
       "True"
      ]
     },
     "execution_count": 64,
     "metadata": {},
     "output_type": "execute_result"
    }
   ],
   "source": [
    "'y' in fact"
   ]
  },
  {
   "cell_type": "markdown",
   "metadata": {},
   "source": [
    "23) How many `o`s does `fact` have?"
   ]
  },
  {
   "cell_type": "code",
   "execution_count": 65,
   "metadata": {},
   "outputs": [
    {
     "data": {
      "text/plain": [
       "2"
      ]
     },
     "execution_count": 65,
     "metadata": {},
     "output_type": "execute_result"
    }
   ],
   "source": [
    "fact.count('o')"
   ]
  },
  {
   "cell_type": "markdown",
   "metadata": {},
   "source": [
    "24) Replace all the `o`s in `fact` with an underscore (do not redefine `fact`)."
   ]
  },
  {
   "cell_type": "code",
   "execution_count": 69,
   "metadata": {},
   "outputs": [
    {
     "name": "stdout",
     "output_type": "stream",
     "text": [
      "Pyth_n pr_gramming is fun.\n"
     ]
    }
   ],
   "source": [
    "print(fact.replace('o', '_'))"
   ]
  },
  {
   "cell_type": "markdown",
   "metadata": {},
   "source": [
    "# Part III: Lists"
   ]
  },
  {
   "cell_type": "markdown",
   "metadata": {},
   "source": [
    "25) Create a list `friends` of your three best friends, `\"Alice\"`, `\"Bob\"`, and `\"Charlie\"`."
   ]
  },
  {
   "cell_type": "code",
   "execution_count": 70,
   "metadata": {},
   "outputs": [],
   "source": [
    "friends = ['Alice', 'Bob', 'Charlie']"
   ]
  },
  {
   "cell_type": "markdown",
   "metadata": {},
   "source": [
    "26) Find the length of `friends`."
   ]
  },
  {
   "cell_type": "code",
   "execution_count": 71,
   "metadata": {},
   "outputs": [
    {
     "name": "stdout",
     "output_type": "stream",
     "text": [
      "3\n"
     ]
    }
   ],
   "source": [
    "print(len(friends))"
   ]
  },
  {
   "cell_type": "markdown",
   "metadata": {},
   "source": [
    "27) Add your new friend, `\"Debbie\"` to your list of `friends`."
   ]
  },
  {
   "cell_type": "code",
   "execution_count": 72,
   "metadata": {},
   "outputs": [],
   "source": [
    "friends.append('Debbie')"
   ]
  },
  {
   "cell_type": "markdown",
   "metadata": {},
   "source": [
    "28) Charlie has no-showed to your piano recital. Remove him from your `friends`."
   ]
  },
  {
   "cell_type": "code",
   "execution_count": 74,
   "metadata": {},
   "outputs": [],
   "source": [
    "friends.remove('Charlie')"
   ]
  },
  {
   "cell_type": "markdown",
   "metadata": {},
   "source": [
    "29) Using the `.join()` method, join `friends` to look like this _exactly_: `\"Alice & Bob & Debbie\"`"
   ]
  },
  {
   "cell_type": "code",
   "execution_count": 77,
   "metadata": {},
   "outputs": [
    {
     "data": {
      "text/plain": [
       "'Alice & Bob & Debbie'"
      ]
     },
     "execution_count": 77,
     "metadata": {},
     "output_type": "execute_result"
    }
   ],
   "source": [
    "' & '.join(friends)"
   ]
  },
  {
   "cell_type": "markdown",
   "metadata": {},
   "source": [
    "30) What is the length of `[]`? What about `[[]]`? Why?"
   ]
  },
  {
   "cell_type": "code",
   "execution_count": 78,
   "metadata": {},
   "outputs": [
    {
     "data": {
      "text/plain": [
       "0"
      ]
     },
     "execution_count": 78,
     "metadata": {},
     "output_type": "execute_result"
    }
   ],
   "source": [
    "len([]) # This is an empty set which contains null"
   ]
  },
  {
   "cell_type": "code",
   "execution_count": 80,
   "metadata": {},
   "outputs": [
    {
     "data": {
      "text/plain": [
       "1"
      ]
     },
     "execution_count": 80,
     "metadata": {},
     "output_type": "execute_result"
    }
   ],
   "source": [
    "len([[]]) # This is an empty set that contains an empty set that contains null"
   ]
  },
  {
   "cell_type": "markdown",
   "metadata": {},
   "source": [
    "For the next few problems, we'll use this list:"
   ]
  },
  {
   "cell_type": "code",
   "execution_count": 81,
   "metadata": {},
   "outputs": [],
   "source": [
    "nested_deep = [1, [2, 3], 4, [5, [6, 7, [8]]]]"
   ]
  },
  {
   "cell_type": "markdown",
   "metadata": {},
   "source": [
    "31) What is the length of `nested_deep`?"
   ]
  },
  {
   "cell_type": "code",
   "execution_count": 132,
   "metadata": {},
   "outputs": [
    {
     "data": {
      "text/plain": [
       "[1, 2, 3, 4, 5, 6, 7, 8]"
      ]
     },
     "execution_count": 132,
     "metadata": {},
     "output_type": "execute_result"
    }
   ],
   "source": [
    "# We need to flatten this nested_deep list\n",
    "#\n",
    "# Source: https://stackoverflow.com/questions/2158395/flatten-an-irregular-list-of-lists\n",
    "# I found many examples\n",
    "# A few of them rely on 3rd party libraries, or by using recursion, or by using nested for loops inside of each other to satsify. \n",
    "# I didn't like those methods and they felt too clunky\n",
    "#\n",
    "# Close to the bottom I found generators which are functions that remember their state and keep executing until it fails\n",
    "# In the docstring below I have linked the source on how generators in python3 work\n",
    "\n",
    "def flatten(iterable):\n",
    "    '''\n",
    "    Flattens any nested list that has elements that are iterable to one level\n",
    "    \n",
    "    eg: flatten([a, [b, c, [[[[[[[[[[[[d]]]]]]]]]]]]]]) \n",
    "    >>> [a, b, c, d]           \n",
    "    ===========================================================\n",
    "    Source: https://www.python-course.eu/python3_generators.php\n",
    "    \n",
    "    yield from is an expressions that checks in input and if it is iterable\n",
    "    yield is 'run to exhaustion'\n",
    "    \n",
    "    eg: [1, [2, 3]]\n",
    "    i[0] = 1, type(i) == int(), run exception TypeError\n",
    "    \n",
    "    i[1] = [2, 3], type(i) == list()\n",
    "    yield all possible values inside i\n",
    "    '''\n",
    "    for i in iterable:\n",
    "        try:\n",
    "            yield from flatten(i) \n",
    "        except TypeError:\n",
    "            yield i\n",
    "\n",
    "list(flatten(nested_deep))"
   ]
  },
  {
   "cell_type": "markdown",
   "metadata": {},
   "source": [
    "32) Index `nested_deep` to get the 5."
   ]
  },
  {
   "cell_type": "code",
   "execution_count": 124,
   "metadata": {},
   "outputs": [
    {
     "data": {
      "text/plain": [
       "5"
      ]
     },
     "execution_count": 124,
     "metadata": {},
     "output_type": "execute_result"
    }
   ],
   "source": [
    "list(flatten(nested_deep))[4]"
   ]
  },
  {
   "cell_type": "markdown",
   "metadata": {},
   "source": [
    "33) Index `nested_deep` to get the 8.\n",
    "\n",
    "* _Hint:_ If your answer looks like `[8]`, that's not the correct answer!"
   ]
  },
  {
   "cell_type": "code",
   "execution_count": 125,
   "metadata": {},
   "outputs": [
    {
     "data": {
      "text/plain": [
       "8"
      ]
     },
     "execution_count": 125,
     "metadata": {},
     "output_type": "execute_result"
    }
   ],
   "source": [
    "list(flatten(nested_deep))[7]"
   ]
  },
  {
   "cell_type": "code",
   "execution_count": null,
   "metadata": {},
   "outputs": [],
   "source": []
  }
 ],
 "metadata": {
  "kernelspec": {
   "display_name": "Python 3",
   "language": "python",
   "name": "python3"
  },
  "language_info": {
   "codemirror_mode": {
    "name": "ipython",
    "version": 3
   },
   "file_extension": ".py",
   "mimetype": "text/x-python",
   "name": "python",
   "nbconvert_exporter": "python",
   "pygments_lexer": "ipython3",
   "version": "3.8.3"
  }
 },
 "nbformat": 4,
 "nbformat_minor": 4
}
