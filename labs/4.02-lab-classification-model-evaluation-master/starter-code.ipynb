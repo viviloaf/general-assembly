{
 "cells": [
  {
   "cell_type": "markdown",
   "metadata": {},
   "source": [
    "## Week 4, Lab 2: Predicting Chronic Kidney Disease in Patients\n",
    "> Author: Matt Brems\n",
    "\n",
    "We can sketch out the data science process as follows:\n",
    "1. Define the problem.\n",
    "2. Obtain the data.\n",
    "3. Explore the data.\n",
    "4. Model the data.\n",
    "5. Evaluate the model.\n",
    "6. Answer the problem.\n",
    "\n",
    "In this lab, we're going to focus on steps exploring data, building models and evaluating the models we build.\n",
    "\n",
    "There are three links you may find important:\n",
    "- [A set of chronic kidney disease (CKD) data and other biological factors](./chronic_kidney_disease_full.csv).\n",
    "- [The CKD data dictionary](./chronic_kidney_disease_header.txt).\n",
    "- [An article comparing the use of k-nearest neighbors and support vector machines on predicting CKD](./chronic_kidney_disease.pdf)."
   ]
  },
  {
   "cell_type": "markdown",
   "metadata": {},
   "source": [
    "## Step 1: Define the problem.\n",
    "\n",
    "Suppose you're working for Mayo Clinic, widely recognized to be the top hospital in the United States. In your work, you've overheard nurses and doctors discuss test results, then arrive at a conclusion as to whether or not someone has developed a particular disease or condition. For example, you might overhear something like:\n",
    "\n",
    "> **Nurse**: Male 57 year-old patient presents with severe chest pain. FDP _(short for fibrin degradation product)_ was elevated at 13. We did an echo _(echocardiogram)_ and it was inconclusive.\n",
    "\n",
    "> **Doctor**: What was his interarm BP? _(blood pressure)_\n",
    "\n",
    "> **Nurse**: Systolic was 140 on the right; 110 on the left.\n",
    "\n",
    "> **Doctor**: Dammit, it's an aortic dissection! Get to the OR _(operating room)_ now!\n",
    "\n",
    "> _(intense music playing)_\n",
    "\n",
    "In this fictitious but [Shonda Rhimes-esque](https://en.wikipedia.org/wiki/Shonda_Rhimes#Grey's_Anatomy,_Private_Practice,_Scandal_and_other_projects_with_ABC) scenario, you might imagine the doctor going through a series of steps like a [flowchart](https://en.wikipedia.org/wiki/Flowchart), or a series of if-this-then-that steps to diagnose a patient. The first steps made the doctor ask what the interarm blood pressure was. Because interarm blood pressure took on the values it took on, the doctor diagnosed the patient with an aortic dissection.\n",
    "\n",
    "Your goal, as a research biostatistical data scientist at the nation's top hospital, is to develop a medical test that can improve upon our current diagnosis system for [chronic kidney disease (CKD)](https://www.mayoclinic.org/diseases-conditions/chronic-kidney-disease/symptoms-causes/syc-20354521).\n",
    "\n",
    "**Real-world problem**: Develop a medical diagnosis test that is better than our current diagnosis system for CKD.\n",
    "\n",
    "**Data science problem**: Develop a medical diagnosis test that reduces both the number of false positives and the number of false negatives."
   ]
  },
  {
   "cell_type": "markdown",
   "metadata": {},
   "source": [
    "---\n",
    "\n",
    "## Step 2: Obtain the data.\n",
    "\n",
    "### 1. Read in the data."
   ]
  },
  {
   "cell_type": "code",
   "execution_count": 1,
   "metadata": {},
   "outputs": [],
   "source": [
    "import pandas as pd\n",
    "import numpy as np\n",
    "\n",
    "import missingno as msno\n",
    "\n",
    "import matplotlib.pyplot as plt\n",
    "import seaborn as sns"
   ]
  },
  {
   "cell_type": "code",
   "execution_count": 2,
   "metadata": {},
   "outputs": [],
   "source": [
    "data_raw = pd.read_csv('chronic_kidney_disease_full.csv')"
   ]
  },
  {
   "cell_type": "code",
   "execution_count": 3,
   "metadata": {},
   "outputs": [],
   "source": [
    "df = data_raw.copy()"
   ]
  },
  {
   "cell_type": "markdown",
   "metadata": {},
   "source": [
    "### 2. Check out the data dictionary. What are a few features or relationships you might be interested in checking out?"
   ]
  },
  {
   "cell_type": "markdown",
   "metadata": {},
   "source": [
    "Answer:"
   ]
  },
  {
   "cell_type": "code",
   "execution_count": 4,
   "metadata": {},
   "outputs": [],
   "source": [
    "# This is for me to understand what these columns mean\n",
    "shorthand_to_longhand ={\t\t\n",
    "        'age':'age',\n",
    "\t\t'bp':'blood pressure',\n",
    "\t\t'sg':'specific gravity',\n",
    "\t\t'al':'albumin',\n",
    "\t\t'su':'sugar',\n",
    "\t\t'rbc':'red blood cells',\n",
    "\t\t'pc':'pus cell',\n",
    "\t\t'pcc':'pus cell clumps',\n",
    "\t\t'ba':'bacteria',\n",
    "\t\t'bgr':'blood glucose random',\n",
    "\t\t'bu':'blood urea',\n",
    "\t\t'sc':'serum creatinine',\n",
    "\t\t'sod':'sodium',\n",
    "\t\t'pot':'potassium',\n",
    "\t\t'hemo':'hemoglobin',\n",
    "\t\t'pcv':'packed cell volume',\n",
    "\t\t'wc':'white blood cell count',\n",
    "\t\t'rc':'red blood cell count',\n",
    "\t\t'htn':'hypertension',\n",
    "\t\t'dm':'diabetes mellitus',\n",
    "\t\t'cad':'coronary artery disease',\n",
    "\t\t'appet':'appetite',\n",
    "\t\t'pe':'pedal edema',\n",
    "\t\t'ane':'anemia',\n",
    "}"
   ]
  },
  {
   "cell_type": "code",
   "execution_count": 5,
   "metadata": {},
   "outputs": [],
   "source": [
    "df_verbose = df.rename(mapper=shorthand_to_longhand, axis=1)"
   ]
  },
  {
   "cell_type": "code",
   "execution_count": 6,
   "metadata": {},
   "outputs": [
    {
     "data": {
      "text/html": [
       "<div>\n",
       "<style scoped>\n",
       "    .dataframe tbody tr th:only-of-type {\n",
       "        vertical-align: middle;\n",
       "    }\n",
       "\n",
       "    .dataframe tbody tr th {\n",
       "        vertical-align: top;\n",
       "    }\n",
       "\n",
       "    .dataframe thead th {\n",
       "        text-align: right;\n",
       "    }\n",
       "</style>\n",
       "<table border=\"1\" class=\"dataframe\">\n",
       "  <thead>\n",
       "    <tr style=\"text-align: right;\">\n",
       "      <th></th>\n",
       "      <th>age</th>\n",
       "      <th>blood pressure</th>\n",
       "      <th>specific gravity</th>\n",
       "      <th>albumin</th>\n",
       "      <th>sugar</th>\n",
       "      <th>red blood cells</th>\n",
       "      <th>pus cell</th>\n",
       "      <th>pus cell clumps</th>\n",
       "      <th>bacteria</th>\n",
       "      <th>blood glucose random</th>\n",
       "      <th>...</th>\n",
       "      <th>packed cell volume</th>\n",
       "      <th>wbcc</th>\n",
       "      <th>rbcc</th>\n",
       "      <th>hypertension</th>\n",
       "      <th>diabetes mellitus</th>\n",
       "      <th>coronary artery disease</th>\n",
       "      <th>appetite</th>\n",
       "      <th>pedal edema</th>\n",
       "      <th>anemia</th>\n",
       "      <th>class</th>\n",
       "    </tr>\n",
       "  </thead>\n",
       "  <tbody>\n",
       "    <tr>\n",
       "      <th>0</th>\n",
       "      <td>48.0</td>\n",
       "      <td>80.0</td>\n",
       "      <td>1.020</td>\n",
       "      <td>1.0</td>\n",
       "      <td>0.0</td>\n",
       "      <td>NaN</td>\n",
       "      <td>normal</td>\n",
       "      <td>notpresent</td>\n",
       "      <td>notpresent</td>\n",
       "      <td>121.0</td>\n",
       "      <td>...</td>\n",
       "      <td>44.0</td>\n",
       "      <td>7800.0</td>\n",
       "      <td>5.2</td>\n",
       "      <td>yes</td>\n",
       "      <td>yes</td>\n",
       "      <td>no</td>\n",
       "      <td>good</td>\n",
       "      <td>no</td>\n",
       "      <td>no</td>\n",
       "      <td>ckd</td>\n",
       "    </tr>\n",
       "    <tr>\n",
       "      <th>1</th>\n",
       "      <td>7.0</td>\n",
       "      <td>50.0</td>\n",
       "      <td>1.020</td>\n",
       "      <td>4.0</td>\n",
       "      <td>0.0</td>\n",
       "      <td>NaN</td>\n",
       "      <td>normal</td>\n",
       "      <td>notpresent</td>\n",
       "      <td>notpresent</td>\n",
       "      <td>NaN</td>\n",
       "      <td>...</td>\n",
       "      <td>38.0</td>\n",
       "      <td>6000.0</td>\n",
       "      <td>NaN</td>\n",
       "      <td>no</td>\n",
       "      <td>no</td>\n",
       "      <td>no</td>\n",
       "      <td>good</td>\n",
       "      <td>no</td>\n",
       "      <td>no</td>\n",
       "      <td>ckd</td>\n",
       "    </tr>\n",
       "    <tr>\n",
       "      <th>2</th>\n",
       "      <td>62.0</td>\n",
       "      <td>80.0</td>\n",
       "      <td>1.010</td>\n",
       "      <td>2.0</td>\n",
       "      <td>3.0</td>\n",
       "      <td>normal</td>\n",
       "      <td>normal</td>\n",
       "      <td>notpresent</td>\n",
       "      <td>notpresent</td>\n",
       "      <td>423.0</td>\n",
       "      <td>...</td>\n",
       "      <td>31.0</td>\n",
       "      <td>7500.0</td>\n",
       "      <td>NaN</td>\n",
       "      <td>no</td>\n",
       "      <td>yes</td>\n",
       "      <td>no</td>\n",
       "      <td>poor</td>\n",
       "      <td>no</td>\n",
       "      <td>yes</td>\n",
       "      <td>ckd</td>\n",
       "    </tr>\n",
       "    <tr>\n",
       "      <th>3</th>\n",
       "      <td>48.0</td>\n",
       "      <td>70.0</td>\n",
       "      <td>1.005</td>\n",
       "      <td>4.0</td>\n",
       "      <td>0.0</td>\n",
       "      <td>normal</td>\n",
       "      <td>abnormal</td>\n",
       "      <td>present</td>\n",
       "      <td>notpresent</td>\n",
       "      <td>117.0</td>\n",
       "      <td>...</td>\n",
       "      <td>32.0</td>\n",
       "      <td>6700.0</td>\n",
       "      <td>3.9</td>\n",
       "      <td>yes</td>\n",
       "      <td>no</td>\n",
       "      <td>no</td>\n",
       "      <td>poor</td>\n",
       "      <td>yes</td>\n",
       "      <td>yes</td>\n",
       "      <td>ckd</td>\n",
       "    </tr>\n",
       "    <tr>\n",
       "      <th>4</th>\n",
       "      <td>51.0</td>\n",
       "      <td>80.0</td>\n",
       "      <td>1.010</td>\n",
       "      <td>2.0</td>\n",
       "      <td>0.0</td>\n",
       "      <td>normal</td>\n",
       "      <td>normal</td>\n",
       "      <td>notpresent</td>\n",
       "      <td>notpresent</td>\n",
       "      <td>106.0</td>\n",
       "      <td>...</td>\n",
       "      <td>35.0</td>\n",
       "      <td>7300.0</td>\n",
       "      <td>4.6</td>\n",
       "      <td>no</td>\n",
       "      <td>no</td>\n",
       "      <td>no</td>\n",
       "      <td>good</td>\n",
       "      <td>no</td>\n",
       "      <td>no</td>\n",
       "      <td>ckd</td>\n",
       "    </tr>\n",
       "    <tr>\n",
       "      <th>...</th>\n",
       "      <td>...</td>\n",
       "      <td>...</td>\n",
       "      <td>...</td>\n",
       "      <td>...</td>\n",
       "      <td>...</td>\n",
       "      <td>...</td>\n",
       "      <td>...</td>\n",
       "      <td>...</td>\n",
       "      <td>...</td>\n",
       "      <td>...</td>\n",
       "      <td>...</td>\n",
       "      <td>...</td>\n",
       "      <td>...</td>\n",
       "      <td>...</td>\n",
       "      <td>...</td>\n",
       "      <td>...</td>\n",
       "      <td>...</td>\n",
       "      <td>...</td>\n",
       "      <td>...</td>\n",
       "      <td>...</td>\n",
       "      <td>...</td>\n",
       "    </tr>\n",
       "    <tr>\n",
       "      <th>395</th>\n",
       "      <td>55.0</td>\n",
       "      <td>80.0</td>\n",
       "      <td>1.020</td>\n",
       "      <td>0.0</td>\n",
       "      <td>0.0</td>\n",
       "      <td>normal</td>\n",
       "      <td>normal</td>\n",
       "      <td>notpresent</td>\n",
       "      <td>notpresent</td>\n",
       "      <td>140.0</td>\n",
       "      <td>...</td>\n",
       "      <td>47.0</td>\n",
       "      <td>6700.0</td>\n",
       "      <td>4.9</td>\n",
       "      <td>no</td>\n",
       "      <td>no</td>\n",
       "      <td>no</td>\n",
       "      <td>good</td>\n",
       "      <td>no</td>\n",
       "      <td>no</td>\n",
       "      <td>notckd</td>\n",
       "    </tr>\n",
       "    <tr>\n",
       "      <th>396</th>\n",
       "      <td>42.0</td>\n",
       "      <td>70.0</td>\n",
       "      <td>1.025</td>\n",
       "      <td>0.0</td>\n",
       "      <td>0.0</td>\n",
       "      <td>normal</td>\n",
       "      <td>normal</td>\n",
       "      <td>notpresent</td>\n",
       "      <td>notpresent</td>\n",
       "      <td>75.0</td>\n",
       "      <td>...</td>\n",
       "      <td>54.0</td>\n",
       "      <td>7800.0</td>\n",
       "      <td>6.2</td>\n",
       "      <td>no</td>\n",
       "      <td>no</td>\n",
       "      <td>no</td>\n",
       "      <td>good</td>\n",
       "      <td>no</td>\n",
       "      <td>no</td>\n",
       "      <td>notckd</td>\n",
       "    </tr>\n",
       "    <tr>\n",
       "      <th>397</th>\n",
       "      <td>12.0</td>\n",
       "      <td>80.0</td>\n",
       "      <td>1.020</td>\n",
       "      <td>0.0</td>\n",
       "      <td>0.0</td>\n",
       "      <td>normal</td>\n",
       "      <td>normal</td>\n",
       "      <td>notpresent</td>\n",
       "      <td>notpresent</td>\n",
       "      <td>100.0</td>\n",
       "      <td>...</td>\n",
       "      <td>49.0</td>\n",
       "      <td>6600.0</td>\n",
       "      <td>5.4</td>\n",
       "      <td>no</td>\n",
       "      <td>no</td>\n",
       "      <td>no</td>\n",
       "      <td>good</td>\n",
       "      <td>no</td>\n",
       "      <td>no</td>\n",
       "      <td>notckd</td>\n",
       "    </tr>\n",
       "    <tr>\n",
       "      <th>398</th>\n",
       "      <td>17.0</td>\n",
       "      <td>60.0</td>\n",
       "      <td>1.025</td>\n",
       "      <td>0.0</td>\n",
       "      <td>0.0</td>\n",
       "      <td>normal</td>\n",
       "      <td>normal</td>\n",
       "      <td>notpresent</td>\n",
       "      <td>notpresent</td>\n",
       "      <td>114.0</td>\n",
       "      <td>...</td>\n",
       "      <td>51.0</td>\n",
       "      <td>7200.0</td>\n",
       "      <td>5.9</td>\n",
       "      <td>no</td>\n",
       "      <td>no</td>\n",
       "      <td>no</td>\n",
       "      <td>good</td>\n",
       "      <td>no</td>\n",
       "      <td>no</td>\n",
       "      <td>notckd</td>\n",
       "    </tr>\n",
       "    <tr>\n",
       "      <th>399</th>\n",
       "      <td>58.0</td>\n",
       "      <td>80.0</td>\n",
       "      <td>1.025</td>\n",
       "      <td>0.0</td>\n",
       "      <td>0.0</td>\n",
       "      <td>normal</td>\n",
       "      <td>normal</td>\n",
       "      <td>notpresent</td>\n",
       "      <td>notpresent</td>\n",
       "      <td>131.0</td>\n",
       "      <td>...</td>\n",
       "      <td>53.0</td>\n",
       "      <td>6800.0</td>\n",
       "      <td>6.1</td>\n",
       "      <td>no</td>\n",
       "      <td>no</td>\n",
       "      <td>no</td>\n",
       "      <td>good</td>\n",
       "      <td>no</td>\n",
       "      <td>no</td>\n",
       "      <td>notckd</td>\n",
       "    </tr>\n",
       "  </tbody>\n",
       "</table>\n",
       "<p>400 rows × 25 columns</p>\n",
       "</div>"
      ],
      "text/plain": [
       "      age  blood pressure  specific gravity  albumin  sugar red blood cells  \\\n",
       "0    48.0            80.0             1.020      1.0    0.0             NaN   \n",
       "1     7.0            50.0             1.020      4.0    0.0             NaN   \n",
       "2    62.0            80.0             1.010      2.0    3.0          normal   \n",
       "3    48.0            70.0             1.005      4.0    0.0          normal   \n",
       "4    51.0            80.0             1.010      2.0    0.0          normal   \n",
       "..    ...             ...               ...      ...    ...             ...   \n",
       "395  55.0            80.0             1.020      0.0    0.0          normal   \n",
       "396  42.0            70.0             1.025      0.0    0.0          normal   \n",
       "397  12.0            80.0             1.020      0.0    0.0          normal   \n",
       "398  17.0            60.0             1.025      0.0    0.0          normal   \n",
       "399  58.0            80.0             1.025      0.0    0.0          normal   \n",
       "\n",
       "     pus cell pus cell clumps    bacteria  blood glucose random  ...  \\\n",
       "0      normal      notpresent  notpresent                 121.0  ...   \n",
       "1      normal      notpresent  notpresent                   NaN  ...   \n",
       "2      normal      notpresent  notpresent                 423.0  ...   \n",
       "3    abnormal         present  notpresent                 117.0  ...   \n",
       "4      normal      notpresent  notpresent                 106.0  ...   \n",
       "..        ...             ...         ...                   ...  ...   \n",
       "395    normal      notpresent  notpresent                 140.0  ...   \n",
       "396    normal      notpresent  notpresent                  75.0  ...   \n",
       "397    normal      notpresent  notpresent                 100.0  ...   \n",
       "398    normal      notpresent  notpresent                 114.0  ...   \n",
       "399    normal      notpresent  notpresent                 131.0  ...   \n",
       "\n",
       "     packed cell volume    wbcc  rbcc  hypertension  diabetes mellitus  \\\n",
       "0                  44.0  7800.0   5.2           yes                yes   \n",
       "1                  38.0  6000.0   NaN            no                 no   \n",
       "2                  31.0  7500.0   NaN            no                yes   \n",
       "3                  32.0  6700.0   3.9           yes                 no   \n",
       "4                  35.0  7300.0   4.6            no                 no   \n",
       "..                  ...     ...   ...           ...                ...   \n",
       "395                47.0  6700.0   4.9            no                 no   \n",
       "396                54.0  7800.0   6.2            no                 no   \n",
       "397                49.0  6600.0   5.4            no                 no   \n",
       "398                51.0  7200.0   5.9            no                 no   \n",
       "399                53.0  6800.0   6.1            no                 no   \n",
       "\n",
       "     coronary artery disease  appetite  pedal edema anemia   class  \n",
       "0                         no      good           no     no     ckd  \n",
       "1                         no      good           no     no     ckd  \n",
       "2                         no      poor           no    yes     ckd  \n",
       "3                         no      poor          yes    yes     ckd  \n",
       "4                         no      good           no     no     ckd  \n",
       "..                       ...       ...          ...    ...     ...  \n",
       "395                       no      good           no     no  notckd  \n",
       "396                       no      good           no     no  notckd  \n",
       "397                       no      good           no     no  notckd  \n",
       "398                       no      good           no     no  notckd  \n",
       "399                       no      good           no     no  notckd  \n",
       "\n",
       "[400 rows x 25 columns]"
      ]
     },
     "execution_count": 6,
     "metadata": {},
     "output_type": "execute_result"
    }
   ],
   "source": [
    "# Seeing this verbose one is worse to do data analysius, but much easier to detect any trends I would want to see\n",
    "df_verbose"
   ]
  },
  {
   "cell_type": "code",
   "execution_count": 7,
   "metadata": {},
   "outputs": [
    {
     "data": {
      "text/plain": [
       "Index(['age', 'blood pressure', 'specific gravity', 'albumin', 'sugar',\n",
       "       'red blood cells', 'pus cell', 'pus cell clumps', 'bacteria',\n",
       "       'blood glucose random', 'blood urea', 'serum creatinine', 'sodium',\n",
       "       'potassium', 'hemoglobin', 'packed cell volume', 'wbcc', 'rbcc',\n",
       "       'hypertension', 'diabetes mellitus', 'coronary artery disease',\n",
       "       'appetite', 'pedal edema', 'anemia', 'class'],\n",
       "      dtype='object')"
      ]
     },
     "execution_count": 7,
     "metadata": {},
     "output_type": "execute_result"
    }
   ],
   "source": [
    "df_verbose.columns"
   ]
  },
  {
   "cell_type": "code",
   "execution_count": 8,
   "metadata": {},
   "outputs": [],
   "source": [
    "# From the paper by Parul Sinha\n",
    "\n",
    "'''\n",
    "You may develop complications like high\n",
    "blood pressure, anemia (low blood count), weak bones, poor\n",
    "nutritional health and nerve damage. \n",
    "''';"
   ]
  },
  {
   "cell_type": "code",
   "execution_count": 9,
   "metadata": {},
   "outputs": [],
   "source": [
    "# Neat! Let's see what trends we need to look for "
   ]
  },
  {
   "cell_type": "code",
   "execution_count": 10,
   "metadata": {},
   "outputs": [],
   "source": [
    "# Initially, I want to separate the data based in class to compare the numerical and categeorical data between these two groups\n",
    "# maybe we can identify some really telling factors right away"
   ]
  },
  {
   "cell_type": "markdown",
   "metadata": {},
   "source": [
    "### Some Definitions and information I need because I am not a medical professional\n",
    "\n",
    "### Specific Gravity\n",
    "https://www.medicalnewstoday.com/articles/322125#:~:text=Low%20specific%20gravity%20suggests%20that,fluid%20due%20to%20increased%20thirst\n",
    "##### SG refers to the SG in the urine\n",
    "Low specific gravity suggests that urine is too diluted.\n",
    "\n",
    "Conditions that cause low specific gravity include:\n",
    "\n",
    "diabetes insipidus,\n",
    "kidney failure,\n",
    "drinking too much fluid due to increased thirst\n",
    "damage to kidney tubular cells\n",
    "---\n",
    "\n",
    "### Albumin\n",
    "https://medlineplus.gov/lab-tests/albumin-blood-test/\n",
    "##### Low albumin levels can indicate a problem with your liver or kidneys.\n",
    "\n",
    "---\n",
    "\n",
    "### Pus Cell\n",
    "https://www.medicalnewstoday.com/articles/249182#:~:text=Pus%20is%20a%20whitish-yellow,system%20responds%20to%20the%20infection.\n",
    "##### [Pus Cells] consists of a buildup of dead, white blood cells that form when the body’s immune system responds to the infection.\n",
    "\n",
    "---\n",
    "### Pus Cell Clumps\n",
    "https://www.ncbi.nlm.nih.gov/pmc/articles/PMC4085832/#:~:text=Pyuria%2C%20which%20is%20the%20presence,in%20clumps%20in%20urinary%20infections.\n",
    "Pyuria, which is the presence of pus cells in this quantity, is an indication of microbial infections since pus cells are white blood cells that have succumbed in defense of the body against pathogens that invade it.\n",
    "\n",
    "---\n",
    "### Sugar\n",
    "https://www.mayoclinic.org/diseases-conditions/hypoglycemia/symptoms-causes/syc-20373685\n",
    "##### Hypoglycemia:\n",
    "##### Your body also has the ability to make glucose. This process occurs mainly in your liver, but also in your kidneys.\n",
    "\n",
    "---\n",
    "\n",
    "### Blood Glucose Random.\n",
    "\n",
    "#### see Sugar\n",
    "---\n",
    "\n",
    "### Blood Cell Count\n",
    "https://www.mayoclinic.org/symptoms/low-hemoglobin/basics/causes/sym-20050760\n",
    "Low Hemoglobin Count is assosciated with CDK\n",
    "---\n",
    "\n",
    "### Bacteria\n",
    "https://www.healthline.com/health/blood-poisoning#:~:text=The%20presence%20of%20bacteria%20in,blood%2C%20can%20lead%20to%20sepsis.\n",
    "\n",
    "##### Prescense of Bacteria in the blood comes from a spreading infection that enters the blood stream\n",
    "---\n",
    "\n",
    "### Blood Urea\n",
    "https://www.mayoclinic.org/tests-procedures/blood-urea-nitrogen/about/pac-20384821\n",
    "reveals important information about how well your kidneys and liver are working. \n",
    "Healthy kidneys filter urea and remove other waste products from your blood.\n",
    "The filtered waste products leave your body through urine.\n",
    "\n",
    "##### A BUN test can reveal whether your urea nitrogen levels are higher than normal, suggesting that your kidneys or liver may not be working properly.\n",
    "---\n",
    "### serum creatinine\n",
    "https://www.mayoclinic.org/tests-procedures/creatinine-test/about/pac-20384646\n",
    "A creatinine test reveals important information about your kidneys.\n",
    "#### if your kidneys aren't functioning properly, an increased level of creatinine may accumulate in your blood. \n",
    "---\n",
    "### sodium\n",
    "https://www.mayoclinic.org/diseases-conditions/hyponatremia/symptoms-causes/syc-20373711\n",
    "Hyponatremia occurs when the concentration of sodium in your blood is abnormally low.\n",
    "\n",
    "##### Congestive heart failure and certain diseases affecting the kidneys or liver can cause fluids to accumulate in your body, which dilutes the sodium in your body, lowering the overall level.\n",
    "---\n",
    "### potassium\n",
    "https://www.mayoclinic.org/symptoms/low-potassium/basics/causes/sym-20050632\n",
    "hypokalemia - excessive potassium loss\n",
    "##### detected in urine\n",
    "---\n",
    "### hemoglobin\n",
    "https://www.mayoclinic.org/tests-procedures/hemoglobin-test/about/pac-20385075\n",
    "Measure of Oxygen Levels in blood\n",
    "If a hemoglobin test reveals that your hemoglobin level is lower than normal, it means you have a low red blood cell count (anemia). Anemia can have many different causes, including vitamin deficiencies, bleeding and chronic diseases.\n",
    "\n",
    "---\n",
    "### Packed cell volume\n",
    "https://www.mayoclinic.org/tests-procedures/hematocrit/about/pac-20384728\n",
    "\n",
    "A lower than normal hematocrit can indicate:\n",
    "\n",
    "An insufficient supply of healthy red blood cells (anemia)\n",
    "A large number of white blood cells due to long-term illness, infection or a white blood cell disorder such as leukemia or lymphoma\n",
    "Vitamin or mineral deficiencies\n",
    "Recent or long-term blood loss\n",
    "\n",
    "A higher than normal hematocrit can indicate:\n",
    "\n",
    "Dehydration\n",
    "A disorder, such as polycythemia vera, that causes your body to produce too many red blood cells\n",
    "Lung or heart disease\n",
    "\n",
    "---\n",
    "### WBCC\n",
    "https://www.mayoclinic.org/symptoms/low-white-blood-cell-count/basics/causes/sym-20050615\n",
    "https://www.mayoclinic.org/symptoms/high-white-blood-cell-count/basics/causes/sym-20050611\n",
    "\n",
    "A high white blood cell count usually indicates:\n",
    "\n",
    "An increased production of white blood cells to fight an infection\n",
    "A reaction to a drug that increases white blood cell production\n",
    "A disease of bone marrow, causing abnormally high production of white blood cells\n",
    "An immune system disorder that increases white blood cell production\n",
    "\n",
    "White blood cells are manufactured in bone marrow — the spongy tissue inside some of your larger bones. A low white blood cell count usually is caused by:\n",
    "\n",
    "Viral infections that temporarily disrupt the work of bone marrow\n",
    "Certain disorders present at birth (congenital) that involve diminished bone marrow function\n",
    "Cancer or other diseases that damage bone marrow\n",
    "Autoimmune disorders that destroy white blood cells or bone marrow cells\n",
    "Severe infections that use up white blood cells faster than they can be produced\n",
    "Medications, such as antibiotics, that destroy white blood cells\n",
    "Sarcoidosis (collections of inflammatory cells in the body)\n",
    "\n",
    "---\n",
    "### RBCC\n",
    "\n",
    "See Hemoglobin\n",
    "\n",
    "---\n",
    "### Hypertension\n",
    "\n",
    "See Blood Pressure, High\n",
    "\n",
    "---\n",
    "### diabetes mellitus\n",
    "\n",
    "See Sugar, High\n",
    "\n",
    "---\n",
    "### coronary artery disease\n",
    "https://www.mayoclinic.org/diseases-conditions/coronary-artery-disease/symptoms-causes/syc-20350613\n",
    "\n",
    "Coronary artery disease develops when the major blood vessels that supply your heart become damaged or diseased. Cholesterol-containing deposits (plaques) in your coronary arteries and inflammation are usually to blame for coronary artery disease.\n",
    "\n",
    "Risk factors often occur together and one may trigger another. For instance, obesity can lead to type 2 diabetes and high blood pressure. When grouped together, certain risk factors make you even more likely to develop coronary artery disease. For example, metabolic syndrome — a cluster of conditions that includes high blood pressure; high triglycerides; low HDL, or \"good,\" cholesterol; high insulin levels and excess body fat around the waist — increases the risk of coronary artery disease.\n",
    "\n",
    "---\n",
    "### appetite\n",
    "\n",
    "Kind of food being eaten, quality of nutrients\n",
    "\n",
    "---\n",
    "### pedal edema\n",
    "https://www.mayoclinic.org/diseases-conditions/edema/symptoms-causes/syc-20366493\n",
    "\n",
    "pedal edema is reffering to the feet area\n",
    "\n",
    "Edema can be the result of medication, pregnancy or an underlying disease — often congestive heart failure, kidney disease or cirrhosis of the liver.\n",
    "\n",
    "---\n",
    "### anemia\n",
    "\n",
    "see rbcc, low\n",
    "\n",
    "---\n",
    "### class\n",
    "\n",
    "is this paitent diagnosed with cdk or not"
   ]
  },
  {
   "cell_type": "code",
   "execution_count": 11,
   "metadata": {},
   "outputs": [
    {
     "data": {
      "text/plain": [
       "Index(['age', 'blood pressure', 'specific gravity', 'albumin', 'sugar',\n",
       "       'red blood cells', 'pus cell', 'pus cell clumps', 'bacteria',\n",
       "       'blood glucose random', 'blood urea', 'serum creatinine', 'sodium',\n",
       "       'potassium', 'hemoglobin', 'packed cell volume', 'wbcc', 'rbcc',\n",
       "       'hypertension', 'diabetes mellitus', 'coronary artery disease',\n",
       "       'appetite', 'pedal edema', 'anemia', 'class'],\n",
       "      dtype='object')"
      ]
     },
     "execution_count": 11,
     "metadata": {},
     "output_type": "execute_result"
    }
   ],
   "source": [
    "df_verbose.columns"
   ]
  },
  {
   "cell_type": "code",
   "execution_count": 12,
   "metadata": {},
   "outputs": [],
   "source": [
    "# What do I want to look for and why:\n",
    "# kidneys relate to urine. Any type of abnormal levels tested in urine should be noted to the record immediately"
   ]
  },
  {
   "cell_type": "code",
   "execution_count": 13,
   "metadata": {},
   "outputs": [],
   "source": [
    "# specific gravity of urine, albunium, blood urea, sereum creantine, sodium, potassium, coronary heart disease"
   ]
  },
  {
   "cell_type": "code",
   "execution_count": 14,
   "metadata": {},
   "outputs": [],
   "source": [
    "df_verbose_ckd = df_verbose"
   ]
  },
  {
   "cell_type": "code",
   "execution_count": 15,
   "metadata": {},
   "outputs": [],
   "source": [
    "cdk = df_verbose[df_verbose_ckd['class'] == 'ckd']"
   ]
  },
  {
   "cell_type": "code",
   "execution_count": 16,
   "metadata": {},
   "outputs": [],
   "source": [
    "no_cdk = df_verbose[df_verbose_ckd['class'] != 'ckd']"
   ]
  },
  {
   "cell_type": "code",
   "execution_count": 17,
   "metadata": {},
   "outputs": [],
   "source": [
    "cdk_numerical = cdk.loc[:, cdk.dtypes != object]\n",
    "no_cdk_numerical = no_cdk.loc[:, cdk.dtypes != object]"
   ]
  },
  {
   "cell_type": "code",
   "execution_count": 18,
   "metadata": {},
   "outputs": [],
   "source": [
    "# Data is good to predict for ckd. in the interest of healthcare, it may be better to overfit a little to this dataset\n",
    "# if a paitent has these conditions to a slighlty overfit model, then it may accurately predict\n",
    "# however, we may run into issues where our model cannot detect early cases - before it is too late for the paitent for any kind of preventative\n",
    "# cheap, lifestyle changes rather than intensive care requiring more of the hospital's resources"
   ]
  },
  {
   "cell_type": "code",
   "execution_count": 19,
   "metadata": {},
   "outputs": [],
   "source": [
    "# I've split the data into CDK and not CDK, let's visualize"
   ]
  },
  {
   "cell_type": "code",
   "execution_count": 52,
   "metadata": {},
   "outputs": [
    {
     "data": {
      "image/png": "[encoded data removed]",
      "text/plain": [
       "<Figure size 1440x1440 with 14 Axes>"
      ]
     },
     "metadata": {
      "needs_background": "light"
     },
     "output_type": "display_data"
    }
   ],
   "source": [
    "c = 1\n",
    "plt.figure(figsize=(20,20))\n",
    "for i in cdk_numerical:\n",
    "    plt.subplot(4, 4, c)\n",
    "    colors = {'cdk': 'red', 'no_cdk': 'blue'}\n",
    "    labels = list(colors.keys())\n",
    "    c += 1\n",
    "    cdk_numerical[i].hist(alpha=0.75, color=colors.get('cdk'))\n",
    "    no_cdk_numerical[i].hist(alpha=0.75, color=colors.get('no_cdk'))\n",
    "    plt.title(f'{i}, CDK vs no CDK')\n",
    "    plt.legend(labels)\n",
    "#plt.savefig('Numerical Features CDK vs no CDK.png')"
   ]
  },
  {
   "cell_type": "code",
   "execution_count": 53,
   "metadata": {},
   "outputs": [],
   "source": [
    "# Immediately from the numerical data that we can gather from an individual, we can already tell a trend between those with CDK and those without\n",
    "\n",
    "# this is assuming:\n",
    "# both sets of collected data are on the same scales\n"
   ]
  },
  {
   "cell_type": "markdown",
   "metadata": {},
   "source": [
    "---\n",
    "\n",
    "## Step 3: Explore the data.\n",
    "\n",
    "### 3. How much of the data is missing from each column?"
   ]
  },
  {
   "cell_type": "code",
   "execution_count": 54,
   "metadata": {},
   "outputs": [
    {
     "data": {
      "image/png": "[encoded data removed]",
      "text/plain": [
       "<Figure size 1800x720 with 2 Axes>"
      ]
     },
     "metadata": {
      "needs_background": "light"
     },
     "output_type": "display_data"
    }
   ],
   "source": [
    "# Let's have a graphical look\n",
    "msno.matrix(df_verbose);"
   ]
  },
  {
   "cell_type": "markdown",
   "metadata": {},
   "source": [
    "### 4. Suppose that I dropped every row that contained at least one missing value. (In the context of analysis with missing data, we call this a \"complete case analysis,\" because we keep only the complete cases!) How many rows would remain in our dataframe? What are at least two downsides to doing this?\n",
    "\n",
    "> There's a good visual on slide 15 of [this deck](https://liberalarts.utexas.edu/prc/_files/cs/Missing-Data.pdf) that shows what a complete case analysis looks like if you're interested."
   ]
  },
  {
   "cell_type": "code",
   "execution_count": 55,
   "metadata": {},
   "outputs": [],
   "source": [
    "df_verbose_complete = df_verbose.dropna()"
   ]
  },
  {
   "cell_type": "code",
   "execution_count": 56,
   "metadata": {},
   "outputs": [
    {
     "data": {
      "text/plain": [
       "<matplotlib.axes._subplots.AxesSubplot at 0x7f2f42b66a90>"
      ]
     },
     "execution_count": 56,
     "metadata": {},
     "output_type": "execute_result"
    },
    {
     "data": {
      "image/png": "[encoded data removed]",
      "text/plain": [
       "<Figure size 1800x720 with 2 Axes>"
      ]
     },
     "metadata": {
      "needs_background": "light"
     },
     "output_type": "display_data"
    }
   ],
   "source": [
    "msno.matrix(df_verbose_complete)"
   ]
  },
  {
   "cell_type": "markdown",
   "metadata": {},
   "source": [
    "Answer:"
   ]
  },
  {
   "cell_type": "code",
   "execution_count": 58,
   "metadata": {},
   "outputs": [],
   "source": [
    "# We have lost over 300 data entires, 75% of the data was removed\n",
    "\n",
    "# We have a few downsides:\n",
    "# 1. much less data, we had an okay dataset of 400 individuals, enough of a sample to generalize to paitents who are suspected to havfe CDK\n",
    "# However now, we have 150 data points, though complete, we have a subset of a population\n",
    "# the issue with is is that we are now using a subset of a sample to generalize to a whole population of individuals who may be at risk of CDK\n",
    "\n",
    "# 2. By omitting null entries, we may have accidently removed a subset of the population that could help us model signs of CDK. There may be a correlation with \n",
    "# not collecting data on the paitent and the paitent being high risk - with no need to test because they may have had some type of organ failure\n",
    "# In that instance, no test is needed to know that this specific paitent has CDK. Let's check out the null data with CDK to check my hypothesis"
   ]
  },
  {
   "cell_type": "code",
   "execution_count": 62,
   "metadata": {},
   "outputs": [],
   "source": [
    "cdk_null = cdk.isnull().sum()"
   ]
  },
  {
   "cell_type": "code",
   "execution_count": 66,
   "metadata": {},
   "outputs": [],
   "source": [
    "no_cdk_null = no_cdk.isnull().sum()"
   ]
  },
  {
   "cell_type": "code",
   "execution_count": 77,
   "metadata": {},
   "outputs": [
    {
     "data": {
      "text/html": [
       "<div>\n",
       "<style scoped>\n",
       "    .dataframe tbody tr th:only-of-type {\n",
       "        vertical-align: middle;\n",
       "    }\n",
       "\n",
       "    .dataframe tbody tr th {\n",
       "        vertical-align: top;\n",
       "    }\n",
       "\n",
       "    .dataframe thead th {\n",
       "        text-align: right;\n",
       "    }\n",
       "</style>\n",
       "<table border=\"1\" class=\"dataframe\">\n",
       "  <thead>\n",
       "    <tr style=\"text-align: right;\">\n",
       "      <th></th>\n",
       "      <th>CDK null</th>\n",
       "      <th>no CDK null</th>\n",
       "    </tr>\n",
       "  </thead>\n",
       "  <tbody>\n",
       "    <tr>\n",
       "      <th>age</th>\n",
       "      <td>8</td>\n",
       "      <td>1</td>\n",
       "    </tr>\n",
       "    <tr>\n",
       "      <th>blood pressure</th>\n",
       "      <td>10</td>\n",
       "      <td>2</td>\n",
       "    </tr>\n",
       "    <tr>\n",
       "      <th>specific gravity</th>\n",
       "      <td>42</td>\n",
       "      <td>5</td>\n",
       "    </tr>\n",
       "    <tr>\n",
       "      <th>albumin</th>\n",
       "      <td>41</td>\n",
       "      <td>5</td>\n",
       "    </tr>\n",
       "    <tr>\n",
       "      <th>sugar</th>\n",
       "      <td>44</td>\n",
       "      <td>5</td>\n",
       "    </tr>\n",
       "    <tr>\n",
       "      <th>red blood cells</th>\n",
       "      <td>143</td>\n",
       "      <td>9</td>\n",
       "    </tr>\n",
       "    <tr>\n",
       "      <th>pus cell</th>\n",
       "      <td>56</td>\n",
       "      <td>9</td>\n",
       "    </tr>\n",
       "    <tr>\n",
       "      <th>pus cell clumps</th>\n",
       "      <td>0</td>\n",
       "      <td>4</td>\n",
       "    </tr>\n",
       "    <tr>\n",
       "      <th>bacteria</th>\n",
       "      <td>0</td>\n",
       "      <td>4</td>\n",
       "    </tr>\n",
       "    <tr>\n",
       "      <th>blood glucose random</th>\n",
       "      <td>38</td>\n",
       "      <td>6</td>\n",
       "    </tr>\n",
       "    <tr>\n",
       "      <th>blood urea</th>\n",
       "      <td>13</td>\n",
       "      <td>6</td>\n",
       "    </tr>\n",
       "    <tr>\n",
       "      <th>serum creatinine</th>\n",
       "      <td>12</td>\n",
       "      <td>5</td>\n",
       "    </tr>\n",
       "    <tr>\n",
       "      <th>sodium</th>\n",
       "      <td>82</td>\n",
       "      <td>5</td>\n",
       "    </tr>\n",
       "    <tr>\n",
       "      <th>potassium</th>\n",
       "      <td>83</td>\n",
       "      <td>5</td>\n",
       "    </tr>\n",
       "    <tr>\n",
       "      <th>hemoglobin</th>\n",
       "      <td>46</td>\n",
       "      <td>6</td>\n",
       "    </tr>\n",
       "    <tr>\n",
       "      <th>packed cell volume</th>\n",
       "      <td>67</td>\n",
       "      <td>4</td>\n",
       "    </tr>\n",
       "    <tr>\n",
       "      <th>wbcc</th>\n",
       "      <td>99</td>\n",
       "      <td>7</td>\n",
       "    </tr>\n",
       "    <tr>\n",
       "      <th>rbcc</th>\n",
       "      <td>124</td>\n",
       "      <td>7</td>\n",
       "    </tr>\n",
       "    <tr>\n",
       "      <th>hypertension</th>\n",
       "      <td>0</td>\n",
       "      <td>2</td>\n",
       "    </tr>\n",
       "    <tr>\n",
       "      <th>diabetes mellitus</th>\n",
       "      <td>0</td>\n",
       "      <td>2</td>\n",
       "    </tr>\n",
       "    <tr>\n",
       "      <th>coronary artery disease</th>\n",
       "      <td>0</td>\n",
       "      <td>2</td>\n",
       "    </tr>\n",
       "    <tr>\n",
       "      <th>appetite</th>\n",
       "      <td>0</td>\n",
       "      <td>1</td>\n",
       "    </tr>\n",
       "    <tr>\n",
       "      <th>pedal edema</th>\n",
       "      <td>0</td>\n",
       "      <td>1</td>\n",
       "    </tr>\n",
       "    <tr>\n",
       "      <th>anemia</th>\n",
       "      <td>0</td>\n",
       "      <td>1</td>\n",
       "    </tr>\n",
       "    <tr>\n",
       "      <th>class</th>\n",
       "      <td>0</td>\n",
       "      <td>0</td>\n",
       "    </tr>\n",
       "  </tbody>\n",
       "</table>\n",
       "</div>"
      ],
      "text/plain": [
       "                         CDK null  no CDK null\n",
       "age                             8            1\n",
       "blood pressure                 10            2\n",
       "specific gravity               42            5\n",
       "albumin                        41            5\n",
       "sugar                          44            5\n",
       "red blood cells               143            9\n",
       "pus cell                       56            9\n",
       "pus cell clumps                 0            4\n",
       "bacteria                        0            4\n",
       "blood glucose random           38            6\n",
       "blood urea                     13            6\n",
       "serum creatinine               12            5\n",
       "sodium                         82            5\n",
       "potassium                      83            5\n",
       "hemoglobin                     46            6\n",
       "packed cell volume             67            4\n",
       "wbcc                           99            7\n",
       "rbcc                          124            7\n",
       "hypertension                    0            2\n",
       "diabetes mellitus               0            2\n",
       "coronary artery disease         0            2\n",
       "appetite                        0            1\n",
       "pedal edema                     0            1\n",
       "anemia                          0            1\n",
       "class                           0            0"
      ]
     },
     "execution_count": 77,
     "metadata": {},
     "output_type": "execute_result"
    }
   ],
   "source": [
    "pd.concat([cdk_null, no_cdk_null], axis=1).rename(columns={0:'CDK null',1:'no CDK null'})"
   ]
  },
  {
   "cell_type": "code",
   "execution_count": 76,
   "metadata": {},
   "outputs": [],
   "source": [
    "# Immediately, we can see that my hypothesis for null data may be correct. Those with CDK tend to have less data because this paitent is in a more\n",
    "# severe condition and required immediate medical treatment"
   ]
  },
  {
   "cell_type": "markdown",
   "metadata": {},
   "source": [
    "### 5. Thinking critically about how our data were gathered, it's likely that these records were gathered by doctors and nurses. Brainstorm three potential areas (in addition to the missing data we've already discussed) where this data might be inaccurate or imprecise."
   ]
  },
  {
   "cell_type": "markdown",
   "metadata": {},
   "source": [
    "Answer:"
   ]
  },
  {
   "cell_type": "code",
   "execution_count": 78,
   "metadata": {},
   "outputs": [],
   "source": [
    "# 1. The medical staff were in a rush to keep the paitent alive. attributes about a person do not matter when some type of organ failure is present\n",
    "\n",
    "# 2. Looking at data collected, a paitent may be lying about their appetite to make the medical practioner feel better, and record the wrong categeorigal column\n",
    "\n",
    "# 3. Packed cell volume is a direct measurment from lab work of the rbc in the test tube after the blood has been spun and shifted\n",
    "#    because this is a manual measurment done, there is oppotunity for data inprecision here"
   ]
  },
  {
   "cell_type": "markdown",
   "metadata": {},
   "source": [
    "---\n",
    "\n",
    "## Step 4: Model the data.\n",
    "\n",
    "### 6. Suppose that I want to construct a model where no person who has CKD will ever be told that they do not have CKD. What (very simple, no machine learning needed) model can I create that will never tell a person with CKD that they do not have CKD?"
   ]
  },
  {
   "cell_type": "markdown",
   "metadata": {},
   "source": [
    "Answer:"
   ]
  },
  {
   "cell_type": "code",
   "execution_count": null,
   "metadata": {},
   "outputs": [],
   "source": [
    "# Let's create a null model where we say that no paitent ever will have CDK. The null model does not take into account any numerical or \n",
    "# categeorical features"
   ]
  },
  {
   "cell_type": "markdown",
   "metadata": {},
   "source": [
    "### 7. In problem 6, what common classification metric did we optimize for? Did we minimize false positives or negatives?"
   ]
  },
  {
   "cell_type": "markdown",
   "metadata": {},
   "source": [
    "Answer:"
   ]
  },
  {
   "cell_type": "code",
   "execution_count": null,
   "metadata": {},
   "outputs": [],
   "source": [
    "# The confusion matrix is confusing, so I am reffering to this source for help:\n",
    "# https://towardsdatascience.com/demystifying-confusion-matrix-confusion-9e82201592fd\n",
    "\n",
    "# Let's see the 4 kinds of datapoints\n",
    "# true positive, true negative (exactly as they sound)\n",
    "\n",
    "# false positive, false negative: marked true but false, marked false but true\n",
    "\n",
    "\n",
    "# Okay, then in the instance of our null model for #6, we were optimizing for anyone who would have any condition, but they would always be marked false\n",
    "\n",
    "# We are optimizing for false positives, who are actually negative for CDK.\n",
    "\n",
    "# In this instance, it is financially efficent to estimate that our paitents do not have CDK, because it means then we do not have to handle paitents\n",
    "# who might have it, - but also bring down mis-identifying conditions\n",
    "\n",
    "# However, our casualty rate per paitent may raise - a terrible metric to be associated with a medical facility"
   ]
  },
  {
   "cell_type": "markdown",
   "metadata": {},
   "source": [
    "### 8. Thinking ethically, what is at least one disadvantage to the model you described in problem 6?"
   ]
  },
  {
   "cell_type": "markdown",
   "metadata": {},
   "source": [
    "Answer:"
   ]
  },
  {
   "cell_type": "code",
   "execution_count": 79,
   "metadata": {},
   "outputs": [],
   "source": [
    "#  our casualty rate per paitent may raise - a terrible metric to be associated with a medical facility\n",
    "\n",
    "# A disproportionate amount of paitents who tested negative for CDK but actually have signs of CDK are more likely to die from complications of untreated CDK"
   ]
  },
  {
   "cell_type": "markdown",
   "metadata": {},
   "source": [
    "### 9. Suppose that I want to construct a model where a person who does not have CKD will be told that they do have CKD. What (very simple, no machine learning needed) model can I create that will accomplish this?"
   ]
  },
  {
   "cell_type": "markdown",
   "metadata": {},
   "source": [
    "Answer:"
   ]
  },
  {
   "cell_type": "code",
   "execution_count": 80,
   "metadata": {},
   "outputs": [],
   "source": [
    "# This is the opposite of #6, where the null model predicts every paitent will have CDK, whether or not they have the pre-existing conditions"
   ]
  },
  {
   "cell_type": "markdown",
   "metadata": {},
   "source": [
    "### 10. In problem 9, what common classification metric did we optimize for? Did we minimize false positives or negatives?"
   ]
  },
  {
   "cell_type": "markdown",
   "metadata": {},
   "source": [
    "Answer:"
   ]
  },
  {
   "cell_type": "code",
   "execution_count": null,
   "metadata": {},
   "outputs": [],
   "source": [
    "# for #9, we are now minimizing for false positives, where those who actually have CDK are diagnosed as not having CDK.\n",
    "\n",
    "# In our null model, we avoid all instance of false positives and ensure all paitents are checked for CDK"
   ]
  },
  {
   "cell_type": "markdown",
   "metadata": {},
   "source": [
    "### 11. Thinking ethically, what is at least one disadvantage to the model you described in problem 9?"
   ]
  },
  {
   "cell_type": "markdown",
   "metadata": {},
   "source": [
    "Answer:"
   ]
  },
  {
   "cell_type": "code",
   "execution_count": null,
   "metadata": {},
   "outputs": [],
   "source": [
    "# This is extremely expensive and may lead to unnecessary, complicated medical procedures as well as un-needed medicine - inefficent utilization of the \n",
    "# resources of the medical facility"
   ]
  },
  {
   "cell_type": "markdown",
   "metadata": {},
   "source": [
    "### 12. Construct a logistic regression model in `sklearn` predicting class from the other variables. You may scale, select/drop, and engineer features as you wish - build a good model! Make sure, however, that you include at least one categorical/dummy feature and at least one quantitative feature.\n",
    "\n",
    "Remember to do a train/test split. We suggest using GridSearchCV and pipelines."
   ]
  },
  {
   "cell_type": "code",
   "execution_count": 81,
   "metadata": {},
   "outputs": [],
   "source": [
    "from sklearn.linear_model import LogisticRegression\n",
    "from sklearn.model_selection import train_test_split"
   ]
  },
  {
   "cell_type": "code",
   "execution_count": 110,
   "metadata": {},
   "outputs": [],
   "source": [
    "logr = LogisticRegression()"
   ]
  },
  {
   "cell_type": "code",
   "execution_count": 111,
   "metadata": {},
   "outputs": [],
   "source": [
    "# I love building a baseline model where I enter every single piece of information to see what happens, then by feature optimization I can see how my model may improve"
   ]
  },
  {
   "cell_type": "code",
   "execution_count": 112,
   "metadata": {},
   "outputs": [],
   "source": [
    "# I'm going to bring in my preprocessing parameter from my models.py that I am developing for Project 02. I can easily build pipelines in here to deal with both\n",
    "# categeorical and numerical data"
   ]
  },
  {
   "cell_type": "code",
   "execution_count": 113,
   "metadata": {},
   "outputs": [],
   "source": [
    "# I'm going back to the shorthand numerical data for my analysis and fitting\n",
    "X = df.drop('class', axis=1)\n",
    "y = df['class']"
   ]
  },
  {
   "cell_type": "code",
   "execution_count": 114,
   "metadata": {},
   "outputs": [],
   "source": [
    "import models as model"
   ]
  },
  {
   "cell_type": "code",
   "execution_count": 115,
   "metadata": {},
   "outputs": [],
   "source": [
    "# Instantiate my class by inputting X and y, and it has its own train-test-split attributes I will use throuhout\n",
    "ms = model.ModelSelection(X, y)"
   ]
  },
  {
   "cell_type": "code",
   "execution_count": 116,
   "metadata": {},
   "outputs": [],
   "source": [
    "# Let's go ahead and build a pipeline with the preprocessing attribute and a logisitic estimator which I instantiated above"
   ]
  },
  {
   "cell_type": "code",
   "execution_count": 117,
   "metadata": {},
   "outputs": [],
   "source": [
    "# Let's make a baseline, no model optimization, no hyperparameter optimization via GridSearchCV, let's see what we can do by itself"
   ]
  },
  {
   "cell_type": "code",
   "execution_count": 118,
   "metadata": {},
   "outputs": [],
   "source": [
    "pipe = ms.make_pipe(ms.preprocessing,[logr])"
   ]
  },
  {
   "cell_type": "code",
   "execution_count": 119,
   "metadata": {},
   "outputs": [],
   "source": [
    "# alright cool, we have our model, let's see a graphical display because pictures are worth a thousand words"
   ]
  },
  {
   "cell_type": "code",
   "execution_count": 120,
   "metadata": {},
   "outputs": [
    {
     "data": {
      "text/html": [
       "<style>div.sk-top-container {color: black;background-color: white;}div.sk-toggleable {background-color: white;}label.sk-toggleable__label {cursor: pointer;display: block;width: 100%;margin-bottom: 0;padding: 0.2em 0.3em;box-sizing: border-box;text-align: center;}div.sk-toggleable__content {max-height: 0;max-width: 0;overflow: hidden;text-align: left;background-color: #f0f8ff;}div.sk-toggleable__content pre {margin: 0.2em;color: black;border-radius: 0.25em;background-color: #f0f8ff;}input.sk-toggleable__control:checked~div.sk-toggleable__content {max-height: 200px;max-width: 100%;overflow: auto;}div.sk-estimator input.sk-toggleable__control:checked~label.sk-toggleable__label {background-color: #d4ebff;}div.sk-label input.sk-toggleable__control:checked~label.sk-toggleable__label {background-color: #d4ebff;}input.sk-hidden--visually {border: 0;clip: rect(1px 1px 1px 1px);clip: rect(1px, 1px, 1px, 1px);height: 1px;margin: -1px;overflow: hidden;padding: 0;position: absolute;width: 1px;}div.sk-estimator {font-family: monospace;background-color: #f0f8ff;margin: 0.25em 0.25em;border: 1px dotted black;border-radius: 0.25em;box-sizing: border-box;}div.sk-estimator:hover {background-color: #d4ebff;}div.sk-parallel-item::after {content: \"\";width: 100%;border-bottom: 1px solid gray;flex-grow: 1;}div.sk-label:hover label.sk-toggleable__label {background-color: #d4ebff;}div.sk-serial::before {content: \"\";position: absolute;border-left: 1px solid gray;box-sizing: border-box;top: 2em;bottom: 0;left: 50%;}div.sk-serial {display: flex;flex-direction: column;align-items: center;background-color: white;}div.sk-item {z-index: 1;}div.sk-parallel {display: flex;align-items: stretch;justify-content: center;background-color: white;}div.sk-parallel-item {display: flex;flex-direction: column;position: relative;background-color: white;}div.sk-parallel-item:first-child::after {align-self: flex-end;width: 50%;}div.sk-parallel-item:last-child::after {align-self: flex-start;width: 50%;}div.sk-parallel-item:only-child::after {width: 0;}div.sk-dashed-wrapped {border: 1px dashed gray;margin: 0.2em;box-sizing: border-box;padding-bottom: 0.1em;background-color: white;position: relative;}div.sk-label label {font-family: monospace;font-weight: bold;background-color: white;display: inline-block;line-height: 1.2em;}div.sk-label-container {position: relative;z-index: 2;text-align: center;}div.sk-container {display: inline-block;position: relative;}</style><div class=\"sk-top-container\"><div class=\"sk-container\"><div class=\"sk-item sk-dashed-wrapped\"><div class=\"sk-label-container\"><div class=\"sk-label sk-toggleable\"><input class=\"sk-toggleable__control sk-hidden--visually\" id=\"a987c1b6-e20a-4c35-8aa5-953a1d4fd1c0\" type=\"checkbox\" ><label class=\"sk-toggleable__label\" for=\"a987c1b6-e20a-4c35-8aa5-953a1d4fd1c0\">Pipeline</label><div class=\"sk-toggleable__content\"><pre>Pipeline(steps=[('columntransformer',\n",
       "                 ColumnTransformer(transformers=[('num',\n",
       "                                                  Pipeline(steps=[('num_imputer',\n",
       "                                                                   SimpleImputer()),\n",
       "                                                                  ('num_scaler',\n",
       "                                                                   StandardScaler())]),\n",
       "                                                  <sklearn.compose._column_transformer.make_column_selector object at 0x7f2f39a52b50>),\n",
       "                                                 ('cat',\n",
       "                                                  Pipeline(steps=[('cat_imputer',\n",
       "                                                                   SimpleImputer(fill_value='Other',\n",
       "                                                                                 strategy='constant')),\n",
       "                                                                  ('cat_onehot',\n",
       "                                                                   OneHotEncoder(handle_unknown='ignore')),\n",
       "                                                                  ('cat_scaler',\n",
       "                                                                   StandardScaler(with_mean=False))]),\n",
       "                                                  <sklearn.compose._column_transformer.make_column_selector object at 0x7f2f39a529d0>)])),\n",
       "                ('logisticregression', LogisticRegression())])</pre></div></div></div><div class=\"sk-serial\"><div class=\"sk-item sk-dashed-wrapped\"><div class=\"sk-label-container\"><div class=\"sk-label sk-toggleable\"><input class=\"sk-toggleable__control sk-hidden--visually\" id=\"a5c34764-5fb2-4357-b8f8-0c628c717a70\" type=\"checkbox\" ><label class=\"sk-toggleable__label\" for=\"a5c34764-5fb2-4357-b8f8-0c628c717a70\">columntransformer: ColumnTransformer</label><div class=\"sk-toggleable__content\"><pre>ColumnTransformer(transformers=[('num',\n",
       "                                 Pipeline(steps=[('num_imputer',\n",
       "                                                  SimpleImputer()),\n",
       "                                                 ('num_scaler',\n",
       "                                                  StandardScaler())]),\n",
       "                                 <sklearn.compose._column_transformer.make_column_selector object at 0x7f2f39a52b50>),\n",
       "                                ('cat',\n",
       "                                 Pipeline(steps=[('cat_imputer',\n",
       "                                                  SimpleImputer(fill_value='Other',\n",
       "                                                                strategy='constant')),\n",
       "                                                 ('cat_onehot',\n",
       "                                                  OneHotEncoder(handle_unknown='ignore')),\n",
       "                                                 ('cat_scaler',\n",
       "                                                  StandardScaler(with_mean=False))]),\n",
       "                                 <sklearn.compose._column_transformer.make_column_selector object at 0x7f2f39a529d0>)])</pre></div></div></div><div class=\"sk-parallel\"><div class=\"sk-parallel-item\"><div class=\"sk-item\"><div class=\"sk-label-container\"><div class=\"sk-label sk-toggleable\"><input class=\"sk-toggleable__control sk-hidden--visually\" id=\"4bdf7a9c-9acd-4712-b434-edf87ffaf067\" type=\"checkbox\" ><label class=\"sk-toggleable__label\" for=\"4bdf7a9c-9acd-4712-b434-edf87ffaf067\">num</label><div class=\"sk-toggleable__content\"><pre><sklearn.compose._column_transformer.make_column_selector object at 0x7f2f39a52b50></pre></div></div></div><div class=\"sk-serial\"><div class=\"sk-item\"><div class=\"sk-serial\"><div class=\"sk-item\"><div class=\"sk-estimator sk-toggleable\"><input class=\"sk-toggleable__control sk-hidden--visually\" id=\"d7f65d63-c413-42b3-91a2-3efdc00c4115\" type=\"checkbox\" ><label class=\"sk-toggleable__label\" for=\"d7f65d63-c413-42b3-91a2-3efdc00c4115\">SimpleImputer</label><div class=\"sk-toggleable__content\"><pre>SimpleImputer()</pre></div></div></div><div class=\"sk-item\"><div class=\"sk-estimator sk-toggleable\"><input class=\"sk-toggleable__control sk-hidden--visually\" id=\"8d3d0e42-2a02-4258-a026-1c880a182c6c\" type=\"checkbox\" ><label class=\"sk-toggleable__label\" for=\"8d3d0e42-2a02-4258-a026-1c880a182c6c\">StandardScaler</label><div class=\"sk-toggleable__content\"><pre>StandardScaler()</pre></div></div></div></div></div></div></div></div><div class=\"sk-parallel-item\"><div class=\"sk-item\"><div class=\"sk-label-container\"><div class=\"sk-label sk-toggleable\"><input class=\"sk-toggleable__control sk-hidden--visually\" id=\"89b93f7b-9ae9-481a-86b8-a51c5064f6bc\" type=\"checkbox\" ><label class=\"sk-toggleable__label\" for=\"89b93f7b-9ae9-481a-86b8-a51c5064f6bc\">cat</label><div class=\"sk-toggleable__content\"><pre><sklearn.compose._column_transformer.make_column_selector object at 0x7f2f39a529d0></pre></div></div></div><div class=\"sk-serial\"><div class=\"sk-item\"><div class=\"sk-serial\"><div class=\"sk-item\"><div class=\"sk-estimator sk-toggleable\"><input class=\"sk-toggleable__control sk-hidden--visually\" id=\"f0f07c89-f612-4edc-b756-cf474f4efbcf\" type=\"checkbox\" ><label class=\"sk-toggleable__label\" for=\"f0f07c89-f612-4edc-b756-cf474f4efbcf\">SimpleImputer</label><div class=\"sk-toggleable__content\"><pre>SimpleImputer(fill_value='Other', strategy='constant')</pre></div></div></div><div class=\"sk-item\"><div class=\"sk-estimator sk-toggleable\"><input class=\"sk-toggleable__control sk-hidden--visually\" id=\"083d8d2d-050c-49bb-a9b7-7bab7e8891b2\" type=\"checkbox\" ><label class=\"sk-toggleable__label\" for=\"083d8d2d-050c-49bb-a9b7-7bab7e8891b2\">OneHotEncoder</label><div class=\"sk-toggleable__content\"><pre>OneHotEncoder(handle_unknown='ignore')</pre></div></div></div><div class=\"sk-item\"><div class=\"sk-estimator sk-toggleable\"><input class=\"sk-toggleable__control sk-hidden--visually\" id=\"4adbf082-c136-4c27-9896-33b5dee3891c\" type=\"checkbox\" ><label class=\"sk-toggleable__label\" for=\"4adbf082-c136-4c27-9896-33b5dee3891c\">StandardScaler</label><div class=\"sk-toggleable__content\"><pre>StandardScaler(with_mean=False)</pre></div></div></div></div></div></div></div></div></div></div><div class=\"sk-item\"><div class=\"sk-estimator sk-toggleable\"><input class=\"sk-toggleable__control sk-hidden--visually\" id=\"af378e14-0810-4db0-a004-217350d5a870\" type=\"checkbox\" ><label class=\"sk-toggleable__label\" for=\"af378e14-0810-4db0-a004-217350d5a870\">LogisticRegression</label><div class=\"sk-toggleable__content\"><pre>LogisticRegression()</pre></div></div></div></div></div></div></div>"
      ],
      "text/plain": [
       "Pipeline(steps=[('columntransformer',\n",
       "                 ColumnTransformer(transformers=[('num',\n",
       "                                                  Pipeline(steps=[('num_imputer',\n",
       "                                                                   SimpleImputer()),\n",
       "                                                                  ('num_scaler',\n",
       "                                                                   StandardScaler())]),\n",
       "                                                  <sklearn.compose._column_transformer.make_column_selector object at 0x7f2f39a52b50>),\n",
       "                                                 ('cat',\n",
       "                                                  Pipeline(steps=[('cat_imputer',\n",
       "                                                                   SimpleImputer(fill_value='Other',\n",
       "                                                                                 strategy='constant')),\n",
       "                                                                  ('cat_onehot',\n",
       "                                                                   OneHotEncoder(handle_unknown='ignore')),\n",
       "                                                                  ('cat_scaler',\n",
       "                                                                   StandardScaler(with_mean=False))]),\n",
       "                                                  <sklearn.compose._column_transformer.make_column_selector object at 0x7f2f39a529d0>)])),\n",
       "                ('logisticregression', LogisticRegression())])"
      ]
     },
     "execution_count": 120,
     "metadata": {},
     "output_type": "execute_result"
    }
   ],
   "source": [
    "from sklearn import set_config\n",
    "set_config(display='diagram')\n",
    "pipe[0]"
   ]
  },
  {
   "cell_type": "code",
   "execution_count": 121,
   "metadata": {},
   "outputs": [],
   "source": [
    "set_config(display='text')"
   ]
  },
  {
   "cell_type": "code",
   "execution_count": 122,
   "metadata": {},
   "outputs": [],
   "source": [
    "# Let's fit our object and then return a score"
   ]
  },
  {
   "cell_type": "code",
   "execution_count": 123,
   "metadata": {},
   "outputs": [],
   "source": [
    "scores, objects = ms.evaluate_pipes(pipe)"
   ]
  },
  {
   "cell_type": "code",
   "execution_count": 124,
   "metadata": {},
   "outputs": [
    {
     "data": {
      "text/plain": [
       "[1.0]"
      ]
     },
     "execution_count": 124,
     "metadata": {},
     "output_type": "execute_result"
    }
   ],
   "source": [
    "scores"
   ]
  },
  {
   "cell_type": "code",
   "execution_count": 125,
   "metadata": {},
   "outputs": [],
   "source": [
    "# Okay wow, we got an accuracy of 100% on the training data. That is worrying"
   ]
  },
  {
   "cell_type": "code",
   "execution_count": 126,
   "metadata": {},
   "outputs": [
    {
     "data": {
      "text/plain": [
       "1.0"
      ]
     },
     "execution_count": 126,
     "metadata": {},
     "output_type": "execute_result"
    }
   ],
   "source": [
    "pipe[0].score(ms.X_test, ms.y_test)"
   ]
  },
  {
   "cell_type": "code",
   "execution_count": 127,
   "metadata": {},
   "outputs": [],
   "source": [
    "# Let's do a comparison with cherry picked features"
   ]
  },
  {
   "cell_type": "code",
   "execution_count": 129,
   "metadata": {},
   "outputs": [
    {
     "data": {
      "text/plain": [
       "Index(['age', 'bp', 'sg', 'al', 'su', 'rbc', 'pc', 'pcc', 'ba', 'bgr', 'bu',\n",
       "       'sc', 'sod', 'pot', 'hemo', 'pcv', 'wbcc', 'rbcc', 'htn', 'dm', 'cad',\n",
       "       'appet', 'pe', 'ane', 'class'],\n",
       "      dtype='object')"
      ]
     },
     "execution_count": 129,
     "metadata": {},
     "output_type": "execute_result"
    }
   ],
   "source": [
    "df.columns"
   ]
  },
  {
   "cell_type": "code",
   "execution_count": null,
   "metadata": {},
   "outputs": [],
   "source": [
    "# X = Specific Gravity of Urine, Serum Creantine, Prescense of Low Oxygen in blood (anemia), hypertension\n",
    "# y = CDK\n",
    "\n",
    "# Justification\n",
    "# https://www.kidney.org/atoz/content/about-chronic-kidney-disease\n",
    "\n",
    "'''\n",
    "You may develop complications like high blood pressure, anemia (low blood count), \n",
    "weak bones, poor nutritional health and nerve damage. Also, \n",
    "kidney disease increases your risk of having heart and blood vessel disease. \n",
    "\n",
    "may be caused by diabetes, high blood pressure and other disorders\n",
    "''';\n",
    "\n",
    "# I chose the specific gravity of urine because that is an immediate sign to how the kidneys are preforming, and if there is enough water being processed\n",
    "# If the SG of the urine is higher than water, we may have an issue of the kidneys not properly filtering out\n",
    "\n",
    "# Creatine Test, this is a numerical indicator that directly represents the conditions of your kidneys\n",
    "# Creatine us a chemical waste product produced by muscle metabolism\n",
    "# If there is an issue with the kidneys, creatine may accumulate in the blood and not in the urine\n",
    "\n",
    "# Anemia. This is a long term inidicator which may come up before these signs of kidneys because of the importance of blood in body homeostasis\n",
    "# If we can detect anemia early on, we can watch the paitent to see if their signs improve with a reinforced iron diet\n",
    "# If the paitent is still anemia, I would recommend additional medical attention\n",
    "\n",
    "# Hypertension, this is another long term inicator which may indicate stress in life. Because of the importance of blood, increased blood pressure\n",
    "# may start leading to other chronic or dehibilitating symptoms such as, but not limited to: heart disease, liver failure, and kidney failure\n",
    "# Over time, hypertension will destory the capallaries in the blood in blood rich locations such as the lungs, kidneys, liver\n",
    "\n",
    "# I believe I have cherry picked a simple logistic regression that can be written into a script for use at a medical facility to see if \n",
    "# a paitent requires additional attention"
   ]
  },
  {
   "cell_type": "code",
   "execution_count": 130,
   "metadata": {},
   "outputs": [],
   "source": [
    "X = df.loc[:, ['sg', 'sc', 'ane', 'htn']]\n",
    "y = df['class']"
   ]
  },
  {
   "cell_type": "code",
   "execution_count": 131,
   "metadata": {},
   "outputs": [],
   "source": [
    "ms = model.ModelSelection(X, y)\n",
    "logr = LogisticRegression()\n",
    "pipe = ms.make_pipe(ms.preprocessing,[logr])"
   ]
  },
  {
   "cell_type": "code",
   "execution_count": 132,
   "metadata": {},
   "outputs": [],
   "source": [
    "scores, objects = ms.evaluate_pipes(pipe)"
   ]
  },
  {
   "cell_type": "code",
   "execution_count": 133,
   "metadata": {},
   "outputs": [
    {
     "data": {
      "text/plain": [
       "[0.95]"
      ]
     },
     "execution_count": 133,
     "metadata": {},
     "output_type": "execute_result"
    }
   ],
   "source": [
    "scores"
   ]
  },
  {
   "cell_type": "code",
   "execution_count": 134,
   "metadata": {},
   "outputs": [],
   "source": [
    "# Our linear model detected with a 95% accuracy on the test data. I was afraid of the previous model overfitting, and am much more confident\n",
    "# at the findings of this logistic model with selected numerical and categeorical features"
   ]
  },
  {
   "cell_type": "markdown",
   "metadata": {},
   "source": [
    "---\n",
    "\n",
    "## Step 5: Evaluate the model.\n",
    "\n",
    "### 13. Based on your logistic regression model constructed in problem 12, interpret the coefficient of one of your quantitative features."
   ]
  },
  {
   "cell_type": "code",
   "execution_count": 138,
   "metadata": {},
   "outputs": [
    {
     "data": {
      "text/html": [
       "<div>\n",
       "<style scoped>\n",
       "    .dataframe tbody tr th:only-of-type {\n",
       "        vertical-align: middle;\n",
       "    }\n",
       "\n",
       "    .dataframe tbody tr th {\n",
       "        vertical-align: top;\n",
       "    }\n",
       "\n",
       "    .dataframe thead th {\n",
       "        text-align: right;\n",
       "    }\n",
       "</style>\n",
       "<table border=\"1\" class=\"dataframe\">\n",
       "  <thead>\n",
       "    <tr style=\"text-align: right;\">\n",
       "      <th></th>\n",
       "      <th>sg</th>\n",
       "      <th>sc</th>\n",
       "      <th>ane</th>\n",
       "      <th>htn</th>\n",
       "      <th>class</th>\n",
       "    </tr>\n",
       "  </thead>\n",
       "  <tbody>\n",
       "    <tr>\n",
       "      <th>0</th>\n",
       "      <td>1.020</td>\n",
       "      <td>1.2</td>\n",
       "      <td>no</td>\n",
       "      <td>yes</td>\n",
       "      <td>ckd</td>\n",
       "    </tr>\n",
       "    <tr>\n",
       "      <th>1</th>\n",
       "      <td>1.020</td>\n",
       "      <td>0.8</td>\n",
       "      <td>no</td>\n",
       "      <td>no</td>\n",
       "      <td>ckd</td>\n",
       "    </tr>\n",
       "    <tr>\n",
       "      <th>2</th>\n",
       "      <td>1.010</td>\n",
       "      <td>1.8</td>\n",
       "      <td>yes</td>\n",
       "      <td>no</td>\n",
       "      <td>ckd</td>\n",
       "    </tr>\n",
       "    <tr>\n",
       "      <th>3</th>\n",
       "      <td>1.005</td>\n",
       "      <td>3.8</td>\n",
       "      <td>yes</td>\n",
       "      <td>yes</td>\n",
       "      <td>ckd</td>\n",
       "    </tr>\n",
       "    <tr>\n",
       "      <th>4</th>\n",
       "      <td>1.010</td>\n",
       "      <td>1.4</td>\n",
       "      <td>no</td>\n",
       "      <td>no</td>\n",
       "      <td>ckd</td>\n",
       "    </tr>\n",
       "  </tbody>\n",
       "</table>\n",
       "</div>"
      ],
      "text/plain": [
       "      sg   sc  ane  htn class\n",
       "0  1.020  1.2   no  yes   ckd\n",
       "1  1.020  0.8   no   no   ckd\n",
       "2  1.010  1.8  yes   no   ckd\n",
       "3  1.005  3.8  yes  yes   ckd\n",
       "4  1.010  1.4   no   no   ckd"
      ]
     },
     "execution_count": 138,
     "metadata": {},
     "output_type": "execute_result"
    }
   ],
   "source": [
    "df.loc[:, ['sg', 'sc', 'ane', 'htn', 'class']].head()"
   ]
  },
  {
   "cell_type": "code",
   "execution_count": 180,
   "metadata": {},
   "outputs": [
    {
     "data": {
      "text/plain": [
       "array([[ 0.53817263, -0.31172469,  0.        , ...,  0.        ,\n",
       "         2.06376969,  0.        ],\n",
       "       [ 1.50468675, -0.44327982,  0.        , ...,  0.        ,\n",
       "         2.06376969,  0.        ],\n",
       "       [ 0.53817263, -0.42683543,  0.        , ...,  0.        ,\n",
       "         2.06376969,  0.        ],\n",
       "       ...,\n",
       "       [-1.3948556 , -0.16372518,  0.        , ...,  0.        ,\n",
       "         0.        ,  2.06744192],\n",
       "       [-0.42834148, -0.09794762,  0.        , ...,  0.        ,\n",
       "         2.06376969,  0.        ],\n",
       "       [-1.3948556 , -0.27883591,  0.        , ...,  0.        ,\n",
       "         2.06376969,  0.        ]])"
      ]
     },
     "execution_count": 180,
     "metadata": {},
     "output_type": "execute_result"
    }
   ],
   "source": [
    "pipe[0].named_steps.columntransformer.transform(ms.X_train)"
   ]
  },
  {
   "cell_type": "code",
   "execution_count": 181,
   "metadata": {},
   "outputs": [],
   "source": [
    "# We can interpert this as ane yes, ane no, htn yes, htn no, class yes, class no\n",
    "\n",
    "# translating for us to understand, our data has been one hot encoded"
   ]
  },
  {
   "cell_type": "code",
   "execution_count": 135,
   "metadata": {},
   "outputs": [
    {
     "data": {
      "text/plain": [
       "array([[ 2.73251557, -1.84538776,  0.24724555,  0.49273646, -0.5376281 ,\n",
       "         0.19182846,  1.2847211 , -1.30987755]])"
      ]
     },
     "execution_count": 135,
     "metadata": {},
     "output_type": "execute_result"
    }
   ],
   "source": [
    "# Let's interpret the cherry picked model\n",
    "objects[0].named_steps.logisticregression.coef_"
   ]
  },
  {
   "cell_type": "code",
   "execution_count": null,
   "metadata": {},
   "outputs": [],
   "source": [
    "# We know the item in index 0 relates to specific gravity\n",
    "\n",
    "# There is a positive coefficent in place for specific gravity\n",
    "# This is an expected change in specific gravity has a higher effect on the paitent dbeing diagnosed with CDK"
   ]
  },
  {
   "cell_type": "markdown",
   "metadata": {},
   "source": [
    "### 14. Based on your logistic regression model constructed in problem 12, interpret the coefficient of one of your categorical/dummy features."
   ]
  },
  {
   "cell_type": "code",
   "execution_count": null,
   "metadata": {},
   "outputs": [],
   "source": [
    "# Looking at our interpetation of the columns from #13, we can look at \n",
    "\n",
    "#ane yes,        ane no,     htn yes,    htn no,     class yes, class no\n",
    "# 0.24724555,  0.49273646, -0.5376281 ,0.19182846,  1.2847211 , -1.30987755]"
   ]
  },
  {
   "cell_type": "code",
   "execution_count": 182,
   "metadata": {},
   "outputs": [],
   "source": [
    "# We noticed that anemia has a factor of about 50 % in affecting whether or not the paitent is diagnosed with CKD"
   ]
  },
  {
   "cell_type": "markdown",
   "metadata": {},
   "source": [
    "### 15. Despite being a relatively simple model, logistic regression is very widely used in the real world. Why do you think that's the case? Name at least two advantages to using logistic regression as a modeling technique."
   ]
  },
  {
   "cell_type": "markdown",
   "metadata": {},
   "source": [
    "Answer:"
   ]
  },
  {
   "cell_type": "code",
   "execution_count": 183,
   "metadata": {},
   "outputs": [],
   "source": [
    "# It's fast - amazingly fast. Throw in data and get a benchmark on classification\n",
    "\n",
    "# Doing a cost benefit analysis for computation time vs results, these results give us data scientists as well as medical professionals clues to start heading in the right\n",
    "# direction, especially where the information directly impacts the time people have to live - as well as the data scientist responsible for doing this model fitting"
   ]
  },
  {
   "cell_type": "markdown",
   "metadata": {},
   "source": [
    "### 16. Does it make sense to generate a confusion matrix on our training data or our test data? Why? Generate it on the proper data.\n",
    "\n",
    "> Hint: Once you've generated your predicted $y$ values and you have your observed $y$ values, then it will be easy to [generate a confusion matrix using sklearn](http://scikit-learn.org/stable/modules/generated/sklearn.metrics.confusion_matrix.html)."
   ]
  },
  {
   "cell_type": "code",
   "execution_count": 186,
   "metadata": {},
   "outputs": [],
   "source": [
    "from sklearn.metrics import confusion_matrix, plot_confusion_matrix"
   ]
  },
  {
   "cell_type": "code",
   "execution_count": 185,
   "metadata": {},
   "outputs": [
    {
     "data": {
      "text/plain": [
       "array([[55,  4],\n",
       "       [ 1, 40]])"
      ]
     },
     "execution_count": 185,
     "metadata": {},
     "output_type": "execute_result"
    }
   ],
   "source": [
    "confusion_matrix(ms.y_test, pipe[0].predict(ms.X_test))"
   ]
  },
  {
   "cell_type": "code",
   "execution_count": 187,
   "metadata": {},
   "outputs": [
    {
     "data": {
      "text/plain": [
       "<sklearn.metrics._plot.confusion_matrix.ConfusionMatrixDisplay at 0x7f2f42688c40>"
      ]
     },
     "execution_count": 187,
     "metadata": {},
     "output_type": "execute_result"
    },
    {
     "data": {
      "image/png": "[encoded data removed]",
      "text/plain": [
       "<Figure size 432x288 with 2 Axes>"
      ]
     },
     "metadata": {
      "needs_background": "light"
     },
     "output_type": "display_data"
    }
   ],
   "source": [
    "plot_confusion_matrix(estimator=pipe[0], X=ms.X_test, y_true=ms.y_test)"
   ]
  },
  {
   "cell_type": "code",
   "execution_count": 188,
   "metadata": {},
   "outputs": [],
   "source": [
    "# Showing two variations of our confusion matirx. I would rather choose the graphical representation for easy interpertation"
   ]
  },
  {
   "cell_type": "code",
   "execution_count": 189,
   "metadata": {},
   "outputs": [],
   "source": [
    "# This confusion matrix directly allows data scientists to evaluate their models to reduce the amount of false positives - in this medical application this is \n",
    "\n",
    "# greatly important"
   ]
  },
  {
   "cell_type": "markdown",
   "metadata": {},
   "source": [
    "### 17. In this hospital case, we want to predict CKD. Do we want to optimize for sensitivity, specificity, or something else? Why? (If you don't think there's one clear answer, that's okay! There rarely is. Be sure to defend your conclusion!)"
   ]
  },
  {
   "cell_type": "markdown",
   "metadata": {},
   "source": [
    "Answer:"
   ]
  },
  {
   "cell_type": "code",
   "execution_count": null,
   "metadata": {},
   "outputs": [],
   "source": [
    "# in the medical field, we will want to optimize for senstivity: proportion of positives that are correctly identified to all predictions\n",
    "\n",
    "# We want to catch all of those who may have a previously undiagnosed, but chronic or severe condition"
   ]
  },
  {
   "cell_type": "markdown",
   "metadata": {},
   "source": [
    "### 18. Plot the ROC Curve."
   ]
  },
  {
   "cell_type": "code",
   "execution_count": 200,
   "metadata": {},
   "outputs": [
    {
     "data": {
      "text/plain": [
       "103       ckd\n",
       "279    notckd\n",
       "91        ckd\n",
       "104       ckd\n",
       "58        ckd\n",
       "        ...  \n",
       "144       ckd\n",
       "153       ckd\n",
       "353    notckd\n",
       "305    notckd\n",
       "204       ckd\n",
       "Name: class, Length: 100, dtype: object"
      ]
     },
     "execution_count": 200,
     "metadata": {},
     "output_type": "execute_result"
    }
   ],
   "source": [
    "ms.y_test"
   ]
  },
  {
   "cell_type": "code",
   "execution_count": 225,
   "metadata": {},
   "outputs": [],
   "source": [
    "from sklearn.metrics import roc_curve, plot_roc_curve\n",
    "from sklearn.preprocessing import LabelBinarizer\n"
   ]
  },
  {
   "cell_type": "code",
   "execution_count": 212,
   "metadata": {},
   "outputs": [],
   "source": [
    "#binarize the y values\n",
    "lb = LabelBinarizer()"
   ]
  },
  {
   "cell_type": "code",
   "execution_count": 213,
   "metadata": {},
   "outputs": [],
   "source": [
    "y_roc = lb.fit_transform(ms.y_test)"
   ]
  },
  {
   "cell_type": "code",
   "execution_count": 216,
   "metadata": {},
   "outputs": [
    {
     "data": {
      "text/plain": [
       "array([[0],\n",
       "       [1],\n",
       "       [0],\n",
       "       [0],\n",
       "       [0]])"
      ]
     },
     "execution_count": 216,
     "metadata": {},
     "output_type": "execute_result"
    }
   ],
   "source": [
    "y_roc[:5] # 0 = CDK, 1 != CDK"
   ]
  },
  {
   "cell_type": "code",
   "execution_count": 218,
   "metadata": {},
   "outputs": [],
   "source": [
    "y_score_roc = pipe[0].predict_proba(ms.X_test)"
   ]
  },
  {
   "cell_type": "code",
   "execution_count": 223,
   "metadata": {},
   "outputs": [],
   "source": [
    "cdk_score = [i for i, j in y_score_roc]"
   ]
  },
  {
   "cell_type": "code",
   "execution_count": 224,
   "metadata": {},
   "outputs": [],
   "source": [
    "fpr, trp, roc_auc = roc_curve(y_roc, cdk_score)"
   ]
  },
  {
   "cell_type": "code",
   "execution_count": 235,
   "metadata": {},
   "outputs": [
    {
     "data": {
      "text/plain": [
       "<sklearn.metrics._plot.roc_curve.RocCurveDisplay at 0x7f2f425be670>"
      ]
     },
     "execution_count": 235,
     "metadata": {},
     "output_type": "execute_result"
    },
    {
     "data": {
      "image/png": "[encoded data removed]",
      "text/plain": [
       "<Figure size 432x288 with 1 Axes>"
      ]
     },
     "metadata": {
      "needs_background": "light"
     },
     "output_type": "display_data"
    }
   ],
   "source": [
    "plot_roc_curve(estimator=pipe[0], X=ms.X_test, y=ms.y_test)"
   ]
  },
  {
   "cell_type": "markdown",
   "metadata": {},
   "source": [
    "---\n",
    "\n",
    "## Step 6: Answer the problem.\n",
    "\n",
    "At this step, you would generally answer the problem! In this situation, you would likely present your model to doctors or administrators at the hospital and show how your model results in reduced false positives/false negatives. Next steps would be to find a way to roll this model and its conclusions out across the hospital so that the outcomes of patients with CKD (and without CKD!) can be improved!\n",
    "\n",
    "We'll leave that for another day!"
   ]
  },
  {
   "cell_type": "code",
   "execution_count": null,
   "metadata": {},
   "outputs": [],
   "source": []
  }
 ],
 "metadata": {
  "kernelspec": {
   "display_name": "Python 3",
   "language": "python",
   "name": "python3"
  },
  "language_info": {
   "codemirror_mode": {
    "name": "ipython",
    "version": 3
   },
   "file_extension": ".py",
   "mimetype": "text/x-python",
   "name": "python",
   "nbconvert_exporter": "python",
   "pygments_lexer": "ipython3",
   "version": "3.8.3"
  }
 },
 "nbformat": 4,
 "nbformat_minor": 4
}
