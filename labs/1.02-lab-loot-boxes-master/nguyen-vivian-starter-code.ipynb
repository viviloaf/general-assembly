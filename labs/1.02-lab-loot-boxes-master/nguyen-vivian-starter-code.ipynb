{
 "cells": [
  {
   "cell_type": "markdown",
   "metadata": {},
   "source": [
    "# \"Fun with Loot Boxes\" Lab\n",
    "\n",
    "> Author: Caroline Schmitt, Matt Brems\n",
    "\n",
    "### Scenario:\n",
    "\n",
    "You're an analyst for [Zynga](https://en.wikipedia.org/wiki/Zynga), a gaming studio working on an event for an MMO (massively multiplayer online) game. This event is going to include **loot boxes**.\n",
    "\n",
    "<img src=\"https://vignette.wikia.nocookie.net/2007scape/images/0/06/Culinaromancer%27s_chest.png/revision/latest?cb=20180403231423\" alt=\"drawing\" width=\"150\"/> \n",
    "\n",
    "A loot box is basically a treasure chest in a game. This loot box can be opened to reveal a variety of items: some items are very rare and valuable, other items are common and less valuable. (You may consult [the esteemed Wikipedia](https://en.wikipedia.org/wiki/Loot_box) for a more extensive definition.)\n",
    "\n",
    "In our specific game, suppose that loot boxes can be obtained in one of two ways: \n",
    "- After every three hours of playing the game, a user will earn one loot box.\n",
    "- If the user wishes to purchase a loot box, they may pay $1 (in real money!) for a loot box.\n",
    "\n",
    "These loot boxes are very good for our business!\n",
    "- If a player earns a loot box, it means they are spending lots of time on the game. This often leads to advertisement revenue, they may tell their friends to join the game, etc.\n",
    "- If the player purchases a loot box, it means we've earned $1 from our customer.\n",
    "\n",
    "Suppose each loot box is opened to reveal either:\n",
    "- magical elixir (super rare, very valuable), or\n",
    "- nothing.\n",
    "\n",
    "Whether each loot box contains the elixir or nothing is **random**. Our boss wants some guidance on what sort of randomness to use on these loot boxes! \n",
    "- If the magical elixir is too rare, then users may not be motivated to try to get them, because they believe they'll never find the magical elixir.\n",
    "- If the magical elixir is too common, then users may not be motivated to try to get them, because the game has so much of the magical elixir that it isn't worthwhile to try to get it.\n",
    "\n",
    "However, our boss isn't a math-y type person! When explaining things to our boss, we need to explain the impact of our choices on the game as concretely as possible.\n",
    "\n",
    "### Version 1\n",
    "**NOTE**: No Python is needed to answer questions 1, 2, 3a, and 3b.\n",
    "\n",
    "\n",
    "In our first version of the game, we'll say that loot boxes contain magical elixir 15% of the time and nothing 85% of the time.\n",
    "\n",
    "#### 1. Our boss asks, \"If a user buys 100 loot boxes, how many elixirs will they get?\" How would you respond?"
   ]
  },
  {
   "cell_type": "markdown",
   "metadata": {},
   "source": [
    "**NOTE**: When your Jupyter notebook is open, double-click on this Markdown cell! You can delete this text and put your answer to the previous problem in here."
   ]
  },
  {
   "cell_type": "markdown",
   "metadata": {},
   "source": [
    "> Around 15 Elixars"
   ]
  },
  {
   "cell_type": "markdown",
   "metadata": {},
   "source": [
    "#### 2. Our boss asks, \"How many loot boxes does someone have to purchase in order to definitely get elixir?\" How would you respond?"
   ]
  },
  {
   "cell_type": "markdown",
   "metadata": {},
   "source": [
    "**NOTE**: When your Jupyter notebook is open, double-click on this Markdown cell! You can delete this text and put your answer to the previous problem in here."
   ]
  },
  {
   "cell_type": "markdown",
   "metadata": {},
   "source": [
    ">Bewteen 85 to 100 lootboxes"
   ]
  },
  {
   "cell_type": "markdown",
   "metadata": {},
   "source": [
    "#### 3. Our boss asks, \"If a user earns 100 loot boxes, what is the chance that a user gets more than 20 elixirs?\" This is a bit more complicated, so let's break it down before answering."
   ]
  },
  {
   "cell_type": "markdown",
   "metadata": {},
   "source": [
    "#### 3a. Let's suppose my random variable $X$ counts up how many elixirs I observe out of my 100 loot boxes. Why is $X$ a discrete random variable?"
   ]
  },
  {
   "cell_type": "markdown",
   "metadata": {},
   "source": [
    ">X has a countable amount of possibilities up to 100, or 100%"
   ]
  },
  {
   "cell_type": "markdown",
   "metadata": {},
   "source": [
    "#### 3b. Recall our discrete distributions: discrete uniform, Bernoulli, binomial, Poisson. Let's suppose my random variable $X$ counts up how many elixirs I observe out of my 100 loot boxes. What distribution is best suited for $X$? Why?\n",
    "- Hint: It may help to consider getting the magical elixir a \"success\" and getting nothing a \"failure.\" "
   ]
  },
  {
   "cell_type": "markdown",
   "metadata": {},
   "source": [
    ">Binominal, becase either you get an elixar or you don't - and it is multiple bernoulli distributions"
   ]
  },
  {
   "cell_type": "markdown",
   "metadata": {},
   "source": [
    "#### 3c. Our boss asks, \"If a user earns 100 loot boxes, what is the chance that a user gets more than 20 elixirs?\" Use the probability mass function to answer the boss' question."
   ]
  },
  {
   "cell_type": "code",
   "execution_count": 3,
   "metadata": {},
   "outputs": [],
   "source": [
    "%matplotlib inline\n",
    "import numpy as np\n",
    "import matplotlib.pyplot as plt\n",
    "import scipy.stats as stats"
   ]
  },
  {
   "cell_type": "code",
   "execution_count": 4,
   "metadata": {},
   "outputs": [],
   "source": [
    "# Your answer should match your result for 3d\n",
    "# Show your work; leave your answer in a comment."
   ]
  },
  {
   "cell_type": "code",
   "execution_count": 5,
   "metadata": {},
   "outputs": [],
   "source": [
    "elixar = .15\n",
    "n_lootbox = 100\n",
    "\n",
    "elixar_binom = stats.binom(n_lootbox, elixar)"
   ]
  },
  {
   "cell_type": "code",
   "execution_count": 6,
   "metadata": {},
   "outputs": [
    {
     "data": {
      "text/plain": [
       "[<matplotlib.lines.Line2D at 0x7f9fdf8e5250>]"
      ]
     },
     "execution_count": 6,
     "metadata": {},
     "output_type": "execute_result"
    },
    {
     "data": {
      "image/png": "[encoded data removed]",
      "text/plain": [
       "<Figure size 432x288 with 1 Axes>"
      ]
     },
     "metadata": {
      "needs_background": "light"
     },
     "output_type": "display_data"
    }
   ],
   "source": [
    "plt.step([i for i in range(n_lootbox)], elixar_binom.pmf([i for i in range(n_lootbox)]))"
   ]
  },
  {
   "cell_type": "markdown",
   "metadata": {},
   "source": [
    "This shows the probability mass distribution of our exlixirs over 100 simulated binominal trials. We care about the sum of all the probabilities of the PMF up to 20 trials out of 100 because the likelihood of obtaining more than 20 exlixirs decreases close to 0 % at 25 trials. "
   ]
  },
  {
   "cell_type": "code",
   "execution_count": 7,
   "metadata": {},
   "outputs": [
    {
     "data": {
      "text/plain": [
       "0.8934557435196984"
      ]
     },
     "execution_count": 7,
     "metadata": {},
     "output_type": "execute_result"
    }
   ],
   "source": [
    "sum([elixar_binom.pmf(i) for i in range(20)])\n",
    "\n",
    "# that is what y would be at that point\n",
    "# to find out, add all the values before elixar_binom before\n",
    "# i have an 89% chance of getting up to 20 elixars because at 20, this is the majority of my data\n",
    "# "
   ]
  },
  {
   "cell_type": "markdown",
   "metadata": {},
   "source": [
    "A user has an 89 % probability of obtaining 20 exlixirs given they earn 100 lootboxes"
   ]
  },
  {
   "cell_type": "code",
   "execution_count": 8,
   "metadata": {
    "jupyter": {
     "source_hidden": true
    }
   },
   "outputs": [
    {
     "data": {
      "text/plain": [
       "0.9999590843309698"
      ]
     },
     "execution_count": 8,
     "metadata": {},
     "output_type": "execute_result"
    }
   ],
   "source": [
    "sum([elixar_binom.pmf(i) for i in range(31)]) \n",
    "\n",
    "# There is 99% possibility that by 30 tries \n",
    "# This is how much probability you have accumulated at that point\n",
    "# At 30 you have accumulated 90 % probability\n",
    "# "
   ]
  },
  {
   "cell_type": "markdown",
   "metadata": {},
   "source": [
    "#### 3d. Our boss asks, \"If a user earns 100 loot boxes, what is the chance that a user gets more than 20 elixirs?\" Use the cumulative distribution function to answer the boss' question."
   ]
  },
  {
   "cell_type": "markdown",
   "metadata": {},
   "source": [
    "Source: http://reliawiki.org/index.php/Basic_Statistical_Background\n",
    "\n",
    "The cdf is a function, 𝐹(𝑥), of a random variable 𝑋, and is defined for a number 𝑥 by:\n",
    "\n",
    "/ convert this to LaTEX format\n",
    "\n",
    "𝐹(𝑥)=𝑃(𝑋≤𝑥)=∫𝑥0𝑓(𝑠)𝑑𝑠 \n",
    "\n",
    "That is, for a number 𝑥, 𝐹(𝑥) is the probability that the observed value of 𝑋 will be at most 𝑥. "
   ]
  },
  {
   "cell_type": "code",
   "execution_count": 9,
   "metadata": {},
   "outputs": [
    {
     "data": {
      "text/plain": [
       "[<matplotlib.lines.Line2D at 0x7f9fdf87f2e0>]"
      ]
     },
     "execution_count": 9,
     "metadata": {},
     "output_type": "execute_result"
    },
    {
     "data": {
      "image/png": "[encoded data removed]",
      "text/plain": [
       "<Figure size 432x288 with 1 Axes>"
      ]
     },
     "metadata": {
      "needs_background": "light"
     },
     "output_type": "display_data"
    }
   ],
   "source": [
    "# Your answer should match your result for 3c\n",
    "# Show your work; leave your answer in a comment.\n",
    "\n",
    "# CDF \n",
    "\n",
    "plt.plot([i for i in range(100)], [elixar_binom.cdf(i) for i in range(100)])"
   ]
  },
  {
   "cell_type": "markdown",
   "metadata": {},
   "source": [
    "**NOTE**: You should get the same result for questions 3c and 3d. Double check to make sure this is the case."
   ]
  },
  {
   "cell_type": "code",
   "execution_count": 11,
   "metadata": {},
   "outputs": [],
   "source": [
    "#('Probability of 20 Elixirs out of 100 Lootboxes: ',\n",
    "# [elixar_binom.cdf(i) for i in range(20)][-1],\n",
    "# 'Probability of 20+ Elixars out of 100 Lootboxes', \n",
    "# 1 - [elixar_binom.cdf(i) for i in range(20)][-1])"
   ]
  },
  {
   "cell_type": "markdown",
   "metadata": {},
   "source": [
    "~~The CDF of our exlixir probabilty distribution shows that the observed value at X will be x, where x is the calculated value from cdf at 20.~~\n",
    "\n",
    "~~The customer has at most an 89 % chance of obtaining 20 exlixirs out of 100 lootboxes. ~~\n",
    "\n",
    "~~To find out what the probability of the customer obtaining 20 or more exlixirs, we can look at the CDF probability from (20 to 100), which is the probability of obtaining 20 to 100 exlixirs.~~"
   ]
  },
  {
   "cell_type": "code",
   "execution_count": 32,
   "metadata": {},
   "outputs": [],
   "source": [
    "# Looking at the solution code\n",
    "# I am off by a single number, and I have calculated to the left side. I need the right side\n",
    "[elixar_binom.cdf(i) for i in range(21)][-1]\n",
    "# In this case, if I actually use the range from 1 to less than 21, \n",
    "#then I actually count all 20 terms\n",
    "\n",
    "# Then I can consider\n",
    "# Let's round that off so it isn't too much\n",
    "prob = 1 - [elixar_binom.cdf(i) for i in range(21)][-1]"
   ]
  },
  {
   "cell_type": "code",
   "execution_count": 34,
   "metadata": {},
   "outputs": [
    {
     "data": {
      "text/plain": [
       "'The Probability of getting more than 20 lootboxes out of 100 is 6.63198%'"
      ]
     },
     "execution_count": 34,
     "metadata": {},
     "output_type": "execute_result"
    }
   ],
   "source": [
    "f'The Probability of getting more than 20 lootboxes out of 100 is {round(prob*100, 5)}%'"
   ]
  },
  {
   "cell_type": "code",
   "execution_count": null,
   "metadata": {},
   "outputs": [],
   "source": []
  },
  {
   "cell_type": "markdown",
   "metadata": {},
   "source": [
    "#### 3e. Our boss asks, \"If a user earns 100 loot boxes, what is the chance that a user gets more than 20 elixirs?\" Answer your boss' question. *Remember that your boss is not a math-y person!*"
   ]
  },
  {
   "cell_type": "markdown",
   "metadata": {},
   "source": [
    "According to the cell above, the customer has about a 10 % of obtaining more than 20 elixirs given that the customer earns 100 lootboxes. "
   ]
  },
  {
   "cell_type": "markdown",
   "metadata": {},
   "source": [
    "#### 4. Your boss wants to know how many people purchased how many loot boxes last month. \n",
    "> For example, last month, 70% of users did not purchase any loot boxes. 10% of people purchased one loot box. 5% of people purchased two loot boxes... and so on.\n",
    "\n",
    "#### 4a. Recall our discrete distributions: discrete uniform, Bernoulli, binomial, Poisson. Let's suppose my random variable $Y$ counts up how many loot boxes each person purchased through the game last month. What distribution is best suited for $Y$? Why?"
   ]
  },
  {
   "cell_type": "markdown",
   "metadata": {},
   "source": [
    "~I would recommend doing a contuinous data analysis because the amount of lootboxes someone could possibly buy is uncountable and has no upper bound~, the type of distribution i would recommend for $Y$ is a Poisson distribution because we are considering time-series data\n",
    "\n",
    "\n",
    "Looking at the purchase behaviors of the customers, I think the probability distributions can be represented by an exponetial function by an ever increasing amount of lootboxed purchased to an ever decreasing amount of users who would actually buy that many lootboxes"
   ]
  },
  {
   "cell_type": "markdown",
   "metadata": {},
   "source": [
    "#### 4b. Suppose that, on average, your customers purchased 2.7 loot boxes last month. In order for your revenue to be at least $500,000, at least how many users would you need on your platform? (Round your answer up to the nearest thousand.) "
   ]
  },
  {
   "cell_type": "markdown",
   "metadata": {},
   "source": [
    ">Show your work; leave your answer in a comment.\n",
    "\n",
    " 70 % of users bought 0\n",
    " 10 % of users bought 1\n",
    " 5 % of users bought 2\n",
    " 2.5 % of users bought 3\n",
    "....  so on and so forth\n",
    "\n",
    " In this analysis we are going to omit the customers who do not buy any lootboxes, which means that $500,000 is generated by 30 % of the playerbase\n",
    "\n",
    " Ignoring all of the outliers who would buy more than 1 lootbox, we are going to assume worst-case secnario,\n",
    " where 30 % of our playerbase buys only one lootbox. We can find that secnario out here:\n"
   ]
  },
  {
   "cell_type": "code",
   "execution_count": 39,
   "metadata": {},
   "outputs": [
    {
     "data": {
      "text/plain": [
       "'We have 1250000 players who buy 1 lootbox, and we have a minimium required player base of 4166666 players in order to generate $500,000'"
      ]
     },
     "execution_count": 39,
     "metadata": {},
     "output_type": "execute_result"
    }
   ],
   "source": [
    "# The inline math done takes our required break-even amount of $500,000\n",
    "# Then we assume worst-case secnario\n",
    "# Then we can use a ratio to figure out what our sustainable player base size would be\n",
    "f'We have {int(500_000 * 2.5)} players who buy 1 lootbox, \\\n",
    "and we have a minimium required player base of {int(((500_000 * 2.5) / 0.3))} players in order to generate $500,000'"
   ]
  },
  {
   "cell_type": "markdown",
   "metadata": {},
   "source": [
    "#### 4c. Assume that your platform has the number of users you mentioned in your last answer. Suppose that your platform calls anyone who purchases 5 or more loot boxes in a month a \"high value user\", and anyone who purchases 0-4 loot boxes in a month a “low value user”. How much money do you expect to have earned from \"high value users?\" How about \"low value users?\"\n",
    "\n",
    "**Hints**: \n",
    "- Remember that users buying different amounts of loot boxes will each contribute a different amount of money.\n",
    "- You only need to calculate either HVU (high value users) or LVU (low value users) revenue. You can calculate one of these and then subtract it from the total expected earnings to find the other. *Hint: Which one is possible to calculate?*"
   ]
  },
  {
   "cell_type": "markdown",
   "metadata": {},
   "source": [
    "We can set up a formula to figure this out:\n",
    "\n",
    "${\\displaystyle  x + 5x = 1,250,000}$ \n",
    "\n",
    "The assumptions we are making in this formula:\n",
    "\n",
    "The paying playerbase is equally as likely to buy 1 or 1,000 lootboxes. This is an incorrect assumption.\n",
    "\n",
    "Looking at an assumption that takes the probability of how many lootboxes a paying player would buy:\n",
    "\n",
    "(10 + 5 + 2.5 + 1.25 + 0.625) % low users * 1 + (30 - (10 + 5 + 2.5 + 1.25 + 0.625)) high users * 5\n",
    "\n",
    "Adding the probabilities into the formula: \n",
    "\n",
    "${\\displaystyle  (19.375)\\frac{(1,250,000)}{x} + (10.625)\\frac{(1,250,000)}{x} = 1,250,000}$ \n",
    "\n",
    "Where x is a common factor. However we can even look at an easier approach and find the probability ratios of low and high value, and then approximate how many users are in each categeory\n",
    "\n",
    "${\\displaystyle \\frac{19.375}{30} = 64.58 }$ %\n",
    "\n",
    "${\\displaystyle 1 - 64.58  = 35.42 }$ %\n",
    "\n",
    "Multiplying the ratio by the total number, \n",
    "That means we have:\n",
    "\n",
    "$807,250$ Low value Players\n",
    "\n",
    "$442,750$ High value Players"
   ]
  },
  {
   "cell_type": "code",
   "execution_count": 48,
   "metadata": {},
   "outputs": [],
   "source": [
    "# Show your work; leave your answer in a comment."
   ]
  },
  {
   "cell_type": "markdown",
   "metadata": {},
   "source": [
    "#### 4d. Suppose that you want to summarize how many people purchased how many loot boxes last month for your boss. Since your boss isn't math-y, what are 2-4 summary numbers you might use to summarize this for your boss? (Your answers will vary here - use your judgment!)"
   ]
  },
  {
   "cell_type": "markdown",
   "metadata": {},
   "source": [
    "Based on the numbers you have given me, these are the numbers you need to know:\n",
    "\n",
    "We have an estimate of $1,250,000$ paying players.\n",
    "\n",
    "We need $4,166,666$ total players to sustain a bottom line of $500,000$ usd/month, not counting ad revenue.\n",
    "\n",
    "We can estimate that $807,250$ are low value and $442,750$ are high value players\n",
    "\n",
    "About 11 % of the total player base creates 50 % of our revenue per month"
   ]
  },
  {
   "cell_type": "markdown",
   "metadata": {},
   "source": [
    "#### 5. Your boss asks \"How many loot boxes does it take before someone gets their first elixir?\" Using `np.random.choice`, simulate how many loot boxes it takes somone to get their first elixir. \n",
    "- Start an empty list.\n",
    "- Use control flow to have someone open loot boxes repeatedly.\n",
    "- Once they open a loot box containing an elixir, record the number of loot boxes it took in the empty list.\n",
    "- Repeat this process 100,000 times. \n",
    "\n",
    "This simulates how long it takes for someone to open a loot box containing elixir. Share the 5th, 25th, 50th, 75th, and 95th percentiles.\n",
    "\n",
    "> You may find [this documentation](https://docs.scipy.org/doc//numpy-1.10.4/reference/generated/numpy.random.choice.html)  and [this documentation](https://docs.scipy.org/doc/numpy/reference/generated/numpy.percentile.html) helpful."
   ]
  },
  {
   "cell_type": "code",
   "execution_count": 159,
   "metadata": {},
   "outputs": [],
   "source": [
    "#loot_box_session_tracker = []"
   ]
  },
  {
   "cell_type": "code",
   "execution_count": 1,
   "metadata": {},
   "outputs": [],
   "source": [
    "def open_loot(n):\n",
    "    loot_box_session_tracker = []\n",
    "    opened_lootboxes = []\n",
    "    probs = [True for i in range(1,16)] + [False for i in range(16,101)]\n",
    "    \n",
    "    for i in range(n):\n",
    "        box = np.random.choice(probs)\n",
    "        if box == True:\n",
    "            opened_lootboxes.append(box)\n",
    "            loot_box_session_tracker.append(i)\n",
    "        \n",
    "    time = np.percentile(opened_lootboxes,[5, 25, 50, 75, 95])\n",
    "    #sum(opened_lootboxes) / n, time\n",
    "    return f'5th Percentage: {time[0]}, 25th Percentage: {time[1]}, 50th percentage: {time[2]}, 75th Percentage: {time[3]}, 95th Percentage {time[4]}'\n",
    "        "
   ]
  },
  {
   "cell_type": "code",
   "execution_count": 4,
   "metadata": {},
   "outputs": [
    {
     "data": {
      "text/plain": [
       "'5th Percentage: 1.0, 25th Percentage: 1.0, 50th percentage: 1.0, 75th Percentage: 1.0, 95th Percentage 1.0'"
      ]
     },
     "execution_count": 4,
     "metadata": {},
     "output_type": "execute_result"
    }
   ],
   "source": [
    "open_loot(100_000)"
   ]
  },
  {
   "cell_type": "markdown",
   "metadata": {},
   "source": [
    "### Version 2 \n",
    "**NOTE**: No Python is necessary for these last two questions.\n",
    "\n",
    "After a substantial update to the game, suppose every loot box can be opened to reveal *one of four different* items:\n",
    "- magical elixir (occurs 1% of the time, most valuable)\n",
    "- golden pendant (occurs 9% of the time, valuable)\n",
    "- steel armor (occurs 30% of the time, semi-valuable)\n",
    "- bronze coin (occurs 60% of the time, least valuable)"
   ]
  },
  {
   "cell_type": "markdown",
   "metadata": {},
   "source": [
    "#### 6. Suppose you want repeat problem 5 above, but do that for the version 2 loot boxes so you can track how many loot boxes are needed to get each item? (e.g. You'd like to be able to say that on average it takes 10 trials to get a golden pendant, 3 trials to get steel armor, and so on.) What Python datatype is the best way to store this data? Why?"
   ]
  },
  {
   "cell_type": "markdown",
   "metadata": {},
   "source": [
    "Dict would be the best way to call on the data. You could define the keys as the type of reward and calling them will spit out the average loot box value for each key."
   ]
  },
  {
   "cell_type": "markdown",
   "metadata": {},
   "source": [
    "#### 7. Suppose you and your boss want to measure whether \"Version 2\" is better than \"Version 1.\" What metrics do you think are important to measure? (Your answers will vary here - use your judgment!)"
   ]
  },
  {
   "cell_type": "markdown",
   "metadata": {},
   "source": [
    "Profit - it's worth it to compare if there is a relationship to improving the game mechanics for an additional return.\n",
    "\n",
    "Player satistfaction - it is also important to develop content for the free-to-play playerbase because each one has an oppotunity of becoming a value producing player beyond ad-revenue.\n",
    "\n",
    "Time spent in game - it may be useful to track how long players stay in the game in either version, and optimize for the 'sweet' spot of games. if this is a mobile game, target 5 - 10 minutes where we prefer small but frequent openings of the application so they have exposure all day. For a facebook style javascript game or one meant to be played on the computer, target 30 min - 1 hr, because people on the computer tend to play their games longer, and have games open in the background and regurally tab back and forth between different tasks."
   ]
  }
 ],
 "metadata": {
  "kernelspec": {
   "display_name": "Python 3",
   "language": "python",
   "name": "python3"
  },
  "language_info": {
   "codemirror_mode": {
    "name": "ipython",
    "version": 3
   },
   "file_extension": ".py",
   "mimetype": "text/x-python",
   "name": "python",
   "nbconvert_exporter": "python",
   "pygments_lexer": "ipython3",
   "version": "3.8.3"
  }
 },
 "nbformat": 4,
 "nbformat_minor": 4
}
