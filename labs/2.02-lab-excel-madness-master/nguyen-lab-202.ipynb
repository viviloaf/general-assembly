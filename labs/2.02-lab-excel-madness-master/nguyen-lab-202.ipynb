{
 "cells": [
  {
   "cell_type": "markdown",
   "metadata": {},
   "source": [
    "<img src=\"http://imgur.com/1ZcRyrc.png\" style=\"float: left; margin: 20px; height: 55px\" />\n",
    "\n",
    "# Excel Madness Lab!\n",
    "\n",
    "_Author:_ Tim Book"
   ]
  },
  {
   "cell_type": "markdown",
   "metadata": {},
   "source": [
    "## Our Mission\n",
    "We work for a large supermarket chain, with stores in 10 major cities that happen to coincide with General Assembly campuses. However, this company's idea of a \"database\" is just a bunch of Excel spreadsheets! In order to analyze our data, we're going to need to process the existing data into a form we can use. **Our end goal is to have one csv per city.**\n",
    "\n",
    "## Cleanup Duty!\n",
    "It is a hard truth that data scientists spend a large majority of their time cleaning data. Data never arrives on our desks in exactly the format in which we want it, and it's up to us to transform it to a workable format.\n",
    "\n",
    "Being good cleaning, moving, and reshaping data is in itself a valuable and employable job skill. If you follow these directions exactly, we will walk through constructing an automated process for processing data from this supermarket chain."
   ]
  },
  {
   "cell_type": "markdown",
   "metadata": {},
   "source": [
    "# Part I: Processing\n",
    "\n",
    "### Step 1: Imports and the `os` library\n",
    "We're going to import three libraries: numpy, pandas, and `os`."
   ]
  },
  {
   "cell_type": "code",
   "execution_count": 1,
   "metadata": {},
   "outputs": [],
   "source": [
    "# Import libraries here.\n",
    "import numpy as np\n",
    "import pandas as pd\n",
    "import os"
   ]
  },
  {
   "cell_type": "markdown",
   "metadata": {},
   "source": [
    "The `os` library is extremely useful for performing system commands from within Python. Let's get two pieces of overhead out of the way now:\n",
    "\n",
    "1. Create an `output` folder using `os.mkdir()`\n",
    "2. Create a variable called `files` that is the list of files in the `data` folder using `os.listdir()`\n",
    "\n",
    "**WARNING:** The `os.mkdir()` function will give you an error if you try to make a folder that already exists!"
   ]
  },
  {
   "cell_type": "code",
   "execution_count": 2,
   "metadata": {},
   "outputs": [],
   "source": [
    "# Create an output folder.\n",
    "\n",
    "# Create a files variable that contains all of our data files."
   ]
  },
  {
   "cell_type": "code",
   "execution_count": 3,
   "metadata": {},
   "outputs": [
    {
     "ename": "FileExistsError",
     "evalue": "[Errno 17] File exists: 'output'",
     "output_type": "error",
     "traceback": [
      "\u001b[0;31m---------------------------------------------------------------------------\u001b[0m",
      "\u001b[0;31mFileExistsError\u001b[0m                           Traceback (most recent call last)",
      "\u001b[0;32m<ipython-input-3-141719309420>\u001b[0m in \u001b[0;36m<module>\u001b[0;34m\u001b[0m\n\u001b[0;32m----> 1\u001b[0;31m \u001b[0mos\u001b[0m\u001b[0;34m.\u001b[0m\u001b[0mmkdir\u001b[0m\u001b[0;34m(\u001b[0m\u001b[0;34m'output'\u001b[0m\u001b[0;34m)\u001b[0m\u001b[0;34m\u001b[0m\u001b[0;34m\u001b[0m\u001b[0m\n\u001b[0m",
      "\u001b[0;31mFileExistsError\u001b[0m: [Errno 17] File exists: 'output'"
     ]
    }
   ],
   "source": [
    "os.mkdir('output')"
   ]
  },
  {
   "cell_type": "code",
   "execution_count": 4,
   "metadata": {},
   "outputs": [],
   "source": [
    "\n",
    "files = os.listdir('./data')\n",
    "files = pd.Series(files)\n",
    "files = files[files.str.contains('.xlsx')]"
   ]
  },
  {
   "cell_type": "code",
   "execution_count": 5,
   "metadata": {},
   "outputs": [
    {
     "data": {
      "text/plain": [
       "0     Jan 26.xlsx\n",
       "1     Jan 25.xlsx\n",
       "3     Jan 19.xlsx\n",
       "4     Jan 14.xlsx\n",
       "5      Jan 6.xlsx\n",
       "6      Jan 4.xlsx\n",
       "7      Jan 1.xlsx\n",
       "8     Jan 18.xlsx\n",
       "9     Jan 28.xlsx\n",
       "10     Jan 9.xlsx\n",
       "11    Jan 29.xlsx\n",
       "12     Jan 5.xlsx\n",
       "13    Jan 31.xlsx\n",
       "14    Jan 12.xlsx\n",
       "15     Jan 2.xlsx\n",
       "16    Jan 23.xlsx\n",
       "17     Jan 7.xlsx\n",
       "18    Jan 13.xlsx\n",
       "19    Jan 10.xlsx\n",
       "20    Jan 20.xlsx\n",
       "21    Jan 27.xlsx\n",
       "22    Jan 24.xlsx\n",
       "23    Jan 15.xlsx\n",
       "24    Jan 17.xlsx\n",
       "25    Jan 16.xlsx\n",
       "26     Jan 8.xlsx\n",
       "27    Jan 22.xlsx\n",
       "28     Jan 3.xlsx\n",
       "29    Jan 21.xlsx\n",
       "30    Jan 11.xlsx\n",
       "31    Jan 30.xlsx\n",
       "dtype: object"
      ]
     },
     "execution_count": 5,
     "metadata": {},
     "output_type": "execute_result"
    }
   ],
   "source": [
    "files"
   ]
  },
  {
   "cell_type": "markdown",
   "metadata": {},
   "source": [
    "### Step 2: Process one data frame\n",
    "It looks like we have data for the month of January. 31 files of 10 sheets each! Luckily they are all in the same format. So let's read just one in and process that. It might be helpful to open one up in your spreadsheet viewer of choice first (Excel, Numbers, Sheets, etc.)"
   ]
  },
  {
   "cell_type": "code",
   "execution_count": 6,
   "metadata": {},
   "outputs": [],
   "source": [
    "# Read in data from your city from January 1st.\n",
    "#pd.read_csv('./data/Jan 1.xlsx')\n",
    "\n",
    "# Note, the data has a ParserError: Error tokenizing data. C error: Expected 1 fields in line 5, saw 2\n",
    "# I cannot open the data as it exists \n",
    "\n",
    "# Jan 1.xlsx is not UTF-8 encoded\n",
    "\n",
    "# To fix this, I need to open it in a text editor and resave it, As of 10/08/2020, I need to do this manually\n",
    "\n",
    "# NOTE, I found a Jupyter plugin that directly fixes my issue\n",
    "\n",
    "# Source : https://github.com/quigleyj97/jupyterlab-spreadsheet"
   ]
  },
  {
   "cell_type": "code",
   "execution_count": 7,
   "metadata": {},
   "outputs": [],
   "source": [
    "jan1 = pd.read_excel('./data/Jan 1.xlsx', sheet_name='Atlanta')"
   ]
  },
  {
   "cell_type": "code",
   "execution_count": 8,
   "metadata": {},
   "outputs": [
    {
     "data": {
      "text/plain": [
       "prodcode     4191.534759\n",
       "price_eu        1.784675\n",
       "weight_kg       5.380099\n",
       "quantity      300.342246\n",
       "dtype: float64"
      ]
     },
     "execution_count": 8,
     "metadata": {},
     "output_type": "execute_result"
    }
   ],
   "source": [
    "jan1.mean()"
   ]
  },
  {
   "cell_type": "markdown",
   "metadata": {},
   "source": [
    "### Step 2a: Convert to 'Merican columns\n",
    "For whatever reason, our data are stored in euros and kilograms. Create `price_usd` and `weight_lb` columns. There are 2.2 pounds per kilogram, and 1.1 dollars per euro."
   ]
  },
  {
   "cell_type": "code",
   "execution_count": 9,
   "metadata": {},
   "outputs": [],
   "source": [
    "jan1['price_usd'] = jan1['price_eu'] * 1.1"
   ]
  },
  {
   "cell_type": "code",
   "execution_count": 10,
   "metadata": {},
   "outputs": [
    {
     "data": {
      "text/html": [
       "<div>\n",
       "<style scoped>\n",
       "    .dataframe tbody tr th:only-of-type {\n",
       "        vertical-align: middle;\n",
       "    }\n",
       "\n",
       "    .dataframe tbody tr th {\n",
       "        vertical-align: top;\n",
       "    }\n",
       "\n",
       "    .dataframe thead th {\n",
       "        text-align: right;\n",
       "    }\n",
       "</style>\n",
       "<table border=\"1\" class=\"dataframe\">\n",
       "  <thead>\n",
       "    <tr style=\"text-align: right;\">\n",
       "      <th></th>\n",
       "      <th>prodcode</th>\n",
       "      <th>price_eu</th>\n",
       "      <th>weight_kg</th>\n",
       "      <th>quantity</th>\n",
       "      <th>price_usd</th>\n",
       "    </tr>\n",
       "  </thead>\n",
       "  <tbody>\n",
       "    <tr>\n",
       "      <th>0</th>\n",
       "      <td>4272</td>\n",
       "      <td>1.168366</td>\n",
       "      <td>4.629459</td>\n",
       "      <td>155</td>\n",
       "      <td>1.285202</td>\n",
       "    </tr>\n",
       "    <tr>\n",
       "      <th>1</th>\n",
       "      <td>4404</td>\n",
       "      <td>1.996501</td>\n",
       "      <td>2.155133</td>\n",
       "      <td>325</td>\n",
       "      <td>2.196151</td>\n",
       "    </tr>\n",
       "    <tr>\n",
       "      <th>2</th>\n",
       "      <td>4131</td>\n",
       "      <td>2.021499</td>\n",
       "      <td>8.381480</td>\n",
       "      <td>418</td>\n",
       "      <td>2.223649</td>\n",
       "    </tr>\n",
       "    <tr>\n",
       "      <th>3</th>\n",
       "      <td>4404</td>\n",
       "      <td>2.980396</td>\n",
       "      <td>7.450484</td>\n",
       "      <td>177</td>\n",
       "      <td>3.278436</td>\n",
       "    </tr>\n",
       "    <tr>\n",
       "      <th>4</th>\n",
       "      <td>4650</td>\n",
       "      <td>0.977975</td>\n",
       "      <td>8.094924</td>\n",
       "      <td>384</td>\n",
       "      <td>1.075772</td>\n",
       "    </tr>\n",
       "  </tbody>\n",
       "</table>\n",
       "</div>"
      ],
      "text/plain": [
       "   prodcode  price_eu  weight_kg  quantity  price_usd\n",
       "0      4272  1.168366   4.629459       155   1.285202\n",
       "1      4404  1.996501   2.155133       325   2.196151\n",
       "2      4131  2.021499   8.381480       418   2.223649\n",
       "3      4404  2.980396   7.450484       177   3.278436\n",
       "4      4650  0.977975   8.094924       384   1.075772"
      ]
     },
     "execution_count": 10,
     "metadata": {},
     "output_type": "execute_result"
    }
   ],
   "source": [
    "jan1.head()"
   ]
  },
  {
   "cell_type": "code",
   "execution_count": 11,
   "metadata": {},
   "outputs": [],
   "source": [
    "jan1['weight_lb'] = jan1['weight_kg'] * 2.2"
   ]
  },
  {
   "cell_type": "code",
   "execution_count": 12,
   "metadata": {},
   "outputs": [
    {
     "data": {
      "text/html": [
       "<div>\n",
       "<style scoped>\n",
       "    .dataframe tbody tr th:only-of-type {\n",
       "        vertical-align: middle;\n",
       "    }\n",
       "\n",
       "    .dataframe tbody tr th {\n",
       "        vertical-align: top;\n",
       "    }\n",
       "\n",
       "    .dataframe thead th {\n",
       "        text-align: right;\n",
       "    }\n",
       "</style>\n",
       "<table border=\"1\" class=\"dataframe\">\n",
       "  <thead>\n",
       "    <tr style=\"text-align: right;\">\n",
       "      <th></th>\n",
       "      <th>prodcode</th>\n",
       "      <th>price_eu</th>\n",
       "      <th>weight_kg</th>\n",
       "      <th>quantity</th>\n",
       "      <th>price_usd</th>\n",
       "      <th>weight_lb</th>\n",
       "    </tr>\n",
       "  </thead>\n",
       "  <tbody>\n",
       "    <tr>\n",
       "      <th>0</th>\n",
       "      <td>4272</td>\n",
       "      <td>1.168366</td>\n",
       "      <td>4.629459</td>\n",
       "      <td>155</td>\n",
       "      <td>1.285202</td>\n",
       "      <td>10.184810</td>\n",
       "    </tr>\n",
       "    <tr>\n",
       "      <th>1</th>\n",
       "      <td>4404</td>\n",
       "      <td>1.996501</td>\n",
       "      <td>2.155133</td>\n",
       "      <td>325</td>\n",
       "      <td>2.196151</td>\n",
       "      <td>4.741293</td>\n",
       "    </tr>\n",
       "    <tr>\n",
       "      <th>2</th>\n",
       "      <td>4131</td>\n",
       "      <td>2.021499</td>\n",
       "      <td>8.381480</td>\n",
       "      <td>418</td>\n",
       "      <td>2.223649</td>\n",
       "      <td>18.439256</td>\n",
       "    </tr>\n",
       "    <tr>\n",
       "      <th>3</th>\n",
       "      <td>4404</td>\n",
       "      <td>2.980396</td>\n",
       "      <td>7.450484</td>\n",
       "      <td>177</td>\n",
       "      <td>3.278436</td>\n",
       "      <td>16.391065</td>\n",
       "    </tr>\n",
       "    <tr>\n",
       "      <th>4</th>\n",
       "      <td>4650</td>\n",
       "      <td>0.977975</td>\n",
       "      <td>8.094924</td>\n",
       "      <td>384</td>\n",
       "      <td>1.075772</td>\n",
       "      <td>17.808832</td>\n",
       "    </tr>\n",
       "  </tbody>\n",
       "</table>\n",
       "</div>"
      ],
      "text/plain": [
       "   prodcode  price_eu  weight_kg  quantity  price_usd  weight_lb\n",
       "0      4272  1.168366   4.629459       155   1.285202  10.184810\n",
       "1      4404  1.996501   2.155133       325   2.196151   4.741293\n",
       "2      4131  2.021499   8.381480       418   2.223649  18.439256\n",
       "3      4404  2.980396   7.450484       177   3.278436  16.391065\n",
       "4      4650  0.977975   8.094924       384   1.075772  17.808832"
      ]
     },
     "execution_count": 12,
     "metadata": {},
     "output_type": "execute_result"
    }
   ],
   "source": [
    "jan1.head()"
   ]
  },
  {
   "cell_type": "markdown",
   "metadata": {},
   "source": [
    "### Step 2b: Merge in product names\n",
    "You'll notice we also have a `plu-codes.csv` file containing actual product names matched up against their price lookup (PLU) codes. Let's merge these product names onto our Jan 1 data.\n",
    "* _Hint 1:_ What kind of merge is this? Right, left, inner, outer, etc.?\n",
    "* _Hint 2:_ Pay special attention to column names!"
   ]
  },
  {
   "cell_type": "code",
   "execution_count": 13,
   "metadata": {},
   "outputs": [],
   "source": [
    "plu = pd.read_csv(\"plu-codes.csv\")"
   ]
  },
  {
   "cell_type": "code",
   "execution_count": 14,
   "metadata": {
    "scrolled": true
   },
   "outputs": [
    {
     "data": {
      "text/html": [
       "<div>\n",
       "<style scoped>\n",
       "    .dataframe tbody tr th:only-of-type {\n",
       "        vertical-align: middle;\n",
       "    }\n",
       "\n",
       "    .dataframe tbody tr th {\n",
       "        vertical-align: top;\n",
       "    }\n",
       "\n",
       "    .dataframe thead th {\n",
       "        text-align: right;\n",
       "    }\n",
       "</style>\n",
       "<table border=\"1\" class=\"dataframe\">\n",
       "  <thead>\n",
       "    <tr style=\"text-align: right;\">\n",
       "      <th></th>\n",
       "      <th>product</th>\n",
       "      <th>plu_code</th>\n",
       "    </tr>\n",
       "  </thead>\n",
       "  <tbody>\n",
       "    <tr>\n",
       "      <th>10</th>\n",
       "      <td>Grapes</td>\n",
       "      <td>4272</td>\n",
       "    </tr>\n",
       "  </tbody>\n",
       "</table>\n",
       "</div>"
      ],
      "text/plain": [
       "   product  plu_code\n",
       "10  Grapes      4272"
      ]
     },
     "execution_count": 14,
     "metadata": {},
     "output_type": "execute_result"
    }
   ],
   "source": [
    "plu[plu['plu_code'] == 4272]"
   ]
  },
  {
   "cell_type": "code",
   "execution_count": 15,
   "metadata": {},
   "outputs": [],
   "source": [
    "# I'm going to make the plu codes the index of the jan1, so i can easily combine the two DataFrames"
   ]
  },
  {
   "cell_type": "code",
   "execution_count": 16,
   "metadata": {},
   "outputs": [],
   "source": [
    "jan1.rename(columns={'prodcode': 'plu_code'}, inplace=True)"
   ]
  },
  {
   "cell_type": "code",
   "execution_count": 17,
   "metadata": {},
   "outputs": [
    {
     "data": {
      "text/html": [
       "<div>\n",
       "<style scoped>\n",
       "    .dataframe tbody tr th:only-of-type {\n",
       "        vertical-align: middle;\n",
       "    }\n",
       "\n",
       "    .dataframe tbody tr th {\n",
       "        vertical-align: top;\n",
       "    }\n",
       "\n",
       "    .dataframe thead th {\n",
       "        text-align: right;\n",
       "    }\n",
       "</style>\n",
       "<table border=\"1\" class=\"dataframe\">\n",
       "  <thead>\n",
       "    <tr style=\"text-align: right;\">\n",
       "      <th></th>\n",
       "      <th>plu_code</th>\n",
       "      <th>price_eu</th>\n",
       "      <th>weight_kg</th>\n",
       "      <th>quantity</th>\n",
       "      <th>price_usd</th>\n",
       "      <th>weight_lb</th>\n",
       "    </tr>\n",
       "  </thead>\n",
       "  <tbody>\n",
       "    <tr>\n",
       "      <th>0</th>\n",
       "      <td>4272</td>\n",
       "      <td>1.168366</td>\n",
       "      <td>4.629459</td>\n",
       "      <td>155</td>\n",
       "      <td>1.285202</td>\n",
       "      <td>10.184810</td>\n",
       "    </tr>\n",
       "    <tr>\n",
       "      <th>1</th>\n",
       "      <td>4404</td>\n",
       "      <td>1.996501</td>\n",
       "      <td>2.155133</td>\n",
       "      <td>325</td>\n",
       "      <td>2.196151</td>\n",
       "      <td>4.741293</td>\n",
       "    </tr>\n",
       "    <tr>\n",
       "      <th>2</th>\n",
       "      <td>4131</td>\n",
       "      <td>2.021499</td>\n",
       "      <td>8.381480</td>\n",
       "      <td>418</td>\n",
       "      <td>2.223649</td>\n",
       "      <td>18.439256</td>\n",
       "    </tr>\n",
       "    <tr>\n",
       "      <th>3</th>\n",
       "      <td>4404</td>\n",
       "      <td>2.980396</td>\n",
       "      <td>7.450484</td>\n",
       "      <td>177</td>\n",
       "      <td>3.278436</td>\n",
       "      <td>16.391065</td>\n",
       "    </tr>\n",
       "    <tr>\n",
       "      <th>4</th>\n",
       "      <td>4650</td>\n",
       "      <td>0.977975</td>\n",
       "      <td>8.094924</td>\n",
       "      <td>384</td>\n",
       "      <td>1.075772</td>\n",
       "      <td>17.808832</td>\n",
       "    </tr>\n",
       "  </tbody>\n",
       "</table>\n",
       "</div>"
      ],
      "text/plain": [
       "   plu_code  price_eu  weight_kg  quantity  price_usd  weight_lb\n",
       "0      4272  1.168366   4.629459       155   1.285202  10.184810\n",
       "1      4404  1.996501   2.155133       325   2.196151   4.741293\n",
       "2      4131  2.021499   8.381480       418   2.223649  18.439256\n",
       "3      4404  2.980396   7.450484       177   3.278436  16.391065\n",
       "4      4650  0.977975   8.094924       384   1.075772  17.808832"
      ]
     },
     "execution_count": 17,
     "metadata": {},
     "output_type": "execute_result"
    }
   ],
   "source": [
    "jan1.head()"
   ]
  },
  {
   "cell_type": "code",
   "execution_count": 18,
   "metadata": {},
   "outputs": [],
   "source": [
    "jan1.set_index('plu_code', inplace=True)"
   ]
  },
  {
   "cell_type": "code",
   "execution_count": 19,
   "metadata": {},
   "outputs": [
    {
     "data": {
      "text/html": [
       "<div>\n",
       "<style scoped>\n",
       "    .dataframe tbody tr th:only-of-type {\n",
       "        vertical-align: middle;\n",
       "    }\n",
       "\n",
       "    .dataframe tbody tr th {\n",
       "        vertical-align: top;\n",
       "    }\n",
       "\n",
       "    .dataframe thead th {\n",
       "        text-align: right;\n",
       "    }\n",
       "</style>\n",
       "<table border=\"1\" class=\"dataframe\">\n",
       "  <thead>\n",
       "    <tr style=\"text-align: right;\">\n",
       "      <th></th>\n",
       "      <th>price_eu</th>\n",
       "      <th>weight_kg</th>\n",
       "      <th>quantity</th>\n",
       "      <th>price_usd</th>\n",
       "      <th>weight_lb</th>\n",
       "    </tr>\n",
       "    <tr>\n",
       "      <th>plu_code</th>\n",
       "      <th></th>\n",
       "      <th></th>\n",
       "      <th></th>\n",
       "      <th></th>\n",
       "      <th></th>\n",
       "    </tr>\n",
       "  </thead>\n",
       "  <tbody>\n",
       "    <tr>\n",
       "      <th>4272</th>\n",
       "      <td>1.168366</td>\n",
       "      <td>4.629459</td>\n",
       "      <td>155</td>\n",
       "      <td>1.285202</td>\n",
       "      <td>10.184810</td>\n",
       "    </tr>\n",
       "    <tr>\n",
       "      <th>4404</th>\n",
       "      <td>1.996501</td>\n",
       "      <td>2.155133</td>\n",
       "      <td>325</td>\n",
       "      <td>2.196151</td>\n",
       "      <td>4.741293</td>\n",
       "    </tr>\n",
       "    <tr>\n",
       "      <th>4131</th>\n",
       "      <td>2.021499</td>\n",
       "      <td>8.381480</td>\n",
       "      <td>418</td>\n",
       "      <td>2.223649</td>\n",
       "      <td>18.439256</td>\n",
       "    </tr>\n",
       "    <tr>\n",
       "      <th>4404</th>\n",
       "      <td>2.980396</td>\n",
       "      <td>7.450484</td>\n",
       "      <td>177</td>\n",
       "      <td>3.278436</td>\n",
       "      <td>16.391065</td>\n",
       "    </tr>\n",
       "    <tr>\n",
       "      <th>4650</th>\n",
       "      <td>0.977975</td>\n",
       "      <td>8.094924</td>\n",
       "      <td>384</td>\n",
       "      <td>1.075772</td>\n",
       "      <td>17.808832</td>\n",
       "    </tr>\n",
       "  </tbody>\n",
       "</table>\n",
       "</div>"
      ],
      "text/plain": [
       "          price_eu  weight_kg  quantity  price_usd  weight_lb\n",
       "plu_code                                                     \n",
       "4272      1.168366   4.629459       155   1.285202  10.184810\n",
       "4404      1.996501   2.155133       325   2.196151   4.741293\n",
       "4131      2.021499   8.381480       418   2.223649  18.439256\n",
       "4404      2.980396   7.450484       177   3.278436  16.391065\n",
       "4650      0.977975   8.094924       384   1.075772  17.808832"
      ]
     },
     "execution_count": 19,
     "metadata": {},
     "output_type": "execute_result"
    }
   ],
   "source": [
    "jan1.head()"
   ]
  },
  {
   "cell_type": "code",
   "execution_count": 20,
   "metadata": {},
   "outputs": [],
   "source": [
    "# Now change the name of the other DataFrame"
   ]
  },
  {
   "cell_type": "code",
   "execution_count": 21,
   "metadata": {},
   "outputs": [
    {
     "data": {
      "text/html": [
       "<div>\n",
       "<style scoped>\n",
       "    .dataframe tbody tr th:only-of-type {\n",
       "        vertical-align: middle;\n",
       "    }\n",
       "\n",
       "    .dataframe tbody tr th {\n",
       "        vertical-align: top;\n",
       "    }\n",
       "\n",
       "    .dataframe thead th {\n",
       "        text-align: right;\n",
       "    }\n",
       "</style>\n",
       "<table border=\"1\" class=\"dataframe\">\n",
       "  <thead>\n",
       "    <tr style=\"text-align: right;\">\n",
       "      <th></th>\n",
       "      <th>product</th>\n",
       "      <th>plu_code</th>\n",
       "    </tr>\n",
       "  </thead>\n",
       "  <tbody>\n",
       "    <tr>\n",
       "      <th>0</th>\n",
       "      <td>Apple (Fuji)</td>\n",
       "      <td>4131</td>\n",
       "    </tr>\n",
       "    <tr>\n",
       "      <th>1</th>\n",
       "      <td>Apple (Gala)</td>\n",
       "      <td>4134</td>\n",
       "    </tr>\n",
       "    <tr>\n",
       "      <th>2</th>\n",
       "      <td>Apricot</td>\n",
       "      <td>3302</td>\n",
       "    </tr>\n",
       "    <tr>\n",
       "      <th>3</th>\n",
       "      <td>Avocado</td>\n",
       "      <td>4225</td>\n",
       "    </tr>\n",
       "    <tr>\n",
       "      <th>4</th>\n",
       "      <td>Banana</td>\n",
       "      <td>4011</td>\n",
       "    </tr>\n",
       "  </tbody>\n",
       "</table>\n",
       "</div>"
      ],
      "text/plain": [
       "        product  plu_code\n",
       "0  Apple (Fuji)      4131\n",
       "1  Apple (Gala)      4134\n",
       "2       Apricot      3302\n",
       "3       Avocado      4225\n",
       "4        Banana      4011"
      ]
     },
     "execution_count": 21,
     "metadata": {},
     "output_type": "execute_result"
    }
   ],
   "source": [
    "plu.head()"
   ]
  },
  {
   "cell_type": "code",
   "execution_count": 22,
   "metadata": {},
   "outputs": [],
   "source": [
    "plu.set_index('plu_code', inplace=True)"
   ]
  },
  {
   "cell_type": "code",
   "execution_count": 23,
   "metadata": {},
   "outputs": [
    {
     "data": {
      "text/html": [
       "<div>\n",
       "<style scoped>\n",
       "    .dataframe tbody tr th:only-of-type {\n",
       "        vertical-align: middle;\n",
       "    }\n",
       "\n",
       "    .dataframe tbody tr th {\n",
       "        vertical-align: top;\n",
       "    }\n",
       "\n",
       "    .dataframe thead th {\n",
       "        text-align: right;\n",
       "    }\n",
       "</style>\n",
       "<table border=\"1\" class=\"dataframe\">\n",
       "  <thead>\n",
       "    <tr style=\"text-align: right;\">\n",
       "      <th></th>\n",
       "      <th>product</th>\n",
       "    </tr>\n",
       "    <tr>\n",
       "      <th>plu_code</th>\n",
       "      <th></th>\n",
       "    </tr>\n",
       "  </thead>\n",
       "  <tbody>\n",
       "    <tr>\n",
       "      <th>4131</th>\n",
       "      <td>Apple (Fuji)</td>\n",
       "    </tr>\n",
       "    <tr>\n",
       "      <th>4134</th>\n",
       "      <td>Apple (Gala)</td>\n",
       "    </tr>\n",
       "    <tr>\n",
       "      <th>3302</th>\n",
       "      <td>Apricot</td>\n",
       "    </tr>\n",
       "    <tr>\n",
       "      <th>4225</th>\n",
       "      <td>Avocado</td>\n",
       "    </tr>\n",
       "    <tr>\n",
       "      <th>4011</th>\n",
       "      <td>Banana</td>\n",
       "    </tr>\n",
       "  </tbody>\n",
       "</table>\n",
       "</div>"
      ],
      "text/plain": [
       "               product\n",
       "plu_code              \n",
       "4131      Apple (Fuji)\n",
       "4134      Apple (Gala)\n",
       "3302           Apricot\n",
       "4225           Avocado\n",
       "4011            Banana"
      ]
     },
     "execution_count": 23,
     "metadata": {},
     "output_type": "execute_result"
    }
   ],
   "source": [
    "plu.head()"
   ]
  },
  {
   "cell_type": "code",
   "execution_count": 24,
   "metadata": {},
   "outputs": [],
   "source": [
    "jan1_complete = pd.merge(jan1, plu, how='left', on='plu_code')"
   ]
  },
  {
   "cell_type": "markdown",
   "metadata": {},
   "source": [
    "### Step 2c: Drop unnecessary columns\n",
    "We've created some extraneous columns. Drop the old price and weight columns, as well as any redundant columns."
   ]
  },
  {
   "cell_type": "code",
   "execution_count": 25,
   "metadata": {},
   "outputs": [
    {
     "data": {
      "text/html": [
       "<div>\n",
       "<style scoped>\n",
       "    .dataframe tbody tr th:only-of-type {\n",
       "        vertical-align: middle;\n",
       "    }\n",
       "\n",
       "    .dataframe tbody tr th {\n",
       "        vertical-align: top;\n",
       "    }\n",
       "\n",
       "    .dataframe thead th {\n",
       "        text-align: right;\n",
       "    }\n",
       "</style>\n",
       "<table border=\"1\" class=\"dataframe\">\n",
       "  <thead>\n",
       "    <tr style=\"text-align: right;\">\n",
       "      <th></th>\n",
       "      <th>price_eu</th>\n",
       "      <th>weight_kg</th>\n",
       "      <th>quantity</th>\n",
       "      <th>price_usd</th>\n",
       "      <th>weight_lb</th>\n",
       "      <th>product</th>\n",
       "    </tr>\n",
       "    <tr>\n",
       "      <th>plu_code</th>\n",
       "      <th></th>\n",
       "      <th></th>\n",
       "      <th></th>\n",
       "      <th></th>\n",
       "      <th></th>\n",
       "      <th></th>\n",
       "    </tr>\n",
       "  </thead>\n",
       "  <tbody>\n",
       "    <tr>\n",
       "      <th>4272</th>\n",
       "      <td>1.168366</td>\n",
       "      <td>4.629459</td>\n",
       "      <td>155</td>\n",
       "      <td>1.285202</td>\n",
       "      <td>10.184810</td>\n",
       "      <td>Grapes</td>\n",
       "    </tr>\n",
       "    <tr>\n",
       "      <th>4404</th>\n",
       "      <td>1.996501</td>\n",
       "      <td>2.155133</td>\n",
       "      <td>325</td>\n",
       "      <td>2.196151</td>\n",
       "      <td>4.741293</td>\n",
       "      <td>Peach</td>\n",
       "    </tr>\n",
       "    <tr>\n",
       "      <th>4131</th>\n",
       "      <td>2.021499</td>\n",
       "      <td>8.381480</td>\n",
       "      <td>418</td>\n",
       "      <td>2.223649</td>\n",
       "      <td>18.439256</td>\n",
       "      <td>Apple (Fuji)</td>\n",
       "    </tr>\n",
       "    <tr>\n",
       "      <th>4404</th>\n",
       "      <td>2.980396</td>\n",
       "      <td>7.450484</td>\n",
       "      <td>177</td>\n",
       "      <td>3.278436</td>\n",
       "      <td>16.391065</td>\n",
       "      <td>Peach</td>\n",
       "    </tr>\n",
       "    <tr>\n",
       "      <th>4650</th>\n",
       "      <td>0.977975</td>\n",
       "      <td>8.094924</td>\n",
       "      <td>384</td>\n",
       "      <td>1.075772</td>\n",
       "      <td>17.808832</td>\n",
       "      <td>Mushroom</td>\n",
       "    </tr>\n",
       "  </tbody>\n",
       "</table>\n",
       "</div>"
      ],
      "text/plain": [
       "          price_eu  weight_kg  quantity  price_usd  weight_lb       product\n",
       "plu_code                                                                   \n",
       "4272      1.168366   4.629459       155   1.285202  10.184810        Grapes\n",
       "4404      1.996501   2.155133       325   2.196151   4.741293         Peach\n",
       "4131      2.021499   8.381480       418   2.223649  18.439256  Apple (Fuji)\n",
       "4404      2.980396   7.450484       177   3.278436  16.391065         Peach\n",
       "4650      0.977975   8.094924       384   1.075772  17.808832      Mushroom"
      ]
     },
     "execution_count": 25,
     "metadata": {},
     "output_type": "execute_result"
    }
   ],
   "source": [
    "jan1_complete.head()"
   ]
  },
  {
   "cell_type": "code",
   "execution_count": 26,
   "metadata": {},
   "outputs": [],
   "source": [
    "jan1_complete.drop(['price_eu', 'weight_kg'], axis=1, inplace=True)"
   ]
  },
  {
   "cell_type": "code",
   "execution_count": 27,
   "metadata": {},
   "outputs": [
    {
     "data": {
      "text/html": [
       "<div>\n",
       "<style scoped>\n",
       "    .dataframe tbody tr th:only-of-type {\n",
       "        vertical-align: middle;\n",
       "    }\n",
       "\n",
       "    .dataframe tbody tr th {\n",
       "        vertical-align: top;\n",
       "    }\n",
       "\n",
       "    .dataframe thead th {\n",
       "        text-align: right;\n",
       "    }\n",
       "</style>\n",
       "<table border=\"1\" class=\"dataframe\">\n",
       "  <thead>\n",
       "    <tr style=\"text-align: right;\">\n",
       "      <th></th>\n",
       "      <th>quantity</th>\n",
       "      <th>price_usd</th>\n",
       "      <th>weight_lb</th>\n",
       "      <th>product</th>\n",
       "    </tr>\n",
       "    <tr>\n",
       "      <th>plu_code</th>\n",
       "      <th></th>\n",
       "      <th></th>\n",
       "      <th></th>\n",
       "      <th></th>\n",
       "    </tr>\n",
       "  </thead>\n",
       "  <tbody>\n",
       "    <tr>\n",
       "      <th>4272</th>\n",
       "      <td>155</td>\n",
       "      <td>1.285202</td>\n",
       "      <td>10.184810</td>\n",
       "      <td>Grapes</td>\n",
       "    </tr>\n",
       "    <tr>\n",
       "      <th>4404</th>\n",
       "      <td>325</td>\n",
       "      <td>2.196151</td>\n",
       "      <td>4.741293</td>\n",
       "      <td>Peach</td>\n",
       "    </tr>\n",
       "    <tr>\n",
       "      <th>4131</th>\n",
       "      <td>418</td>\n",
       "      <td>2.223649</td>\n",
       "      <td>18.439256</td>\n",
       "      <td>Apple (Fuji)</td>\n",
       "    </tr>\n",
       "    <tr>\n",
       "      <th>4404</th>\n",
       "      <td>177</td>\n",
       "      <td>3.278436</td>\n",
       "      <td>16.391065</td>\n",
       "      <td>Peach</td>\n",
       "    </tr>\n",
       "    <tr>\n",
       "      <th>4650</th>\n",
       "      <td>384</td>\n",
       "      <td>1.075772</td>\n",
       "      <td>17.808832</td>\n",
       "      <td>Mushroom</td>\n",
       "    </tr>\n",
       "    <tr>\n",
       "      <th>...</th>\n",
       "      <td>...</td>\n",
       "      <td>...</td>\n",
       "      <td>...</td>\n",
       "      <td>...</td>\n",
       "    </tr>\n",
       "    <tr>\n",
       "      <th>4062</th>\n",
       "      <td>223</td>\n",
       "      <td>3.108474</td>\n",
       "      <td>9.616004</td>\n",
       "      <td>Cucumber</td>\n",
       "    </tr>\n",
       "    <tr>\n",
       "      <th>4134</th>\n",
       "      <td>134</td>\n",
       "      <td>2.890181</td>\n",
       "      <td>2.359222</td>\n",
       "      <td>Apple (Gala)</td>\n",
       "    </tr>\n",
       "    <tr>\n",
       "      <th>4131</th>\n",
       "      <td>430</td>\n",
       "      <td>2.697951</td>\n",
       "      <td>21.614385</td>\n",
       "      <td>Apple (Fuji)</td>\n",
       "    </tr>\n",
       "    <tr>\n",
       "      <th>4011</th>\n",
       "      <td>288</td>\n",
       "      <td>2.436066</td>\n",
       "      <td>9.675293</td>\n",
       "      <td>Banana</td>\n",
       "    </tr>\n",
       "    <tr>\n",
       "      <th>4404</th>\n",
       "      <td>313</td>\n",
       "      <td>2.176265</td>\n",
       "      <td>21.720178</td>\n",
       "      <td>Peach</td>\n",
       "    </tr>\n",
       "  </tbody>\n",
       "</table>\n",
       "<p>187 rows × 4 columns</p>\n",
       "</div>"
      ],
      "text/plain": [
       "          quantity  price_usd  weight_lb       product\n",
       "plu_code                                              \n",
       "4272           155   1.285202  10.184810        Grapes\n",
       "4404           325   2.196151   4.741293         Peach\n",
       "4131           418   2.223649  18.439256  Apple (Fuji)\n",
       "4404           177   3.278436  16.391065         Peach\n",
       "4650           384   1.075772  17.808832      Mushroom\n",
       "...            ...        ...        ...           ...\n",
       "4062           223   3.108474   9.616004      Cucumber\n",
       "4134           134   2.890181   2.359222  Apple (Gala)\n",
       "4131           430   2.697951  21.614385  Apple (Fuji)\n",
       "4011           288   2.436066   9.675293        Banana\n",
       "4404           313   2.176265  21.720178         Peach\n",
       "\n",
       "[187 rows x 4 columns]"
      ]
     },
     "execution_count": 27,
     "metadata": {},
     "output_type": "execute_result"
    }
   ],
   "source": [
    "jan1_complete"
   ]
  },
  {
   "cell_type": "code",
   "execution_count": 28,
   "metadata": {},
   "outputs": [
    {
     "data": {
      "text/plain": [
       "quantity     300.342246\n",
       "price_usd      1.963143\n",
       "weight_lb     11.836218\n",
       "dtype: float64"
      ]
     },
     "execution_count": 28,
     "metadata": {},
     "output_type": "execute_result"
    }
   ],
   "source": [
    "jan1_complete.mean()"
   ]
  },
  {
   "cell_type": "markdown",
   "metadata": {},
   "source": [
    "### Step 2d: Add the date\n",
    "Simply create a new `date` column that is the date this data was collected. For example, if this is from `Jan 1.xlsx`, this column should be full of `Jan 1`."
   ]
  },
  {
   "cell_type": "code",
   "execution_count": 29,
   "metadata": {},
   "outputs": [],
   "source": [
    "import datetime as dt"
   ]
  },
  {
   "cell_type": "code",
   "execution_count": 30,
   "metadata": {},
   "outputs": [],
   "source": [
    "jan1_complete['date'] = dt.datetime(2020, 1, 1)"
   ]
  },
  {
   "cell_type": "code",
   "execution_count": 31,
   "metadata": {},
   "outputs": [
    {
     "data": {
      "text/html": [
       "<div>\n",
       "<style scoped>\n",
       "    .dataframe tbody tr th:only-of-type {\n",
       "        vertical-align: middle;\n",
       "    }\n",
       "\n",
       "    .dataframe tbody tr th {\n",
       "        vertical-align: top;\n",
       "    }\n",
       "\n",
       "    .dataframe thead th {\n",
       "        text-align: right;\n",
       "    }\n",
       "</style>\n",
       "<table border=\"1\" class=\"dataframe\">\n",
       "  <thead>\n",
       "    <tr style=\"text-align: right;\">\n",
       "      <th></th>\n",
       "      <th>quantity</th>\n",
       "      <th>price_usd</th>\n",
       "      <th>weight_lb</th>\n",
       "      <th>product</th>\n",
       "      <th>date</th>\n",
       "    </tr>\n",
       "    <tr>\n",
       "      <th>plu_code</th>\n",
       "      <th></th>\n",
       "      <th></th>\n",
       "      <th></th>\n",
       "      <th></th>\n",
       "      <th></th>\n",
       "    </tr>\n",
       "  </thead>\n",
       "  <tbody>\n",
       "    <tr>\n",
       "      <th>4272</th>\n",
       "      <td>155</td>\n",
       "      <td>1.285202</td>\n",
       "      <td>10.184810</td>\n",
       "      <td>Grapes</td>\n",
       "      <td>2020-01-01</td>\n",
       "    </tr>\n",
       "    <tr>\n",
       "      <th>4404</th>\n",
       "      <td>325</td>\n",
       "      <td>2.196151</td>\n",
       "      <td>4.741293</td>\n",
       "      <td>Peach</td>\n",
       "      <td>2020-01-01</td>\n",
       "    </tr>\n",
       "    <tr>\n",
       "      <th>4131</th>\n",
       "      <td>418</td>\n",
       "      <td>2.223649</td>\n",
       "      <td>18.439256</td>\n",
       "      <td>Apple (Fuji)</td>\n",
       "      <td>2020-01-01</td>\n",
       "    </tr>\n",
       "    <tr>\n",
       "      <th>4404</th>\n",
       "      <td>177</td>\n",
       "      <td>3.278436</td>\n",
       "      <td>16.391065</td>\n",
       "      <td>Peach</td>\n",
       "      <td>2020-01-01</td>\n",
       "    </tr>\n",
       "    <tr>\n",
       "      <th>4650</th>\n",
       "      <td>384</td>\n",
       "      <td>1.075772</td>\n",
       "      <td>17.808832</td>\n",
       "      <td>Mushroom</td>\n",
       "      <td>2020-01-01</td>\n",
       "    </tr>\n",
       "  </tbody>\n",
       "</table>\n",
       "</div>"
      ],
      "text/plain": [
       "          quantity  price_usd  weight_lb       product       date\n",
       "plu_code                                                         \n",
       "4272           155   1.285202  10.184810        Grapes 2020-01-01\n",
       "4404           325   2.196151   4.741293         Peach 2020-01-01\n",
       "4131           418   2.223649  18.439256  Apple (Fuji) 2020-01-01\n",
       "4404           177   3.278436  16.391065         Peach 2020-01-01\n",
       "4650           384   1.075772  17.808832      Mushroom 2020-01-01"
      ]
     },
     "execution_count": 31,
     "metadata": {},
     "output_type": "execute_result"
    }
   ],
   "source": [
    "jan1_complete.head()"
   ]
  },
  {
   "cell_type": "markdown",
   "metadata": {},
   "source": [
    "### Step 3: Write a function that conducts all of Step 2\n",
    "This function should import a **filename and a city name** and return a fully processed DataFrame. That is, the function should:\n",
    "1. Read in the data from the given file and city.\n",
    "1. Create USD and pound columns.\n",
    "1. Merge in product names.\n",
    "1. Drop unnecessary columns.\n",
    "1. Add a date column"
   ]
  },
  {
   "cell_type": "code",
   "execution_count": 32,
   "metadata": {},
   "outputs": [],
   "source": [
    "def process_data(file, city):\n",
    "    '''\n",
    "    This function processes in excel files\n",
    "    Pass the file with the relative or absolute filepath\n",
    "    Pass in a city that exists as a sheet name\n",
    "    \n",
    "    Eg:\n",
    "    \n",
    "    process_data('./data/jan 1.xlsx', 'Atlanta')\n",
    "    '''\n",
    "    # This portion copies in our PLU library and prepares it\n",
    "    plu = pd.read_csv(\"plu-codes.csv\")\n",
    "    plu.set_index('plu_code', inplace=True)\n",
    "    \n",
    "    # This portion passes in your input strings\n",
    "    # Changes index to PLU code, converts European units to American Units\n",
    "    # Removes redundant columns\n",
    "    # Returns a completed Dataframe that is assignable to a filename\n",
    "\n",
    "\n",
    "    return_filename = file[7:-5]\n",
    "    #print(return_filename)\n",
    "    excel_month = return_filename.split(sep=' ')[0]\n",
    "    excel_day = return_filename.split(sep=' ')[1]\n",
    "    \n",
    "    excel = pd.read_excel(file, sheet_name=city)\n",
    "    excel.rename(columns={'prodcode': 'plu_code'}, inplace=True)\n",
    "    excel.set_index('plu_code', inplace=True)\n",
    "    excel['price_usd'] = excel['price_eu'] * 1.1\n",
    "    excel['weight_lb'] = excel['weight_kg'] * 2.2\n",
    "    excel_complete = pd.merge(excel, plu, how='left', on='plu_code')\n",
    "    excel_complete.drop(['price_eu', 'weight_kg'], axis=1, inplace=True)\n",
    "    excel_complete['date'] = dt.datetime(2020, 1, int(excel_day))\n",
    "    return excel_complete\n",
    "    "
   ]
  },
  {
   "cell_type": "markdown",
   "metadata": {},
   "source": [
    "Test your function out on a new file and city!"
   ]
  },
  {
   "cell_type": "code",
   "execution_count": 33,
   "metadata": {},
   "outputs": [],
   "source": [
    "jan2_completed = process_data('./data/Jan 31.xlsx', 'Atlanta')"
   ]
  },
  {
   "cell_type": "code",
   "execution_count": 34,
   "metadata": {},
   "outputs": [
    {
     "data": {
      "text/html": [
       "<div>\n",
       "<style scoped>\n",
       "    .dataframe tbody tr th:only-of-type {\n",
       "        vertical-align: middle;\n",
       "    }\n",
       "\n",
       "    .dataframe tbody tr th {\n",
       "        vertical-align: top;\n",
       "    }\n",
       "\n",
       "    .dataframe thead th {\n",
       "        text-align: right;\n",
       "    }\n",
       "</style>\n",
       "<table border=\"1\" class=\"dataframe\">\n",
       "  <thead>\n",
       "    <tr style=\"text-align: right;\">\n",
       "      <th></th>\n",
       "      <th>quantity</th>\n",
       "      <th>price_usd</th>\n",
       "      <th>weight_lb</th>\n",
       "      <th>product</th>\n",
       "      <th>date</th>\n",
       "    </tr>\n",
       "    <tr>\n",
       "      <th>plu_code</th>\n",
       "      <th></th>\n",
       "      <th></th>\n",
       "      <th></th>\n",
       "      <th></th>\n",
       "      <th></th>\n",
       "    </tr>\n",
       "  </thead>\n",
       "  <tbody>\n",
       "    <tr>\n",
       "      <th>4159</th>\n",
       "      <td>124</td>\n",
       "      <td>1.008171</td>\n",
       "      <td>19.673902</td>\n",
       "      <td>Onion</td>\n",
       "      <td>2020-01-31</td>\n",
       "    </tr>\n",
       "    <tr>\n",
       "      <th>4404</th>\n",
       "      <td>235</td>\n",
       "      <td>1.569633</td>\n",
       "      <td>15.691165</td>\n",
       "      <td>Peach</td>\n",
       "      <td>2020-01-31</td>\n",
       "    </tr>\n",
       "    <tr>\n",
       "      <th>4323</th>\n",
       "      <td>143</td>\n",
       "      <td>1.387107</td>\n",
       "      <td>20.688245</td>\n",
       "      <td>Strawberries</td>\n",
       "      <td>2020-01-31</td>\n",
       "    </tr>\n",
       "    <tr>\n",
       "      <th>4062</th>\n",
       "      <td>318</td>\n",
       "      <td>2.251221</td>\n",
       "      <td>19.665940</td>\n",
       "      <td>Cucumber</td>\n",
       "      <td>2020-01-31</td>\n",
       "    </tr>\n",
       "    <tr>\n",
       "      <th>4323</th>\n",
       "      <td>423</td>\n",
       "      <td>1.934139</td>\n",
       "      <td>4.730840</td>\n",
       "      <td>Strawberries</td>\n",
       "      <td>2020-01-31</td>\n",
       "    </tr>\n",
       "    <tr>\n",
       "      <th>...</th>\n",
       "      <td>...</td>\n",
       "      <td>...</td>\n",
       "      <td>...</td>\n",
       "      <td>...</td>\n",
       "      <td>...</td>\n",
       "    </tr>\n",
       "    <tr>\n",
       "      <th>4272</th>\n",
       "      <td>375</td>\n",
       "      <td>3.033002</td>\n",
       "      <td>8.460521</td>\n",
       "      <td>Grapes</td>\n",
       "      <td>2020-01-31</td>\n",
       "    </tr>\n",
       "    <tr>\n",
       "      <th>4958</th>\n",
       "      <td>440</td>\n",
       "      <td>2.314251</td>\n",
       "      <td>4.608503</td>\n",
       "      <td>Lemon</td>\n",
       "      <td>2020-01-31</td>\n",
       "    </tr>\n",
       "    <tr>\n",
       "      <th>4078</th>\n",
       "      <td>444</td>\n",
       "      <td>3.222500</td>\n",
       "      <td>14.817661</td>\n",
       "      <td>Corn</td>\n",
       "      <td>2020-01-31</td>\n",
       "    </tr>\n",
       "    <tr>\n",
       "      <th>3302</th>\n",
       "      <td>320</td>\n",
       "      <td>0.741137</td>\n",
       "      <td>4.641995</td>\n",
       "      <td>Apricot</td>\n",
       "      <td>2020-01-31</td>\n",
       "    </tr>\n",
       "    <tr>\n",
       "      <th>4323</th>\n",
       "      <td>283</td>\n",
       "      <td>0.702431</td>\n",
       "      <td>6.402340</td>\n",
       "      <td>Strawberries</td>\n",
       "      <td>2020-01-31</td>\n",
       "    </tr>\n",
       "  </tbody>\n",
       "</table>\n",
       "<p>140 rows × 5 columns</p>\n",
       "</div>"
      ],
      "text/plain": [
       "          quantity  price_usd  weight_lb       product       date\n",
       "plu_code                                                         \n",
       "4159           124   1.008171  19.673902         Onion 2020-01-31\n",
       "4404           235   1.569633  15.691165         Peach 2020-01-31\n",
       "4323           143   1.387107  20.688245  Strawberries 2020-01-31\n",
       "4062           318   2.251221  19.665940      Cucumber 2020-01-31\n",
       "4323           423   1.934139   4.730840  Strawberries 2020-01-31\n",
       "...            ...        ...        ...           ...        ...\n",
       "4272           375   3.033002   8.460521        Grapes 2020-01-31\n",
       "4958           440   2.314251   4.608503         Lemon 2020-01-31\n",
       "4078           444   3.222500  14.817661          Corn 2020-01-31\n",
       "3302           320   0.741137   4.641995       Apricot 2020-01-31\n",
       "4323           283   0.702431   6.402340  Strawberries 2020-01-31\n",
       "\n",
       "[140 rows x 5 columns]"
      ]
     },
     "execution_count": 34,
     "metadata": {},
     "output_type": "execute_result"
    }
   ],
   "source": [
    "jan2_completed"
   ]
  },
  {
   "cell_type": "markdown",
   "metadata": {},
   "source": [
    "### Step 4: Process all of January's data\n",
    "For each spreadsheet, process the data and store the resulting DataFrame in one big list. **You only need to do this for your city!**\n",
    "\n",
    "* _Hint 1:_ A listcomp would make this whole step one line of code!\n",
    "* _Hint 2:_ You've already made that `files` variable to help you here."
   ]
  },
  {
   "cell_type": "code",
   "execution_count": 35,
   "metadata": {},
   "outputs": [],
   "source": [
    "jan_complete = pd.concat([process_data(f'./data/{i}', 'Atlanta') for i in files])"
   ]
  },
  {
   "cell_type": "code",
   "execution_count": 36,
   "metadata": {},
   "outputs": [
    {
     "data": {
      "text/plain": [
       "date        date      \n",
       "2020-01-01  2020-01-01    187\n",
       "2020-01-02  2020-01-02    160\n",
       "2020-01-03  2020-01-03    157\n",
       "2020-01-04  2020-01-04    101\n",
       "2020-01-05  2020-01-05    186\n",
       "2020-01-06  2020-01-06    108\n",
       "2020-01-07  2020-01-07    112\n",
       "2020-01-08  2020-01-08    148\n",
       "2020-01-09  2020-01-09    165\n",
       "2020-01-10  2020-01-10    137\n",
       "2020-01-11  2020-01-11    171\n",
       "2020-01-12  2020-01-12    187\n",
       "2020-01-13  2020-01-13    146\n",
       "2020-01-14  2020-01-14    186\n",
       "2020-01-15  2020-01-15    143\n",
       "2020-01-16  2020-01-16    191\n",
       "2020-01-17  2020-01-17    126\n",
       "2020-01-18  2020-01-18    142\n",
       "2020-01-19  2020-01-19    112\n",
       "2020-01-20  2020-01-20    188\n",
       "2020-01-21  2020-01-21    120\n",
       "2020-01-22  2020-01-22    133\n",
       "2020-01-23  2020-01-23    192\n",
       "2020-01-24  2020-01-24    174\n",
       "2020-01-25  2020-01-25    175\n",
       "2020-01-26  2020-01-26    126\n",
       "2020-01-27  2020-01-27    148\n",
       "2020-01-28  2020-01-28    199\n",
       "2020-01-29  2020-01-29    107\n",
       "2020-01-30  2020-01-30    197\n",
       "2020-01-31  2020-01-31    140\n",
       "Name: date, dtype: int64"
      ]
     },
     "execution_count": 36,
     "metadata": {},
     "output_type": "execute_result"
    }
   ],
   "source": [
    "jan_complete.groupby(by='date')['date'].value_counts()"
   ]
  },
  {
   "cell_type": "code",
   "execution_count": 37,
   "metadata": {},
   "outputs": [
    {
     "data": {
      "text/html": [
       "<div>\n",
       "<style scoped>\n",
       "    .dataframe tbody tr th:only-of-type {\n",
       "        vertical-align: middle;\n",
       "    }\n",
       "\n",
       "    .dataframe tbody tr th {\n",
       "        vertical-align: top;\n",
       "    }\n",
       "\n",
       "    .dataframe thead th {\n",
       "        text-align: right;\n",
       "    }\n",
       "</style>\n",
       "<table border=\"1\" class=\"dataframe\">\n",
       "  <thead>\n",
       "    <tr style=\"text-align: right;\">\n",
       "      <th></th>\n",
       "      <th>quantity</th>\n",
       "      <th>price_usd</th>\n",
       "      <th>weight_lb</th>\n",
       "      <th>product</th>\n",
       "      <th>date</th>\n",
       "    </tr>\n",
       "    <tr>\n",
       "      <th>plu_code</th>\n",
       "      <th></th>\n",
       "      <th></th>\n",
       "      <th></th>\n",
       "      <th></th>\n",
       "      <th></th>\n",
       "    </tr>\n",
       "  </thead>\n",
       "  <tbody>\n",
       "    <tr>\n",
       "      <th>4412</th>\n",
       "      <td>288</td>\n",
       "      <td>0.733062</td>\n",
       "      <td>5.408120</td>\n",
       "      <td>Pear</td>\n",
       "      <td>2020-01-26</td>\n",
       "    </tr>\n",
       "    <tr>\n",
       "      <th>4412</th>\n",
       "      <td>270</td>\n",
       "      <td>1.650890</td>\n",
       "      <td>4.611842</td>\n",
       "      <td>Pear</td>\n",
       "      <td>2020-01-26</td>\n",
       "    </tr>\n",
       "    <tr>\n",
       "      <th>4159</th>\n",
       "      <td>435</td>\n",
       "      <td>3.207243</td>\n",
       "      <td>7.610431</td>\n",
       "      <td>Onion</td>\n",
       "      <td>2020-01-26</td>\n",
       "    </tr>\n",
       "    <tr>\n",
       "      <th>4012</th>\n",
       "      <td>301</td>\n",
       "      <td>1.943002</td>\n",
       "      <td>8.564789</td>\n",
       "      <td>Orange</td>\n",
       "      <td>2020-01-26</td>\n",
       "    </tr>\n",
       "    <tr>\n",
       "      <th>4412</th>\n",
       "      <td>342</td>\n",
       "      <td>3.125553</td>\n",
       "      <td>3.569897</td>\n",
       "      <td>Pear</td>\n",
       "      <td>2020-01-26</td>\n",
       "    </tr>\n",
       "  </tbody>\n",
       "</table>\n",
       "</div>"
      ],
      "text/plain": [
       "          quantity  price_usd  weight_lb product       date\n",
       "plu_code                                                   \n",
       "4412           288   0.733062   5.408120    Pear 2020-01-26\n",
       "4412           270   1.650890   4.611842    Pear 2020-01-26\n",
       "4159           435   3.207243   7.610431   Onion 2020-01-26\n",
       "4012           301   1.943002   8.564789  Orange 2020-01-26\n",
       "4412           342   3.125553   3.569897    Pear 2020-01-26"
      ]
     },
     "execution_count": 37,
     "metadata": {},
     "output_type": "execute_result"
    }
   ],
   "source": [
    "jan_complete.head()"
   ]
  },
  {
   "cell_type": "code",
   "execution_count": 38,
   "metadata": {},
   "outputs": [
    {
     "data": {
      "text/plain": [
       "quantity     302.485306\n",
       "price_usd      1.937980\n",
       "weight_lb     11.929027\n",
       "dtype: float64"
      ]
     },
     "execution_count": 38,
     "metadata": {},
     "output_type": "execute_result"
    }
   ],
   "source": [
    "jan_complete.mean()"
   ]
  },
  {
   "cell_type": "markdown",
   "metadata": {},
   "source": [
    "### Step 5: Concatenate all DataFrames from Step 4 into one large DataFrame\n",
    "* _Hint:_ Is there a function in `pandas` that can do something like this for us? This is also just one line of code!"
   ]
  },
  {
   "cell_type": "code",
   "execution_count": 39,
   "metadata": {},
   "outputs": [],
   "source": [
    "# did this !"
   ]
  },
  {
   "cell_type": "code",
   "execution_count": 40,
   "metadata": {},
   "outputs": [],
   "source": [
    "# changing index from plu to normal integer index"
   ]
  },
  {
   "cell_type": "code",
   "execution_count": 41,
   "metadata": {},
   "outputs": [],
   "source": [
    "# Source : https://thispointer.com/pandas-convert-dataframe-index-into-column-using-dataframe-reset_index-in-python/\n",
    "jan_complete = jan_complete.reset_index(level=None, drop=False, inplace=False, col_level=0, col_fill='')"
   ]
  },
  {
   "cell_type": "code",
   "execution_count": 42,
   "metadata": {},
   "outputs": [
    {
     "data": {
      "text/html": [
       "<div>\n",
       "<style scoped>\n",
       "    .dataframe tbody tr th:only-of-type {\n",
       "        vertical-align: middle;\n",
       "    }\n",
       "\n",
       "    .dataframe tbody tr th {\n",
       "        vertical-align: top;\n",
       "    }\n",
       "\n",
       "    .dataframe thead th {\n",
       "        text-align: right;\n",
       "    }\n",
       "</style>\n",
       "<table border=\"1\" class=\"dataframe\">\n",
       "  <thead>\n",
       "    <tr style=\"text-align: right;\">\n",
       "      <th></th>\n",
       "      <th>plu_code</th>\n",
       "      <th>quantity</th>\n",
       "      <th>price_usd</th>\n",
       "      <th>weight_lb</th>\n",
       "      <th>product</th>\n",
       "      <th>date</th>\n",
       "    </tr>\n",
       "  </thead>\n",
       "  <tbody>\n",
       "    <tr>\n",
       "      <th>0</th>\n",
       "      <td>4412</td>\n",
       "      <td>288</td>\n",
       "      <td>0.733062</td>\n",
       "      <td>5.408120</td>\n",
       "      <td>Pear</td>\n",
       "      <td>2020-01-26</td>\n",
       "    </tr>\n",
       "    <tr>\n",
       "      <th>1</th>\n",
       "      <td>4412</td>\n",
       "      <td>270</td>\n",
       "      <td>1.650890</td>\n",
       "      <td>4.611842</td>\n",
       "      <td>Pear</td>\n",
       "      <td>2020-01-26</td>\n",
       "    </tr>\n",
       "    <tr>\n",
       "      <th>2</th>\n",
       "      <td>4159</td>\n",
       "      <td>435</td>\n",
       "      <td>3.207243</td>\n",
       "      <td>7.610431</td>\n",
       "      <td>Onion</td>\n",
       "      <td>2020-01-26</td>\n",
       "    </tr>\n",
       "    <tr>\n",
       "      <th>3</th>\n",
       "      <td>4012</td>\n",
       "      <td>301</td>\n",
       "      <td>1.943002</td>\n",
       "      <td>8.564789</td>\n",
       "      <td>Orange</td>\n",
       "      <td>2020-01-26</td>\n",
       "    </tr>\n",
       "    <tr>\n",
       "      <th>4</th>\n",
       "      <td>4412</td>\n",
       "      <td>342</td>\n",
       "      <td>3.125553</td>\n",
       "      <td>3.569897</td>\n",
       "      <td>Pear</td>\n",
       "      <td>2020-01-26</td>\n",
       "    </tr>\n",
       "  </tbody>\n",
       "</table>\n",
       "</div>"
      ],
      "text/plain": [
       "   plu_code  quantity  price_usd  weight_lb product       date\n",
       "0      4412       288   0.733062   5.408120    Pear 2020-01-26\n",
       "1      4412       270   1.650890   4.611842    Pear 2020-01-26\n",
       "2      4159       435   3.207243   7.610431   Onion 2020-01-26\n",
       "3      4012       301   1.943002   8.564789  Orange 2020-01-26\n",
       "4      4412       342   3.125553   3.569897    Pear 2020-01-26"
      ]
     },
     "execution_count": 42,
     "metadata": {},
     "output_type": "execute_result"
    }
   ],
   "source": [
    "jan_complete.head()"
   ]
  },
  {
   "cell_type": "markdown",
   "metadata": {},
   "source": [
    "### Step 6: Do this for all cities, write data\n",
    "Here's the big one. For each city, process and the data as in steps 3-5, and then write the data to our `output` folder. Below is a dictionary of city name to desired output file name.\n",
    "\n",
    "Before writing your DataFrame, do the following:\n",
    "* Add a `city` column\n",
    "* Reorder the columns into the following order:\n",
    "\n",
    "\n",
    "| city | date | product | plu_code | quantity | weight_lb | price_usd |\n",
    "|---|---|---|---|---|---|---|"
   ]
  },
  {
   "cell_type": "code",
   "execution_count": 43,
   "metadata": {},
   "outputs": [],
   "source": [
    "jan_complete_atl = jan_complete"
   ]
  },
  {
   "cell_type": "code",
   "execution_count": 44,
   "metadata": {},
   "outputs": [],
   "source": [
    "jan_complete_atl['city'] = 'Atlanta'"
   ]
  },
  {
   "cell_type": "code",
   "execution_count": 45,
   "metadata": {},
   "outputs": [
    {
     "data": {
      "text/html": [
       "<div>\n",
       "<style scoped>\n",
       "    .dataframe tbody tr th:only-of-type {\n",
       "        vertical-align: middle;\n",
       "    }\n",
       "\n",
       "    .dataframe tbody tr th {\n",
       "        vertical-align: top;\n",
       "    }\n",
       "\n",
       "    .dataframe thead th {\n",
       "        text-align: right;\n",
       "    }\n",
       "</style>\n",
       "<table border=\"1\" class=\"dataframe\">\n",
       "  <thead>\n",
       "    <tr style=\"text-align: right;\">\n",
       "      <th></th>\n",
       "      <th>plu_code</th>\n",
       "      <th>quantity</th>\n",
       "      <th>price_usd</th>\n",
       "      <th>weight_lb</th>\n",
       "      <th>product</th>\n",
       "      <th>date</th>\n",
       "      <th>city</th>\n",
       "    </tr>\n",
       "  </thead>\n",
       "  <tbody>\n",
       "    <tr>\n",
       "      <th>0</th>\n",
       "      <td>4412</td>\n",
       "      <td>288</td>\n",
       "      <td>0.733062</td>\n",
       "      <td>5.408120</td>\n",
       "      <td>Pear</td>\n",
       "      <td>2020-01-26</td>\n",
       "      <td>Atlanta</td>\n",
       "    </tr>\n",
       "    <tr>\n",
       "      <th>1</th>\n",
       "      <td>4412</td>\n",
       "      <td>270</td>\n",
       "      <td>1.650890</td>\n",
       "      <td>4.611842</td>\n",
       "      <td>Pear</td>\n",
       "      <td>2020-01-26</td>\n",
       "      <td>Atlanta</td>\n",
       "    </tr>\n",
       "    <tr>\n",
       "      <th>2</th>\n",
       "      <td>4159</td>\n",
       "      <td>435</td>\n",
       "      <td>3.207243</td>\n",
       "      <td>7.610431</td>\n",
       "      <td>Onion</td>\n",
       "      <td>2020-01-26</td>\n",
       "      <td>Atlanta</td>\n",
       "    </tr>\n",
       "    <tr>\n",
       "      <th>3</th>\n",
       "      <td>4012</td>\n",
       "      <td>301</td>\n",
       "      <td>1.943002</td>\n",
       "      <td>8.564789</td>\n",
       "      <td>Orange</td>\n",
       "      <td>2020-01-26</td>\n",
       "      <td>Atlanta</td>\n",
       "    </tr>\n",
       "    <tr>\n",
       "      <th>4</th>\n",
       "      <td>4412</td>\n",
       "      <td>342</td>\n",
       "      <td>3.125553</td>\n",
       "      <td>3.569897</td>\n",
       "      <td>Pear</td>\n",
       "      <td>2020-01-26</td>\n",
       "      <td>Atlanta</td>\n",
       "    </tr>\n",
       "  </tbody>\n",
       "</table>\n",
       "</div>"
      ],
      "text/plain": [
       "   plu_code  quantity  price_usd  weight_lb product       date     city\n",
       "0      4412       288   0.733062   5.408120    Pear 2020-01-26  Atlanta\n",
       "1      4412       270   1.650890   4.611842    Pear 2020-01-26  Atlanta\n",
       "2      4159       435   3.207243   7.610431   Onion 2020-01-26  Atlanta\n",
       "3      4012       301   1.943002   8.564789  Orange 2020-01-26  Atlanta\n",
       "4      4412       342   3.125553   3.569897    Pear 2020-01-26  Atlanta"
      ]
     },
     "execution_count": 45,
     "metadata": {},
     "output_type": "execute_result"
    }
   ],
   "source": [
    "jan_complete.head()"
   ]
  },
  {
   "cell_type": "markdown",
   "metadata": {},
   "source": [
    "* _Hint:_ You can reorder DataFrame columns simply by writing over your DataFrame with itself, but specifying the specific column order with `.loc`. For example:\n",
    "\n",
    "`print(df)`\n",
    "\n",
    "| b | c | a |\n",
    "|---|---|---|\n",
    "| 1 | 2 | 3 |\n",
    "\n",
    "`df = df.loc[:, [\"a\", \"b\", \"c\"]]`\n",
    "\n",
    "`print(df)`\n",
    "\n",
    "| a | b | c |\n",
    "|---|---|---|\n",
    "| 3 | 1 | 2 |"
   ]
  },
  {
   "cell_type": "code",
   "execution_count": 46,
   "metadata": {},
   "outputs": [],
   "source": [
    "jan_complete_atl = jan_complete_atl.loc[:, ['city', 'date', 'product', 'plu_code', 'quantity', 'weight_lb', 'price_usd']]"
   ]
  },
  {
   "cell_type": "code",
   "execution_count": 47,
   "metadata": {},
   "outputs": [
    {
     "data": {
      "text/html": [
       "<div>\n",
       "<style scoped>\n",
       "    .dataframe tbody tr th:only-of-type {\n",
       "        vertical-align: middle;\n",
       "    }\n",
       "\n",
       "    .dataframe tbody tr th {\n",
       "        vertical-align: top;\n",
       "    }\n",
       "\n",
       "    .dataframe thead th {\n",
       "        text-align: right;\n",
       "    }\n",
       "</style>\n",
       "<table border=\"1\" class=\"dataframe\">\n",
       "  <thead>\n",
       "    <tr style=\"text-align: right;\">\n",
       "      <th></th>\n",
       "      <th>city</th>\n",
       "      <th>date</th>\n",
       "      <th>product</th>\n",
       "      <th>plu_code</th>\n",
       "      <th>quantity</th>\n",
       "      <th>weight_lb</th>\n",
       "      <th>price_usd</th>\n",
       "    </tr>\n",
       "  </thead>\n",
       "  <tbody>\n",
       "    <tr>\n",
       "      <th>0</th>\n",
       "      <td>Atlanta</td>\n",
       "      <td>2020-01-26</td>\n",
       "      <td>Pear</td>\n",
       "      <td>4412</td>\n",
       "      <td>288</td>\n",
       "      <td>5.408120</td>\n",
       "      <td>0.733062</td>\n",
       "    </tr>\n",
       "    <tr>\n",
       "      <th>1</th>\n",
       "      <td>Atlanta</td>\n",
       "      <td>2020-01-26</td>\n",
       "      <td>Pear</td>\n",
       "      <td>4412</td>\n",
       "      <td>270</td>\n",
       "      <td>4.611842</td>\n",
       "      <td>1.650890</td>\n",
       "    </tr>\n",
       "    <tr>\n",
       "      <th>2</th>\n",
       "      <td>Atlanta</td>\n",
       "      <td>2020-01-26</td>\n",
       "      <td>Onion</td>\n",
       "      <td>4159</td>\n",
       "      <td>435</td>\n",
       "      <td>7.610431</td>\n",
       "      <td>3.207243</td>\n",
       "    </tr>\n",
       "    <tr>\n",
       "      <th>3</th>\n",
       "      <td>Atlanta</td>\n",
       "      <td>2020-01-26</td>\n",
       "      <td>Orange</td>\n",
       "      <td>4012</td>\n",
       "      <td>301</td>\n",
       "      <td>8.564789</td>\n",
       "      <td>1.943002</td>\n",
       "    </tr>\n",
       "    <tr>\n",
       "      <th>4</th>\n",
       "      <td>Atlanta</td>\n",
       "      <td>2020-01-26</td>\n",
       "      <td>Pear</td>\n",
       "      <td>4412</td>\n",
       "      <td>342</td>\n",
       "      <td>3.569897</td>\n",
       "      <td>3.125553</td>\n",
       "    </tr>\n",
       "  </tbody>\n",
       "</table>\n",
       "</div>"
      ],
      "text/plain": [
       "      city       date product  plu_code  quantity  weight_lb  price_usd\n",
       "0  Atlanta 2020-01-26    Pear      4412       288   5.408120   0.733062\n",
       "1  Atlanta 2020-01-26    Pear      4412       270   4.611842   1.650890\n",
       "2  Atlanta 2020-01-26   Onion      4159       435   7.610431   3.207243\n",
       "3  Atlanta 2020-01-26  Orange      4012       301   8.564789   1.943002\n",
       "4  Atlanta 2020-01-26    Pear      4412       342   3.569897   3.125553"
      ]
     },
     "execution_count": 47,
     "metadata": {},
     "output_type": "execute_result"
    }
   ],
   "source": [
    "jan_complete_atl.head()"
   ]
  },
  {
   "cell_type": "code",
   "execution_count": 48,
   "metadata": {},
   "outputs": [
    {
     "data": {
      "text/plain": [
       "plu_code     4221.003568\n",
       "quantity      302.485306\n",
       "weight_lb      11.929027\n",
       "price_usd       1.937980\n",
       "dtype: float64"
      ]
     },
     "execution_count": 48,
     "metadata": {},
     "output_type": "execute_result"
    }
   ],
   "source": [
    "jan_complete_atl.mean()"
   ]
  },
  {
   "cell_type": "code",
   "execution_count": 50,
   "metadata": {},
   "outputs": [],
   "source": [
    "#jan_complete_atl.to_csv(./data/)"
   ]
  },
  {
   "cell_type": "code",
   "execution_count": 51,
   "metadata": {},
   "outputs": [],
   "source": [
    "city_dict = {\n",
    "    \"Atlanta\": \"atl.csv\",\n",
    "    \"Austin\": \"atx.csv\",\n",
    "    \"Boston\": \"bos.csv\",\n",
    "    \"Chicago\": \"chi.csv\",\n",
    "    \"Denver\": \"den.csv\",\n",
    "    \"Los Angeles\": \"lax.csv\",\n",
    "    \"New York\": \"nyc.csv\",\n",
    "    \"San Francisco\": \"sf.csv\",\n",
    "    \"Seattle\": \"sea.csv\",\n",
    "    \"Washington, DC\": \"dc.csv\"\n",
    "}"
   ]
  },
  {
   "cell_type": "code",
   "execution_count": 70,
   "metadata": {},
   "outputs": [],
   "source": [
    "def df_to_csv(input_df, input_dict, city):\n",
    "    '''\n",
    "    This function takes in a list of dataframes and returns one and:\n",
    "    \n",
    "    Concats the list of dataframes into a single dataframe\n",
    "    Takes in a dict input for City to filename\n",
    "    Resets any modified index and moves the index to a column\n",
    "    Appends a new column for city passed as a string\n",
    "    Rearranges the columns to this format:\n",
    "    ['city', 'date', 'product', 'plu_code', 'quantity', 'weight_lb', 'price_usd']\n",
    "    outputs each Dataframe to its own csv file\n",
    "    Returns the new Dataframe as a sideproduct\n",
    "    '''\n",
    "    input_df = input_df.reset_index(level=None, drop=False, inplace=False, col_level=0, col_fill='')\n",
    "    input_df['city'] = city\n",
    "    input_df = input_df.loc[:, ['city', 'date', 'product', 'plu_code', 'quantity', 'weight_lb', 'price_usd']]\n",
    "    input_df.to_csv(f'./output/{input_dict.get(city)}')\n",
    "    return input_df"
   ]
  },
  {
   "cell_type": "code",
   "execution_count": 71,
   "metadata": {},
   "outputs": [],
   "source": [
    "# Loop through city_dict and carry out Step 6 here.\n",
    "# The keys of city_dict can serve as the sheet name.\n",
    "# The values of city_dict are what you should name the output .csv files.\n",
    "# If done correctly, this cell could take almost a minute to run!"
   ]
  },
  {
   "cell_type": "code",
   "execution_count": 72,
   "metadata": {},
   "outputs": [],
   "source": [
    "# My Test Cell"
   ]
  },
  {
   "cell_type": "code",
   "execution_count": 73,
   "metadata": {},
   "outputs": [],
   "source": [
    "atl = df_to_csv(pd.concat([process_data(f'./data/{i}', 'Atlanta') for i in files]), city_dict, 'Atlanta')"
   ]
  },
  {
   "cell_type": "code",
   "execution_count": 74,
   "metadata": {},
   "outputs": [
    {
     "data": {
      "text/plain": [
       "quantity     302.485306\n",
       "weight_lb     11.929027\n",
       "price_usd      1.937980\n",
       "dtype: float64"
      ]
     },
     "execution_count": 74,
     "metadata": {},
     "output_type": "execute_result"
    }
   ],
   "source": [
    "atl.loc[:,['quantity', 'weight_lb', 'price_usd']].mean()"
   ]
  },
  {
   "cell_type": "markdown",
   "metadata": {},
   "source": [
    "![](imgs/correct-output.png)"
   ]
  },
  {
   "cell_type": "code",
   "execution_count": 75,
   "metadata": {},
   "outputs": [
    {
     "data": {
      "text/plain": [
       "['Atlanta',\n",
       " 'Austin',\n",
       " 'Boston',\n",
       " 'Chicago',\n",
       " 'Denver',\n",
       " 'Los Angeles',\n",
       " 'New York',\n",
       " 'San Francisco',\n",
       " 'Seattle',\n",
       " 'Washington, DC']"
      ]
     },
     "execution_count": 75,
     "metadata": {},
     "output_type": "execute_result"
    }
   ],
   "source": [
    "city_list = [i for i,j in city_dict.items()]\n",
    "city_list"
   ]
  },
  {
   "cell_type": "code",
   "execution_count": 76,
   "metadata": {},
   "outputs": [],
   "source": [
    "def multiple_to_csv(city):\n",
    "    '''\n",
    "    Pass in a list of cities\n",
    "    '''\n",
    "    final = []\n",
    "    for j in range(len(city)):\n",
    "        final.append(df_to_csv(pd.concat([process_data(f'./data/{i}', city[j]) for i in files]), city_dict, city[j]))\n",
    "    return final"
   ]
  },
  {
   "cell_type": "code",
   "execution_count": 77,
   "metadata": {},
   "outputs": [],
   "source": [
    "final = multiple_to_csv(city_list)"
   ]
  },
  {
   "cell_type": "code",
   "execution_count": 78,
   "metadata": {},
   "outputs": [],
   "source": [
    "final = pd.concat(final)"
   ]
  },
  {
   "cell_type": "code",
   "execution_count": 79,
   "metadata": {},
   "outputs": [
    {
     "name": "stdout",
     "output_type": "stream",
     "text": [
      "<class 'pandas.core.frame.DataFrame'>\n",
      "Int64Index: 47037 entries, 0 to 4520\n",
      "Data columns (total 7 columns):\n",
      " #   Column     Non-Null Count  Dtype         \n",
      "---  ------     --------------  -----         \n",
      " 0   city       47037 non-null  object        \n",
      " 1   date       47037 non-null  datetime64[ns]\n",
      " 2   product    47037 non-null  object        \n",
      " 3   plu_code   47037 non-null  int64         \n",
      " 4   quantity   47037 non-null  int64         \n",
      " 5   weight_lb  47037 non-null  float64       \n",
      " 6   price_usd  47037 non-null  float64       \n",
      "dtypes: datetime64[ns](1), float64(2), int64(2), object(2)\n",
      "memory usage: 2.9+ MB\n"
     ]
    }
   ],
   "source": [
    "final.info()"
   ]
  },
  {
   "cell_type": "code",
   "execution_count": 80,
   "metadata": {},
   "outputs": [
    {
     "data": {
      "text/plain": [
       "Denver            4943\n",
       "Los Angeles       4828\n",
       "San Francisco     4775\n",
       "Atlanta           4764\n",
       "Austin            4700\n",
       "Chicago           4662\n",
       "New York          4639\n",
       "Seattle           4615\n",
       "Boston            4590\n",
       "Washington, DC    4521\n",
       "Name: city, dtype: int64"
      ]
     },
     "execution_count": 80,
     "metadata": {},
     "output_type": "execute_result"
    }
   ],
   "source": [
    "final['city'].value_counts()"
   ]
  },
  {
   "cell_type": "markdown",
   "metadata": {},
   "source": [
    "# Part II: Checking our answers \n",
    "In steps very similar to the ones conducted above...\n",
    "1. Loop through the files we just wrote to `output`, and read them in, collecting them all in one list\n",
    "1. Combine all of those DataFrames into one large DataFrame\n",
    "1. For each city, find the mean `quantity`, `weight_lb`, and `price_usd`.\n",
    "\n",
    "If you've done everything correct, your answer should look exactly like this:\n",
    "\n",
    "![](imgs/correct-output.png)"
   ]
  },
  {
   "cell_type": "code",
   "execution_count": 91,
   "metadata": {},
   "outputs": [],
   "source": [
    "def read_csv(files):\n",
    "    '''\n",
    "    Input in a list of filenames\n",
    "    '''\n",
    "    #files = os.listdir('./output/')\n",
    "    imports = []    \n",
    "    return pd.concat([pd.read_csv(f'./output/{i}') for i in files])"
   ]
  },
  {
   "cell_type": "code",
   "execution_count": 94,
   "metadata": {},
   "outputs": [],
   "source": [
    "#files = os.listdir('./data')\n",
    "#files = pd.Series(files)\n",
    "#files = files[files.str.contains('.xlsx')]\n",
    "\n",
    "csv_files = os.listdir('./output/')\n",
    "csv_files = pd.Series(csv_files)\n",
    "csv_files = csv_files[csv_files.str.contains('.csv')]"
   ]
  },
  {
   "cell_type": "code",
   "execution_count": 95,
   "metadata": {},
   "outputs": [
    {
     "data": {
      "text/plain": [
       "1     atx.csv\n",
       "2     sea.csv\n",
       "3     den.csv\n",
       "4     lax.csv\n",
       "5      sf.csv\n",
       "6     bos.csv\n",
       "7     nyc.csv\n",
       "8     atl.csv\n",
       "9      dc.csv\n",
       "10    chi.csv\n",
       "dtype: object"
      ]
     },
     "execution_count": 95,
     "metadata": {},
     "output_type": "execute_result"
    }
   ],
   "source": [
    "csv_files"
   ]
  },
  {
   "cell_type": "code",
   "execution_count": 96,
   "metadata": {},
   "outputs": [],
   "source": [
    "answer_checking = read_csv(csv_files)"
   ]
  },
  {
   "cell_type": "code",
   "execution_count": 97,
   "metadata": {},
   "outputs": [],
   "source": [
    "answer_checking.drop('Unnamed: 0', axis=1, inplace=True)"
   ]
  },
  {
   "cell_type": "code",
   "execution_count": 98,
   "metadata": {},
   "outputs": [],
   "source": [
    "answer_checking_sorted = answer_checking.loc[:,['city', 'quantity', 'weight_lb', 'price_usd']]"
   ]
  },
  {
   "cell_type": "code",
   "execution_count": 99,
   "metadata": {},
   "outputs": [
    {
     "data": {
      "text/html": [
       "<div>\n",
       "<style scoped>\n",
       "    .dataframe tbody tr th:only-of-type {\n",
       "        vertical-align: middle;\n",
       "    }\n",
       "\n",
       "    .dataframe tbody tr th {\n",
       "        vertical-align: top;\n",
       "    }\n",
       "\n",
       "    .dataframe thead th {\n",
       "        text-align: right;\n",
       "    }\n",
       "</style>\n",
       "<table border=\"1\" class=\"dataframe\">\n",
       "  <thead>\n",
       "    <tr style=\"text-align: right;\">\n",
       "      <th></th>\n",
       "      <th>quantity</th>\n",
       "      <th>weight_lb</th>\n",
       "      <th>price_usd</th>\n",
       "    </tr>\n",
       "    <tr>\n",
       "      <th>city</th>\n",
       "      <th></th>\n",
       "      <th></th>\n",
       "      <th></th>\n",
       "    </tr>\n",
       "  </thead>\n",
       "  <tbody>\n",
       "    <tr>\n",
       "      <th>Atlanta</th>\n",
       "      <td>302.485306</td>\n",
       "      <td>11.929027</td>\n",
       "      <td>1.937980</td>\n",
       "    </tr>\n",
       "    <tr>\n",
       "      <th>Austin</th>\n",
       "      <td>301.048298</td>\n",
       "      <td>12.092775</td>\n",
       "      <td>1.937456</td>\n",
       "    </tr>\n",
       "    <tr>\n",
       "      <th>Boston</th>\n",
       "      <td>298.806536</td>\n",
       "      <td>12.063057</td>\n",
       "      <td>1.900973</td>\n",
       "    </tr>\n",
       "    <tr>\n",
       "      <th>Chicago</th>\n",
       "      <td>301.686186</td>\n",
       "      <td>12.101555</td>\n",
       "      <td>1.930026</td>\n",
       "    </tr>\n",
       "    <tr>\n",
       "      <th>Denver</th>\n",
       "      <td>301.012745</td>\n",
       "      <td>12.129850</td>\n",
       "      <td>1.932088</td>\n",
       "    </tr>\n",
       "    <tr>\n",
       "      <th>Los Angeles</th>\n",
       "      <td>301.531276</td>\n",
       "      <td>12.167527</td>\n",
       "      <td>1.918331</td>\n",
       "    </tr>\n",
       "    <tr>\n",
       "      <th>New York</th>\n",
       "      <td>299.482863</td>\n",
       "      <td>12.090294</td>\n",
       "      <td>1.912662</td>\n",
       "    </tr>\n",
       "    <tr>\n",
       "      <th>San Francisco</th>\n",
       "      <td>298.979895</td>\n",
       "      <td>12.237399</td>\n",
       "      <td>1.925830</td>\n",
       "    </tr>\n",
       "    <tr>\n",
       "      <th>Seattle</th>\n",
       "      <td>300.333694</td>\n",
       "      <td>11.925486</td>\n",
       "      <td>1.903315</td>\n",
       "    </tr>\n",
       "    <tr>\n",
       "      <th>Washington, DC</th>\n",
       "      <td>300.576421</td>\n",
       "      <td>11.930747</td>\n",
       "      <td>1.943107</td>\n",
       "    </tr>\n",
       "  </tbody>\n",
       "</table>\n",
       "</div>"
      ],
      "text/plain": [
       "                  quantity  weight_lb  price_usd\n",
       "city                                            \n",
       "Atlanta         302.485306  11.929027   1.937980\n",
       "Austin          301.048298  12.092775   1.937456\n",
       "Boston          298.806536  12.063057   1.900973\n",
       "Chicago         301.686186  12.101555   1.930026\n",
       "Denver          301.012745  12.129850   1.932088\n",
       "Los Angeles     301.531276  12.167527   1.918331\n",
       "New York        299.482863  12.090294   1.912662\n",
       "San Francisco   298.979895  12.237399   1.925830\n",
       "Seattle         300.333694  11.925486   1.903315\n",
       "Washington, DC  300.576421  11.930747   1.943107"
      ]
     },
     "execution_count": 99,
     "metadata": {},
     "output_type": "execute_result"
    }
   ],
   "source": [
    "answer_checking_sorted.set_index('city').groupby(by='city').mean()"
   ]
  },
  {
   "cell_type": "markdown",
   "metadata": {},
   "source": [
    "![](imgs/correct-output.png)"
   ]
  },
  {
   "cell_type": "code",
   "execution_count": 100,
   "metadata": {},
   "outputs": [],
   "source": [
    "# YEAH I FIXED MY BUG\n",
    "# I forgot to pass the sheet argument in my first function and didn't notice it until at the very end when all of the \n",
    "# means were the exact same, representing NYC"
   ]
  },
  {
   "cell_type": "markdown",
   "metadata": {},
   "source": [
    "# Part III (BONUS): Get this process production-ready!\n",
    "_This part of the lab is optional, but very highly recommended, as the skills developed in this part are extremely common in industry._\n",
    "\n",
    "For this step, we're going to take this whole process and put it into a production-ready Python script. **ABSOLUTELY NONE OF THIS STEP SHOULD TAKE PLACE IN A JUPYTER NOTEBOOK! PRODUCTIONALIZED ETL (_\"Extract, Transform, Load\"_) CODE DOES NOT TAKE PLACE IN A JUPYTER NOTEBOOK!**\n",
    "\n",
    "The instructions are simple: As conducted in this lab, read, transform, and export the data in our Excel files into .csv files. The code should be in a `.py` file and executable from the command line. Here are some hints and tips to guide you:\n",
    "\n",
    "### Hints, tips, and tricks:\n",
    "* A good place to start is with the code you've already written. In this notebook, you can click `File > Download as > Python (.py)` to export as a `.py` file. Most of this exercise then comes down to you cleaning this file. (There will be a lot to clean).\n",
    "* Remember `os.mkdir()` will throw an error if the folder you're trying to make already exists. Maybe you should check to see if it already exists. If it already exists, what should you do? (Remember that `.csv` can be overwritten with no problem.) The functions that can help you with this are all in the `os` library.\n",
    "* Remember to follow all of the Python best practices we've already learned:\n",
    "    - All import statements should go at the top of your script.\n",
    "    - Comment your code. Comments shouldn't explain _what_ code does, but _why_ the code does this.\n",
    "    - Keep your code DRY (don't repeat yourself) as opposed to WET (write everything twice). All constants should be variables that only need to be changed once. All code should be bottled into functions so you only need to fix it once.\n",
    "* Make sure not to hardcode \"Jan\" anywhere. The point is that this code can be run throughout the lifetime of this supermarket's project, which is likely months or years. Keep your code so that if you get February data, you only need to change one tiny piece of the script (probably a file path)."
   ]
  },
  {
   "cell_type": "code",
   "execution_count": null,
   "metadata": {},
   "outputs": [],
   "source": []
  }
 ],
 "metadata": {
  "kernelspec": {
   "display_name": "Python 3",
   "language": "python",
   "name": "python3"
  },
  "language_info": {
   "codemirror_mode": {
    "name": "ipython",
    "version": 3
   },
   "file_extension": ".py",
   "mimetype": "text/x-python",
   "name": "python",
   "nbconvert_exporter": "python",
   "pygments_lexer": "ipython3",
   "version": "3.8.3"
  }
 },
 "nbformat": 4,
 "nbformat_minor": 4
}
