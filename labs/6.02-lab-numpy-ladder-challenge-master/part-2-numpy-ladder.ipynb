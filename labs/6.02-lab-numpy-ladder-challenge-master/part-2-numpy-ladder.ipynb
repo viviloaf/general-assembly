{
 "cells": [
  {
   "cell_type": "markdown",
   "metadata": {},
   "source": [
    "<img src=\"http://imgur.com/1ZcRyrc.png\" style=\"float: left; margin: 20px; height: 55px\" />\n",
    "\n",
    "# Numpy Ladder Challenge - Notebook 2\n",
    "\n",
    "_Author:_ Tim Book"
   ]
  },
  {
   "cell_type": "markdown",
   "metadata": {},
   "source": [
    "# Climb the Ladder!\n",
    "Our class moves quickly! Sometimes, it feels like we make leaps in logic that are a bit too big. In this ladder challenge, we'll learn some core math concepts, some linear algebra, and the `numpy` library. Problems in this notebook start out easy and progressively get harder, so that the next rung of the Python ladder is always within reach.\n",
    "\n",
    "Additionally, since not all of the topics discussed in this ladder challenge are explicitly taught in our course, these problems come with many more hints, tips, suggestions, and even sometimes a mini-lesson. You are encouraged to Google frequently throughout the lesson. In many ways, this ladder is meant to be a challenge as well as educational in its own right.\n",
    "\n",
    "**Remember our one rule: NO LOOPS! None of the exercises in this notebook require a loop. If you use a loop to solve any of these problems, you are solving the problem incorrectly.**"
   ]
  },
  {
   "cell_type": "markdown",
   "metadata": {},
   "source": [
    "0) Import numpy in the usual way"
   ]
  },
  {
   "cell_type": "code",
   "execution_count": 1,
   "metadata": {},
   "outputs": [],
   "source": [
    "import numpy as np"
   ]
  },
  {
   "cell_type": "markdown",
   "metadata": {},
   "source": [
    "# Section III - Simulation\n",
    "In the next section, we'll use functions within the `np.random` submodule. You can find documentation [here](https://docs.scipy.org/doc/numpy-1.14.0/reference/routines.random.html)."
   ]
  },
  {
   "cell_type": "markdown",
   "metadata": {},
   "source": [
    "27) Generate 10,000 random numbers between 0 and 1 and assign them to a variable. To verify you've simulated the data properly, make sure the mean is approximately 0.5."
   ]
  },
  {
   "cell_type": "code",
   "execution_count": 2,
   "metadata": {},
   "outputs": [],
   "source": [
    "r = np.random.random(10_000)"
   ]
  },
  {
   "cell_type": "code",
   "execution_count": 3,
   "metadata": {},
   "outputs": [
    {
     "data": {
      "text/plain": [
       "(10000,)"
      ]
     },
     "execution_count": 3,
     "metadata": {},
     "output_type": "execute_result"
    }
   ],
   "source": [
    "r.shape"
   ]
  },
  {
   "cell_type": "markdown",
   "metadata": {},
   "source": [
    "28) What proportion of these numbers is below 0.1?"
   ]
  },
  {
   "cell_type": "code",
   "execution_count": 4,
   "metadata": {},
   "outputs": [
    {
     "data": {
      "text/plain": [
       "array([0.1005])"
      ]
     },
     "execution_count": 4,
     "metadata": {},
     "output_type": "execute_result"
    }
   ],
   "source": [
    "(r < 0.1).sum() / r.shape"
   ]
  },
  {
   "cell_type": "markdown",
   "metadata": {},
   "source": [
    "29) What proportion of these numbers is above 0.8?"
   ]
  },
  {
   "cell_type": "code",
   "execution_count": 5,
   "metadata": {},
   "outputs": [
    {
     "data": {
      "text/plain": [
       "array([0.2062])"
      ]
     },
     "execution_count": 5,
     "metadata": {},
     "output_type": "execute_result"
    }
   ],
   "source": [
    "(r >= 0.8).sum() / r.shape"
   ]
  },
  {
   "cell_type": "markdown",
   "metadata": {},
   "source": [
    "30) What proportion of these numbers is above 0.2 but below 0.3?"
   ]
  },
  {
   "cell_type": "code",
   "execution_count": 6,
   "metadata": {},
   "outputs": [
    {
     "data": {
      "text/plain": [
       "array([0.1019])"
      ]
     },
     "execution_count": 6,
     "metadata": {},
     "output_type": "execute_result"
    }
   ],
   "source": [
    "((r >= 0.2) & (r <= 0.3)).sum() / r.shape"
   ]
  },
  {
   "cell_type": "markdown",
   "metadata": {},
   "source": [
    "31) Generate 10,000 random numbers between 2 and 4. To verify you've simulated the data properly, find the mean and make sure it is approximately what you expect.\n",
    "\n",
    "* _Hint:_ There is no `numpy` function for this specifically. How can you use the function you just used to generate this?"
   ]
  },
  {
   "cell_type": "code",
   "execution_count": 7,
   "metadata": {},
   "outputs": [],
   "source": [
    "r_2_4 = (np.random.random(10_000) *2) + 2"
   ]
  },
  {
   "cell_type": "markdown",
   "metadata": {},
   "source": [
    "32) What proportion of these numbers is between 2.4 and 2.6?"
   ]
  },
  {
   "cell_type": "code",
   "execution_count": 8,
   "metadata": {},
   "outputs": [
    {
     "data": {
      "text/plain": [
       "array([0.0978])"
      ]
     },
     "execution_count": 8,
     "metadata": {},
     "output_type": "execute_result"
    }
   ],
   "source": [
    "((2.6 >= r_2_4) & (r_2_4 >= 2.4)).sum() / r_2_4.shape"
   ]
  },
  {
   "cell_type": "markdown",
   "metadata": {},
   "source": [
    "33) Generate 100,000 random standard normal (i.e., mean 0 standard deviation 1) numbers. Again, find the mean to verify you've done this properly."
   ]
  },
  {
   "cell_type": "code",
   "execution_count": 9,
   "metadata": {},
   "outputs": [],
   "source": [
    "n = np.random.standard_normal(100_000)"
   ]
  },
  {
   "cell_type": "code",
   "execution_count": 10,
   "metadata": {},
   "outputs": [
    {
     "data": {
      "text/plain": [
       "array([-0.21450203, -0.50691056,  1.22842789, ..., -0.48784997,\n",
       "        0.30269393,  1.11778346])"
      ]
     },
     "execution_count": 10,
     "metadata": {},
     "output_type": "execute_result"
    }
   ],
   "source": [
    "n"
   ]
  },
  {
   "cell_type": "code",
   "execution_count": 11,
   "metadata": {},
   "outputs": [
    {
     "data": {
      "text/plain": [
       "0.0029317437427338706"
      ]
     },
     "execution_count": 11,
     "metadata": {},
     "output_type": "execute_result"
    }
   ],
   "source": [
    "n.mean()"
   ]
  },
  {
   "cell_type": "markdown",
   "metadata": {},
   "source": [
    "34) What proportion of these numbers is negative?"
   ]
  },
  {
   "cell_type": "code",
   "execution_count": 12,
   "metadata": {},
   "outputs": [
    {
     "data": {
      "text/plain": [
       "array([0.49693])"
      ]
     },
     "execution_count": 12,
     "metadata": {},
     "output_type": "execute_result"
    }
   ],
   "source": [
    "(n < 0).sum() / n.shape"
   ]
  },
  {
   "cell_type": "markdown",
   "metadata": {},
   "source": [
    "35a) What proportion of these numbers is between -1 and 1?"
   ]
  },
  {
   "cell_type": "code",
   "execution_count": 13,
   "metadata": {},
   "outputs": [
    {
     "data": {
      "text/plain": [
       "array([0.68161])"
      ]
     },
     "execution_count": 13,
     "metadata": {},
     "output_type": "execute_result"
    }
   ],
   "source": [
    "((n > -1) & (n < 1)).sum() / n.shape"
   ]
  },
  {
   "cell_type": "markdown",
   "metadata": {},
   "source": [
    "35b) What proportion of these numbers is between -2 and 2?"
   ]
  },
  {
   "cell_type": "code",
   "execution_count": 14,
   "metadata": {},
   "outputs": [
    {
     "data": {
      "text/plain": [
       "array([0.95496])"
      ]
     },
     "execution_count": 14,
     "metadata": {},
     "output_type": "execute_result"
    }
   ],
   "source": [
    "((n > -2) & (n < 2)).sum() / n.shape"
   ]
  },
  {
   "cell_type": "markdown",
   "metadata": {},
   "source": [
    "35c) What proportion of these numbers is between -3 and 3? Have you seen your last 3 solutions before? (If you've taken an intro stats course in college before, you will have.)"
   ]
  },
  {
   "cell_type": "code",
   "execution_count": 15,
   "metadata": {},
   "outputs": [
    {
     "data": {
      "text/plain": [
       "array([0.99701])"
      ]
     },
     "execution_count": 15,
     "metadata": {},
     "output_type": "execute_result"
    }
   ],
   "source": [
    "((n > -3) & (n < 3)).sum() / n.shape"
   ]
  },
  {
   "cell_type": "markdown",
   "metadata": {},
   "source": [
    "### For the next few problems, we will be playing Rock-Paper-Scissors\n",
    "If you are unfamiliar with the game Rock-Paper-Scissors, it features two combatants choosing one of three hand motions: rock, paper, or scissors. Rock beats scissors, scissors beats paper, and paper beats rock. Two friends are playing: Karen and Tom. Unbeknownst to them, you've been studying and recording both of their play patterns. Karen chooses rock 40% of the time, paper 10% of the time, and scissors 50% of the time. For Tom, it's rock 10%, paper 60%, scissors 30%. Who wins the most often?\n",
    "\n",
    "**This is an extremely difficult question.** We will get to the answer in a few guided steps. You'll want to use `np.random.choice()` to help you through this."
   ]
  },
  {
   "cell_type": "markdown",
   "metadata": {},
   "source": [
    "36) Create vectors `p_karen` and `p_tom` that represent their respective probabilities for rock, paper, and scissors."
   ]
  },
  {
   "cell_type": "code",
   "execution_count": 16,
   "metadata": {},
   "outputs": [],
   "source": [
    "# r, p, s\n",
    "p_karen = [.4, .1, .5]\n",
    "p_tom = [.1, .6, .3]"
   ]
  },
  {
   "cell_type": "markdown",
   "metadata": {},
   "source": [
    "37) Simulate 5 games. Who wins the majority of them? Just eyeball this one. (No one wins a draw.)"
   ]
  },
  {
   "cell_type": "code",
   "execution_count": 17,
   "metadata": {},
   "outputs": [
    {
     "data": {
      "text/plain": [
       "[{'Tom': (0.5, 0.6)},\n",
       " {'Karen': (0.4, 0.3)},\n",
       " {'Tom': (0.5, 0.6)},\n",
       " 'Draw',\n",
       " {'Tom': (0.1, 0.3)}]"
      ]
     },
     "execution_count": 17,
     "metadata": {},
     "output_type": "execute_result"
    }
   ],
   "source": [
    "['Draw' if i == j else {'Karen': (i,j)} if i > j else {'Tom':(i,j)} for i,j in list(zip(np.random.choice(p_karen, 5), np.random.choice(p_tom,5)))]"
   ]
  },
  {
   "cell_type": "markdown",
   "metadata": {},
   "source": [
    "38) Let's write a function to handle _one game at a time_. Write a function called `rps` that takes two arguments: `karen` and `tom` that will be either `\"R\"`, `\"P\"`, or `\"S\"`. The function will return `\"K\"`, `\"T\"`, or `\"D\"`, representing Karen, Tom, or a draw. That is, the function should give the following results:\n",
    "\n",
    "* `rps(\"R\", \"P\") ==> \"T\"`\n",
    "* `rps(\"R\", \"S\") ==> \"K\"`\n",
    "* `rps(\"R\", \"R\") ==> \"D\"`\n",
    "\n",
    "\n",
    "* _Hint:_ Your answer will be a mess of `if`/`elif` statements."
   ]
  },
  {
   "cell_type": "code",
   "execution_count": 18,
   "metadata": {},
   "outputs": [],
   "source": [
    "def rps(karen,tom):\n",
    "    d_karen = dict(R=.4, P= .1,S=.5)\n",
    "    d_tom = dict(R=.1, P=.6, S=.3)\n",
    "    return 'Draw' if d_karen.get(karen) == d_tom.get(tom) else 'Karen' if d_karen.get(karen) > d_tom.get(tom) else 'Tom'"
   ]
  },
  {
   "cell_type": "code",
   "execution_count": 19,
   "metadata": {},
   "outputs": [
    {
     "data": {
      "text/plain": [
       "['Tom', 'Karen', 'Karen']"
      ]
     },
     "execution_count": 19,
     "metadata": {},
     "output_type": "execute_result"
    }
   ],
   "source": [
    "[rps(\"R\", \"P\"),\n",
    "rps(\"R\", \"S\"),\n",
    "rps(\"R\", \"R\"),]"
   ]
  },
  {
   "cell_type": "markdown",
   "metadata": {},
   "source": [
    "39) As it stands now, the function you have written cannot handle vector data. Luckily, `numpy` gives us a function that allows us to vectorize any function we want. Use `np.vectorize` to create `rps_vectorized`, the vectorized version of `rps`. Skim the docs [here](https://docs.scipy.org/doc/numpy/reference/generated/numpy.vectorize.html)."
   ]
  },
  {
   "cell_type": "code",
   "execution_count": 20,
   "metadata": {},
   "outputs": [],
   "source": [
    "rps_vectorized = np.vectorize(rps)"
   ]
  },
  {
   "cell_type": "markdown",
   "metadata": {},
   "source": [
    "40) Simulate 1,000,000 (yes, one million) games. How often does Karen win? You can find the results by:\n",
    "\n",
    "1. Replicating your solution to problems 37 and 38, except for one million instead of 5.\n",
    "1. Using the function you made in problem 39.\n",
    "\n",
    "\n",
    "* _Note 1:_ These probabilities are relatively difficult to figure out by hand. Some probabilities are best discovered by simulation. Another way of asking the above question is \"What is the probability of Karen winning?\")\n",
    "* _Note 2:_ Look what we did! We used vectorization to completely eliminate the need for a loop! You _could_ have solved this problem with a loop, but it would have taken significantly more computer time."
   ]
  },
  {
   "cell_type": "code",
   "execution_count": 21,
   "metadata": {},
   "outputs": [],
   "source": [
    "# my CPU cannot physically compute 1 million simulations. I will need to do it in batches or i will try a CuPy implementation"
   ]
  },
  {
   "cell_type": "code",
   "execution_count": 22,
   "metadata": {},
   "outputs": [],
   "source": [
    "output = rps_vectorized(np.random.choice(['R','P','S'],100_000),np.random.choice(['R','P','S'],100_000))"
   ]
  },
  {
   "cell_type": "code",
   "execution_count": 23,
   "metadata": {},
   "outputs": [
    {
     "data": {
      "text/plain": [
       "0.44726"
      ]
     },
     "execution_count": 23,
     "metadata": {},
     "output_type": "execute_result"
    }
   ],
   "source": [
    "(output == 'Karen').sum() / 100_000"
   ]
  },
  {
   "cell_type": "code",
   "execution_count": 24,
   "metadata": {},
   "outputs": [],
   "source": [
    "# with only 100,000 simulations, Karen wins around 44 %of the time"
   ]
  },
  {
   "cell_type": "code",
   "execution_count": 25,
   "metadata": {},
   "outputs": [],
   "source": [
    "# Below was an attempt at an implementation with the GPU, i'm moving on "
   ]
  },
  {
   "cell_type": "raw",
   "metadata": {},
   "source": [
    "try:\n",
    "    # for CuPy, i need to implement this in an entire different way and pass in a CuPy vector\n",
    "    \n",
    "    import cupy as cp\n",
    "    # https://stackoverflow.com/questions/58696378/how-should-i-do-instead-of-using-numpy-vectorize-in-cupy\n",
    "    @cp.fuse()\n",
    "    \n",
    "    karen = cp.random.choice([0.4, 0.1, 0.5],1) \n",
    "    tom = cp.random.choice([0.1, 0.6, 0.3],1)\n",
    "    def cp_rps(karen,tom):\n",
    "        #d_karen = {0:.4, 1:.1,2:.5}\n",
    "        #d_tom = {0:.1, 1:.6, 2:.3}\n",
    "        if d_karen.get(int(karen)) == d_tom.get(int(tom)):\n",
    "            return 'Draw'\n",
    "        elif d_karen.get(int(karen)) >= d_tom.get(int(tom)):\n",
    "            return 'Karen'\n",
    "        else:\n",
    "            return 'Tom'\n",
    "except:\n",
    "    print('No CuPy')"
   ]
  },
  {
   "cell_type": "raw",
   "metadata": {},
   "source": [
    "karen = cp.random.choice([0.4, 0.1, 0.5],100) \n",
    "tom = cp.random.choice([0.1, 0.6, 0.3],100)"
   ]
  },
  {
   "cell_type": "markdown",
   "metadata": {},
   "source": [
    "### Regression Simulation\n",
    "Next, suppose we're trying to simulate some fake data for a regression problem we wish to give to our students. We wish to simulate data for the following equation:\n",
    "\n",
    "$$y = 1000 + 200x + \\varepsilon$$\n",
    "\n",
    "Where $\\varepsilon \\sim N(0, 20)$ (that is, $\\varepsilon$ is normally distributed with mean 0 and standard deviation 20)."
   ]
  },
  {
   "cell_type": "markdown",
   "metadata": {},
   "source": [
    "41) Generate 10 $x$s from the $N(50, 10)$ distribution. (That is, the normal distribution with mean 50 and standard deviation 10)."
   ]
  },
  {
   "cell_type": "code",
   "execution_count": 30,
   "metadata": {},
   "outputs": [
    {
     "data": {
      "text/plain": [
       "array([61.06460556, 48.19936526, 65.37388762, 31.58704032, 59.82404242,\n",
       "       46.90265125, 37.4720084 , 45.41134116, 61.68874562, 56.98133659])"
      ]
     },
     "execution_count": 30,
     "metadata": {},
     "output_type": "execute_result"
    }
   ],
   "source": [
    "x = np.random.normal(50,10,10)\n",
    "x"
   ]
  },
  {
   "cell_type": "markdown",
   "metadata": {},
   "source": [
    "42) Generate 10 $\\varepsilon$s from the appropriate distribution described above."
   ]
  },
  {
   "cell_type": "code",
   "execution_count": 31,
   "metadata": {},
   "outputs": [
    {
     "data": {
      "text/plain": [
       "array([ 17.29628574, -21.68385105, -14.74903604,  26.00767625,\n",
       "        10.49161667,   8.13049243,  13.92511805, -18.08139914,\n",
       "        11.19182776, -24.2290605 ])"
      ]
     },
     "execution_count": 31,
     "metadata": {},
     "output_type": "execute_result"
    }
   ],
   "source": [
    "e = np.random.normal(0,20,10)\n",
    "e"
   ]
  },
  {
   "cell_type": "markdown",
   "metadata": {},
   "source": [
    "43) Simulate the $y$s as described above using the two vectors you made in the previous two problems."
   ]
  },
  {
   "cell_type": "code",
   "execution_count": 32,
   "metadata": {},
   "outputs": [
    {
     "data": {
      "text/plain": [
       "array([13230.21739692, 10618.18920132, 14060.02848706,  7343.41574015,\n",
       "       12975.30010008, 10388.6607418 ,  8508.32679751, 10064.18683363,\n",
       "       13348.94095212, 12372.03825736])"
      ]
     },
     "execution_count": 32,
     "metadata": {},
     "output_type": "execute_result"
    }
   ],
   "source": [
    "y = 1000 + (200 * x) + e\n",
    "y"
   ]
  },
  {
   "cell_type": "markdown",
   "metadata": {},
   "source": [
    "# Section IV: Matrices\n",
    "_Tiny note:_ In general, we have told you it's against Python's style guide to use capital letters when defining variables. The one exception we make is when our variables represent mathematical objects. So feel free to name the following variables things like `A`, `B`, etc.!"
   ]
  },
  {
   "cell_type": "markdown",
   "metadata": {},
   "source": [
    "44) Create the following matrix:\n",
    "\n",
    "$$\n",
    "A =\n",
    "\\begin{bmatrix}\n",
    "3 & -1 & 5 \\\\\n",
    "-2 & 0 & 8 \\\\\n",
    "4 & 5 & -7\n",
    "\\end{bmatrix}\n",
    "$$"
   ]
  },
  {
   "cell_type": "code",
   "execution_count": 33,
   "metadata": {},
   "outputs": [
    {
     "data": {
      "text/plain": [
       "matrix([[ 3, -1,  5],\n",
       "        [-2,  0,  8],\n",
       "        [ 4,  5, -7]])"
      ]
     },
     "execution_count": 33,
     "metadata": {},
     "output_type": "execute_result"
    }
   ],
   "source": [
    "A = np.matrix('3 -1 5; -2 0 8; 4 5 -7')\n",
    "A"
   ]
  },
  {
   "cell_type": "markdown",
   "metadata": {},
   "source": [
    "45) Create the following matrix:\n",
    "\n",
    "$$\n",
    "B =\n",
    "\\begin{bmatrix}\n",
    "-3 & 8 & 2 \\\\\n",
    "2 & -3 & 5 \\\\\n",
    "0 & 6 & -2\n",
    "\\end{bmatrix}\n",
    "$$"
   ]
  },
  {
   "cell_type": "code",
   "execution_count": 36,
   "metadata": {},
   "outputs": [
    {
     "data": {
      "text/plain": [
       "matrix([[-3,  8,  2],\n",
       "        [ 2, -3,  5],\n",
       "        [ 0,  6, -2]])"
      ]
     },
     "execution_count": 36,
     "metadata": {},
     "output_type": "execute_result"
    }
   ],
   "source": [
    "B = np.matrix('-3 8 2; 2 -3 5; 0 6 -2')\n",
    "B"
   ]
  },
  {
   "cell_type": "code",
   "execution_count": 38,
   "metadata": {},
   "outputs": [
    {
     "data": {
      "text/plain": [
       "array([[-3,  8,  2],\n",
       "       [ 2, -3,  5],\n",
       "       [ 0,  6,  2]])"
      ]
     },
     "execution_count": 38,
     "metadata": {},
     "output_type": "execute_result"
    }
   ],
   "source": [
    "B1 = np.asarray([\n",
    "    [-3, 8, 2],\n",
    "    [2, -3, 5],\n",
    "    [0, 6, 2]\n",
    "])\n",
    "B1"
   ]
  },
  {
   "cell_type": "code",
   "execution_count": 39,
   "metadata": {},
   "outputs": [
    {
     "data": {
      "text/plain": [
       "array([[-3,  8,  2],\n",
       "       [ 2, -3,  5],\n",
       "       [ 0,  6,  2]])"
      ]
     },
     "execution_count": 39,
     "metadata": {},
     "output_type": "execute_result"
    }
   ],
   "source": [
    "B2 = np.array([\n",
    "    [-3, 8, 2],\n",
    "    [2, -3, 5],\n",
    "    [0, 6, 2]\n",
    "])\n",
    "B2"
   ]
  },
  {
   "cell_type": "markdown",
   "metadata": {},
   "source": [
    "46) Use `np.eye()` to create the following matrix:\n",
    "\n",
    "$$\n",
    "I = I_3 =\n",
    "\\begin{bmatrix}\n",
    "1 & 0 & 0 \\\\\n",
    "0 & 1 & 0 \\\\\n",
    "0 & 0 & 1 \\\\\n",
    "\\end{bmatrix}\n",
    "$$"
   ]
  },
  {
   "cell_type": "code",
   "execution_count": 40,
   "metadata": {},
   "outputs": [
    {
     "data": {
      "text/plain": [
       "array([[1., 0., 0.],\n",
       "       [0., 1., 0.],\n",
       "       [0., 0., 1.]])"
      ]
     },
     "execution_count": 40,
     "metadata": {},
     "output_type": "execute_result"
    }
   ],
   "source": [
    "I = np.eye(3)\n",
    "I"
   ]
  },
  {
   "cell_type": "code",
   "execution_count": 41,
   "metadata": {},
   "outputs": [],
   "source": [
    "# i miss you identity matrix !"
   ]
  },
  {
   "cell_type": "markdown",
   "metadata": {},
   "source": [
    "47) Triple every element of `B`. (Do not reassign.)"
   ]
  },
  {
   "cell_type": "code",
   "execution_count": 43,
   "metadata": {},
   "outputs": [
    {
     "data": {
      "text/plain": [
       "matrix([[-9, 24,  6],\n",
       "        [ 6, -9, 15],\n",
       "        [ 0, 18, -6]])"
      ]
     },
     "execution_count": 43,
     "metadata": {},
     "output_type": "execute_result"
    }
   ],
   "source": [
    "B * 3"
   ]
  },
  {
   "cell_type": "markdown",
   "metadata": {},
   "source": [
    "48) Index `A` in order to get me -7."
   ]
  },
  {
   "cell_type": "code",
   "execution_count": 61,
   "metadata": {},
   "outputs": [
    {
     "data": {
      "text/plain": [
       "matrix([[ 3, -1,  5],\n",
       "        [-2,  0,  8],\n",
       "        [ 4,  5, -7]])"
      ]
     },
     "execution_count": 61,
     "metadata": {},
     "output_type": "execute_result"
    }
   ],
   "source": [
    "A"
   ]
  },
  {
   "cell_type": "code",
   "execution_count": 51,
   "metadata": {},
   "outputs": [
    {
     "data": {
      "text/plain": [
       "-7"
      ]
     },
     "execution_count": 51,
     "metadata": {},
     "output_type": "execute_result"
    }
   ],
   "source": [
    "A.item(2,2)"
   ]
  },
  {
   "cell_type": "code",
   "execution_count": 56,
   "metadata": {},
   "outputs": [
    {
     "data": {
      "text/plain": [
       "-7"
      ]
     },
     "execution_count": 56,
     "metadata": {},
     "output_type": "execute_result"
    }
   ],
   "source": [
    "A[(2,2)]"
   ]
  },
  {
   "cell_type": "code",
   "execution_count": 57,
   "metadata": {},
   "outputs": [
    {
     "data": {
      "text/plain": [
       "-7"
      ]
     },
     "execution_count": 57,
     "metadata": {},
     "output_type": "execute_result"
    }
   ],
   "source": [
    "A[2,2]"
   ]
  },
  {
   "cell_type": "markdown",
   "metadata": {},
   "source": [
    "49) Index `A` in order to get me 0."
   ]
  },
  {
   "cell_type": "code",
   "execution_count": 60,
   "metadata": {},
   "outputs": [
    {
     "data": {
      "text/plain": [
       "matrix([[ 3, -1,  5],\n",
       "        [-2,  0,  8],\n",
       "        [ 4,  5, -7]])"
      ]
     },
     "execution_count": 60,
     "metadata": {},
     "output_type": "execute_result"
    }
   ],
   "source": [
    "A"
   ]
  },
  {
   "cell_type": "code",
   "execution_count": 62,
   "metadata": {},
   "outputs": [
    {
     "data": {
      "text/plain": [
       "0"
      ]
     },
     "execution_count": 62,
     "metadata": {},
     "output_type": "execute_result"
    }
   ],
   "source": [
    "A[1,1]"
   ]
  },
  {
   "cell_type": "markdown",
   "metadata": {},
   "source": [
    "50) Index `A` to get me $\\begin{bmatrix} -2 & 0 & 8 \\end{bmatrix}$"
   ]
  },
  {
   "cell_type": "code",
   "execution_count": 63,
   "metadata": {},
   "outputs": [
    {
     "data": {
      "text/plain": [
       "matrix([[-2,  0,  8]])"
      ]
     },
     "execution_count": 63,
     "metadata": {},
     "output_type": "execute_result"
    }
   ],
   "source": [
    "A[1]"
   ]
  },
  {
   "cell_type": "markdown",
   "metadata": {},
   "source": [
    "51) Index `A` to get me\n",
    "$$\n",
    "\\begin{bmatrix}\n",
    "-1 \\\\ 0 \\\\ 5\n",
    "\\end{bmatrix}\n",
    "$$\n",
    "\n",
    "(You can ignore the fact that it may print out as a row vector)"
   ]
  },
  {
   "cell_type": "code",
   "execution_count": 66,
   "metadata": {},
   "outputs": [
    {
     "data": {
      "text/plain": [
       "matrix([[-1],\n",
       "        [ 0],\n",
       "        [ 5]])"
      ]
     },
     "execution_count": 66,
     "metadata": {},
     "output_type": "execute_result"
    }
   ],
   "source": [
    "# https://stackoverflow.com/questions/4455076/how-to-access-the-ith-column-of-a-numpy-multidimensional-array\n",
    "A[:,1]"
   ]
  },
  {
   "cell_type": "markdown",
   "metadata": {},
   "source": [
    "52) Index `A` to get me\n",
    "$$\n",
    "\\begin{bmatrix}\n",
    "0 & 8 \\\\\n",
    "5 & -7 \n",
    "\\end{bmatrix}\n",
    "$$"
   ]
  },
  {
   "cell_type": "code",
   "execution_count": 67,
   "metadata": {},
   "outputs": [
    {
     "data": {
      "text/plain": [
       "matrix([[ 0,  8],\n",
       "        [ 5, -7]])"
      ]
     },
     "execution_count": 67,
     "metadata": {},
     "output_type": "execute_result"
    }
   ],
   "source": [
    "A[1:,1:]"
   ]
  },
  {
   "cell_type": "markdown",
   "metadata": {},
   "source": [
    "53) Redefine the middle column of `A` to be\n",
    "$$\n",
    "\\begin{bmatrix}\n",
    "-2 \\\\ 1 \\\\ 7\n",
    "\\end{bmatrix}\n",
    "$$"
   ]
  },
  {
   "cell_type": "code",
   "execution_count": 72,
   "metadata": {},
   "outputs": [],
   "source": [
    "A[:,1] = [[-2],\n",
    "         [1],\n",
    "         [7]]"
   ]
  },
  {
   "cell_type": "code",
   "execution_count": 73,
   "metadata": {},
   "outputs": [
    {
     "data": {
      "text/plain": [
       "matrix([[ 3, -2,  5],\n",
       "        [-2,  1,  8],\n",
       "        [ 4,  7, -7]])"
      ]
     },
     "execution_count": 73,
     "metadata": {},
     "output_type": "execute_result"
    }
   ],
   "source": [
    "A"
   ]
  },
  {
   "cell_type": "markdown",
   "metadata": {},
   "source": [
    "54) Index `B` to define the following matrix:\n",
    "$$\n",
    "C = \n",
    "\\begin{bmatrix}\n",
    "8 & 2 \\\\\n",
    "-3 & 5 \\\\\n",
    "6 & -2\n",
    "\\end{bmatrix}\n",
    "$$"
   ]
  },
  {
   "cell_type": "code",
   "execution_count": 74,
   "metadata": {},
   "outputs": [
    {
     "data": {
      "text/plain": [
       "matrix([[-3,  8,  2],\n",
       "        [ 2, -3,  5],\n",
       "        [ 0,  6, -2]])"
      ]
     },
     "execution_count": 74,
     "metadata": {},
     "output_type": "execute_result"
    }
   ],
   "source": [
    "B"
   ]
  },
  {
   "cell_type": "code",
   "execution_count": 114,
   "metadata": {},
   "outputs": [
    {
     "data": {
      "text/plain": [
       "matrix([[ 8,  2],\n",
       "        [-3,  5],\n",
       "        [ 6, -2]])"
      ]
     },
     "execution_count": 114,
     "metadata": {},
     "output_type": "execute_result"
    }
   ],
   "source": [
    "C = B[:,1:]\n",
    "C"
   ]
  },
  {
   "cell_type": "markdown",
   "metadata": {},
   "source": [
    "55) What is $A + B$?"
   ]
  },
  {
   "cell_type": "code",
   "execution_count": 83,
   "metadata": {},
   "outputs": [
    {
     "data": {
      "text/plain": [
       "matrix([[ 0,  6,  7],\n",
       "        [ 0, -2, 13],\n",
       "        [ 4, 13, -9]])"
      ]
     },
     "execution_count": 83,
     "metadata": {},
     "output_type": "execute_result"
    }
   ],
   "source": [
    "A + B"
   ]
  },
  {
   "cell_type": "markdown",
   "metadata": {},
   "source": [
    "56) What is $2A - 3B$?"
   ]
  },
  {
   "cell_type": "code",
   "execution_count": 84,
   "metadata": {},
   "outputs": [
    {
     "data": {
      "text/plain": [
       "matrix([[ 15, -28,   4],\n",
       "        [-10,  11,   1],\n",
       "        [  8,  -4,  -8]])"
      ]
     },
     "execution_count": 84,
     "metadata": {},
     "output_type": "execute_result"
    }
   ],
   "source": [
    "(2 * A) - (3 * B)"
   ]
  },
  {
   "cell_type": "markdown",
   "metadata": {},
   "source": [
    "57) What is the elementwise product of $A$ and $B$?"
   ]
  },
  {
   "cell_type": "code",
   "execution_count": 88,
   "metadata": {},
   "outputs": [
    {
     "data": {
      "text/plain": [
       "matrix([[ -9, -16,  10],\n",
       "        [ -4,  -3,  40],\n",
       "        [  0,  42,  14]])"
      ]
     },
     "execution_count": 88,
     "metadata": {},
     "output_type": "execute_result"
    }
   ],
   "source": [
    "np.multiply(A,B)"
   ]
  },
  {
   "cell_type": "markdown",
   "metadata": {},
   "source": [
    "58) What is $AB$?"
   ]
  },
  {
   "cell_type": "code",
   "execution_count": 89,
   "metadata": {},
   "outputs": [
    {
     "data": {
      "text/plain": [
       "matrix([[-13,  60, -14],\n",
       "        [  8,  29, -15],\n",
       "        [  2, -31,  57]])"
      ]
     },
     "execution_count": 89,
     "metadata": {},
     "output_type": "execute_result"
    }
   ],
   "source": [
    "A * B"
   ]
  },
  {
   "cell_type": "markdown",
   "metadata": {},
   "source": [
    "59) What is $BA$? And why isn't it the same as $AB$?"
   ]
  },
  {
   "cell_type": "code",
   "execution_count": 90,
   "metadata": {},
   "outputs": [
    {
     "data": {
      "text/plain": [
       "matrix([[-17,  28,  35],\n",
       "        [ 32,  28, -49],\n",
       "        [-20,  -8,  62]])"
      ]
     },
     "execution_count": 90,
     "metadata": {},
     "output_type": "execute_result"
    }
   ],
   "source": [
    "B * A"
   ]
  },
  {
   "cell_type": "code",
   "execution_count": 91,
   "metadata": {},
   "outputs": [],
   "source": [
    "# Row Multiplication"
   ]
  },
  {
   "cell_type": "code",
   "execution_count": 103,
   "metadata": {},
   "outputs": [
    {
     "data": {
      "text/plain": [
       "(matrix([[ 3, -2,  5],\n",
       "         [-2,  1,  8],\n",
       "         [ 4,  7, -7]]),\n",
       " matrix([[-3,  8,  2],\n",
       "         [ 2, -3,  5],\n",
       "         [ 0,  6, -2]]))"
      ]
     },
     "execution_count": 103,
     "metadata": {},
     "output_type": "execute_result"
    }
   ],
   "source": [
    "A, B"
   ]
  },
  {
   "cell_type": "code",
   "execution_count": 104,
   "metadata": {},
   "outputs": [
    {
     "data": {
      "text/plain": [
       "(matrix([[ 3, -2,  5]]),\n",
       " matrix([[-3],\n",
       "         [ 2],\n",
       "         [ 0]]))"
      ]
     },
     "execution_count": 104,
     "metadata": {},
     "output_type": "execute_result"
    }
   ],
   "source": [
    "A[0,:], B[:,0]"
   ]
  },
  {
   "cell_type": "code",
   "execution_count": 106,
   "metadata": {},
   "outputs": [
    {
     "data": {
      "text/plain": [
       "-13"
      ]
     },
     "execution_count": 106,
     "metadata": {},
     "output_type": "execute_result"
    }
   ],
   "source": [
    "(3 * -3) + (-2 * 2) + (5 * 0)"
   ]
  },
  {
   "cell_type": "code",
   "execution_count": 111,
   "metadata": {},
   "outputs": [
    {
     "data": {
      "text/plain": [
       "-13"
      ]
     },
     "execution_count": 111,
     "metadata": {},
     "output_type": "execute_result"
    }
   ],
   "source": [
    "(A*B)[0,0]"
   ]
  },
  {
   "cell_type": "code",
   "execution_count": 105,
   "metadata": {},
   "outputs": [
    {
     "data": {
      "text/plain": [
       "(matrix([[-3,  8,  2]]),\n",
       " matrix([[ 3],\n",
       "         [-2],\n",
       "         [ 4]]))"
      ]
     },
     "execution_count": 105,
     "metadata": {},
     "output_type": "execute_result"
    }
   ],
   "source": [
    "B[0,:], A[:,0]"
   ]
  },
  {
   "cell_type": "code",
   "execution_count": 107,
   "metadata": {},
   "outputs": [
    {
     "data": {
      "text/plain": [
       "-17"
      ]
     },
     "execution_count": 107,
     "metadata": {},
     "output_type": "execute_result"
    }
   ],
   "source": [
    "(-3 * 3) + (8 * -2) + (2* 4)"
   ]
  },
  {
   "cell_type": "code",
   "execution_count": 112,
   "metadata": {},
   "outputs": [
    {
     "data": {
      "text/plain": [
       "-17"
      ]
     },
     "execution_count": 112,
     "metadata": {},
     "output_type": "execute_result"
    }
   ],
   "source": [
    "(B*A)[0,0]"
   ]
  },
  {
   "cell_type": "markdown",
   "metadata": {},
   "source": [
    "60) What is $AI$, and is it equal to $IA$? Does this product look familiar?"
   ]
  },
  {
   "cell_type": "code",
   "execution_count": null,
   "metadata": {},
   "outputs": [],
   "source": [
    "# A * I should equal A\n",
    "# I * A should equal A"
   ]
  },
  {
   "cell_type": "code",
   "execution_count": null,
   "metadata": {},
   "outputs": [],
   "source": [
    "# This is the product of the identity matrix"
   ]
  },
  {
   "cell_type": "markdown",
   "metadata": {},
   "source": [
    "61) What is $AC$?"
   ]
  },
  {
   "cell_type": "code",
   "execution_count": 115,
   "metadata": {},
   "outputs": [
    {
     "data": {
      "text/plain": [
       "matrix([[ 60, -14],\n",
       "        [ 29, -15],\n",
       "        [-31,  57]])"
      ]
     },
     "execution_count": 115,
     "metadata": {},
     "output_type": "execute_result"
    }
   ],
   "source": [
    "A * C"
   ]
  },
  {
   "cell_type": "markdown",
   "metadata": {},
   "source": [
    "62) Why do we get an error when calculating $CA$?"
   ]
  },
  {
   "cell_type": "code",
   "execution_count": 124,
   "metadata": {},
   "outputs": [
    {
     "name": "stdout",
     "output_type": "stream",
     "text": [
      "Matrix Dimensions must agree. (3, 2) and (3, 3) do not agree\n"
     ]
    }
   ],
   "source": [
    "try:\n",
    "    C * A\n",
    "except:\n",
    "    print(f'Matrix Dimensions must agree. {C.shape} and {A.shape} do not agree' )"
   ]
  },
  {
   "cell_type": "code",
   "execution_count": 117,
   "metadata": {},
   "outputs": [],
   "source": [
    "# You need to multiply matricies that fit the inside rule\n",
    "# For a Matrix (m*n) and another matrix (o*p)\n",
    "# n == o\n",
    "# else, matrix dimensions must agree \n",
    "#MATLAB"
   ]
  },
  {
   "cell_type": "markdown",
   "metadata": {},
   "source": [
    "63) What is $A^TA$? Note that you answer will be a _diagonal matrix_, that is, a matrix that is equal to its transpose."
   ]
  },
  {
   "cell_type": "code",
   "execution_count": 132,
   "metadata": {},
   "outputs": [
    {
     "data": {
      "text/plain": [
       "matrix([[ 3, -2,  5],\n",
       "        [-2,  1,  8],\n",
       "        [ 4,  7, -7]])"
      ]
     },
     "execution_count": 132,
     "metadata": {},
     "output_type": "execute_result"
    }
   ],
   "source": [
    "A"
   ]
  },
  {
   "cell_type": "code",
   "execution_count": 133,
   "metadata": {},
   "outputs": [
    {
     "data": {
      "text/plain": [
       "matrix([[ 29,  20, -29],\n",
       "        [ 20,  54, -51],\n",
       "        [-29, -51, 138]])"
      ]
     },
     "execution_count": 133,
     "metadata": {},
     "output_type": "execute_result"
    }
   ],
   "source": [
    "A.transpose() * A"
   ]
  },
  {
   "cell_type": "markdown",
   "metadata": {},
   "source": [
    "64) What is $A^TB$?"
   ]
  },
  {
   "cell_type": "code",
   "execution_count": 134,
   "metadata": {},
   "outputs": [
    {
     "data": {
      "text/plain": [
       "matrix([[-13,  54, -12],\n",
       "        [  8,  23, -13],\n",
       "        [  1, -26,  64]])"
      ]
     },
     "execution_count": 134,
     "metadata": {},
     "output_type": "execute_result"
    }
   ],
   "source": [
    "A.transpose() * B"
   ]
  },
  {
   "cell_type": "markdown",
   "metadata": {},
   "source": [
    "65) What is $A^{-1}$ (the inverse of $A$)."
   ]
  },
  {
   "cell_type": "code",
   "execution_count": 137,
   "metadata": {},
   "outputs": [
    {
     "data": {
      "text/plain": [
       "matrix([[ 0.2       , -0.06666667,  0.06666667],\n",
       "        [-0.05714286,  0.13015873,  0.10793651],\n",
       "        [ 0.05714286,  0.09206349,  0.0031746 ]])"
      ]
     },
     "execution_count": 137,
     "metadata": {},
     "output_type": "execute_result"
    }
   ],
   "source": [
    "np.linalg.inv(A)"
   ]
  },
  {
   "cell_type": "markdown",
   "metadata": {},
   "source": [
    "66) What is $AA^{-1}$? Does it look familiar?\n",
    "\n",
    "* _Hint:_ Maybe call an `np.round()` on your result."
   ]
  },
  {
   "cell_type": "code",
   "execution_count": 141,
   "metadata": {},
   "outputs": [
    {
     "data": {
      "text/plain": [
       "matrix([[ 1.,  0., -0.],\n",
       "        [ 0.,  1.,  0.],\n",
       "        [-0., -0.,  1.]])"
      ]
     },
     "execution_count": 141,
     "metadata": {},
     "output_type": "execute_result"
    }
   ],
   "source": [
    "np.round(A * np.linalg.inv(A))"
   ]
  },
  {
   "cell_type": "code",
   "execution_count": null,
   "metadata": {},
   "outputs": [],
   "source": [
    "# Our Identity matrix is back!"
   ]
  },
  {
   "cell_type": "markdown",
   "metadata": {},
   "source": [
    "67) What is $(B + A^TA)^{-1}A^TC$?"
   ]
  },
  {
   "cell_type": "code",
   "execution_count": 142,
   "metadata": {},
   "outputs": [
    {
     "data": {
      "text/plain": [
       "matrix([[ 3.00215282, -0.28385833],\n",
       "        [-0.62588766,  0.33839645],\n",
       "        [ 0.24189329,  0.52202903]])"
      ]
     },
     "execution_count": 142,
     "metadata": {},
     "output_type": "execute_result"
    }
   ],
   "source": [
    "np.linalg.inv((B + A.transpose() * A)) * A.transpose() * C"
   ]
  },
  {
   "cell_type": "code",
   "execution_count": 143,
   "metadata": {},
   "outputs": [],
   "source": [
    "# Order matters when dealing with matrix operations !"
   ]
  },
  {
   "cell_type": "code",
   "execution_count": null,
   "metadata": {},
   "outputs": [],
   "source": []
  }
 ],
 "metadata": {
  "kernelspec": {
   "display_name": "Python 3",
   "language": "python",
   "name": "python3"
  },
  "language_info": {
   "codemirror_mode": {
    "name": "ipython",
    "version": 3
   },
   "file_extension": ".py",
   "mimetype": "text/x-python",
   "name": "python",
   "nbconvert_exporter": "python",
   "pygments_lexer": "ipython3",
   "version": "3.8.3"
  }
 },
 "nbformat": 4,
 "nbformat_minor": 4
}
